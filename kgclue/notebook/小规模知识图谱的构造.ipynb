{
 "cells": [
  {
   "cell_type": "markdown",
   "id": "0e4b17de",
   "metadata": {},
   "source": [
    "# 导入包"
   ]
  },
  {
   "cell_type": "code",
   "execution_count": 1,
   "id": "e54a1ed1",
   "metadata": {},
   "outputs": [],
   "source": [
    "from collections import defaultdict\n",
    "from tqdm import tqdm\n",
    "import re\n",
    "import json\n",
    "import os\n",
    "from copy import deepcopy\n",
    "import random"
   ]
  },
  {
   "cell_type": "markdown",
   "id": "2914c3af",
   "metadata": {},
   "source": [
    "# 读取大规模的KG"
   ]
  },
  {
   "cell_type": "code",
   "execution_count": 2,
   "id": "a242c0ba",
   "metadata": {},
   "outputs": [
    {
     "name": "stdout",
     "output_type": "stream",
     "text": [
      "22883549\n"
     ]
    },
    {
     "name": "stderr",
     "output_type": "stream",
     "text": [
      "100%|███████████████████████████████████████████████████████████████████████████████████████| 22883549/22883549 [01:12<00:00, 314086.14it/s]\n"
     ]
    }
   ],
   "source": [
    "sub_map = defaultdict(list)\n",
    "obj_map = defaultdict(list)\n",
    "so_map=defaultdict(list)\n",
    "kg_path='../knowledge/Knowledge.txt'\n",
    "with open(kg_path) as f:\n",
    "    lines=f.readlines()\n",
    "    \n",
    "entities_set=set()\n",
    "relations_set=set()\n",
    "print(len(lines))\n",
    "\n",
    "#new_triples=[]\n",
    "for i in tqdm(range(len(lines))):\n",
    "    line=lines[i]\n",
    "    l = line.strip().split('\\t')\n",
    "    s = l[0].strip()\n",
    "    p = l[1].strip()\n",
    "    o = l[2].strip()\n",
    "    if s=='' or p=='' or o=='':\n",
    "        print('-'*100)\n",
    "        continue\n",
    "    entities_set.add(s)\n",
    "    entities_set.add(o)\n",
    "    relations_set.add(p)\n",
    "    #new_triples.append((s,p,o))\n",
    "    sub_map[s].append((p, o))\n",
    "    obj_map[o].append((s, p))\n",
    "    so_map[(s,o)].append(p)"
   ]
  },
  {
   "cell_type": "code",
   "execution_count": 4,
   "id": "a99a4602",
   "metadata": {},
   "outputs": [
    {
     "name": "stdout",
     "output_type": "stream",
     "text": [
      "大规模图谱中一共有22883549个三元组，9418104个实体，245837个关系\n"
     ]
    }
   ],
   "source": [
    "print('大规模图谱中一共有{}个三元组，{}个实体，{}个关系'.format(len(lines),len(entities_set),len(relations_set)))"
   ]
  },
  {
   "cell_type": "markdown",
   "id": "28603ede",
   "metadata": {},
   "source": [
    "# 读取实体和关系"
   ]
  },
  {
   "cell_type": "code",
   "execution_count": 5,
   "id": "20b8c298",
   "metadata": {},
   "outputs": [
    {
     "name": "stderr",
     "output_type": "stream",
     "text": [
      "100%|████████████████████████████████████████████████████████████████████████████████████████| 9418104/9418104 [00:05<00:00, 1655562.83it/s]\n",
      "100%|██████████████████████████████████████████████████████████████████████████████████████████| 245837/245837 [00:00<00:00, 1867843.73it/s]\n"
     ]
    }
   ],
   "source": [
    "kg_folder='../knowledge/'\n",
    "ent2id = {}\n",
    "ent_path=os.path.join(kg_folder, 'entities.dict')\n",
    "with open(ent_path) as f:\n",
    "    lines=f.readlines()\n",
    "for i in tqdm(range(len(lines))):\n",
    "    l = lines[i].strip().split('\\t')\n",
    "    ent2id[l[0].strip()] = len(ent2id)\n",
    "rel2id = {}\n",
    "rel_path=os.path.join(kg_folder, 'relations.dict')\n",
    "with open(rel_path) as f:\n",
    "    lines=f.readlines()\n",
    "for i in tqdm(range(len(lines))):\n",
    "    l = lines[i].strip().split('\\t')\n",
    "    rel2id[l[0].strip()] = int(l[1])"
   ]
  },
  {
   "cell_type": "code",
   "execution_count": 6,
   "id": "769bd2dc",
   "metadata": {},
   "outputs": [
    {
     "name": "stdout",
     "output_type": "stream",
     "text": [
      "9418104 245837\n"
     ]
    }
   ],
   "source": [
    "print(len(ent2id),len(rel2id))"
   ]
  },
  {
   "cell_type": "markdown",
   "id": "1cc1cc75",
   "metadata": {},
   "source": [
    "# 读取提交的测试集"
   ]
  },
  {
   "cell_type": "code",
   "execution_count": 7,
   "id": "919bd456",
   "metadata": {},
   "outputs": [],
   "source": [
    "private_test_data=[]\n",
    "with open(\"../qa_data/private_test.json\") as f:\n",
    "    lines=f.readlines()\n",
    "    for line in lines:\n",
    "        private_test_data.append(json.loads(line.strip()))"
   ]
  },
  {
   "cell_type": "code",
   "execution_count": 8,
   "id": "5f0f5541",
   "metadata": {},
   "outputs": [
    {
     "data": {
      "text/plain": [
       "{'id': 0, 'question': '我很好奇刘质平的老师是谁？', 'topic_entity': '刘质平'}"
      ]
     },
     "execution_count": 8,
     "metadata": {},
     "output_type": "execute_result"
    }
   ],
   "source": [
    "private_test_data[0]"
   ]
  },
  {
   "cell_type": "markdown",
   "id": "ddb55fce",
   "metadata": {},
   "source": [
    "# 读取数据集的所有QA对"
   ]
  },
  {
   "cell_type": "code",
   "execution_count": 9,
   "id": "9f1d3ae1",
   "metadata": {},
   "outputs": [],
   "source": [
    "def read_qa(qa_file):\n",
    "    data=[]\n",
    "    with open(qa_file) as f:\n",
    "        lines=f.readlines()\n",
    "    for i in tqdm(range(len(lines))):\n",
    "        line=lines[i]\n",
    "        line = line.strip()\n",
    "        line = line.split('\\t')\n",
    "        assert len(line)==2\n",
    "        ans = line[1].strip()\n",
    "        question=line[0]\n",
    "        topic_entity=re.findall('<(.*)>',question)[0]\n",
    "        data.append({\"question\":question,'topic_entity':topic_entity,'answer':ans})\n",
    "    return data"
   ]
  },
  {
   "cell_type": "code",
   "execution_count": 10,
   "id": "9feaaffd",
   "metadata": {},
   "outputs": [
    {
     "name": "stderr",
     "output_type": "stream",
     "text": [
      "100%|█████████████████████████████████████████████████████████████████████████████████████████████| 19974/19974 [00:00<00:00, 835089.64it/s]\n",
      "100%|███████████████████████████████████████████████████████████████████████████████████████████████| 2000/2000 [00:00<00:00, 913095.46it/s]\n"
     ]
    }
   ],
   "source": [
    "data=[]\n",
    "data.extend(read_qa('../qa_data/train.txt'))\n",
    "data.extend(read_qa('../qa_data/test.txt'))"
   ]
  },
  {
   "cell_type": "code",
   "execution_count": 11,
   "id": "324f9da0",
   "metadata": {},
   "outputs": [
    {
     "data": {
      "text/plain": [
       "21974"
      ]
     },
     "execution_count": 11,
     "metadata": {},
     "output_type": "execute_result"
    }
   ],
   "source": [
    "len(data)"
   ]
  },
  {
   "cell_type": "code",
   "execution_count": 12,
   "id": "27d44794",
   "metadata": {},
   "outputs": [
    {
     "data": {
      "text/plain": [
       "{'question': '你知道<守望星光（韩玉玲、刘东考演唱歌曲）>是哪家公司出品的吗？',\n",
       " 'topic_entity': '守望星光（韩玉玲、刘东考演唱歌曲）',\n",
       " 'answer': '韩玉玲原创音乐'}"
      ]
     },
     "execution_count": 12,
     "metadata": {},
     "output_type": "execute_result"
    }
   ],
   "source": [
    "data[0]"
   ]
  },
  {
   "cell_type": "markdown",
   "id": "eef4fd1f",
   "metadata": {},
   "source": [
    "# 构造小规模的知识图谱"
   ]
  },
  {
   "cell_type": "code",
   "execution_count": 21,
   "id": "5710b846",
   "metadata": {},
   "outputs": [
    {
     "name": "stderr",
     "output_type": "stream",
     "text": [
      "100%|██████████████████████████████████████████████████████████████████████████████████████████████| 21974/21974 [00:00<00:00, 98938.47it/s]\n"
     ]
    }
   ],
   "source": [
    "small_triplets=set()\n",
    "small_entities=set()\n",
    "small_relations=set()\n",
    "bad_topic_entities=[]\n",
    "bad_answers=[]\n",
    "for i in tqdm(range(len(data))):\n",
    "    example=deepcopy(data[i])\n",
    "    question,topic_entity,answer=example['question'],example['topic_entity'],example['answer']\n",
    "    assert topic_entity in ent2id and answer in ent2id\n",
    "    if topic_entity not in sub_map:\n",
    "        bad_topic_entities.append(topic_entity)\n",
    "        continue\n",
    "    elif answer not in obj_map:\n",
    "        bad_answers.append(answer)\n",
    "        continue\n",
    "    else:\n",
    "        head=topic_entity\n",
    "        small_entities.add(head)\n",
    "        small_entities.add(answer)\n",
    "        for rel in so_map[(head,answer)]:\n",
    "            small_relations.add(rel)\n",
    "            \n",
    "        for p1, o1 in sub_map[head]:\n",
    "            if p1 in small_relations:\n",
    "                small_triplets.add((head,p1,o1))\n",
    "                small_entities.add(o1)\n",
    "                #small_relations.add(p1)\n",
    "#             for p2, o2 in sub_map[o1]:\n",
    "#                 small_triplets.add((o1,p2,o2))\n",
    "#                 small_entities.add(o2)\n",
    "#                 small_relations.add(p2)"
   ]
  },
  {
   "cell_type": "code",
   "execution_count": 22,
   "id": "dca75500",
   "metadata": {},
   "outputs": [
    {
     "name": "stdout",
     "output_type": "stream",
     "text": [
      "[] []\n"
     ]
    }
   ],
   "source": [
    "print(bad_answers,bad_topic_entities)"
   ]
  },
  {
   "cell_type": "code",
   "execution_count": 23,
   "id": "1f0d553c",
   "metadata": {},
   "outputs": [
    {
     "name": "stdout",
     "output_type": "stream",
     "text": [
      "130953 168797 2287\n"
     ]
    }
   ],
   "source": [
    "print(len(small_entities),len(small_triplets),len(small_relations))"
   ]
  },
  {
   "cell_type": "code",
   "execution_count": 24,
   "id": "df3fdde2",
   "metadata": {},
   "outputs": [
    {
     "name": "stderr",
     "output_type": "stream",
     "text": [
      "100%|███████████████████████████████████████████████████████████████████████████████████████████████| 3000/3000 [00:00<00:00, 136249.48it/s]\n"
     ]
    }
   ],
   "source": [
    "bad_topic_entities=[]\n",
    "\n",
    "for i in tqdm(range(len(private_test_data))):\n",
    "    example=deepcopy(private_test_data[i])\n",
    "    question,topic_entity=example['question'],example['topic_entity']\n",
    "    if topic_entity not in ent2id:\n",
    "        bad_topic_entities.append(topic_entity)\n",
    "        continue\n",
    "    else:\n",
    "        head=topic_entity\n",
    "        small_entities.add(head)\n",
    "            \n",
    "        for p1, o1 in sub_map[head]:\n",
    "            small_triplets.add((head,p1,o1))\n",
    "            small_entities.add(o1)\n",
    "            small_relations.add(p1)\n",
    "#             for p2, o2 in sub_map[o1]:\n",
    "#                 small_triplets.add((o1,p2,o2))\n",
    "#                 small_entities.add(o2)\n",
    "#                 small_relations.add(p2)"
   ]
  },
  {
   "cell_type": "code",
   "execution_count": 25,
   "id": "7a5f48a7",
   "metadata": {},
   "outputs": [
    {
     "name": "stdout",
     "output_type": "stream",
     "text": [
      "16\n"
     ]
    }
   ],
   "source": [
    "print(len(bad_topic_entities))"
   ]
  },
  {
   "cell_type": "code",
   "execution_count": 26,
   "id": "312c4c91",
   "metadata": {},
   "outputs": [
    {
     "name": "stdout",
     "output_type": "stream",
     "text": [
      "146724 189599 4524\n"
     ]
    }
   ],
   "source": [
    "print(len(small_entities),len(small_triplets),len(small_relations))"
   ]
  },
  {
   "cell_type": "markdown",
   "id": "c6e31f37",
   "metadata": {},
   "source": [
    "# 保存小规模的知识图谱"
   ]
  },
  {
   "cell_type": "code",
   "execution_count": 27,
   "id": "8891e04d",
   "metadata": {},
   "outputs": [],
   "source": [
    "small_kg_folder='../knowledge/small_knowledge'\n",
    "with open(os.path.join(small_kg_folder,\"Knowledge.txt\"),'w') as f:\n",
    "    for head,rel,tail in small_triplets:\n",
    "        f.write('\\t'.join([head,rel,tail])+'\\n')\n",
    "        \n",
    "with open(os.path.join(small_kg_folder,\"entities.dict\"),'w') as f:\n",
    "    for i,ent in enumerate(small_entities):\n",
    "        f.write(ent+'\\t'+str(i)+'\\n')\n",
    "        \n",
    "with open(os.path.join(small_kg_folder,\"relations.dict\"),'w') as f:\n",
    "    for i,rel in enumerate(small_relations):\n",
    "        f.write(rel+'\\t'+str(i)+'\\n')"
   ]
  },
  {
   "cell_type": "code",
   "execution_count": 39,
   "id": "828c32b3",
   "metadata": {},
   "outputs": [
    {
     "data": {
      "text/plain": [
       "373714"
      ]
     },
     "execution_count": 39,
     "metadata": {},
     "output_type": "execute_result"
    }
   ],
   "source": []
  },
  {
   "cell_type": "code",
   "execution_count": null,
   "id": "2adf2ae5",
   "metadata": {},
   "outputs": [],
   "source": []
  }
 ],
 "metadata": {
  "kernelspec": {
   "display_name": "Python 3 (ipykernel)",
   "language": "python",
   "name": "python3"
  },
  "language_info": {
   "codemirror_mode": {
    "name": "ipython",
    "version": 3
   },
   "file_extension": ".py",
   "mimetype": "text/x-python",
   "name": "python",
   "nbconvert_exporter": "python",
   "pygments_lexer": "ipython3",
   "version": "3.9.5"
  }
 },
 "nbformat": 4,
 "nbformat_minor": 5
}
