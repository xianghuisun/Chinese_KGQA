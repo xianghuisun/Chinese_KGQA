{
 "cells": [
  {
   "cell_type": "markdown",
   "id": "da770cba",
   "metadata": {},
   "source": [
    "# 导入包"
   ]
  },
  {
   "cell_type": "code",
   "execution_count": 1,
   "id": "bc856d9f",
   "metadata": {},
   "outputs": [
    {
     "name": "stdout",
     "output_type": "stream",
     "text": [
      "Better speed can be achieved with apex installed from https://www.github.com/nvidia/apex.\n",
      "Better speed can be achieved with apex installed from https://www.github.com/nvidia/apex.\n"
     ]
    }
   ],
   "source": [
    "from collections import defaultdict\n",
    "from tqdm import tqdm\n",
    "import re\n",
    "import json\n",
    "from copy import deepcopy\n",
    "import random\n",
    "\n",
    "import torch\n",
    "import os\n",
    "import pickle\n",
    "from transformers import AutoTokenizer\n",
    "import transformers\n",
    "import torch\n",
    "import torch.nn as nn\n",
    "import math\n",
    "from transformers import AutoModel\n",
    "tokenizer=AutoTokenizer.from_pretrained(\"/home/xhsun/Desktop/huggingfaceModels/chinese-roberta-wwm/\",do_lower_case=False)\n",
    "import time\n",
    "import pandas as pd\n",
    "import numpy as np\n",
    "from nlp_basictasks.tasks import Ner\n",
    "from nlp_basictasks.evaluation import nerEvaluator\n",
    "from nlp_basictasks.readers.ner import InputExample\n",
    "from collections import Counter\n",
    "from copy import deepcopy\n",
    "from nlp_basictasks.modules.transformers import BertTokenizer\n",
    "device=torch.device('cuda')"
   ]
  },
  {
   "cell_type": "code",
   "execution_count": null,
   "id": "1b747ed4",
   "metadata": {},
   "outputs": [],
   "source": []
  }
 ],
 "metadata": {
  "kernelspec": {
   "display_name": "Python 3 (ipykernel)",
   "language": "python",
   "name": "python3"
  },
  "language_info": {
   "codemirror_mode": {
    "name": "ipython",
    "version": 3
   },
   "file_extension": ".py",
   "mimetype": "text/x-python",
   "name": "python",
   "nbconvert_exporter": "python",
   "pygments_lexer": "ipython3",
   "version": "3.9.5"
  }
 },
 "nbformat": 4,
 "nbformat_minor": 5
}
