{
 "cells": [
  {
   "cell_type": "markdown",
   "id": "28f3bb80",
   "metadata": {},
   "source": [
    "# 导入包"
   ]
  },
  {
   "cell_type": "code",
   "execution_count": 1,
   "id": "5866a472",
   "metadata": {},
   "outputs": [
    {
     "name": "stdout",
     "output_type": "stream",
     "text": [
      "Better speed can be achieved with apex installed from https://www.github.com/nvidia/apex.\n",
      "Better speed can be achieved with apex installed from https://www.github.com/nvidia/apex.\n"
     ]
    }
   ],
   "source": [
    "from collections import defaultdict\n",
    "from tqdm import tqdm\n",
    "import re\n",
    "import json\n",
    "from copy import deepcopy\n",
    "import random\n",
    "\n",
    "import torch\n",
    "import os\n",
    "import pickle\n",
    "from transformers import AutoTokenizer\n",
    "import transformers\n",
    "import torch\n",
    "import torch.nn as nn\n",
    "import math\n",
    "from transformers import AutoModel\n",
    "import pandas as pd\n",
    "import numpy as np\n",
    "from nlp_basictasks.tasks import Ner\n",
    "from nlp_basictasks.evaluation import nerEvaluator\n",
    "from nlp_basictasks.readers.ner import InputExample\n",
    "from collections import Counter\n",
    "from copy import deepcopy\n",
    "from nlp_basictasks.modules.transformers import BertTokenizer\n",
    "device=torch.device('cuda')"
   ]
  },
  {
   "cell_type": "code",
   "execution_count": null,
   "id": "03f8de0f",
   "metadata": {},
   "outputs": [],
   "source": []
  },
  {
   "cell_type": "markdown",
   "id": "843c6beb",
   "metadata": {},
   "source": [
    "# 预测测试数据中的topic实体"
   ]
  },
  {
   "cell_type": "markdown",
   "id": "e5fe8710",
   "metadata": {},
   "source": [
    "## 加载测试数据"
   ]
  },
  {
   "cell_type": "code",
   "execution_count": 80,
   "id": "0f9bec4a",
   "metadata": {},
   "outputs": [
    {
     "name": "stdout",
     "output_type": "stream",
     "text": [
      "原始数据有3000个样本\n"
     ]
    }
   ],
   "source": [
    "def read_data(data_path):\n",
    "    with open(data_path) as f:\n",
    "        lines=f.readlines()\n",
    "    data=[]\n",
    "    for line in lines:\n",
    "        data.append(json.loads(line))\n",
    "    print(\"原始数据有{}个样本\".format(len(data)))\n",
    "    return data\n",
    "    \n",
    "data=[]\n",
    "data.extend(read_data('/home/xhsun/Desktop/KG/kgCLUE/qa_data/test.json'))"
   ]
  },
  {
   "cell_type": "code",
   "execution_count": 81,
   "id": "601cb8b3",
   "metadata": {},
   "outputs": [
    {
     "data": {
      "text/plain": [
       "{'id': 0, 'question': '我很好奇刘质平的老师是谁？'}"
      ]
     },
     "execution_count": 81,
     "metadata": {},
     "output_type": "execute_result"
    }
   ],
   "source": [
    "data[0]"
   ]
  },
  {
   "cell_type": "markdown",
   "id": "84156c44",
   "metadata": {},
   "source": [
    "## 加载NER模型"
   ]
  },
  {
   "cell_type": "code",
   "execution_count": 2,
   "id": "ab00182b",
   "metadata": {},
   "outputs": [
    {
     "name": "stderr",
     "output_type": "stream",
     "text": [
      "2021-12-21 09:14:54 - INFO - __init__ - 43 : Load label2id from /home/xhsun/NLP/KGQA/KG/kgCLUE/NER-Match/NER/label2id.json\n",
      "2021-12-21 09:14:54 - INFO - __init__ - 53 : The label2id is\n",
      " {\"[PAD]\": 0, \"O\": 1, \"B-ent\": 2, \"I-ent\": 3}\n",
      "2021-12-21 09:14:54 - INFO - get_config_dict - 177 : loading configuration file /home/xhsun/NLP/KGQA/KG/kgCLUE/NER-Match/NER/BERT/config.json\n",
      "2021-12-21 09:14:54 - INFO - from_pretrained - 404 : loading bert model file /home/xhsun/NLP/KGQA/KG/kgCLUE/NER-Match/NER/BERT\n",
      "2021-12-21 09:14:54 - INFO - from_pretrained - 423 : BertConfig has been loaded from /home/xhsun/NLP/KGQA/KG/kgCLUE/NER-Match/NER/BERT/config.json\n",
      "2021-12-21 09:14:57 - INFO - from_pretrained - 125 : loading vocabulary file /home/xhsun/NLP/KGQA/KG/kgCLUE/NER-Match/NER/BERT/vocab.txt\n",
      "2021-12-21 09:14:57 - INFO - __init__ - 274 : Loading model from /home/xhsun/NLP/KGQA/KG/kgCLUE/NER-Match/NER/, which has been finetuned.\n",
      "2021-12-21 09:14:57 - INFO - __init__ - 70 : Use pytorch device: cuda\n",
      "2021-12-21 09:14:57 - INFO - __init__ - 72 : Using BiLSTM ? : False\n",
      "2021-12-21 09:14:57 - INFO - __init__ - 73 : Using CRF ? : True\n"
     ]
    }
   ],
   "source": [
    "ner_model_path='/home/xhsun/NLP/KGQA/KG/kgCLUE/NER-Match/NER/'\n",
    "ner_model=Ner(ner_model_path,label2id=None,is_finetune=True,use_crf=True)\n",
    "ner_model._target_device='cuda'"
   ]
  },
  {
   "cell_type": "code",
   "execution_count": 11,
   "id": "e7cee315",
   "metadata": {},
   "outputs": [
    {
     "data": {
      "application/vnd.jupyter.widget-view+json": {
       "model_id": "b0f48d18df074b22bb4481421fc7d501",
       "version_major": 2,
       "version_minor": 0
      },
      "text/plain": [
       "  0%|          | 0/1 [00:00<?, ?it/s]"
      ]
     },
     "metadata": {},
     "output_type": "display_data"
    },
    {
     "data": {
      "text/plain": [
       "[['O', 'O', 'O', 'O', 'B-ent', 'I-ent', 'I-ent', 'O', 'O', 'O', 'O', 'O', 'O']]"
      ]
     },
     "execution_count": 11,
     "metadata": {},
     "output_type": "execute_result"
    }
   ],
   "source": [
    "query=\"我很好奇刘质平的老师是谁？\"\n",
    "sentence_list=ner_model.model.tokenizer.tokenize(query)\n",
    "ner_model.predict([sentence_list],input_is_list=True,input_is_string=False)"
   ]
  },
  {
   "cell_type": "code",
   "execution_count": 4,
   "id": "d7920d70",
   "metadata": {},
   "outputs": [
    {
     "data": {
      "text/plain": [
       "['<', '人', '类', '群', '星', '闪', '耀', '时', '>', 'isbn', '码']"
      ]
     },
     "execution_count": 4,
     "metadata": {},
     "output_type": "execute_result"
    }
   ],
   "source": [
    "sentence_list"
   ]
  },
  {
   "cell_type": "code",
   "execution_count": 12,
   "id": "09b697ec",
   "metadata": {},
   "outputs": [],
   "source": [
    "def predict_topic_entity(ner_model,query):\n",
    "    sentence_list=ner_model.model.tokenizer.tokenize(query)\n",
    "    predict_label_list=ner_model.predict([sentence_list],input_is_string=False,input_is_list=True)[0]\n",
    "    assert len(predict_label_list)==len(sentence_list)\n",
    "    topic_entity=''\n",
    "    for i in range(len(sentence_list)):\n",
    "        token=sentence_list[i]\n",
    "        predict_label=predict_label_list[i]\n",
    "        if predict_label!='O':\n",
    "            topic_entity+=token\n",
    "    topic_entity=topic_entity.replace('##','')\n",
    "    return topic_entity"
   ]
  },
  {
   "cell_type": "code",
   "execution_count": 13,
   "id": "7a432a71",
   "metadata": {},
   "outputs": [
    {
     "data": {
      "application/vnd.jupyter.widget-view+json": {
       "model_id": "2e55f44e225543ce8c6a128fd7adb834",
       "version_major": 2,
       "version_minor": 0
      },
      "text/plain": [
       "  0%|          | 0/1 [00:00<?, ?it/s]"
      ]
     },
     "metadata": {},
     "output_type": "display_data"
    },
    {
     "data": {
      "text/plain": [
       "'刘质平'"
      ]
     },
     "execution_count": 13,
     "metadata": {},
     "output_type": "execute_result"
    }
   ],
   "source": [
    "predict_topic_entity(ner_model,query=query)"
   ]
  },
  {
   "cell_type": "code",
   "execution_count": 9,
   "id": "af846fca",
   "metadata": {},
   "outputs": [],
   "source": [
    "import numpy as np"
   ]
  },
  {
   "cell_type": "code",
   "execution_count": 10,
   "id": "dcad8cd0",
   "metadata": {},
   "outputs": [
    {
     "data": {
      "text/plain": [
       "array([[ 1.36623312, -0.8321556 ],\n",
       "       [-1.11883503, -0.09603982],\n",
       "       [-0.44734909, -0.21182716]])"
      ]
     },
     "execution_count": 10,
     "metadata": {},
     "output_type": "execute_result"
    }
   ],
   "source": [
    "a=np.random.randn(3,2)\n",
    "a"
   ]
  },
  {
   "cell_type": "code",
   "execution_count": 14,
   "id": "d3bdc655",
   "metadata": {},
   "outputs": [
    {
     "data": {
      "text/plain": [
       "-0.09603981576940618"
      ]
     },
     "execution_count": 14,
     "metadata": {},
     "output_type": "execute_result"
    }
   ],
   "source": [
    "np.max(a[:,1])"
   ]
  },
  {
   "cell_type": "code",
   "execution_count": 15,
   "id": "98dc535b",
   "metadata": {},
   "outputs": [
    {
     "data": {
      "text/plain": [
       "1"
      ]
     },
     "execution_count": 15,
     "metadata": {},
     "output_type": "execute_result"
    }
   ],
   "source": [
    "np.argmax(a[:,1])"
   ]
  },
  {
   "cell_type": "code",
   "execution_count": null,
   "id": "36a9afc0",
   "metadata": {},
   "outputs": [],
   "source": []
  },
  {
   "cell_type": "markdown",
   "id": "8335cb7b",
   "metadata": {},
   "source": [
    "## 预测topic实体"
   ]
  },
  {
   "cell_type": "code",
   "execution_count": 82,
   "id": "9a070882",
   "metadata": {},
   "outputs": [
    {
     "data": {
      "application/vnd.jupyter.widget-view+json": {
       "model_id": "8af6326eb91d4a6a8eba8000f36385cd",
       "version_major": 2,
       "version_minor": 0
      },
      "text/plain": [
       "  0%|          | 0/94 [00:00<?, ?it/s]"
      ]
     },
     "metadata": {},
     "output_type": "display_data"
    }
   ],
   "source": [
    "def predict_topic_entity(ner_model,query):\n",
    "    predict_label_list=ner_model.predict(query)[0]\n",
    "    sentence_list=ner_model.model.tokenizer.tokenize(query)\n",
    "    assert len(predict_label_list)==len(sentence_list)\n",
    "    topic_entity=''\n",
    "    for i in range(len(sentence_list)):\n",
    "        token=sentence_list[i]\n",
    "        predict_label=predict_label_list[i]\n",
    "        if predict_label!='O':\n",
    "            topic_entity+=token\n",
    "    return topic_entity\n",
    "\n",
    "all_questions=[example['question'] for example in data]\n",
    "all_predict_heads=ner_model.predict(all_questions)"
   ]
  },
  {
   "cell_type": "code",
   "execution_count": 83,
   "id": "1404266e",
   "metadata": {},
   "outputs": [
    {
     "name": "stdout",
     "output_type": "stream",
     "text": [
      "我很好奇刘质平的老师是谁？ ['O', 'O', 'O', 'O', 'B-ent', 'I-ent', 'I-ent', 'O', 'O', 'O', 'O', 'O', 'O']\n"
     ]
    }
   ],
   "source": [
    "print(all_questions[0],all_predict_heads[0])"
   ]
  },
  {
   "cell_type": "code",
   "execution_count": 84,
   "id": "359ff412",
   "metadata": {},
   "outputs": [],
   "source": [
    "for i in range(len(data)):\n",
    "    predict_label_list=all_predict_heads[i]\n",
    "    sentence_list_by_tokenizer=ner_model.model.tokenizer.tokenize(data[i]['question'])\n",
    "    sentence_list=list(data[i]['question'])\n",
    "    if len(sentence_list_by_tokenizer)!=len(sentence_list):\n",
    "        assert len(sentence_list)>len(sentence_list_by_tokenizer)\n",
    "        sentence_list=sentence_list_by_tokenizer\n",
    "    assert len(predict_label_list)==len(sentence_list)\n",
    "    topic_entity=''\n",
    "    for k in range(len(sentence_list)):\n",
    "        token=sentence_list[k]\n",
    "        predict_label=predict_label_list[k]\n",
    "        if predict_label!='O':\n",
    "            topic_entity+=token\n",
    "    topic_entity=topic_entity.replace('##','')\n",
    "    data[i].update({'topic_entity':topic_entity})"
   ]
  },
  {
   "cell_type": "code",
   "execution_count": 85,
   "id": "e60ba3bd",
   "metadata": {},
   "outputs": [
    {
     "data": {
      "text/plain": [
       "[{'id': 0, 'question': '我很好奇刘质平的老师是谁？', 'topic_entity': '刘质平'},\n",
       " {'id': 1, 'question': '请问南关町的平假名是什么？', 'topic_entity': '南关町'},\n",
       " {'id': 2, 'question': '请问新道寺女子高中的平假名是什么？', 'topic_entity': '新道寺女子高中'},\n",
       " {'id': 3, 'question': '海部市的平假名是什么？', 'topic_entity': '海部市'},\n",
       " {'id': 4, 'question': '八代市的平假名是什么？', 'topic_entity': '八代市'},\n",
       " {'id': 5, 'question': '三泽市的平假名叫什么？', 'topic_entity': '三泽市'},\n",
       " {'id': 6, 'question': '芥川龙之介奖的平假名叫什么？', 'topic_entity': '芥川龙之介奖'},\n",
       " {'id': 7, 'question': '尤莉的日本字怎么写啊？', 'topic_entity': '尤莉'},\n",
       " {'id': 8, 'question': '临海女子高中的日本字怎么写啊？', 'topic_entity': '临海女子高中'},\n",
       " {'id': 9, 'question': '我很好奇子实体是什么构造的？', 'topic_entity': '子实体'},\n",
       " {'id': 10, 'question': '我很好奇涨紧轮是什么构造的？', 'topic_entity': '涨紧轮'},\n",
       " {'id': 11, 'question': '你知道卡板的构造吗？', 'topic_entity': '卡板'},\n",
       " {'id': 12, 'question': '你知道苑里车站的构造吗？', 'topic_entity': '苑里车站'},\n",
       " {'id': 13, 'question': '你知道急流槽的主要构成吗？', 'topic_entity': '急流槽'},\n",
       " {'id': 14, 'question': '你知道煌斑岩的主要构成吗？', 'topic_entity': '煌斑岩'},\n",
       " {'id': 15, 'question': '涅墨西斯的构造是什么？', 'topic_entity': '涅墨西斯'},\n",
       " {'id': 16, 'question': '顶棚的构造是什么？', 'topic_entity': '顶棚'},\n",
       " {'id': 17, 'question': '大家知道单体壳的构造是什么吗？', 'topic_entity': '单体壳'},\n",
       " {'id': 18, 'question': '大家知道仙台城的构造是什么吗？', 'topic_entity': '仙台城'},\n",
       " {'id': 19, 'question': '请问东风6型内燃机车的主要用户有哪些公司？', 'topic_entity': '东风6型内燃机车'},\n",
       " {'id': 20, 'question': '请问韶山4型电力机车的主要用户有哪些公司？', 'topic_entity': '韶山4型电力机车'},\n",
       " {'id': 21,\n",
       "  'question': '哪些人会使用复兴号CR400BF型电力动车组？',\n",
       "  'topic_entity': '复兴号cr400bf型电力动车组'},\n",
       " {'id': 22, 'question': '哪些人会使用VL85型电力机车？', 'topic_entity': 'vl85型电力机车'},\n",
       " {'id': 23, 'question': 'DJ型电力机车的主要用户有谁？', 'topic_entity': 'dj型电力机车'},\n",
       " {'id': 24,\n",
       "  'question': 'JR货物EF210型电力机车的主要用户有谁？',\n",
       "  'topic_entity': 'jr货物ef210型电力机车'},\n",
       " {'id': 25, 'question': '韶山8型电力机车的主要用户是什么啊？', 'topic_entity': '韶山8型电力机车'},\n",
       " {'id': 26, 'question': '九广通的主要用户是什么啊？', 'topic_entity': '九广通'},\n",
       " {'id': 27,\n",
       "  'question': 'T-50“金鹰”教练机的用户有哪些？',\n",
       "  'topic_entity': 't-50[UNK]金鹰[UNK]教练机'},\n",
       " {'id': 28,\n",
       "  'question': '日本国铁EF65型电力机车的用户有哪些？',\n",
       "  'topic_entity': '日本国铁ef65型电力机车'},\n",
       " {'id': 29, 'question': '对羟基苯甲酸甲酯钠的相对分子质量是多少？', 'topic_entity': '对羟基苯甲酸甲酯钠'},\n",
       " {'id': 30, 'question': '邻苯二甲酸二异丙酯的相对分子质量是多少？', 'topic_entity': '邻苯二甲酸二异丙酯'},\n",
       " {'id': 31, 'question': '我想知道铵的相对分子质量是多少？', 'topic_entity': '铵'},\n",
       " {'id': 32, 'question': '我想知道BHMTPMPA的相对分子质量是多少？', 'topic_entity': 'bhmtpmpa'},\n",
       " {'id': 33,\n",
       "  'question': '请问红宝石级攻击核潜艇是什么时候开始投入使用的啊？',\n",
       "  'topic_entity': '红宝石级攻击核潜艇'},\n",
       " {'id': 34,\n",
       "  'question': '请问维克拉玛蒂亚号航空母舰是什么时候开始投入使用的啊？',\n",
       "  'topic_entity': '维克拉玛蒂亚号航空母舰'},\n",
       " {'id': 35, 'question': '051C型驱逐舰什么时候开始服役的？', 'topic_entity': '051c型驱逐舰'},\n",
       " {'id': 36,\n",
       "  'question': 'SH-60“海鹰”反潜直升机什么时候开始服役的？',\n",
       "  'topic_entity': 'sh-60[UNK]海鹰[UNK]反潜直升机'},\n",
       " {'id': 37, 'question': '奥卢塞贡·奥巴桑乔是谁那么时候开始服役的？', 'topic_entity': '奥卢塞贡·奥巴桑乔'},\n",
       " {'id': 38,\n",
       "  'question': '末段高空区域防御系统是谁那么时候开始服役的？',\n",
       "  'topic_entity': '末段高空区域防御系统'},\n",
       " {'id': 39,\n",
       "  'question': '我想了解一下苏-33战斗机的使用时间是什么时候啊？',\n",
       "  'topic_entity': '苏-33战斗机'},\n",
       " {'id': 40,\n",
       "  'question': '我想了解一下奥托·梅莱拉76mm舰炮的使用时间是什么时候啊？',\n",
       "  'topic_entity': '奥托·梅莱拉76mm舰炮'},\n",
       " {'id': 41,\n",
       "  'question': 'PzH-2000自行榴弹炮是什么时候服役的？',\n",
       "  'topic_entity': 'pzh-2000自行榴弹炮'},\n",
       " {'id': 42, 'question': '佩里级护卫舰是什么时候服役的？', 'topic_entity': '佩里级护卫舰'},\n",
       " {'id': 43, 'question': '北京大学东方学研究中心下设了哪些网？', 'topic_entity': '北京大学东方学研究中心'},\n",
       " {'id': 44, 'question': '汽车点火系统下设了哪些网？', 'topic_entity': '汽车点火系统'},\n",
       " {'id': 45, 'question': '殿院下设了哪些部门？', 'topic_entity': '殿院'},\n",
       " {'id': 46, 'question': '随州市中级人民法院下设了哪些部门？', 'topic_entity': '随州市中级人民法院'},\n",
       " {'id': 47, 'question': '国家苹果工程技术研究中心下设什么机构？', 'topic_entity': '国家苹果工程技术研究中心'},\n",
       " {'id': 48, 'question': '新创作网下设什么机构？', 'topic_entity': '新创作网'},\n",
       " {'id': 49, 'question': '你知道大民会的下设机构是什么地方吗？', 'topic_entity': '大民会'},\n",
       " {'id': 50,\n",
       "  'question': '你知道商务部电子商务和信息化司的下设机构是什么地方吗？',\n",
       "  'topic_entity': '商务部电子商务和信息化司'},\n",
       " {'id': 51, 'question': '谁知道冰枪白莲华属于什么作品？', 'topic_entity': '冰枪白莲华'},\n",
       " {'id': 52, 'question': '谁知道雷龙属于什么作品？', 'topic_entity': '雷龙'},\n",
       " {'id': 53, 'question': '圣骑士是哪部作品里面的？', 'topic_entity': '圣骑士'},\n",
       " {'id': 54, 'question': '觐礼是哪部作品里面的？', 'topic_entity': '觐礼'},\n",
       " {'id': 55, 'question': '齿轮齿轮是哪个作品里面的？', 'topic_entity': '齿轮齿轮'},\n",
       " {'id': 56, 'question': '神田由是哪个作品里面的？', 'topic_entity': '神田由'},\n",
       " {'id': 57, 'question': '你知道戴林·普罗德摩尔属于哪个作品吗？', 'topic_entity': '戴林·普罗德摩尔'},\n",
       " {'id': 58, 'question': '你知道索拉属于哪个作品吗？', 'topic_entity': '索拉'},\n",
       " {'id': 59, 'question': '神剑诀属于哪个作品？', 'topic_entity': '神剑诀'},\n",
       " {'id': 60, 'question': '梦神属于哪个作品？', 'topic_entity': '梦神'},\n",
       " {'id': 61, 'question': '我想知道暗精灵墓地是属于什么作品？', 'topic_entity': '暗精灵墓地'},\n",
       " {'id': 62, 'question': '我想知道圣人是属于什么作品？', 'topic_entity': '圣人'},\n",
       " {'id': 63, 'question': '波特罗广场有什么电视作品吗？', 'topic_entity': '波特罗广场'},\n",
       " {'id': 64, 'question': '显谟阁有什么电视作品吗？', 'topic_entity': '显谟阁'},\n",
       " {'id': 65, 'question': '铬金切斯特属于哪部作品的人物？', 'topic_entity': '铬金切斯特'},\n",
       " {'id': 66, 'question': '斯塔丝·阿利属于哪部作品的人物？', 'topic_entity': '斯塔丝·阿利'},\n",
       " {'id': 67, 'question': '请问华普海域的都是什么车型？', 'topic_entity': '华普海域'},\n",
       " {'id': 68, 'question': '请问现代维拉克斯的都是什么车型？', 'topic_entity': '现代维拉克斯'},\n",
       " {'id': 69, 'question': '请问公务车属于什么类型的车？', 'topic_entity': '公务车'},\n",
       " {'id': 70, 'question': '请问起亚K3S属于什么类型的车？', 'topic_entity': '起亚K3S'},\n",
       " {'id': 71, 'question': '别克林荫大道属于什么车型？', 'topic_entity': '别克林荫大道'},\n",
       " {'id': 72, 'question': '上海公交177路属于什么车型？', 'topic_entity': '上海公交177路'},\n",
       " {'id': 73, 'question': '南南线有哪些车型？', 'topic_entity': '南南线'},\n",
       " {'id': 74, 'question': '徐州公交有哪些车型？', 'topic_entity': '徐州公交'},\n",
       " {'id': 75, 'question': '请问上海公交962路的车型是什么？', 'topic_entity': '上海公交962路'},\n",
       " {'id': 76, 'question': '请问高川专线的车型是什么？', 'topic_entity': '高川专线'},\n",
       " {'id': 77, 'question': '上海公交龙大专线是什么车型？', 'topic_entity': '上海公交龙大专线'},\n",
       " {'id': 78, 'question': '掀背车是什么车型？', 'topic_entity': '掀背车'},\n",
       " {'id': 79, 'question': '你知道铰接式卡车是用什么车吗？', 'topic_entity': '铰接式卡车'},\n",
       " {'id': 80, 'question': '你知道风云2是用什么车吗？', 'topic_entity': '风云2'},\n",
       " {'id': 81, 'question': '你知道G7的车型是什么呢？', 'topic_entity': 'g7'},\n",
       " {'id': 82, 'question': '你知道大众途锐的车型是什么呢？', 'topic_entity': '大众途锐'},\n",
       " {'id': 83, 'question': '上海公交84路使用的是什么车型？', 'topic_entity': '上海公交84路'},\n",
       " {'id': 84, 'question': 'G11使用的是什么车型？', 'topic_entity': 'g11'},\n",
       " {'id': 85, 'question': '极光是什么样的车型？', 'topic_entity': '极光'},\n",
       " {'id': 86, 'question': '平尼法瑞那是什么样的车型？', 'topic_entity': '平尼法瑞那'},\n",
       " {'id': 87, 'question': '请问皮朗古城周长多少？', 'topic_entity': '皮朗古城'},\n",
       " {'id': 88, 'question': '请问大同城周长多少？', 'topic_entity': '大同城'},\n",
       " {'id': 89, 'question': '萍洲春涨的周长是多少？', 'topic_entity': '萍洲春涨'},\n",
       " {'id': 90, 'question': '后周皇陵的周长是多少？', 'topic_entity': '后周皇陵'},\n",
       " {'id': 91, 'question': '尧陵的周长有多少米？', 'topic_entity': '尧陵'},\n",
       " {'id': 92, 'question': '冉牟墓的周长有多少米？', 'topic_entity': '冉牟墓'},\n",
       " {'id': 93, 'question': '国家地理发行了多少？', 'topic_entity': '国家地理'},\n",
       " {'id': 94, 'question': 'ceci姐妹发行了多少？', 'topic_entity': 'ceci姐妹'},\n",
       " {'id': 95, 'question': '你知道澳门晚报的发行量吗？', 'topic_entity': '澳门晚报'},\n",
       " {'id': 96, 'question': '你知道北京电视周刊的发行量吗？', 'topic_entity': '北京电视周刊'},\n",
       " {'id': 97, 'question': '海螺小姐的发行量是多少？', 'topic_entity': '海螺小姐'},\n",
       " {'id': 98, 'question': '东北落叶林的发行量是多少？', 'topic_entity': '东北落叶林'},\n",
       " {'id': 99, 'question': '请问华商晨报发行了多少？', 'topic_entity': '华商晨报'},\n",
       " {'id': 100, 'question': '请问JUMP SQUARE发行了多少？', 'topic_entity': 'jumpsquare'},\n",
       " {'id': 101, 'question': '谁知道24小时：再活一天每集有多长？', 'topic_entity': '24小时：再活一天'},\n",
       " {'id': 102, 'question': '谁知道尸姬每集有多长？', 'topic_entity': '尸姬'},\n",
       " {'id': 103,\n",
       "  'question': '犯罪现场调查：迈阿密第一季一集有多长？',\n",
       "  'topic_entity': '犯罪现场调查：迈阿密第一季'},\n",
       " {'id': 104, 'question': '超地下偶像一集有多长？', 'topic_entity': '超地下偶像'},\n",
       " {'id': 105, 'question': '黑帆第四季每集有多长？', 'topic_entity': '黑帆第四季'},\n",
       " {'id': 106, 'question': '老爸老妈的浪漫史第七季每集有多长？', 'topic_entity': '老爸老妈的浪漫史第七季'},\n",
       " {'id': 107, 'question': 'X音素一集大概有多久啊？', 'topic_entity': 'X音素'},\n",
       " {'id': 108, 'question': '投票碎片一集大概有多久啊？', 'topic_entity': '投票碎片'},\n",
       " {'id': 109, 'question': '你知道权力的游戏第二季一集有多久吗？', 'topic_entity': '权力的游戏第二季'},\n",
       " {'id': 110, 'question': '你知道婴儿日记一集有多久吗？', 'topic_entity': '婴儿日记'},\n",
       " {'id': 111, 'question': '一级美味的对白是什么语言？', 'topic_entity': '一级美味'},\n",
       " {'id': 112, 'question': 'hollyoaks的对白是什么语言？', 'topic_entity': 'hollyoaks'},\n",
       " {'id': 113,\n",
       "  'question': 'music station用什么对话？',\n",
       "  'topic_entity': 'musicstation'},\n",
       " {'id': 114, 'question': '终极细胞战用什么对话？', 'topic_entity': '终极细胞战'},\n",
       " {'id': 115, 'question': '有没有人看过唐老鸭俱乐部，对白是什么语言？', 'topic_entity': '唐老鸭俱乐部'},\n",
       " {'id': 116, 'question': '有没有人看过有报天天读，对白是什么语言？', 'topic_entity': '有报天天读'},\n",
       " {'id': 117, 'question': '请问脆性金属的措施是什么？', 'topic_entity': '脆性金属'},\n",
       " {'id': 118, 'question': '请问败火的措施是什么？', 'topic_entity': '败火'},\n",
       " {'id': 119, 'question': '团粒结构有哪些措施？', 'topic_entity': '团粒结构'},\n",
       " {'id': 120, 'question': '节约用电有哪些措施？', 'topic_entity': '节约用电'},\n",
       " {'id': 121, 'question': '请问进行铁路运输安全需要事先进行什么工作？', 'topic_entity': '铁路运输安全'},\n",
       " {'id': 122, 'question': '请问进行再就业工程需要事先进行什么工作？', 'topic_entity': '再就业工程'},\n",
       " {'id': 123, 'question': '黄色高温信号的措施是什么？', 'topic_entity': '黄色高温信号'},\n",
       " {'id': 124, 'question': '设备综合管理的措施是什么？', 'topic_entity': '设备综合管理'},\n",
       " {'id': 125, 'question': '请举出软件质量保证的措施有哪些？', 'topic_entity': '软件质量保证'},\n",
       " {'id': 126, 'question': '请举出企业办税人员的措施有哪些？', 'topic_entity': '企业办税人员'},\n",
       " {'id': 127, 'question': '你知道默西塞德郡一共有多少人吗？', 'topic_entity': '默西塞德郡'},\n",
       " {'id': 128, 'question': '你知道塘头村一共有多少人吗？', 'topic_entity': '塘头村'},\n",
       " {'id': 129, 'question': '坦埠有多少人？', 'topic_entity': '坦埠'},\n",
       " {'id': 130, 'question': '瓦尔达克省有多少人？', 'topic_entity': '瓦尔达克省'},\n",
       " {'id': 131, 'question': '请问西安村有多少人口？', 'topic_entity': '西安村'},\n",
       " {'id': 132, 'question': '请问金南社区有多少人口？', 'topic_entity': '金南社区'},\n",
       " {'id': 133, 'question': '你知道尧人有多少人啊？', 'topic_entity': '尧人'},\n",
       " {'id': 134, 'question': '你知道大西庄村有多少人啊？', 'topic_entity': '大西庄村'},\n",
       " {'id': 135, 'question': '李家庄村有多少人口？', 'topic_entity': '李家庄村'},\n",
       " {'id': 136, 'question': '红坡村有多少人口？', 'topic_entity': '红坡村'},\n",
       " {'id': 137,\n",
       "  'question': '成都市统筹城乡和农业委员会属于什么单位呢？',\n",
       "  'topic_entity': '成都市统筹城乡和农业委员会'},\n",
       " {'id': 138,\n",
       "  'question': '中国共产主义青年团中央企业工作委员会属于什么单位呢？',\n",
       "  'topic_entity': '中国共产主义青年团中央企业工作委员会'},\n",
       " {'id': 139,\n",
       "  'question': '安徽省国土资源储备发展中心属于什么性质的单位？',\n",
       "  'topic_entity': '安徽省国土资源储备发展中心'},\n",
       " {'id': 140, 'question': '广元电视台属于什么性质的单位？', 'topic_entity': '广元电视台'},\n",
       " {'id': 141,\n",
       "  'question': '请问洛阳中科信息产业研究院单位性质是什么？',\n",
       "  'topic_entity': '洛阳中科信息产业研究院'},\n",
       " {'id': 142, 'question': '请问黑土文学社单位性质是什么？', 'topic_entity': '黑土文学社'},\n",
       " {'id': 143, 'question': '你知道绵阳市教育和体育局啊？', 'topic_entity': '绵阳市教育和体育局'},\n",
       " {'id': 144, 'question': '你知道北京京剧院啊？', 'topic_entity': '北京京剧院'},\n",
       " {'id': 145, 'question': '你知道四等人制是什么时候产生的吗？', 'topic_entity': '四等人制'},\n",
       " {'id': 146, 'question': '你知道花觚是什么时候产生的吗？', 'topic_entity': '花觚'},\n",
       " {'id': 147, 'question': '新行为主义产生于什么年代？', 'topic_entity': '新行为主义'},\n",
       " {'id': 148, 'question': '不以人废言产生于什么年代？', 'topic_entity': '不以人废言'},\n",
       " {'id': 149, 'question': '新和硕特旗源于哪个年代？', 'topic_entity': '新和硕特旗'},\n",
       " {'id': 150, 'question': '杯酒戈矛源于哪个年代？', 'topic_entity': '杯酒戈矛'},\n",
       " {'id': 151, 'question': '小三元的产生时间是什么时候？', 'topic_entity': '小三元'},\n",
       " {'id': 152, 'question': '流外的产生时间是什么时候？', 'topic_entity': '流外'},\n",
       " {'id': 153, 'question': '没心没想的产生年代是什么？', 'topic_entity': '没心没想'},\n",
       " {'id': 154, 'question': '高岑诗派的产生年代是什么？', 'topic_entity': '高岑诗派'},\n",
       " {'id': 155, 'question': '致中和龟苓膏的地址在哪里？', 'topic_entity': '致中和龟苓膏'},\n",
       " {'id': 156, 'question': '梅花洞的地址在哪里？', 'topic_entity': '梅花洞'},\n",
       " {'id': 157, 'question': '祖龙宫坐落在哪里？', 'topic_entity': '祖龙宫'},\n",
       " {'id': 158, 'question': '泰安寺坐落在哪里？', 'topic_entity': '泰安寺'},\n",
       " {'id': 159, 'question': '你知道长白山小天池在什么地方吗？', 'topic_entity': '长白山小天池'},\n",
       " {'id': 160, 'question': '你知道弹琴峡在什么地方吗？', 'topic_entity': '弹琴峡'},\n",
       " {'id': 161, 'question': '请问刘冠雄故居坐落在哪里？', 'topic_entity': '刘冠雄故居'},\n",
       " {'id': 162, 'question': '请问北丽桥坐落在哪里？', 'topic_entity': '北丽桥'},\n",
       " {'id': 163, 'question': '半旱生植物生长在哪里？', 'topic_entity': '半旱生植物'},\n",
       " {'id': 164, 'question': '肠杆菌属生长在哪里？', 'topic_entity': '肠杆菌属'},\n",
       " {'id': 165, 'question': '你知道细弱落芒草的生长环境吗？', 'topic_entity': '细弱落芒草'},\n",
       " {'id': 166, 'question': '你知道神仙叶的生长环境吗？', 'topic_entity': '神仙叶'},\n",
       " {'id': 167, 'question': '张纯芳生长在什么样的环境？', 'topic_entity': '张纯芳'},\n",
       " {'id': 168, 'question': '松生长在什么样的环境？', 'topic_entity': '松'},\n",
       " {'id': 169, 'question': '纵肋人字果的生长环境是什么样子的啊？', 'topic_entity': '纵肋人字果'},\n",
       " {'id': 170, 'question': '风景林的生长环境是什么样子的啊？', 'topic_entity': '风景林'},\n",
       " {'id': 171, 'question': '你了解厚叶凤尾蕨在什么环境下生长的吗？', 'topic_entity': '厚叶凤尾蕨'},\n",
       " {'id': 172, 'question': '你了解梭梭林在什么环境下生长的吗？', 'topic_entity': '梭梭林'},\n",
       " {'id': 173,\n",
       "  'question': '请问陕西省企业信用协会学术委员会主要有什么业务？',\n",
       "  'topic_entity': '陕西省企业信用协会学术委员会'},\n",
       " {'id': 174,\n",
       "  'question': '请问深圳乐酷信息技术有限公司主要有什么业务？',\n",
       "  'topic_entity': '深圳乐酷信息技术有限公司'},\n",
       " {'id': 175, 'question': '北京腾图电子出版社主要有哪些业务？', 'topic_entity': '北京腾图电子出版社'},\n",
       " {'id': 176, 'question': '世纪天成主要有哪些业务？', 'topic_entity': '世纪天成'},\n",
       " {'id': 177, 'question': '你知道和记电讯主要卖什么吗？', 'topic_entity': '和记电讯'},\n",
       " {'id': 178,\n",
       "  'question': '你知道中国海事仲裁委员会香港仲裁中心主要卖什么吗？',\n",
       "  'topic_entity': '中国海事仲裁委员会香港仲裁中心'},\n",
       " {'id': 179, 'question': '请问Helio的主要业务是什么？', 'topic_entity': 'helio'},\n",
       " {'id': 180,\n",
       "  'question': '请问阿里小微金融服务集团的主要业务是什么？',\n",
       "  'topic_entity': '阿里小微金融服务集团'},\n",
       " {'id': 181, 'question': '港湾扫雷艇的排水量是多少？', 'topic_entity': '港湾扫雷艇'},\n",
       " {'id': 182, 'question': '粤海铁1号的排水量是多少？', 'topic_entity': '粤海铁1号'},\n",
       " {'id': 183, 'question': '大淀号可以排水多少吨？', 'topic_entity': '大淀号'},\n",
       " {'id': 184, 'question': '伊丽莎白皇后号可以排水多少吨？', 'topic_entity': '伊丽莎白皇后号'},\n",
       " {'id': 185, 'question': '我想知道大凤号航空母舰的排水量有大？', 'topic_entity': '大凤号航空母舰'},\n",
       " {'id': 186, 'question': '我想知道超级航空母舰的排水量有大？', 'topic_entity': '超级航空母舰'},\n",
       " {'id': 187, 'question': '将军令有多大内存？', 'topic_entity': '将军令'},\n",
       " {'id': 188, 'question': 'LINDBERGH有多大内存？', 'topic_entity': 'lindbergh'},\n",
       " {'id': 189, 'question': '小哨兵还原卡的内存是多少？', 'topic_entity': '小哨兵还原卡'},\n",
       " {'id': 190, 'question': '小教授二号的内存是多少？', 'topic_entity': '小教授二号'},\n",
       " {'id': 191, 'question': '奥托的内存有多大？', 'topic_entity': '奥托'},\n",
       " {'id': 192, 'question': '真实战争的内存有多大？', 'topic_entity': '真实战争'},\n",
       " {'id': 193, 'question': 'MEGA DRIVE需要多少内存？', 'topic_entity': 'megadrive'},\n",
       " {'id': 194, 'question': '网络电视盒需要多少内存？', 'topic_entity': '网络电视盒'},\n",
       " {'id': 195, 'question': '请问河南省华夏文化研究会设立在哪里啦？', 'topic_entity': '河南省华夏文化研究会'},\n",
       " {'id': 196,\n",
       "  'question': '请问中国政法大学民商经济法学院经济法研究所设立在哪里啦？',\n",
       "  'topic_entity': '中国政法大学民商经济法学院经济法研究所'},\n",
       " {'id': 197, 'question': '山东省农业实验所机构设置在哪？', 'topic_entity': '山东省农业实验所'},\n",
       " {'id': 198,\n",
       "  'question': '中国艺术研究院曲艺研究所机构设置在哪？',\n",
       "  'topic_entity': '中国艺术研究院曲艺研究所'},\n",
       " {'id': 199, 'question': '深圳市普宁商会这个机构在哪？', 'topic_entity': '深圳市普宁商会'},\n",
       " {'id': 200,\n",
       "  'question': '湖南省勘查设计研究院有限公司这个机构在哪？',\n",
       "  'topic_entity': '湖南省勘查设计研究院有限公司'},\n",
       " {'id': 201,\n",
       "  'question': '郑州磨料磨具磨削研究所在什么地方机构办公啊？',\n",
       "  'topic_entity': '郑州磨料磨具磨削研究所'},\n",
       " {'id': 202,\n",
       "  'question': '中国标准化专家委员会在什么地方机构办公啊？',\n",
       "  'topic_entity': '中国标准化专家委员会'},\n",
       " {'id': 203, 'question': '深圳发展银行北京分行的机构地点在哪里？', 'topic_entity': '深圳发展银行北京分行'},\n",
       " {'id': 204,\n",
       "  'question': '甘肃省天然药物重点实验室的机构地点在哪里？',\n",
       "  'topic_entity': '甘肃省天然药物重点实验室'},\n",
       " {'id': 205, 'question': '墨尔本地铁这个应用的名字叫啥？', 'topic_entity': '墨尔本地铁'},\n",
       " {'id': 206, 'question': '征服世界这个应用的名字叫啥？', 'topic_entity': '征服世界'},\n",
       " {'id': 207, 'question': '海上争夺战的应用名称是什么？', 'topic_entity': '海上争夺战'},\n",
       " {'id': 208, 'question': '体育杂志的应用名称是什么？', 'topic_entity': '体育杂志'},\n",
       " {'id': 209, 'question': '密室逃生2在应用市场的名称是什么？', 'topic_entity': '密室逃生2'},\n",
       " {'id': 210, 'question': '休闲游戏合集在应用市场的名称是什么？', 'topic_entity': '休闲游戏合集'},\n",
       " {'id': 211, 'question': '东方宾利文化发展中心设置了哪些机构？', 'topic_entity': '东方宾利文化发展中心'},\n",
       " {'id': 212, 'question': '上都城设置了哪些机构？', 'topic_entity': '上都城'},\n",
       " {'id': 213, 'question': '吕梁市科学技术局有什么机构？', 'topic_entity': '吕梁市科学技术局'},\n",
       " {'id': 214, 'question': '湖北工业大学图书馆有什么机构？', 'topic_entity': '湖北工业大学图书馆'},\n",
       " {'id': 215,\n",
       "  'question': '你知道国家体育总局足球运动管理中心的机构设置是什么吗？',\n",
       "  'topic_entity': '国家体育总局足球运动管理中心'},\n",
       " {'id': 216,\n",
       "  'question': '你知道中国工作犬管理协会的机构设置是什么吗？',\n",
       "  'topic_entity': '中国工作犬管理协会'},\n",
       " {'id': 217,\n",
       "  'question': '国家体育总局网球运动管理中心有哪些机构设置？',\n",
       "  'topic_entity': '国家体育总局网球运动管理中心'},\n",
       " {'id': 218, 'question': '河南省国土资源厅有哪些机构设置？', 'topic_entity': '河南省国土资源厅'},\n",
       " {'id': 219, 'question': '请问是谁写了渡汉江？', 'topic_entity': '渡汉江'},\n",
       " {'id': 220, 'question': '请问是谁写了吃茗粥作？', 'topic_entity': '吃茗粥作'},\n",
       " {'id': 221, 'question': '《襄阳作》是谁写的？', 'topic_entity': '襄阳作'},\n",
       " {'id': 222, 'question': '《奉和幸新丰温泉宫应制》是谁写的？', 'topic_entity': '奉和幸新丰温泉宫应制'},\n",
       " {'id': 223, 'question': '赐耆老布帛的作者是谁？', 'topic_entity': '赐耆老布帛'},\n",
       " {'id': 224, 'question': '大堤曲的作者是谁？', 'topic_entity': '大堤曲'},\n",
       " {'id': 225, 'question': '我想知道庆东原·叹世是谁写的？', 'topic_entity': '庆东原·叹世'},\n",
       " {'id': 226,\n",
       "  'question': '我想知道桂州陪王都督晦日宴逍遥楼是谁写的？',\n",
       "  'topic_entity': '桂州陪王都督晦日宴逍遥楼'},\n",
       " {'id': 227, 'question': '谁能告诉我李瀷是哪个学派的？', 'topic_entity': '李瀷'},\n",
       " {'id': 228, 'question': '谁能告诉我朱熹是哪个学派的？', 'topic_entity': '朱熹'},\n",
       " {'id': 229, 'question': '请问伊斯雷尔·柯兹纳属于什么学派？', 'topic_entity': '伊斯雷尔·柯兹纳'},\n",
       " {'id': 230, 'question': '请问特拉克斯属于什么学派？', 'topic_entity': '特拉克斯'},\n",
       " {'id': 231, 'question': '钜子的学派是哪家学派？', 'topic_entity': '钜子'},\n",
       " {'id': 232, 'question': '接子的学派是哪家学派？', 'topic_entity': '接子'},\n",
       " {'id': 233, 'question': '西楚少羽属于什么学派？', 'topic_entity': '西楚少羽'},\n",
       " {'id': 234, 'question': '南关清真寺属于什么学派？', 'topic_entity': '南关清真寺'},\n",
       " {'id': 235, 'question': '你知道佛牒的来历吗？', 'topic_entity': '佛牒'},\n",
       " {'id': 236, 'question': '你知道贺老鼠嫁女的来历吗？', 'topic_entity': '贺老鼠嫁女'},\n",
       " {'id': 237, 'question': '水东街来源于什么？', 'topic_entity': '水东街'},\n",
       " {'id': 238, 'question': '东平信息港来源于什么？', 'topic_entity': '东平信息港'},\n",
       " {'id': 239, 'question': '谁知道蒋陵周边有什么观光点？', 'topic_entity': '蒋陵'},\n",
       " {'id': 240, 'question': '谁知道紫岩山周边有什么观光点？', 'topic_entity': '紫岩山'},\n",
       " {'id': 241, 'question': '请问白马庙的附近有哪些景点？', 'topic_entity': '白马庙'},\n",
       " {'id': 242, 'question': '请问大埔泰安楼的附近有哪些景点？', 'topic_entity': '大埔泰安楼'},\n",
       " {'id': 243, 'question': '你知道刘娘府周围有什么景点吗？', 'topic_entity': '刘娘府'},\n",
       " {'id': 244, 'question': '你知道孤峰塔周围有什么景点吗？', 'topic_entity': '孤峰塔'},\n",
       " {'id': 245, 'question': '艾溪湖西站旁边有什么景点吗？', 'topic_entity': '艾溪湖西站'},\n",
       " {'id': 246, 'question': '姜嫄水乡旁边有什么景点吗？', 'topic_entity': '姜嫄水乡'},\n",
       " {'id': 247, 'question': '龙城广场附近有哪些景点？', 'topic_entity': '龙城广场'},\n",
       " {'id': 248, 'question': '张山岛附近有哪些景点？', 'topic_entity': '张山岛'},\n",
       " {'id': 249, 'question': '班禅堪布会议厅的领导人是谁？', 'topic_entity': '班禅堪布会议厅'},\n",
       " {'id': 250, 'question': '塞纳里奥议会的领导人是谁？', 'topic_entity': '塞纳里奥议会'},\n",
       " {'id': 251, 'question': '谁是沃尔图里家族的领袖？', 'topic_entity': '沃尔图里家族'},\n",
       " {'id': 252, 'question': '谁是猛兽族的领袖？', 'topic_entity': '猛兽族'},\n",
       " {'id': 253, 'question': '请问新桂系的领袖是谁？', 'topic_entity': '新桂系'},\n",
       " {'id': 254, 'question': '请问暗影议会的领袖是谁？', 'topic_entity': '暗影议会'},\n",
       " {'id': 255, 'question': 'X战警的领导是谁啊？', 'topic_entity': 'X战警'},\n",
       " {'id': 256, 'question': '英国独立工党的领导是谁啊？', 'topic_entity': '英国独立工党'},\n",
       " {'id': 257, 'question': '无为教的领袖是谁？', 'topic_entity': '无为教'},\n",
       " {'id': 258, 'question': '女儿岛的领袖是谁？', 'topic_entity': '女儿岛'},\n",
       " {'id': 259, 'question': '河村唯的假名是什么？', 'topic_entity': '河村唯'},\n",
       " {'id': 260, 'question': '新罗德斯岛战记的假名是什么？', 'topic_entity': '新罗德斯岛战记'},\n",
       " {'id': 261, 'question': '请告诉我魔乳秘剑帖的假名好吗?', 'topic_entity': '魔乳秘剑帖'},\n",
       " {'id': 262, 'question': '请告诉我神道的假名好吗?', 'topic_entity': '神道'},\n",
       " {'id': 263, 'question': '谁能告诉我下条阿童木的假名是什么？', 'topic_entity': '条阿童木'},\n",
       " {'id': 264, 'question': '谁能告诉我高天原的假名是什么？', 'topic_entity': '高天原'},\n",
       " {'id': 265, 'question': '内务省的假名是什么啊？', 'topic_entity': '内务省'},\n",
       " {'id': 266, 'question': '横滨湾星的假名是什么啊？', 'topic_entity': '横滨湾星'},\n",
       " {'id': 267, 'question': '鬼庭良直的日文假名是什么？', 'topic_entity': '鬼庭良直'},\n",
       " {'id': 268, 'question': '潮见知佳的日文假名是什么？', 'topic_entity': '潮见知佳'},\n",
       " {'id': 269, 'question': '谁能告诉我堕落泰坦是在哪儿发现的呀？', 'topic_entity': '堕落泰坦'},\n",
       " {'id': 270, 'question': '谁能告诉我Himalia是在哪儿发现的呀？', 'topic_entity': 'himalia'},\n",
       " {'id': 271, 'question': '巨型象鼩是在哪里发现的？', 'topic_entity': '巨型象鼩'},\n",
       " {'id': 272, 'question': '针毡是在哪里发现的？', 'topic_entity': '针毡'},\n",
       " {'id': 273, 'question': '请问在哪里发现鲁潜墓的？', 'topic_entity': '鲁潜墓'},\n",
       " {'id': 274, 'question': '请问在哪里发现大地獭的？', 'topic_entity': '大地獭'},\n",
       " {'id': 275, 'question': '马拉鳄龙是在什么地方发现的啊？', 'topic_entity': '马拉鳄龙'},\n",
       " {'id': 276, 'question': '孟买血型是在什么地方发现的啊？', 'topic_entity': '孟买血型'},\n",
       " {'id': 277, 'question': '好朋友通讯卡是在哪里被发现的呢？', 'topic_entity': '好朋友通讯卡'},\n",
       " {'id': 278, 'question': '栾川人是在哪里被发现的呢？', 'topic_entity': '栾川人'},\n",
       " {'id': 279, 'question': '请问定文章是在哪里诞生的？', 'topic_entity': '定文章'},\n",
       " {'id': 280, 'question': '请问东京文献学派是在哪里诞生的？', 'topic_entity': '东京文献学派'},\n",
       " {'id': 281, 'question': '中国海瓷的诞生地在哪？', 'topic_entity': '中国海瓷'},\n",
       " {'id': 282, 'question': '东斯拉夫人的诞生地在哪？', 'topic_entity': '东斯拉夫人'},\n",
       " {'id': 283, 'question': '北京制药厂在哪里诞生的？', 'topic_entity': '北京制药厂'},\n",
       " {'id': 284, 'question': '炫迈在哪里诞生的？', 'topic_entity': '炫迈'},\n",
       " {'id': 285, 'question': '琉库的诞生地是哪里？', 'topic_entity': '琉库'},\n",
       " {'id': 286, 'question': '一生一世的诞生地是哪里？', 'topic_entity': '一生一世'},\n",
       " {'id': 287, 'question': '美纪诞生于哪里？', 'topic_entity': '美纪'},\n",
       " {'id': 288, 'question': '中士诞生于哪里？', 'topic_entity': '中士'},\n",
       " {'id': 289, 'question': '东坡区司法局是什么时候注册的？', 'topic_entity': '东坡区司法局'},\n",
       " {'id': 290,\n",
       "  'question': '北京大学马来西亚校友会是什么时候注册的？',\n",
       "  'topic_entity': '北京大学马来西亚校友会'},\n",
       " {'id': 291,\n",
       "  'question': '腾达建设集团股份有限公司是哪年注册的？',\n",
       "  'topic_entity': '腾达建设集团股份有限公司'},\n",
       " {'id': 292, 'question': '张江是哪年注册的？', 'topic_entity': '张江'},\n",
       " {'id': 293,\n",
       "  'question': '你知道惠州市惠城区美业协会注册的时间是什么时候吗？',\n",
       "  'topic_entity': '惠州市惠城区美业协会'},\n",
       " {'id': 294, 'question': '你知道李子柒注册的时间是什么时候吗？', 'topic_entity': '李子柒'},\n",
       " {'id': 295, 'question': '请问迪士尼是什么时候注册的？', 'topic_entity': '迪士尼'},\n",
       " {'id': 296, 'question': '请问明华堂是什么时候注册的？', 'topic_entity': '明华堂'},\n",
       " {'id': 297, 'question': '什么时候毛地黄开放？', 'topic_entity': '毛地黄'},\n",
       " {'id': 298, 'question': '什么时候卡萨布兰卡开放？', 'topic_entity': '卡萨布兰卡'},\n",
       " {'id': 299, 'question': '蓝芙蓉的花期是什么时候？', 'topic_entity': '蓝芙蓉'},\n",
       " {'id': 300, 'question': '细叶东俄芹的花期是什么时候？', 'topic_entity': '细叶东俄芹'},\n",
       " {'id': 301, 'question': '你知道狭叶卷耳是什么花期吗？', 'topic_entity': '狭叶卷耳'},\n",
       " {'id': 302, 'question': '你知道二色棱子芹是什么花期吗？', 'topic_entity': '二色棱子芹'},\n",
       " {'id': 303, 'question': '我想知道夹竹桃什么时候开花？', 'topic_entity': '夹竹桃'},\n",
       " {'id': 304, 'question': '请问欧根亲王号重型巡洋舰属于什么级别？', 'topic_entity': '欧根亲王号重型巡洋舰'},\n",
       " {'id': 305, 'question': '请问科罗拉多号战列舰属于什么级别？', 'topic_entity': '科罗拉多号战列舰'},\n",
       " {'id': 306, 'question': '请问1144型巡洋舰的级别是多少？', 'topic_entity': '1144型巡洋舰'},\n",
       " {'id': 307, 'question': '请问萨拉米斯级巡洋舰的级别是多少？', 'topic_entity': '萨拉米斯级巡洋舰'},\n",
       " {'id': 308, 'question': '请问黄蜂号航空母舰是什么级别的舰？', 'topic_entity': '黄蜂号航空母舰'},\n",
       " {'id': 309, 'question': '请问基辅号航空母舰是什么级别的舰？', 'topic_entity': '基辅号航空母舰'},\n",
       " {'id': 310, 'question': '国民革命军第十八军是一种什么样的装备？', 'topic_entity': '国民革命军第十八军'},\n",
       " {'id': 311, 'question': '侦察航空兵是一种什么样的装备？', 'topic_entity': '侦察航空兵'},\n",
       " {'id': 312, 'question': '龙贝贝装备怎么样？', 'topic_entity': '龙贝贝'},\n",
       " {'id': 313, 'question': '萨拉斯荒野披风装备怎么样？', 'topic_entity': '萨拉斯荒野披风'},\n",
       " {'id': 314, 'question': '轮式自行突击炮的功能是什么啊？', 'topic_entity': '轮式自行突击炮'},\n",
       " {'id': 315, 'question': '菲亚特panda的功能是什么啊？', 'topic_entity': '菲亚特panda'},\n",
       " {'id': 316, 'question': '公正之手使用了什么装备？', 'topic_entity': '公正之手'},\n",
       " {'id': 317, 'question': '庄璇玑使用了什么装备？', 'topic_entity': '庄璇玑'},\n",
       " {'id': 318, 'question': '有谁知道血手到底叫什么？', 'topic_entity': '血手'},\n",
       " {'id': 319, 'question': '有谁知道黑影到底叫什么？', 'topic_entity': '黑影'},\n",
       " {'id': 320, 'question': '谁是停电的真名？', 'topic_entity': '停电'},\n",
       " {'id': 321, 'question': '谁是北斋的真名？', 'topic_entity': '北斋'},\n",
       " {'id': 322, 'question': '那鲁的真名是什么？', 'topic_entity': '那鲁'},\n",
       " {'id': 323, 'question': '奥瑟的真名是什么？', 'topic_entity': '奥瑟'},\n",
       " {'id': 324, 'question': '你知道轩辕刕的真名是什么啊啊？', 'topic_entity': '轩辕刕'},\n",
       " {'id': 325, 'question': '你知道小岛的真名是什么啊啊？', 'topic_entity': '小岛'},\n",
       " {'id': 326, 'question': '请问妇科B超检查有哪些重点？', 'topic_entity': '妇科B超检查'},\n",
       " {'id': 327, 'question': '请问低保有哪些重点？', 'topic_entity': '低保'},\n",
       " {'id': 328, 'question': '管理技能培训的重点是什么？', 'topic_entity': '管理技能培训'},\n",
       " {'id': 329, 'question': 'prius online的重点是什么？', 'topic_entity': 'priusonline'},\n",
       " {'id': 330, 'question': '请问当涂县文化馆是什么样的公司？', 'topic_entity': '当涂县文化馆'},\n",
       " {'id': 331, 'question': '请问校企联合培养是什么样的公司？', 'topic_entity': '校企联合培养'},\n",
       " {'id': 332, 'question': '七星井有多深？', 'topic_entity': '七星井'},\n",
       " {'id': 333, 'question': '新妙湖有多深？', 'topic_entity': '新妙湖'},\n",
       " {'id': 334, 'question': '月亮峡的深度是多少啊？', 'topic_entity': '月亮峡'},\n",
       " {'id': 335, 'question': '耗来河的深度是多少啊？', 'topic_entity': '耗来河'},\n",
       " {'id': 336, 'question': '谁知道压痕有多深？', 'topic_entity': '压痕'},\n",
       " {'id': 337, 'question': '谁知道白燕遗址有多深？', 'topic_entity': '白燕遗址'},\n",
       " {'id': 338, 'question': '谁知道有哪些品牌是属于旁氏的？', 'topic_entity': '旁氏'},\n",
       " {'id': 339,\n",
       "  'question': '谁知道有哪些品牌是属于上海美瘦生物科技有限公司的？',\n",
       "  'topic_entity': '上海美瘦生物科技有限公司'},\n",
       " {'id': 340, 'question': 'DMM的旗下有什么品牌？', 'topic_entity': 'dmm'},\n",
       " {'id': 341, 'question': '百森中国的旗下有什么品牌？', 'topic_entity': '百森中国'},\n",
       " {'id': 342, 'question': '请问黛安芬旗下的品牌有哪些？', 'topic_entity': '黛安芬'},\n",
       " {'id': 343,\n",
       "  'question': '请问上海中樱桃文化传媒有限公司旗下的品牌有哪些？',\n",
       "  'topic_entity': '上海中樱桃文化传媒有限公司'},\n",
       " {'id': 344,\n",
       "  'question': '深圳市奥为服装有限公司的旗下品牌是什么啊？',\n",
       "  'topic_entity': '深圳市奥为服装有限公司'},\n",
       " {'id': 345, 'question': '希杰的旗下品牌是什么啊？', 'topic_entity': '希杰'},\n",
       " {'id': 346, 'question': '吉利汽车旗下品牌有哪些？', 'topic_entity': '吉利汽车'},\n",
       " {'id': 347,\n",
       "  'question': '山东福瑞达生物工程有限公司旗下品牌有哪些？',\n",
       "  'topic_entity': '山东福瑞达生物工程有限公司'},\n",
       " {'id': 348, 'question': '你知道夫西地酸钠的商品名是什么吗？', 'topic_entity': '夫西地酸钠'},\n",
       " {'id': 349, 'question': '你知道壬基酚聚氧乙烯醚的商品名是什么吗？', 'topic_entity': '壬基酚聚氧乙烯醚'},\n",
       " {'id': 350, 'question': '复方扶芳藤合剂有哪些商品名？', 'topic_entity': '复方扶芳藤合剂'},\n",
       " {'id': 351, 'question': '小青龙颗粒有哪些商品名？', 'topic_entity': '小青龙颗粒'},\n",
       " {'id': 352, 'question': '清热解毒口服液的商品名是什么？', 'topic_entity': '清热解毒口服液'},\n",
       " {'id': 353, 'question': '鸡粪有机肥的商品名是什么？', 'topic_entity': '鸡粪有机肥'},\n",
       " {'id': 354, 'question': '你知道牛黄上清丸是什么名字吗？', 'topic_entity': '牛黄上清丸'},\n",
       " {'id': 355, 'question': '你知道心脑康胶囊是什么名字吗？', 'topic_entity': '心脑康胶囊'},\n",
       " {'id': 356, 'question': '牛黄镇惊丸的名称是什么？', 'topic_entity': '牛黄镇惊丸'},\n",
       " {'id': 357, 'question': '马应龙麝香痔疮膏的名称是什么？', 'topic_entity': '马应龙麝香痔疮膏'},\n",
       " {'id': 358, 'question': '甘露的审定编号是多少呢？', 'topic_entity': '甘露'},\n",
       " {'id': 359, 'question': '吉粳83的审定编号是多少呢？', 'topic_entity': '吉粳83'},\n",
       " {'id': 360, 'question': '你知道武粳15的审定编号是什么吗？', 'topic_entity': '武粳15'},\n",
       " {'id': 361, 'question': '你知道花脸的审定编号是什么吗？', 'topic_entity': '花脸'},\n",
       " {'id': 362, 'question': '你知道宁粳1号的审定编号是多少吗？', 'topic_entity': '宁粳1号'},\n",
       " {'id': 363, 'question': '你知道夏珍的审定编号是多少吗？', 'topic_entity': '夏珍'},\n",
       " {'id': 364, 'question': '我想知道斗破苍穹的音乐制作是谁？', 'topic_entity': '斗破苍穹'},\n",
       " {'id': 365, 'question': '我想知道梦中的你的音乐制作是谁？', 'topic_entity': '梦中的你'},\n",
       " {'id': 366, 'question': '少年心中国梦的制作是什么？', 'topic_entity': '少年心中国梦'},\n",
       " {'id': 367,\n",
       "  'question': \"A Hard Day's Night的制作是什么？\",\n",
       "  'topic_entity': \"ahardday'snight\"},\n",
       " {'id': 368, 'question': '《归》是谁制作的？', 'topic_entity': '归'},\n",
       " {'id': 369, 'question': '《微光》是谁制作的？', 'topic_entity': '微光'},\n",
       " {'id': 370, 'question': '一封情书的音乐制作是谁？', 'topic_entity': '一封情书'},\n",
       " {'id': 371, 'question': '初心的音乐制作是谁？', 'topic_entity': '初心'},\n",
       " {'id': 372, 'question': '知否知否的音乐制作是什么？', 'topic_entity': '知否知否'},\n",
       " {'id': 373, 'question': '漆黑的特快列车的音乐制作是什么？', 'topic_entity': '漆黑的特快列车'},\n",
       " {'id': 374, 'question': '谁知道进取性优生学叫什么？', 'topic_entity': '进取性优生'},\n",
       " {'id': 375, 'question': '谁知道汾江河叫什么？', 'topic_entity': '汾江河'},\n",
       " {'id': 376, 'question': '白城又叫做什么？', 'topic_entity': '白城'},\n",
       " {'id': 377, 'question': '低密度脂蛋白脂固醇又叫做什么？', 'topic_entity': '低密度脂蛋白脂固醇'},\n",
       " {'id': 378, 'question': '西园又称为什么？', 'topic_entity': '西园'},\n",
       " {'id': 379, 'question': '退台又称为什么？', 'topic_entity': '退台'},\n",
       " {'id': 380, 'question': '海德名园的具体地址是什么？', 'topic_entity': '海德名园'},\n",
       " {'id': 381, 'question': '丽城花园的具体地址是什么？', 'topic_entity': '丽城花园'},\n",
       " {'id': 382, 'question': '吉祥里在哪里？', 'topic_entity': '吉祥里'},\n",
       " {'id': 383, 'question': '牡丹苑在哪里？', 'topic_entity': '牡丹苑'},\n",
       " {'id': 384, 'question': '登科花园小区在哪个位置？', 'topic_entity': '登科花园小区'},\n",
       " {'id': 385, 'question': '永宁胡同小区在哪个位置？', 'topic_entity': '永宁胡同小区'},\n",
       " {'id': 386, 'question': '上海锦绣江南这个小区的地址是哪里啊？', 'topic_entity': '上海锦绣江南'},\n",
       " {'id': 387, 'question': '南海台这个小区的地址是哪里啊？', 'topic_entity': '南海台'},\n",
       " {'id': 388, 'question': '苇坑胡同小区的位置在哪？', 'topic_entity': '苇坑胡同小区'},\n",
       " {'id': 389, 'question': '芳城东里小区的位置在哪？', 'topic_entity': '芳城东里小区'},\n",
       " {'id': 390, 'question': '谁知道平遥市楼是什么时候重修的吗？', 'topic_entity': '平遥市楼'},\n",
       " {'id': 391, 'question': '谁知道天缘桥是什么时候重修的吗？', 'topic_entity': '天缘桥'},\n",
       " {'id': 392, 'question': '刘备郊天坛是什么时候重修的？', 'topic_entity': '刘备郊天坛'},\n",
       " {'id': 393, 'question': '关公庙是什么时候重修的？', 'topic_entity': '关公庙'},\n",
       " {'id': 394, 'question': '长寿桥什么时候重修的？', 'topic_entity': '长寿桥'},\n",
       " {'id': 395, 'question': '中东铁路管理局什么时候重修的？', 'topic_entity': '中东铁路管理局'},\n",
       " {'id': 396, 'question': '功臣塔的重修时间是什么时候？', 'topic_entity': '功臣塔'},\n",
       " {'id': 397, 'question': '包氏宗祠的重修时间是什么时候？', 'topic_entity': '包氏宗祠'},\n",
       " {'id': 398, 'question': '请问三湖书院是什么时候重修的？', 'topic_entity': '三湖书院'},\n",
       " {'id': 399, 'question': '请问清修寺是什么时候重修的？', 'topic_entity': '清修寺'},\n",
       " {'id': 400, 'question': '请问阿方索五世出生和死亡分别在哪一年？', 'topic_entity': '阿方索五世'},\n",
       " {'id': 401, 'question': '请问李朴出生和死亡分别在哪一年？', 'topic_entity': '李朴'},\n",
       " {'id': 402, 'question': '你知道杰利特·梅萨的生卒时间吗？', 'topic_entity': '杰利特·梅萨'},\n",
       " {'id': 403, 'question': '你知道柳彦彪的生卒时间吗？', 'topic_entity': '柳彦彪'},\n",
       " {'id': 404, 'question': '请问公孙有山的出生死亡年份是多久？', 'topic_entity': '公孙有山'},\n",
       " {'id': 405, 'question': '请问陈石的出生死亡年份是多久？', 'topic_entity': '陈石'},\n",
       " {'id': 406, 'question': '你知道水天明什么时候在世？', 'topic_entity': '水天明'},\n",
       " {'id': 407, 'question': '你知道中山忠光什么时候在世？', 'topic_entity': '中山忠光'},\n",
       " {'id': 408, 'question': '约瑟夫·洛克何时生？何时死？', 'topic_entity': '约瑟夫·洛克'},\n",
       " {'id': 409, 'question': '德川纲教何时生？何时死？', 'topic_entity': '德川纲教'},\n",
       " {'id': 410, 'question': '巾山小学学校校训是什么？', 'topic_entity': '巾山小学'},\n",
       " {'id': 411, 'question': '安丘市第八中学学校校训是什么？', 'topic_entity': '安丘市第八中学'},\n",
       " {'id': 412,\n",
       "  'question': '上海市虹口区第三中心小学的教风是什么？',\n",
       "  'topic_entity': '上海市虹口区第三中心小学'},\n",
       " {'id': 413, 'question': '保定市乐凯中学的教风是什么？', 'topic_entity': '保定市乐凯中学'},\n",
       " {'id': 414, 'question': '请问扬中市外国语中学是教风是什么？', 'topic_entity': '扬中市外国语中学'},\n",
       " {'id': 415, 'question': '请问上海市三林中学北校是教风是什么？', 'topic_entity': '上海市三林中学北校'},\n",
       " {'id': 416, 'question': '我想知道山东省青岛第三中学的教风是什么吗？', 'topic_entity': '山东省青岛第三中学'},\n",
       " {'id': 417, 'question': '我想知道袍江小学的教风是什么吗？', 'topic_entity': '袍江小学'},\n",
       " {'id': 418, 'question': '苏州工业园区星湾学校的教育风格是什么？', 'topic_entity': '苏州工业园区星湾学校'},\n",
       " {'id': 419, 'question': '珠海市九洲中学的教育风格是什么？', 'topic_entity': '珠海市九洲中学'},\n",
       " {'id': 420, 'question': '请问有哪些平台支持微生活啊？', 'topic_entity': '微生活'},\n",
       " {'id': 421, 'question': '请问有哪些平台支持Gameplay啊？', 'topic_entity': 'gameplay'},\n",
       " {'id': 422,\n",
       "  'question': '《Windows Phone》在哪些平台可以适用？',\n",
       "  'topic_entity': 'windowsphone'},\n",
       " {'id': 423, 'question': '《汪星人》在哪些平台可以适用？', 'topic_entity': '汪星人'},\n",
       " {'id': 424,\n",
       "  'question': '你知道Free Pascal支持什么平台吗？',\n",
       "  'topic_entity': 'freepascal'},\n",
       " {'id': 425, 'question': '你知道空间爆炸支持什么平台吗？', 'topic_entity': '空间爆炸'},\n",
       " {'id': 426, 'question': '电信营业厅的支持平台是什么啊？', 'topic_entity': '电信营业厅'},\n",
       " {'id': 427, 'question': '恶魔追踪的支持平台是什么啊？', 'topic_entity': '恶魔追踪'},\n",
       " {'id': 428, 'question': '恋爱笔记支持哪些平台？', 'topic_entity': '恋爱笔记'},\n",
       " {'id': 429, 'question': '后宫·甄嬛传支持哪些平台？', 'topic_entity': '后宫·甄嬛传'},\n",
       " {'id': 430, 'question': '请问真永远的主要演员是谁？', 'topic_entity': '真永远'},\n",
       " {'id': 431, 'question': '请问云华剧团的主要演员是谁？', 'topic_entity': '云华剧团'},\n",
       " {'id': 432, 'question': '丹桂剧团是谁主演的？', 'topic_entity': '丹桂剧团'},\n",
       " {'id': 433, 'question': '十三角关系是谁主演的？', 'topic_entity': '十三角关系'},\n",
       " {'id': 434, 'question': '命运之力的主演是谁？', 'topic_entity': '命运之力'},\n",
       " {'id': 435, 'question': '一九九五台北绅士的主演是谁？', 'topic_entity': '一九九五台北绅士'},\n",
       " {'id': 436, 'question': '喜愿花都有什么演员啊？', 'topic_entity': '喜愿花'},\n",
       " {'id': 437, 'question': '我是小沈阳都有什么演员啊？', 'topic_entity': '我是小沈阳'},\n",
       " {'id': 438, 'question': '小偷公司里谁是主演？', 'topic_entity': '小偷公司'},\n",
       " {'id': 439, 'question': '恩仇记里谁是主演？', 'topic_entity': '恩仇记'},\n",
       " {'id': 440, 'question': '我想知道钓鱼台有哪些景观？', 'topic_entity': '钓鱼台'},\n",
       " {'id': 441, 'question': '我想知道横山村有哪些景观？', 'topic_entity': '横山村'},\n",
       " {'id': 442, 'question': '请问毓璜顶公园有哪些景观？', 'topic_entity': '毓璜顶公园'},\n",
       " {'id': 443, 'question': '请问四洞沟景区有哪些景观？', 'topic_entity': '四洞沟景区'},\n",
       " {'id': 444, 'question': '你知道樟山寺有哪些景观吗？', 'topic_entity': '樟山寺'},\n",
       " {'id': 445, 'question': '你知道摩洛哥艺术博物馆有哪些景观吗？', 'topic_entity': '摩洛哥艺术博物馆'},\n",
       " {'id': 446, 'question': '旧县的景观是什么？', 'topic_entity': '旧县'},\n",
       " {'id': 447, 'question': '越秀公园的景观是什么？', 'topic_entity': '越秀公园'},\n",
       " {'id': 448, 'question': '请问马鸣山镇安宫的景观是什么？', 'topic_entity': '马鸣山镇安宫'},\n",
       " {'id': 449, 'question': '请问紫阳洞的景观是什么？', 'topic_entity': '紫阳洞'},\n",
       " {'id': 450, 'question': '请问小屯村属于哪个行政区？', 'topic_entity': '小屯村'},\n",
       " {'id': 451, 'question': '请问阿勒锦洲属于哪个行政区？', 'topic_entity': '阿勒锦洲'},\n",
       " {'id': 452, 'question': '绰源林业局是哪个地方的？', 'topic_entity': '绰源林业局'},\n",
       " {'id': 453, 'question': '宝山区是哪个地方的？', 'topic_entity': '宝山区'},\n",
       " {'id': 454, 'question': '请问大洪县的行政区域划分为哪些？', 'topic_entity': '大洪县'},\n",
       " {'id': 455, 'question': '请问冯川镇的行政区域划分为哪些？', 'topic_entity': '冯川镇'},\n",
       " {'id': 456, 'question': '圣克鲁斯岛的行政区域划分是什么啊？', 'topic_entity': '圣克鲁斯岛'},\n",
       " {'id': 457, 'question': '埃门的行政区域划分是什么啊？', 'topic_entity': '埃门'},\n",
       " {'id': 458, 'question': '谁知道韩币是哪个机构发行的？', 'topic_entity': '韩币'},\n",
       " {'id': 459,\n",
       "  'question': '谁知道安全生产“十二五”规划是哪个机构发行的？',\n",
       "  'topic_entity': '安全生产“十二五”规划'},\n",
       " {'id': 460, 'question': '谁是英镑的发行机构？', 'topic_entity': '英镑'},\n",
       " {'id': 461, 'question': '谁是阿尔巴尼亚列克的发行机构？', 'topic_entity': '阿尔巴尼亚列克'},\n",
       " {'id': 462, 'question': '基础货币由哪个出版社发行？', 'topic_entity': '基础货币'},\n",
       " {'id': 463, 'question': '保加利亚列弗由哪个出版社发行？', 'topic_entity': '保加利亚列弗'},\n",
       " {'id': 464, 'question': '贰角的发行机构是哪？', 'topic_entity': '贰角'},\n",
       " {'id': 465, 'question': '美元的发行机构是哪？', 'topic_entity': '美元'},\n",
       " {'id': 466, 'question': '基本建设债券是哪个机构发行的？', 'topic_entity': '基本建设债券'},\n",
       " {'id': 467, 'question': '马耳他里拉是哪个机构发行的？', 'topic_entity': '马耳他里拉'},\n",
       " {'id': 468, 'question': '请问凤林镇的固定资产有多少？', 'topic_entity': '凤林镇'},\n",
       " {'id': 469, 'question': '请问徐步云的固定资产有多少？', 'topic_entity': '徐步云'},\n",
       " {'id': 470, 'question': '滦平职教中心有多少固定资产？', 'topic_entity': '滦平职教中心'},\n",
       " {'id': 471, 'question': '广州南方物流有限公司有多少固定资产？', 'topic_entity': '广州南方物流有限公司'},\n",
       " {'id': 472, 'question': '下城村的固定资产有多少？', 'topic_entity': '下城村'},\n",
       " {'id': 473, 'question': '昌邑市实验中学的固定资产有多少？', 'topic_entity': '昌邑市实验中学'},\n",
       " {'id': 474,\n",
       "  'question': '你知道中铁十一局集团第三工程有限公司有多少资产吗？',\n",
       "  'topic_entity': '中铁十一局集团第三工程有限公司'},\n",
       " {'id': 475, 'question': '你知道睢宁经济开发区有多少资产吗？', 'topic_entity': '睢宁经济开发区'},\n",
       " {'id': 476,\n",
       "  'question': '谁能告诉我一下石家庄广播电视台的固定资产是多少万吗？',\n",
       "  'topic_entity': '石家庄广播电视台'},\n",
       " {'id': 477,\n",
       "  'question': '谁能告诉我一下四海亿家太阳能的固定资产是多少万吗？',\n",
       "  'topic_entity': '四海亿家太阳能'},\n",
       " {'id': 478, 'question': '请问辋川图现在收藏在哪里？', 'topic_entity': '辋川图'},\n",
       " {'id': 479, 'question': '请问寿比南山现在收藏在哪里？', 'topic_entity': '寿比南山'},\n",
       " {'id': 480, 'question': '哪里收藏了开国大典？', 'topic_entity': '开国大典'},\n",
       " {'id': 481, 'question': '哪里收藏了鄂君启节？', 'topic_entity': '鄂君启节'},\n",
       " {'id': 482, 'question': '你知道玉如意收藏在哪里吗？', 'topic_entity': '玉如意'},\n",
       " {'id': 483, 'question': '你知道幼天王洪天贵福玉玺收藏在哪里吗？', 'topic_entity': '幼天王洪天贵福玉玺'},\n",
       " {'id': 484, 'question': '天杖被收藏在什么地方？', 'topic_entity': '天杖'},\n",
       " {'id': 485, 'question': '六年琱生簋被收藏在什么地方？', 'topic_entity': '六年琱生簋'},\n",
       " {'id': 486, 'question': '科希丘什科起义是由谁发起的？', 'topic_entity': '科希丘什科起义'},\n",
       " {'id': 487, 'question': '崔永元公益基金是由谁发起的？', 'topic_entity': '崔永元公益基金'},\n",
       " {'id': 488, 'question': '你知道较场口血案是谁发起的吗？', 'topic_entity': '较场口血案'},\n",
       " {'id': 489, 'question': '你知道新经济政策是谁发起的吗？', 'topic_entity': '新经济政策'},\n",
       " {'id': 490, 'question': '请问大气灰霾追因与控制的号召者是谁啊？', 'topic_entity': '大气灰霾追因与控制'},\n",
       " {'id': 491, 'question': '请问选美中国的号召者是谁啊？', 'topic_entity': '选美中国'},\n",
       " {'id': 492, 'question': '新加坡南侨中学的发起者是什么啊？', 'topic_entity': '新加坡南侨中学'},\n",
       " {'id': 493, 'question': '中国书法研究社的发起者是什么啊？', 'topic_entity': '中国书法研究社'},\n",
       " {'id': 494, 'question': '有人知道暖春的顾问是谁吗？', 'topic_entity': '暖春'},\n",
       " {'id': 495, 'question': '有人知道珍珠泪的顾问是谁吗？', 'topic_entity': '珍珠泪'},\n",
       " {'id': 496, 'question': '谁是大爱如天的顾问？', 'topic_entity': '大爱如天'},\n",
       " {'id': 497, 'question': '谁是甘肃硬笔书法家协会的顾问？', 'topic_entity': '甘肃硬笔书法家协会'},\n",
       " {'id': 498, 'question': '少年侦探团聘请谁为顾问？', 'topic_entity': '少年侦探团'},\n",
       " {'id': 499, 'question': '中国哮喘联盟聘请谁为顾问？', 'topic_entity': '中国哮喘联盟'},\n",
       " {'id': 500, 'question': '你知道乱世玉缘的顾问有谁吗？', 'topic_entity': '乱世玉缘'},\n",
       " {'id': 501, 'question': '你知道海尔兄弟宇宙大冒险的顾问有谁吗？', 'topic_entity': '海尔兄弟宇宙大冒险'},\n",
       " {'id': 502, 'question': '你知道半干旱地区分布在哪里吗？', 'topic_entity': '半干旱地区'},\n",
       " {'id': 503, 'question': '你知道种姓制度分布在哪里吗？', 'topic_entity': '种姓制度'},\n",
       " {'id': 504, 'question': '请问海浮石分布在哪里？', 'topic_entity': '海浮石'},\n",
       " {'id': 505, 'question': '请问恐龙化石遗址分布在哪里？', 'topic_entity': '恐龙化石遗址'},\n",
       " {'id': 506, 'question': '你知道地下害虫的分布范围吗？', 'topic_entity': '地下害虫'},\n",
       " {'id': 507, 'question': '你知道柊的分布范围吗？', 'topic_entity': '柊'},\n",
       " {'id': 508, 'question': '孔子庙的分布范围是哪里？', 'topic_entity': '孔子庙'},\n",
       " {'id': 509, 'question': '阿拉斯加洋流的分布范围是哪里？', 'topic_entity': '阿拉斯加洋流'},\n",
       " {'id': 510, 'question': '诺克文化的分布范围是多少？', 'topic_entity': '诺克文化'},\n",
       " {'id': 511, 'question': '有爪动物门的分布范围是多少？', 'topic_entity': '有爪动物门'},\n",
       " {'id': 512,\n",
       "  'question': '我想知道beta-苯基丙烯腈的危险品运输编号是多少？',\n",
       "  'topic_entity': 'beta-苯基丙烯腈'},\n",
       " {'id': 513, 'question': '我想知道碘化铊的危险品运输编号是多少？', 'topic_entity': '碘化铊'},\n",
       " {'id': 514, 'question': '桂皮油的危险品运输编号是多少？', 'topic_entity': '桂皮油'},\n",
       " {'id': 515, 'question': '乙二醇乙醚醋酸酯的危险品运输编号是多少？', 'topic_entity': '乙二醇乙醚醋酸酯'},\n",
       " {'id': 516, 'question': '你知道二氯化硫的编号吗？', 'topic_entity': '二氯化硫'},\n",
       " {'id': 517, 'question': '你知道对甲苯胺的编号吗？', 'topic_entity': '对甲苯胺'},\n",
       " {'id': 518, 'question': '能说出丙基苯的危险品运输编号是什么吗？', 'topic_entity': '丙基苯'},\n",
       " {'id': 519, 'question': '能说出残杀威的危险品运输编号是什么吗？', 'topic_entity': '残杀威'},\n",
       " {'id': 520, 'question': '湖北省人民政府的省长是谁？', 'topic_entity': '湖北省人民政府'},\n",
       " {'id': 521, 'question': '安徽的省长是谁？', 'topic_entity': '安徽'},\n",
       " {'id': 522, 'question': '谁是四川的省长？', 'topic_entity': '四川'},\n",
       " {'id': 523, 'question': '谁是山西省人民政府的省长？', 'topic_entity': '山西省人民政府'},\n",
       " {'id': 524, 'question': '海南省长我是谁啊？', 'topic_entity': '海南省'},\n",
       " {'id': 525, 'question': '河北省人民政府省长我是谁啊？', 'topic_entity': '河北省人民政府'},\n",
       " {'id': 526, 'question': '谁可以说出雷伊泰省省长的名字？', 'topic_entity': '雷伊泰省省长'},\n",
       " {'id': 527, 'question': '谁可以说出吉林省长的名字？', 'topic_entity': '吉林省长'},\n",
       " {'id': 528,\n",
       "  'question': '你知道江苏天地实业投资集团有限公司在哪里吗？',\n",
       "  'topic_entity': '江苏天地实业投资集团有限公司'},\n",
       " {'id': 529, 'question': '你知道丁奇在哪里吗？', 'topic_entity': '丁奇'},\n",
       " {'id': 530, 'question': '静脉瓣在哪里？', 'topic_entity': '静脉瓣'},\n",
       " {'id': 531, 'question': '黑鸦堡垒在哪里？', 'topic_entity': '黑鸦堡垒'},\n",
       " {'id': 532, 'question': '石壕古道遗迹的位置在哪儿？', 'topic_entity': '石壕古道遗迹'},\n",
       " {'id': 533, 'question': '御制十全记碑的位置在哪儿？', 'topic_entity': '御制十全记碑'},\n",
       " {'id': 534, 'question': '斯坦福桥球场的所在位置是哪？', 'topic_entity': '斯坦福桥球场'},\n",
       " {'id': 535, 'question': '广信的所在位置是哪？', 'topic_entity': '广信'},\n",
       " {'id': 536, 'question': '你知道万神殿位于哪里吗？', 'topic_entity': '万神殿'},\n",
       " {'id': 537, 'question': '你知道罗马奥林匹克体育场位于哪里吗？', 'topic_entity': '罗马奥林匹克体育场'},\n",
       " {'id': 538,\n",
       "  'question': '你知道帕姆瓦瑞·尤德卡默尔都是喜欢什么颜色吗？',\n",
       "  'topic_entity': '帕姆瓦瑞·尤德卡默尔'},\n",
       " {'id': 539, 'question': '你知道栉名安娜都是喜欢什么颜色吗？', 'topic_entity': '栉名安娜'},\n",
       " {'id': 540, 'question': '什么颜色朴海镇最喜欢？', 'topic_entity': '朴海镇'},\n",
       " {'id': 541, 'question': '什么颜色黄子文最喜欢？', 'topic_entity': '黄子文'},\n",
       " {'id': 542, 'question': '你知道陈廷嘉最喜欢的颜色是什么吗？', 'topic_entity': '陈廷嘉'},\n",
       " {'id': 543, 'question': '你知道郑钤丹最喜欢的颜色是什么吗？', 'topic_entity': '郑钤丹'},\n",
       " {'id': 544, 'question': '你知道春丽最喜欢什么颜色吗？', 'topic_entity': '春丽'},\n",
       " {'id': 545, 'question': '你知道陈毓芸最喜欢什么颜色吗？', 'topic_entity': '陈毓芸'},\n",
       " {'id': 546, 'question': '朴善英最喜欢什么色？', 'topic_entity': '朴善英'},\n",
       " {'id': 547, 'question': '梁旭最喜欢什么色？', 'topic_entity': '梁旭'},\n",
       " {'id': 548, 'question': '请问是谁拥有康元啊？', 'topic_entity': '康元'},\n",
       " {'id': 549, 'question': '请问是谁拥有兽妖焚啊？', 'topic_entity': '兽妖焚'},\n",
       " {'id': 550, 'question': '谁是乾坤锁拥有者？', 'topic_entity': '乾坤锁'},\n",
       " {'id': 551, 'question': '谁是华尔街日报拥有者？', 'topic_entity': '华尔街日报'},\n",
       " {'id': 552, 'question': '村雨归谁所有？', 'topic_entity': '村雨'},\n",
       " {'id': 553, 'question': '斩魄刀归谁所有？', 'topic_entity': '斩魄刀'},\n",
       " {'id': 554, 'question': '死国年纪是谁投资建设的啊？', 'topic_entity': '死国年纪'},\n",
       " {'id': 555, 'question': '伯伦希尔是谁投资建设的啊？', 'topic_entity': '伯伦希尔'},\n",
       " {'id': 556, 'question': '你能说出爪黄飞电的所有者是谁吗？', 'topic_entity': '爪黄飞电'},\n",
       " {'id': 557, 'question': '你能说出尊经阁文库的所有者是谁吗？', 'topic_entity': '尊经阁文库'},\n",
       " {'id': 558, 'question': '营运效率的指标是多少？', 'topic_entity': '营运效率'},\n",
       " {'id': 559, 'question': '综合污染指数法的指标是多少？', 'topic_entity': '综合污染指数法'},\n",
       " {'id': 560, 'question': '裂断长的指标都有哪些？', 'topic_entity': '裂断长'},\n",
       " {'id': 561, 'question': '签单保费的指标都有哪些？', 'topic_entity': '签单保费'},\n",
       " {'id': 562, 'question': '广告对象的指标是什么？', 'topic_entity': '广告对象'},\n",
       " {'id': 563, 'question': '水泥标准稠度的指标是什么？', 'topic_entity': '水泥标准稠度'},\n",
       " {'id': 564, 'question': '请问脑血流量是否被纳入了医保体系?', 'topic_entity': '脑血流量'},\n",
       " {'id': 565, 'question': '请问外格是否被纳入了医保体系?', 'topic_entity': '外格'},\n",
       " {'id': 566, 'question': '老年呼吸衰竭是否进入医保？', 'topic_entity': '老年呼吸衰竭'},\n",
       " {'id': 567, 'question': '性亢奋是否进入医保？', 'topic_entity': '性亢奋'},\n",
       " {'id': 568, 'question': '谁知道阴血不足证是否进入医保了？', 'topic_entity': '阴血不足证'},\n",
       " {'id': 569, 'question': '谁知道时差综合症是否进入医保了？', 'topic_entity': '时差综合症'},\n",
       " {'id': 570, 'question': '我想知道梗死是否进入医保项目啊？', 'topic_entity': '梗死'},\n",
       " {'id': 571, 'question': '我想知道口腔扁平苔藓是否进入医保项目啊？', 'topic_entity': '口腔扁平苔藓'},\n",
       " {'id': 572, 'question': '我想知道内罗毕在国际上是属于哪个组织的呀？', 'topic_entity': '内罗毕'},\n",
       " {'id': 573, 'question': '我想知道世界遗产地在国际上是属于哪个组织的呀？', 'topic_entity': '世界遗产地'},\n",
       " {'id': 574, 'question': '巴勒斯坦民族解放运动属于什么国际组织？', 'topic_entity': '巴勒斯坦民族解放运动'},\n",
       " {'id': 575, 'question': '亚的斯亚贝巴属于什么国际组织？', 'topic_entity': '亚的斯亚贝巴'},\n",
       " {'id': 576, 'question': '法国社会党有具体的国际组织吗？', 'topic_entity': '法国社会党'},\n",
       " {'id': 577, 'question': '印度国民大会党有具体的国际组织吗？', 'topic_entity': '印度国民大会党'},\n",
       " {'id': 578, 'question': '请问呗是什么结构的字？', 'topic_entity': '呗'},\n",
       " {'id': 579, 'question': '请问鸪是什么结构的字？', 'topic_entity': '鸪'},\n",
       " {'id': 580, 'question': '畏的汉字结构是什么？', 'topic_entity': '畏'},\n",
       " {'id': 581, 'question': '罅的汉字结构是什么？', 'topic_entity': '罅'},\n",
       " {'id': 582, 'question': '擤是什么样子的汉子结构啊？', 'topic_entity': '擤'},\n",
       " {'id': 583, 'question': '砑是什么样子的汉子结构啊？', 'topic_entity': '砑'},\n",
       " {'id': 584, 'question': '螅是什么汉字结构？', 'topic_entity': '螅'},\n",
       " {'id': 585, 'question': '数是什么汉字结构？', 'topic_entity': '数'},\n",
       " {'id': 586, 'question': '请问天津财经大学艺术学院的老师有多少?', 'topic_entity': '天津财经大学艺术学院'},\n",
       " {'id': 587,\n",
       "  'question': '请问华东理工大学工业催化研究所的老师有多少?',\n",
       "  'topic_entity': '华东理工大学工业催化研究所'},\n",
       " {'id': 588, 'question': '咲森学园有多少名教师？', 'topic_entity': '咲森学园'},\n",
       " {'id': 589, 'question': '白河县高级中学有多少名教师？', 'topic_entity': '白河县高级中学'},\n",
       " {'id': 590, 'question': '你知道排山镇中学一共有多少教师吗？', 'topic_entity': '排山镇中学'},\n",
       " {'id': 591, 'question': '你知道伯明翰音乐学院一共有多少教师吗？', 'topic_entity': '伯明翰音乐学院'},\n",
       " {'id': 592, 'question': '廉州中学的老师是什么编号？', 'topic_entity': '廉州中学'},\n",
       " {'id': 593, 'question': '淄博市第十一中学的老师是什么编号？', 'topic_entity': '淄博市第十一中学'},\n",
       " {'id': 594, 'question': '请问南城子水库是什么时候修建完成的啊？', 'topic_entity': '南城子水库'},\n",
       " {'id': 595, 'question': '请问圣维塔莱教堂是什么时候修建完成的啊？', 'topic_entity': '圣维塔莱教堂'},\n",
       " {'id': 596, 'question': '徐州悠沃时尚街区什么时候修建完成的？', 'topic_entity': '徐州悠沃时尚街区'},\n",
       " {'id': 597, 'question': '东京新国立竞技场什么时候修建完成的？', 'topic_entity': '东京新国立竞技场'},\n",
       " {'id': 598, 'question': '你记得风筝广场是什么时候竣工的吗？', 'topic_entity': '风筝广场'},\n",
       " {'id': 599, 'question': '你记得百花洲影剧院是什么时候竣工的吗？', 'topic_entity': '百花洲影剧院'},\n",
       " {'id': 600, 'question': '我想知道名仕御园什么时候完工啊？', 'topic_entity': '名仕御园'},\n",
       " {'id': 601, 'question': '我想知道承唐高速公路什么时候完工啊？', 'topic_entity': '承唐高速公路'},\n",
       " {'id': 602, 'question': '大家知道北京亚洲金融大厦的竣工日期吗？', 'topic_entity': '北京亚洲金融大厦'},\n",
       " {'id': 603, 'question': '大家知道梅林一村的竣工日期吗？', 'topic_entity': '梅林一村'},\n",
       " {'id': 604, 'question': '谁知道宝石方块是什么类型的？', 'topic_entity': '宝石方块'},\n",
       " {'id': 605, 'question': '谁知道Ulysses是什么类型的？', 'topic_entity': 'ulysses'},\n",
       " {'id': 606, 'question': '捉迷藏属于什么类型？', 'topic_entity': '捉迷藏'},\n",
       " {'id': 607, 'question': '即时新闻属于什么类型？', 'topic_entity': '即时新闻'},\n",
       " {'id': 608, 'question': '请问360手机桌面是什么类型的应用？', 'topic_entity': '360手机桌面'},\n",
       " {'id': 609, 'question': '请问时间安排是什么类型的应用？', 'topic_entity': '时间安排'},\n",
       " {'id': 610, 'question': '阳光灿烂的夏天的应用类型是什么啊？', 'topic_entity': '阳光灿烂的夏天'},\n",
       " {'id': 611, 'question': '休息区的应用类型是什么啊？', 'topic_entity': '休息区'},\n",
       " {'id': 612, 'question': '应用程序管理器应用于何地？', 'topic_entity': '应用程序管理器'},\n",
       " {'id': 613, 'question': '今日运势应用于何地？', 'topic_entity': '今日运势'},\n",
       " {'id': 614,\n",
       "  'question': '请问上海市第一师范附属小学有多少教职员工？',\n",
       "  'topic_entity': '上海市第一师范附属小学'},\n",
       " {'id': 615,\n",
       "  'question': '请问西北政法大学外国语学院有多少教职员工？',\n",
       "  'topic_entity': '西北政法大学外国语学院'},\n",
       " {'id': 616, 'question': '天津市机电工艺学院有多少名教职员工？', 'topic_entity': '天津市机电工艺学院'},\n",
       " {'id': 617, 'question': '仪陇三中有多少名教职员工？', 'topic_entity': '仪陇三中'},\n",
       " {'id': 618,\n",
       "  'question': '四川师范大学绵阳初等教育学院有多少教职员工？',\n",
       "  'topic_entity': '四川师范大学绵阳初等教育学院'},\n",
       " {'id': 619, 'question': '布莱顿大学有多少教职员工？', 'topic_entity': '布莱顿大学'},\n",
       " {'id': 620,\n",
       "  'question': '我想知道江苏省如东高级中学的教职工一共有多少名？',\n",
       "  'topic_entity': '江苏省如东高级中学'},\n",
       " {'id': 621, 'question': '我想知道费瑞斯州立大学的教职工一共有多少名？', 'topic_entity': '费瑞斯州立大学'},\n",
       " {'id': 622, 'question': '请问氢脆的拉丁语名是什么？', 'topic_entity': '氢脆'},\n",
       " {'id': 623, 'question': '请问黄金梨的拉丁语名是什么？', 'topic_entity': '黄金梨'},\n",
       " {'id': 624, 'question': '苏州织造署用拉丁文怎么说？', 'topic_entity': '苏州织造署'},\n",
       " {'id': 625, 'question': '直击雷用拉丁文怎么说？', 'topic_entity': '直击雷'},\n",
       " {'id': 626,\n",
       "  'question': '国际生物学奥林匹克竞赛的拉丁文名是什么？',\n",
       "  'topic_entity': '国际生物学奥林匹克竞赛'},\n",
       " {'id': 627, 'question': '居维叶象的拉丁文名是什么？', 'topic_entity': '居维叶象'},\n",
       " {'id': 628, 'question': '有人知道在拉丁文里面湾沟煤矿的名字是什么吗？', 'topic_entity': '湾沟煤矿'},\n",
       " {'id': 629, 'question': '有人知道在拉丁文里面上鼻鳞的名字是什么吗？', 'topic_entity': '上鼻鳞'},\n",
       " {'id': 630, 'question': '请说出飘窗的拉丁文名是什么？', 'topic_entity': '飘窗'},\n",
       " {'id': 631, 'question': '请说出孔水洞的拉丁文名是什么？', 'topic_entity': '孔水洞'},\n",
       " {'id': 632, 'question': '谁知道吴泾镇主要以什么产业为主吗？', 'topic_entity': '吴泾镇'},\n",
       " {'id': 633, 'question': '谁知道渔业村主要以什么产业为主吗？', 'topic_entity': '渔业村'},\n",
       " {'id': 634, 'question': '广德经济开发区主导什么产业？', 'topic_entity': '广德经济开发区'},\n",
       " {'id': 635, 'question': '沙窝村主导什么产业？', 'topic_entity': '沙窝村'},\n",
       " {'id': 636, 'question': '请问洋浦经济开发区的主要产业是什么？', 'topic_entity': '洋浦经济开发区'},\n",
       " {'id': 637, 'question': '请问辛村的主要产业是什么？', 'topic_entity': '辛村'},\n",
       " {'id': 638, 'question': '苏州工业园区主导产业是什么？', 'topic_entity': '苏州工业园区'},\n",
       " {'id': 639, 'question': '马龙村主导产业是什么？', 'topic_entity': '马龙村'},\n",
       " {'id': 640, 'question': '耿庄村有哪些主导产业？', 'topic_entity': '耿庄村'},\n",
       " {'id': 641, 'question': '新村有哪些主导产业？', 'topic_entity': '新村'},\n",
       " {'id': 642, 'question': '谁知道我不是英雄是属于哪类的电影呢？', 'topic_entity': '我不是英雄'},\n",
       " {'id': 643, 'question': '谁知道僵尸日记2是属于哪类的电影呢？', 'topic_entity': '僵尸日记2'},\n",
       " {'id': 644, 'question': '龙珠巴达克之章属于什么类型？', 'topic_entity': '龙珠巴达克之章'},\n",
       " {'id': 645, 'question': '宾果属于什么类型？', 'topic_entity': '宾果'},\n",
       " {'id': 646, 'question': '请问恶女帮是什么样的影片？', 'topic_entity': '恶女帮'},\n",
       " {'id': 647, 'question': '请问观海策是什么样的影片？', 'topic_entity': '观海策'},\n",
       " {'id': 648, 'question': '酒庄是什么类型的电视剧啊？', 'topic_entity': '酒庄'},\n",
       " {'id': 649,\n",
       "  'question': '绝种贱男之爱在三级的日子是什么类型的电视剧啊？',\n",
       "  'topic_entity': '绝种贱男之爱在三级的日子'},\n",
       " {'id': 650, 'question': '当我们同在一起是什么样的影片？', 'topic_entity': '当我们同在一起'},\n",
       " {'id': 651, 'question': '托生系列：美貌的细节是什么样的影片？', 'topic_entity': '托生系列：美貌的细节'},\n",
       " {'id': 652,\n",
       "  'question': '请问中国音乐金钟奖流行音乐大赛是由哪个机构批准通过的？',\n",
       "  'topic_entity': '中国音乐金钟奖流行音乐大赛'},\n",
       " {'id': 653,\n",
       "  'question': '请问中国福特宝足球产业发展公司是由哪个机构批准通过的？',\n",
       "  'topic_entity': '中国福特宝足球产业发展公司'},\n",
       " {'id': 654, 'question': '什么是火炬计划的批准机构？', 'topic_entity': '火炬计划'},\n",
       " {'id': 655, 'question': '什么是河北省现代美术研究会的批准机构？', 'topic_entity': '河北省现代美术研究会'},\n",
       " {'id': 656,\n",
       "  'question': '请问是哪个机构批准成立了北京走向世界留学咨询中心啊？',\n",
       "  'topic_entity': '北京走向世界留学咨询中心'},\n",
       " {'id': 657, 'question': '请问是哪个机构批准成立了国家经济信息系统啊？', 'topic_entity': '国家经济信息系统'},\n",
       " {'id': 658, 'question': '票据管理实施办法是哪个机构批注的？', 'topic_entity': '票据管理实施办法'},\n",
       " {'id': 659, 'question': '国家社会科学基金是哪个机构批注的？', 'topic_entity': '国家社会科学基金'},\n",
       " {'id': 660,\n",
       "  'question': '制止牟取暴利的暂行规定经由哪个机构批准？',\n",
       "  'topic_entity': '制止牟取暴利的暂行规定'},\n",
       " {'id': 661,\n",
       "  'question': '河南省本源人文公益基金会经由哪个机构批准？',\n",
       "  'topic_entity': '河南省本源人文公益基金会'},\n",
       " {'id': 662, 'question': '请问奇奇喜欢什么运动？', 'topic_entity': '奇奇'},\n",
       " {'id': 663, 'question': '请问张铎喜欢什么运动？', 'topic_entity': '张铎'},\n",
       " {'id': 664, 'question': '陈慧琳喜欢什么运动？', 'topic_entity': '陈慧琳'},\n",
       " {'id': 665, 'question': '赵春雷喜欢什么运动？', 'topic_entity': '赵春雷'},\n",
       " {'id': 666, 'question': '你知道路斯明喜欢什么运动吗？', 'topic_entity': '路斯明'},\n",
       " {'id': 667, 'question': '你知道沈可可喜欢什么运动吗？', 'topic_entity': '沈可可'},\n",
       " {'id': 668, 'question': 'MARIUS叶喜欢的运动有哪些？', 'topic_entity': 'marius叶'},\n",
       " {'id': 669, 'question': '王艺坛喜欢的运动有哪些？', 'topic_entity': '王艺坛'},\n",
       " {'id': 670, 'question': '谁知道险象有哪些资料？', 'topic_entity': '险象'},\n",
       " {'id': 671, 'question': '谁知道邑闾有哪些资料？', 'topic_entity': '邑闾'},\n",
       " {'id': 672, 'question': '与馆主有关的资料是什么？', 'topic_entity': '馆主'},\n",
       " {'id': 673, 'question': '与米尔斯十字有关的资料是什么？', 'topic_entity': '米尔斯十字'},\n",
       " {'id': 674, 'question': '你知道仍岁的相关资料吗？', 'topic_entity': '仍岁'},\n",
       " {'id': 675, 'question': '你知道枉桡的相关资料吗？', 'topic_entity': '枉桡'},\n",
       " {'id': 676, 'question': '你知道毕剥相关资料是什么吗？', 'topic_entity': '毕剥'},\n",
       " {'id': 677, 'question': '你知道赤刀相关资料是什么吗？', 'topic_entity': '赤刀'},\n",
       " {'id': 678, 'question': '养地出自哪个资料？', 'topic_entity': '养地'},\n",
       " {'id': 679, 'question': '法界缘起出自哪个资料？', 'topic_entity': '法界缘起'},\n",
       " {'id': 680, 'question': '生姜和肉桂在哪里上映', 'topic_entity': '生姜和肉桂'},\n",
       " {'id': 681, 'question': '死的怀念在哪里上映', 'topic_entity': '死的怀念'},\n",
       " {'id': 682, 'question': '你知道惊魂恋是在哪里上映的吗？', 'topic_entity': '惊魂恋'},\n",
       " {'id': 683, 'question': '你知道学校霸王是在哪里上映的吗？', 'topic_entity': '学校霸王'},\n",
       " {'id': 684, 'question': '你知道失落的房间在哪个地区上映吗？', 'topic_entity': '失落的房间'},\n",
       " {'id': 685, 'question': '你知道叛国大阴谋在哪个地区上映吗？', 'topic_entity': '叛国大阴谋'},\n",
       " {'id': 686, 'question': '你知道精子快递都会在什么地方上映吗？', 'topic_entity': '精子快递'},\n",
       " {'id': 687,\n",
       "  'question': '你知道YOU回声音乐同好会都会在什么地方上映吗？',\n",
       "  'topic_entity': 'you回声音乐同好会'},\n",
       " {'id': 688, 'question': '吉祥寺的朝日奈君最早在哪个地方上映？', 'topic_entity': '吉祥寺的朝日奈君'},\n",
       " {'id': 689, 'question': '花样年华最早在哪个地方上映？', 'topic_entity': '花样年华'},\n",
       " {'id': 690, 'question': '空军一号是什么时候开始产生的？', 'topic_entity': '空军一号'},\n",
       " {'id': 691, 'question': '神农庙是什么时候开始产生的？', 'topic_entity': '神农庙'},\n",
       " {'id': 692, 'question': '亚历山大·王是什么时候创建的？', 'topic_entity': '亚历山大·王'},\n",
       " {'id': 693, 'question': '潭柘寺是什么时候创建的？', 'topic_entity': '潭柘寺'},\n",
       " {'id': 694, 'question': '你知道光化寺是什么时候建立的吗？', 'topic_entity': '光化寺'},\n",
       " {'id': 695,\n",
       "  'question': '你知道崩坏世界的传奇大冒险是什么时候建立的吗？',\n",
       "  'topic_entity': '崩坏世界的传奇大冒险'},\n",
       " {'id': 696, 'question': 'BALMAIN什么时候建好的啊？', 'topic_entity': 'balmain'},\n",
       " {'id': 697, 'question': '荣华寺什么时候建好的啊？', 'topic_entity': '荣华寺'},\n",
       " {'id': 698, 'question': '有谁知道狮子岭创建于哪一年代吗？', 'topic_entity': '狮子岭'},\n",
       " {'id': 699, 'question': '有谁知道竞偶场创建于哪一年代吗？', 'topic_entity': '竞偶场'},\n",
       " {'id': 700,\n",
       "  'question': '我很好奇磁珠法提取DNA试剂盒有哪些贡献？',\n",
       "  'topic_entity': '磁珠法提取dna试剂盒'},\n",
       " {'id': 701, 'question': '我很好奇公安派有哪些贡献？', 'topic_entity': '公安派'},\n",
       " {'id': 702, 'question': '潢川皮影戏有什么贡献？', 'topic_entity': '潢川皮影戏'},\n",
       " {'id': 703, 'question': '西门巴约纳有什么贡献？', 'topic_entity': '西门巴约纳'},\n",
       " {'id': 704, 'question': '基督教教育的贡献主要有哪些？', 'topic_entity': '基督教教育'},\n",
       " {'id': 705, 'question': '李松志的贡献主要有哪些？', 'topic_entity': '李松志'},\n",
       " {'id': 706, 'question': '秦开的贡献是什么？', 'topic_entity': '秦开'},\n",
       " {'id': 707, 'question': '农民阶级的贡献是什么？', 'topic_entity': '农民阶级'},\n",
       " {'id': 708, 'question': '请问DiiVA做出了哪些贡献？', 'topic_entity': 'diiva'},\n",
       " {'id': 709, 'question': '请问奥尔多·利奥波德做出了哪些贡献？', 'topic_entity': '奥尔多·利奥波德'},\n",
       " {'id': 710, 'question': '请问米诺斯是什么资质？', 'topic_entity': '米诺斯'},\n",
       " {'id': 711, 'question': '请问市是什么资质？', 'topic_entity': '市'},\n",
       " {'id': 712, 'question': '姜维有什么资质？', 'topic_entity': '姜维'},\n",
       " {'id': 713, 'question': '冰河有什么资质？', 'topic_entity': '冰河'},\n",
       " {'id': 714, 'question': '西南航空公司属于什么资质？', 'topic_entity': '西南航空公司'},\n",
       " {'id': 715, 'question': '恒大工程监理公司属于什么资质？', 'topic_entity': '恒大工程监理公司'},\n",
       " {'id': 716,\n",
       "  'question': '中建八局第二建设有限公司他的资质是多少？',\n",
       "  'topic_entity': '中建八局第二建设有限公司'},\n",
       " {'id': 717, 'question': '张郃他的资质是多少？', 'topic_entity': '张郃'},\n",
       " {'id': 718, 'question': '请问曹仁有哪些资质？', 'topic_entity': '曹仁'},\n",
       " {'id': 719, 'question': '请问司马懿有哪些资质？', 'topic_entity': '司马懿'},\n",
       " {'id': 720, 'question': '哪里是暴龙眼镜的公司总部？', 'topic_entity': '暴龙眼镜'},\n",
       " {'id': 721, 'question': '哪里是黄宏生的公司总部？', 'topic_entity': '黄宏生'},\n",
       " {'id': 722, 'question': 'AERA的公司总部在哪里？', 'topic_entity': 'aera'},\n",
       " {'id': 723, 'question': '太脱拉的公司总部在哪里？', 'topic_entity': '太脱拉'},\n",
       " {'id': 724, 'question': '请问九牧王的总部在哪里？', 'topic_entity': '九牧王'},\n",
       " {'id': 725, 'question': '请问加拿大太平洋铁路的总部在哪里？', 'topic_entity': '加拿大太平洋铁路'},\n",
       " {'id': 726, 'question': '你知道泰禾集团的公司总部在什么地方吗？', 'topic_entity': '泰禾集团'},\n",
       " {'id': 727, 'question': '你知道日立电梯的公司总部在什么地方吗？', 'topic_entity': '日立电梯'},\n",
       " {'id': 728, 'question': '同珍酱油的公司总部在哪里有人知道吗？', 'topic_entity': '同珍酱油'},\n",
       " {'id': 729,\n",
       "  'question': 'Temperley London的公司总部在哪里有人知道吗？',\n",
       "  'topic_entity': 'temperleylondon'},\n",
       " {'id': 730, 'question': '音悦大来宾的时长是多少？', 'topic_entity': '音悦大来宾'},\n",
       " {'id': 731, 'question': '做客大使馆的时长是多少？', 'topic_entity': '大使馆'},\n",
       " {'id': 732, 'question': '欢乐笑哈哈有多长？', 'topic_entity': '欢乐笑哈哈'},\n",
       " {'id': 733, 'question': '漫话天下有多长？', 'topic_entity': '漫话天下'},\n",
       " {'id': 734, 'question': '好好生活这个节目有多长？', 'topic_entity': '好好生活'},\n",
       " {'id': 735, 'question': '中国范儿这个节目有多长？', 'topic_entity': '中国范儿'},\n",
       " {'id': 736, 'question': '警法目录这个节目一般多长时间？', 'topic_entity': '警法目录'},\n",
       " {'id': 737, 'question': '美丽课堂这个节目一般多长时间？', 'topic_entity': '美丽课堂'},\n",
       " {'id': 738, 'question': '怀旧风潮这个节目有多长时间？', 'topic_entity': '怀旧风潮'},\n",
       " {'id': 739, 'question': '爱电影这个节目有多长时间？', 'topic_entity': '爱电影'},\n",
       " {'id': 740, 'question': '请问浦江站都会有哪些路线经过？', 'topic_entity': '浦江站'},\n",
       " {'id': 741, 'question': '请问西漳站都会有哪些路线经过？', 'topic_entity': '西漳站'},\n",
       " {'id': 742, 'question': '开发大道站途经哪些地区？', 'topic_entity': '开发大道站'},\n",
       " {'id': 743, 'question': '天津站站途经哪些地区？', 'topic_entity': '天津站站'},\n",
       " {'id': 744, 'question': '有谁知道四号街站途经哪些路线吗？', 'topic_entity': '四号街站'},\n",
       " {'id': 745, 'question': '有谁知道太原街站途经哪些路线吗？', 'topic_entity': '太原街站'},\n",
       " {'id': 746, 'question': '文化中心站的途经路线是什么?', 'topic_entity': '文化中心站'},\n",
       " {'id': 747, 'question': '锡北运河站的途经路线是什么?', 'topic_entity': '锡北运河站'},\n",
       " {'id': 748, 'question': '七号街站需要途径什么路线？', 'topic_entity': '七号街站'},\n",
       " {'id': 749, 'question': '石碁站需要途径什么路线？', 'topic_entity': '石碁站'},\n",
       " {'id': 750, 'question': '请问宇宙寻宝记的商品大小为？', 'topic_entity': '宇宙寻宝记'},\n",
       " {'id': 751,\n",
       "  'question': '请问北京地区上市公司财务质量分析的商品大小为？',\n",
       "  'topic_entity': '北京地区上市公司财务质量分析'},\n",
       " {'id': 752, 'question': '《文科大学化学》中的尺寸是多大？', 'topic_entity': '文科大学化学'},\n",
       " {'id': 753, 'question': '《刺客行》中的尺寸是多大？', 'topic_entity': '刺客行'},\n",
       " {'id': 754,\n",
       "  'question': '离散数学学习指导与习题解析尺寸多大？',\n",
       "  'topic_entity': '离散数学学习指导与习题解析'},\n",
       " {'id': 755, 'question': '中国化石蕨类植物尺寸多大？', 'topic_entity': '中国化石蕨类植物'},\n",
       " {'id': 756, 'question': '下乡养儿这个商品的大小你知道吗？', 'topic_entity': '下乡养儿'},\n",
       " {'id': 757, 'question': '昔日的味道这个商品的大小你知道吗？', 'topic_entity': '昔日的味道'},\n",
       " {'id': 758, 'question': '产品研发管理的尺寸是多少？', 'topic_entity': '产品研发管理'},\n",
       " {'id': 759, 'question': '书本里的蚂蚁的尺寸是多少？', 'topic_entity': '书里的蚂蚁'},\n",
       " {'id': 760, 'question': '什么是人际交往的一般规律的基本原则？', 'topic_entity': '人际交往的一般规律'},\n",
       " {'id': 761, 'question': '什么是网络道德的基本原则？', 'topic_entity': '网络道德'},\n",
       " {'id': 762, 'question': '费率的原则是？', 'topic_entity': '费率'},\n",
       " {'id': 763, 'question': '仓储中心的原则是？', 'topic_entity': '仓储中心'},\n",
       " {'id': 764, 'question': '你知道书画收藏的基本原则是什么吗？', 'topic_entity': '书画收藏'},\n",
       " {'id': 765, 'question': '你知道资产阶级道德的基本原则是什么吗？', 'topic_entity': '资产阶级道德'},\n",
       " {'id': 766, 'question': '请问期货交易系统的基本原则是什么？', 'topic_entity': '期货交易系统'},\n",
       " {'id': 767, 'question': '请问拍卖程序的基本原则是什么？', 'topic_entity': '拍卖程序'},\n",
       " {'id': 768, 'question': '你知道马嚼子是什么上的术语吗？', 'topic_entity': '马嚼子'},\n",
       " {'id': 769, 'question': '你知道外挂是什么上的术语吗？', 'topic_entity': '外挂'},\n",
       " {'id': 770, 'question': '电子标签是哪个学科的专业术语？', 'topic_entity': '电子标签'},\n",
       " {'id': 771, 'question': '稳定物价是哪个学科的专业术语？', 'topic_entity': '稳定物价'},\n",
       " {'id': 772, 'question': '中共中央文献研究室直属哪个部门？', 'topic_entity': '中共中央文献研究室'},\n",
       " {'id': 773, 'question': '郑州市金水区环境保护局直属哪个部门？', 'topic_entity': '郑州市金水区环境保护局'},\n",
       " {'id': 774, 'question': '请问广州市教育科学研究所直属于哪里？', 'topic_entity': '广州市教育科学研究所'},\n",
       " {'id': 775, 'question': '请问广东省地方税务局直属于哪里？', 'topic_entity': '广东省地方税务局'},\n",
       " {'id': 776,\n",
       "  'question': '国家体育总局社会体育指导中心直属于哪里？',\n",
       "  'topic_entity': '国家体育总局社会体育指导中心'},\n",
       " {'id': 777, 'question': '俄罗斯总参谋部军事学院直属于哪里？', 'topic_entity': '俄罗斯总参谋部军事学院'},\n",
       " {'id': 778,\n",
       "  'question': '你知道对外经济贸易大学国际经济研究院是属于什么地方啊？',\n",
       "  'topic_entity': '对外经济贸易大学国际经济研究院'},\n",
       " {'id': 779,\n",
       "  'question': '你知道中国包装科研测试中心是属于什么地方啊？',\n",
       "  'topic_entity': '中国包装科研测试中心'},\n",
       " {'id': 780, 'question': '你知道肯尼直属哪里吗？', 'topic_entity': '肯尼'},\n",
       " {'id': 781, 'question': '你知道吉林省群众艺术馆直属哪里吗？', 'topic_entity': '吉林省群众艺术馆'},\n",
       " {'id': 782, 'question': '都是在哪儿有蓝头鸦鹃？', 'topic_entity': '蓝头鸦鹃'},\n",
       " {'id': 783, 'question': '都是在哪儿有神经氨酸酶？', 'topic_entity': '神经氨酸酶'},\n",
       " {'id': 784, 'question': '请问无花果亚组分布于哪里？', 'topic_entity': '无花果亚组'},\n",
       " {'id': 785, 'question': '请问双叶组分布于哪里？', 'topic_entity': '双叶组'},\n",
       " {'id': 786, 'question': '你知道可疑化石分布在哪吗？', 'topic_entity': '可疑化石'},\n",
       " {'id': 787, 'question': '你知道大鹪鹛分布在哪吗？', 'topic_entity': '大鹪鹛'},\n",
       " {'id': 788, 'question': '渠搜是在什么地方啊？', 'topic_entity': '渠搜'},\n",
       " {'id': 789, 'question': '草毡土是在什么地方啊？', 'topic_entity': '草毡土'},\n",
       " {'id': 790, 'question': '火山灰土主要分布在国家哪个地区？', 'topic_entity': '火山灰土'},\n",
       " {'id': 791, 'question': '玉树卓舞主要分布在国家哪个地区？', 'topic_entity': '玉树卓舞'},\n",
       " {'id': 792, 'question': '推移图主要是什么目的有人知道吗', 'topic_entity': '推移图'},\n",
       " {'id': 793, 'question': '村民理事会主要是什么目的有人知道吗', 'topic_entity': '村民理事会'},\n",
       " {'id': 794,\n",
       "  'question': '什么是中国校园之声全国高校广播联盟的主要目的？',\n",
       "  'topic_entity': '中国校园之声全国高校广播联盟'},\n",
       " {'id': 795, 'question': '什么是人才梯队建设的主要目的？', 'topic_entity': '人才梯队建设'},\n",
       " {'id': 796, 'question': '保护母亲河主要为了什么？', 'topic_entity': '保护母亲河'},\n",
       " {'id': 797, 'question': '市政证券主要为了什么？', 'topic_entity': '市政证券'},\n",
       " {'id': 798, 'question': '快速渗滤系统的主要目的是什么啊？', 'topic_entity': '快速渗滤系统'},\n",
       " {'id': 799, 'question': '分组数据的主要目的是什么啊？', 'topic_entity': '分组数据'},\n",
       " {'id': 800, 'question': '你知道选美大赛的主要目的是什么吗？', 'topic_entity': '选美大赛'},\n",
       " {'id': 801, 'question': '你知道MCN的主要目的是什么吗？', 'topic_entity': 'mcn'},\n",
       " {'id': 802, 'question': '南岷山在哪个省呢？', 'topic_entity': '南岷山'},\n",
       " {'id': 803, 'question': '米南加保族在哪个省呢？', 'topic_entity': '米南加保族'},\n",
       " {'id': 804, 'question': '请问辉发那拉氏在哪里？', 'topic_entity': '辉发那拉氏'},\n",
       " {'id': 805, 'question': '请问天桥剧场在哪里？', 'topic_entity': '天桥剧场'},\n",
       " {'id': 806, 'question': '明东社区是具体在什么位置啊？', 'topic_entity': '明东社区'},\n",
       " {'id': 807, 'question': '积玉桥是具体在什么位置啊？', 'topic_entity': '积玉桥'},\n",
       " {'id': 808, 'question': '阿尔必阶在什么地方？', 'topic_entity': '阿尔必阶'},\n",
       " {'id': 809, 'question': '洪河站在什么地方？', 'topic_entity': '洪河站'},\n",
       " {'id': 810, 'question': '谁知道公元645年发生了什么大事？', 'topic_entity': '公元645年'},\n",
       " {'id': 811, 'question': '谁知道BOSS发生了什么大事？', 'topic_entity': 'boss'},\n",
       " {'id': 812, 'question': '请问宋末三帝发生了什么大事件？', 'topic_entity': '宋末三帝'},\n",
       " {'id': 813, 'question': '请问洪武二年发生了什么大事件？', 'topic_entity': '洪武二年'},\n",
       " {'id': 814, 'question': '371年有什么大事件？', 'topic_entity': '371年'},\n",
       " {'id': 815, 'question': '1841年有什么大事件？', 'topic_entity': '1841年'},\n",
       " {'id': 816,\n",
       "  'question': '你知道公元前332年在过去有什么大事件发生过吗？',\n",
       "  'topic_entity': '公元前332年'},\n",
       " {'id': 817, 'question': '你知道7月9日在过去有什么大事件发生过吗？', 'topic_entity': '7月9日'},\n",
       " {'id': 818, 'question': '公元前261年发生了什么重大事件？', 'topic_entity': '公元前261年'},\n",
       " {'id': 819, 'question': '1166年发生了什么重大事件？', 'topic_entity': '1166年'},\n",
       " {'id': 820, 'question': '谁知道第一筷有多重？', 'topic_entity': '第一筷'},\n",
       " {'id': 821, 'question': '谁知道饶益神宝有多重？', 'topic_entity': '饶益神宝'},\n",
       " {'id': 822, 'question': '东海云龙有多重？', 'topic_entity': '东海云龙'},\n",
       " {'id': 823, 'question': '太阳历石有多重？', 'topic_entity': '太阳历石'},\n",
       " {'id': 824, 'question': '请问青铜鼎有多沉？', 'topic_entity': '青铜鼎'},\n",
       " {'id': 825, 'question': '请问棱金铁塔有多沉？', 'topic_entity': '棱金铁塔'},\n",
       " {'id': 826, 'question': '你知道华表有多重吗？', 'topic_entity': '华表'},\n",
       " {'id': 827, 'question': '你知道命运高达有多重吗？', 'topic_entity': '命运高达'},\n",
       " {'id': 828, 'question': '请问目纹铜戈有多重？', 'topic_entity': '目纹铜戈'},\n",
       " {'id': 829, 'question': '请问探空仪有多重？', 'topic_entity': '探空仪'},\n",
       " {'id': 830, 'question': '请问中国药材集团公司的生产量有多少？', 'topic_entity': '中国药材集团公司'},\n",
       " {'id': 831, 'question': '请问东鹏瓷砖的生产量有多少？', 'topic_entity': '东鹏瓷砖'},\n",
       " {'id': 832, 'question': '九芝斋是哪个公司生产的？', 'topic_entity': '九芝斋'},\n",
       " {'id': 833, 'question': 'P-1海上巡逻机是哪个公司生产的？', 'topic_entity': 'P-1海上巡逻机'},\n",
       " {'id': 834, 'question': '白洋河生产什么？', 'topic_entity': '白洋河'},\n",
       " {'id': 835, 'question': '火玫瑰生产什么？', 'topic_entity': '火玫瑰'},\n",
       " {'id': 836, 'question': '充值卡是那个国家制作的你知道吗？', 'topic_entity': '充值卡'},\n",
       " {'id': 837, 'question': '开口笑是那个国家制作的你知道吗？', 'topic_entity': '开口笑'},\n",
       " {'id': 838,\n",
       "  'question': '1945-1949年苏-35战斗机生产了多少台？',\n",
       "  'topic_entity': '1945-1949年苏-35战斗机'},\n",
       " {'id': 839,\n",
       "  'question': '1945-1949年玉神工艺品有限公司生产了多少台？',\n",
       "  'topic_entity': '1945-1949年玉神工艺品有限公司'},\n",
       " {'id': 840, 'question': '请问会声会影X7的系统要求是什么呢？', 'topic_entity': '会声会影x7'},\n",
       " {'id': 841, 'question': '请问学习日语的系统要求是什么呢？', 'topic_entity': '日语'},\n",
       " {'id': 842,\n",
       "  'question': 'Media Control需要什么类型的系统？',\n",
       "  'topic_entity': 'mediacontrol'},\n",
       " {'id': 843, 'question': '血战到底需要什么类型的系统？', 'topic_entity': '血战'},\n",
       " {'id': 844, 'question': '会声会影采集卡的系统有什么要求？', 'topic_entity': '会声会影采集卡'},\n",
       " {'id': 845, 'question': '绘图工具的系统有什么要求？', 'topic_entity': '绘图工具'},\n",
       " {'id': 846, 'question': '聚合体对系统有什么要求啊？', 'topic_entity': '聚合体'},\n",
       " {'id': 847, 'question': '饥饿的猎人对系统有什么要求啊？', 'topic_entity': '饥饿的猎人'},\n",
       " {'id': 848, 'question': '弹奏的系统要求有哪些？', 'topic_entity': '弹奏'},\n",
       " {'id': 849, 'question': '百万亚瑟王的系统要求有哪些？', 'topic_entity': '百万亚瑟王'},\n",
       " {'id': 850, 'question': '你知道临淄齐故城是什么时候发觉的吗？', 'topic_entity': '临淄齐故城'},\n",
       " {'id': 851, 'question': '你知道夏墟是什么时候发觉的吗？', 'topic_entity': '夏墟'},\n",
       " {'id': 852, 'question': '李静训墓是什么时候发掘的？', 'topic_entity': '李静训墓'},\n",
       " {'id': 853, 'question': '东晋壁画是什么时候发掘的？', 'topic_entity': '东晋壁画'},\n",
       " {'id': 854, 'question': '龙山文化层什么时候被发掘的？', 'topic_entity': '龙山文化层'},\n",
       " {'id': 855, 'question': '何家湾遗址什么时候被发掘的？', 'topic_entity': '何家湾遗址'},\n",
       " {'id': 856, 'question': '你知道大通烟雨是什么发掘的啊？', 'topic_entity': '大通烟雨'},\n",
       " {'id': 857, 'question': '你知道洛庄汉墓是什么发掘的啊？', 'topic_entity': '洛庄汉墓'},\n",
       " {'id': 858,\n",
       "  'question': '中国2010年上海世界博览会有多少人参观？',\n",
       "  'topic_entity': '中国2010年上海世界博览会'},\n",
       " {'id': 859, 'question': '上海中国留学生博物馆有多少人参观？', 'topic_entity': '上海中国留学生博物馆'},\n",
       " {'id': 860, 'question': '请问无锡帅元紫砂博物馆有多少人参观？', 'topic_entity': '无锡帅元紫砂博物馆'},\n",
       " {'id': 861, 'question': '请问奉节县夔州博物馆有多少人参观？', 'topic_entity': '奉节县夔州博物馆'},\n",
       " {'id': 862, 'question': '你知道奥运特许商品有多少人参观吗？', 'topic_entity': '奥运特许商品'},\n",
       " {'id': 863,\n",
       "  'question': '你知道中国国际门窗幕墙博览会有多少人参观吗？',\n",
       "  'topic_entity': '中国国际门窗幕墙博览会'},\n",
       " {'id': 864,\n",
       "  'question': '中国国际数码互动娱乐展览会有多少人来参观？',\n",
       "  'topic_entity': '中国国际数码互动娱乐展览会'},\n",
       " {'id': 865, 'question': '广州国际金属加工工业展有多少人来参观？', 'topic_entity': '广州国际金属加工工业展'},\n",
       " {'id': 866,\n",
       "  'question': '请问中国铁路呼和浩特局集团有限公司的管辖范围有哪些？',\n",
       "  'topic_entity': '中国铁路呼和浩特局集团有限公司'},\n",
       " {'id': 867, 'question': '请问十堰海关的管辖范围有哪些？', 'topic_entity': '十堰海关'},\n",
       " {'id': 868, 'question': '长春铁路分局管辖哪些地方？', 'topic_entity': '长春铁路分局'},\n",
       " {'id': 869,\n",
       "  'question': '中国人民解放军福建省军区管辖哪些地方？',\n",
       "  'topic_entity': '中国人民解放军福建省军区'},\n",
       " {'id': 870, 'question': '衡阳铁路局的管辖范围是哪里？', 'topic_entity': '衡阳铁路局'},\n",
       " {'id': 871, 'question': '娄底车务段的管辖范围是哪里？', 'topic_entity': '娄底车务段'},\n",
       " {'id': 872, 'question': '你知道魏博节度使归谁管吗？', 'topic_entity': '魏博节度使'},\n",
       " {'id': 873, 'question': '你知道齐齐哈尔电务段归谁管吗？', 'topic_entity': '齐齐哈尔电务段'},\n",
       " {'id': 874,\n",
       "  'question': '中华人民共和国荆州海事局的管辖范围有哪些？',\n",
       "  'topic_entity': '中华人民共和国荆州海事局'},\n",
       " {'id': 875, 'question': '白音胡硕车务段的管辖范围有哪些？', 'topic_entity': '白音胡硕车务段'},\n",
       " {'id': 876, 'question': '氯化铬属于什么化学品？', 'topic_entity': '氯化铬'},\n",
       " {'id': 877, 'question': '三氧化钨属于什么化学品？', 'topic_entity': '三氧化钨'},\n",
       " {'id': 878, 'question': '氧化铍属于什么类别？', 'topic_entity': '氧化铍'},\n",
       " {'id': 879, 'question': '1,2-二氯苯属于什么类别？', 'topic_entity': '1,2-二氯苯'},\n",
       " {'id': 880, 'question': '请问邻氯苯甲酸是哪个种类的化学品？', 'topic_entity': '邻氯苯甲酸'},\n",
       " {'id': 881, 'question': '请问甲硫醇是哪个种类的化学品？', 'topic_entity': '甲硫醇'},\n",
       " {'id': 882, 'question': '你知道铝的化学品类别是什么样子的啊？', 'topic_entity': '铝'},\n",
       " {'id': 883, 'question': '你知道氢化钾的化学品类别是什么样子的啊？', 'topic_entity': '氢化钾'},\n",
       " {'id': 884, 'question': '那个海因茨·赫勒尔德是什么时候死的呀', 'topic_entity': '海因茨·赫勒尔德'},\n",
       " {'id': 885, 'question': '那个尼尔森·艾迪是什么时候死的呀', 'topic_entity': '尼尔森·艾迪'},\n",
       " {'id': 886, 'question': '大家清楚安德斯·摄西阿斯是什么时候去世的吗？', 'topic_entity': '安德斯·摄西阿斯'},\n",
       " {'id': 887, 'question': '大家清楚理查德·席格蒙迪是什么时候去世的吗？', 'topic_entity': '理查德·席格蒙迪'},\n",
       " {'id': 888, 'question': '伦纳德·罗森曼是什么时候死的有人知道吗？', 'topic_entity': '伦纳德·罗森曼'},\n",
       " {'id': 889,\n",
       "  'question': '赫尔多尔·奇里扬·拉克斯内斯斯是什么时候死的有人知道吗？',\n",
       "  'topic_entity': '赫尔多尔·奇里扬·拉克斯内斯斯'},\n",
       " {'id': 890, 'question': '约翰·范恩是什么时候去世的？', 'topic_entity': '约翰·范恩'},\n",
       " {'id': 891, 'question': '储光义是什么时候去世的？', 'topic_entity': '储光义'},\n",
       " {'id': 892, 'question': '你记得本笃十三世是哪年哪月去世的吗？', 'topic_entity': '本笃十三世'},\n",
       " {'id': 893,\n",
       "  'question': '你记得莉薇娅·杜路莎·奥古斯塔是哪年哪月去世的吗？',\n",
       "  'topic_entity': '莉薇娅·杜路莎·奥古斯塔'},\n",
       " {'id': 894, 'question': '萨莫拉·马谢尔哪天去世的？', 'topic_entity': '萨莫拉·马谢尔'},\n",
       " {'id': 895, 'question': '王崇烈哪天去世的？', 'topic_entity': '王崇烈'},\n",
       " {'id': 896, 'question': '埃德蒙·马斯基是什么时候去世的啊？', 'topic_entity': '埃德蒙·马斯基'},\n",
       " {'id': 897, 'question': '多尔·沙里是什么时候去世的啊？', 'topic_entity': '多尔·沙里'},\n",
       " {'id': 898, 'question': '我想知道劳埃德·布里奇斯什么时候死掉的？', 'topic_entity': '劳埃德·布里奇斯'},\n",
       " {'id': 899, 'question': '我想知道詹姆斯·波什么时候死掉的？', 'topic_entity': '詹姆斯·波'},\n",
       " {'id': 900,\n",
       "  'question': '瓦尔特·鲁道夫·赫斯是在什么时候去世的啊？',\n",
       "  'topic_entity': '瓦尔特·鲁道夫·赫斯'},\n",
       " {'id': 901, 'question': '约翰·肯德鲁是在什么时候去世的啊？', 'topic_entity': '约翰·肯德鲁'},\n",
       " {'id': 902, 'question': '我很好奇沈福山是什么时候死的？', 'topic_entity': '沈福山'},\n",
       " {'id': 903, 'question': '我很好奇格利葛利·贝特森是什么时候死的？', 'topic_entity': '格利葛利·贝特森'},\n",
       " {'id': 904, 'question': '我想知道川北监狱的原址在哪？', 'topic_entity': '川北监狱'},\n",
       " {'id': 905, 'question': '我想知道石门十三品的原址在哪？', 'topic_entity': '石门十三品'},\n",
       " {'id': 906, 'question': '成都万里桥的原址在哪？', 'topic_entity': '成都万里桥'},\n",
       " {'id': 907, 'question': '宝山清莲寺的原址在哪？', 'topic_entity': '宝山清莲寺'},\n",
       " {'id': 908, 'question': '延安纪念馆的原址在哪里？', 'topic_entity': '延安纪念馆'},\n",
       " {'id': 909, 'question': '松江区气象局的原址在哪里？', 'topic_entity': '松江区气象局'},\n",
       " {'id': 910, 'question': '刘湘公馆原来在哪里啊？', 'topic_entity': '刘湘公馆'},\n",
       " {'id': 911, 'question': '法渊寺原来在哪里啊？', 'topic_entity': '法渊寺'},\n",
       " {'id': 912, 'question': '海幢寺原来的地址在哪里？', 'topic_entity': '海幢寺'},\n",
       " {'id': 913, 'question': '佛新社区原来的地址在哪里？', 'topic_entity': '佛新社区'},\n",
       " {'id': 914, 'question': '谁知道费树岷在哪个院系？', 'topic_entity': '费树岷'},\n",
       " {'id': 915, 'question': '谁知道何曼在哪个院系？', 'topic_entity': '何曼'},\n",
       " {'id': 916, 'question': '请问李传勋在哪个院系？', 'topic_entity': '李传勋'},\n",
       " {'id': 917, 'question': '请问张艳锋在哪个院系？', 'topic_entity': '张艳锋'},\n",
       " {'id': 918, 'question': '请问王路是在哪个院系就职？', 'topic_entity': '王路'},\n",
       " {'id': 919, 'question': '请问刘宏斌是在哪个院系就职？', 'topic_entity': '刘宏斌'},\n",
       " {'id': 920, 'question': '你知道江华在什么院系啊？', 'topic_entity': '江华'},\n",
       " {'id': 921, 'question': '你知道樊孝忠在什么院系啊？', 'topic_entity': '樊孝忠'},\n",
       " {'id': 922, 'question': '陈柏良属于哪个院系？', 'topic_entity': '陈柏良'},\n",
       " {'id': 923, 'question': '叶凤英属于哪个院系？', 'topic_entity': '叶凤英'},\n",
       " {'id': 924, 'question': '王之守护·光需要多少等级？', 'topic_entity': '王之守护·光'},\n",
       " {'id': 925, 'question': '王之守护·风需要多少等级？', 'topic_entity': '王之守护·风'},\n",
       " {'id': 926, 'question': '开天需要多少级？', 'topic_entity': '开天'},\n",
       " {'id': 927, 'question': '鞭笞者苏萨斯需要多少级？', 'topic_entity': '鞭笞者苏萨斯'},\n",
       " {'id': 928, 'question': '寻觅者之槌需要什么等级？', 'topic_entity': '寻觅者之槌'},\n",
       " {'id': 929, 'question': '青铜短剑需要什么等级？', 'topic_entity': '青铜短剑'},\n",
       " {'id': 930, 'question': '你知道奈鲁布恩坎的壳需要多少等级吗？', 'topic_entity': '奈鲁布恩坎'},\n",
       " {'id': 931, 'question': '你知道镶玉水晶匕首需要多少等级吗？', 'topic_entity': '镶玉水晶匕首'},\n",
       " {'id': 932, 'question': '请问许李村村内有哪些企业？', 'topic_entity': '许李村'},\n",
       " {'id': 933, 'question': '请问谢家村村内有哪些企业？', 'topic_entity': '谢家村'},\n",
       " {'id': 934, 'question': '恒心村有哪些企业？', 'topic_entity': '恒心村'},\n",
       " {'id': 935, 'question': '阔纳巴扎村有哪些企业？', 'topic_entity': '阔纳巴扎村'},\n",
       " {'id': 936, 'question': '阿依库勒村在村内有什么企业？', 'topic_entity': '阿依库勒村'},\n",
       " {'id': 937, 'question': '凤尾村在村内有什么企业？', 'topic_entity': '凤尾村'},\n",
       " {'id': 938, 'question': '你知道神堂坡村的村内企也有什么啊？', 'topic_entity': '神堂坡村'},\n",
       " {'id': 939, 'question': '你知道沙河村的村内企也有什么啊？', 'topic_entity': '沙河村'},\n",
       " {'id': 940, 'question': '大堰塘村的村内企业有哪些？', 'topic_entity': '大堰塘村'},\n",
       " {'id': 941, 'question': '吾斯塘阿热力格村的村内企业有哪些？', 'topic_entity': '吾斯塘阿热力格村'},\n",
       " {'id': 942,\n",
       "  'question': '大家了解中华人民共和国土地增值税暂行条例实施细则是什么时候实行的吗？',\n",
       "  'topic_entity': '中华人民共和国土地增值税暂行条例实施细则'},\n",
       " {'id': 943, 'question': '大家了解陪审团制度是什么时候实行的吗？', 'topic_entity': '陪审团制度'},\n",
       " {'id': 944,\n",
       "  'question': '中华人民共和国无线电管理条例是什么时候实行的？',\n",
       "  'topic_entity': '中华人民共和国无线电管理条例'},\n",
       " {'id': 945, 'question': '三生教育是什么时候实行的？', 'topic_entity': '三生教育'},\n",
       " {'id': 946, 'question': '经界法是什么时候开始实行的？', 'topic_entity': '经界法'},\n",
       " {'id': 947,\n",
       "  'question': '出版专业技术人员职业资格考试是什么时候开始实行的？',\n",
       "  'topic_entity': '出版专业技术人员职业资格考试'},\n",
       " {'id': 948,\n",
       "  'question': '中华人民共和国国际海运条例是从什么时候开始发布的啊？',\n",
       "  'topic_entity': '中华人民共和国国际海运条例'},\n",
       " {'id': 949, 'question': '元朝行政区划是从什么时候开始发布的啊？', 'topic_entity': '元朝行政区划'},\n",
       " {'id': 950, 'question': '请问魔女猎人罗宾的人物设定是谁？', 'topic_entity': '魔女猎人罗宾'},\n",
       " {'id': 951, 'question': '请问苍的人物设定是谁？', 'topic_entity': '苍'},\n",
       " {'id': 952, 'question': '须藤雾彦里面设定了哪些人物？', 'topic_entity': '须藤雾彦'},\n",
       " {'id': 953, 'question': '宅男女神里面设定了哪些人物？', 'topic_entity': '宅男女神'},\n",
       " {'id': 954,\n",
       "  'question': 'EileenGalvin是怎样的一个人物设定？',\n",
       "  'topic_entity': 'eileengalvin'},\n",
       " {'id': 955, 'question': '神代是怎样的一个人物设定？', 'topic_entity': '神代'},\n",
       " {'id': 956, 'question': '你知道康震天的设定是什么人吗？', 'topic_entity': '康震天'},\n",
       " {'id': 957, 'question': '你知道V.G.NEO的设定是什么人吗？', 'topic_entity': 'v.g.neo'},\n",
       " {'id': 958, 'question': '米老鼠的人物设定是谁？', 'topic_entity': '米老鼠'},\n",
       " {'id': 959, 'question': '战枫的人物设定是谁？', 'topic_entity': '战枫'},\n",
       " {'id': 960, 'question': '请问杨光主要上哪些课？', 'topic_entity': '杨光'},\n",
       " {'id': 961, 'question': '请问中国古代文学专业主要上哪些课？', 'topic_entity': '中国古代文学专业'},\n",
       " {'id': 962, 'question': '行政管理学专业主要有哪些课程？', 'topic_entity': '行政管理学专业'},\n",
       " {'id': 963, 'question': '物业专业主要有哪些课程？', 'topic_entity': '物业专业'},\n",
       " {'id': 964, 'question': '园艺学的主要课程是什么啊？', 'topic_entity': '园艺学'},\n",
       " {'id': 965, 'question': '都灵理工学院的主要课程是什么啊？', 'topic_entity': '都灵理工学院'},\n",
       " {'id': 966, 'question': '庄哲民主讲什么课程？', 'topic_entity': '庄哲民'},\n",
       " {'id': 967, 'question': '设计艺术专业主讲什么课程？', 'topic_entity': '设计艺术专业'},\n",
       " {'id': 968, 'question': '请问王婷的科研成果是哪方面的？', 'topic_entity': '王婷'},\n",
       " {'id': 969, 'question': '请问胡深的科研成果是哪方面的？', 'topic_entity': '胡深'},\n",
       " {'id': 970, 'question': '徐徐主要研究什么？', 'topic_entity': '徐徐'},\n",
       " {'id': 971, 'question': '唐斌主要研究什么？', 'topic_entity': '唐斌'},\n",
       " {'id': 972, 'question': '你知道杨洁的主要研究方向是什么吗？', 'topic_entity': '杨洁'},\n",
       " {'id': 973, 'question': '你知道张斌的主要研究方向是什么吗？', 'topic_entity': '张斌'},\n",
       " {'id': 974, 'question': '我想知道马晶的主要研究方向是什么吗？', 'topic_entity': '马晶'},\n",
       " {'id': 975, 'question': '我想知道李玉祥的主要研究方向是什么吗？', 'topic_entity': '李玉祥'},\n",
       " {'id': 976, 'question': '朱叶的主要研究哪个方向？', 'topic_entity': '朱叶'},\n",
       " {'id': 977, 'question': '王雪的主要研究哪个方向？', 'topic_entity': '王雪'},\n",
       " {'id': 978, 'question': '你知道圣安德鲁中学是什么时候建校的吗？', 'topic_entity': '圣安德鲁中学'},\n",
       " {'id': 979, 'question': '你知道海宏中学是什么时候建校的吗？', 'topic_entity': '海宏中学'},\n",
       " {'id': 980,\n",
       "  'question': '湖南计算机高等专科学校是什么时候建造的？',\n",
       "  'topic_entity': '湖南计算机高等专科学校'},\n",
       " {'id': 981, 'question': '德国伍珀塔尔大学是什么时候建造的？', 'topic_entity': '德国伍珀塔尔大学'},\n",
       " {'id': 982, 'question': '齐齐哈尔市朝鲜族中学是哪年建校的？', 'topic_entity': '齐齐哈尔市朝鲜族中学'},\n",
       " {'id': 983, 'question': '鹤龄英华中学是哪年建校的？', 'topic_entity': '鹤龄英华中学'},\n",
       " {'id': 984, 'question': '哈姆斯塔德大学是什么时候建校的啊？', 'topic_entity': '哈姆斯塔德大学'},\n",
       " {'id': 985,\n",
       "  'question': '广西壮族自治区北流市高级中学是什么时候建校的啊？',\n",
       "  'topic_entity': '广西壮族自治区北流市高级中学'},\n",
       " {'id': 986, 'question': '谁知道定边县第四中学是什么时候建立的？', 'topic_entity': '定边县第四中学'},\n",
       " {'id': 987,\n",
       "  'question': '谁知道山东省青岛实验初级中学是什么时候建立的？',\n",
       "  'topic_entity': '山东省青岛实验初级中学'},\n",
       " {'id': 988, 'question': '请问西湖村总共有多少人口？', 'topic_entity': '西湖村'},\n",
       " {'id': 989, 'question': '请问朱家村总共有多少人口？', 'topic_entity': '朱家村'},\n",
       " {'id': 990, 'question': '肖家村有多少乡村人口？', 'topic_entity': '肖家村'},\n",
       " {'id': 991, 'question': '谈文溪村有多少乡村人口？', 'topic_entity': '谈文溪村'},\n",
       " {'id': 992, 'question': '海戛村有多少人口？', 'topic_entity': '海戛村'},\n",
       " {'id': 993, 'question': '江西村有多少人口？', 'topic_entity': '江西村'},\n",
       " {'id': 994, 'question': '凤凰台村有多少人啊？', 'topic_entity': '凤凰台村'},\n",
       " {'id': 995, 'question': '永安村有多少人啊？', 'topic_entity': '永安村'},\n",
       " {'id': 996, 'question': '罗营村的人口是多少？', 'topic_entity': '罗营村'},\n",
       " {'id': 997, 'question': '寨后社区的人口是多少？', 'topic_entity': '寨后社区'},\n",
       " {'id': 998, 'question': '请问宝德学院有哪些配套设备？', 'topic_entity': '宝德学院'},\n",
       " {'id': 999, 'question': '请问澳门教科文中心有哪些配套设备？', 'topic_entity': '澳门教科文中心'},\n",
       " ...]"
      ]
     },
     "execution_count": 85,
     "metadata": {},
     "output_type": "execute_result"
    }
   ],
   "source": [
    "data"
   ]
  },
  {
   "cell_type": "markdown",
   "id": "5b4d782d",
   "metadata": {},
   "source": [
    "## 分析不明确的topic实体"
   ]
  },
  {
   "cell_type": "code",
   "execution_count": 86,
   "id": "b8c4154d",
   "metadata": {},
   "outputs": [
    {
     "name": "stdout",
     "output_type": "stream",
     "text": [
      "{'id': 367, 'question': \"A Hard Day's Night的制作是什么？\", 'topic_entity': \"ahardday'snight\"}\n",
      "{'id': 759, 'question': '书本里的蚂蚁的尺寸是多少？', 'topic_entity': '书里的蚂蚁'}\n",
      "{'id': 1074, 'question': 'Black Swallowtail是在龙珠的哪个剧集里面出现的？', 'topic_entity': 'blackswallowtail珠'}\n",
      "{'id': 1231, 'question': '鱻的五笔86&98是什么？', 'topic_entity': '[UNK]'}\n",
      "{'id': 1797, 'question': '(35396) 1997 Xf11的ISBN是什么？', 'topic_entity': '(35396)1997xf11'}\n",
      "{'id': 1946, 'question': 'Chinese Physics B的编辑部在哪', 'topic_entity': 'chinesephysicsb'}\n",
      "{'id': 2122, 'question': '上党梆子非物质遗产级别是什么', 'topic_entity': '上党梆子质'}\n",
      "{'id': 2241, 'question': '告诉我7 days的原唱好吗', 'topic_entity': '7days'}\n",
      "{'id': 2242, 'question': '告诉我9 to 5的原唱好吗', 'topic_entity': '9to5'}\n",
      "{'id': 2377, 'question': '乐山机场航站楼面积又多大', 'topic_entity': '乐山机场站'}\n",
      "{'id': 2409, 'question': '丁字双髻鲨的同义学名是什么', 'topic_entity': '丁双髻鲨'}\n",
      "{'id': 2456, 'question': '你知道B A FIGHTER的首演时间吗', 'topic_entity': 'bafighter'}\n",
      "{'id': 2573, 'question': '玩游戏的大佬们，你知道D.Va的定位是啥吗', 'topic_entity': 'd.va'}\n",
      "{'id': 2624, 'question': 'Gliese 876 d表层温度是多少', 'topic_entity': 'gliese876d'}\n",
      "{'id': 2670, 'question': '你知道Chuck D是什么团伙的吗', 'topic_entity': 'chuckd'}\n",
      "{'id': 2936, 'question': 'AKB48团体组合成员在哪里', 'topic_entity': 'akb48团体合'}\n"
     ]
    }
   ],
   "source": [
    "def ParsingEntity(question,topic_entity):\n",
    "    try:\n",
    "        assert len(topic_entity)>=5\n",
    "        start_token=topic_entity[:2].lower()#前两个字符\n",
    "        end_token=topic_entity[-2:].lower()#后两个字符\n",
    "        copy_question=question.lower()\n",
    "        pattern=start_token+'(.*)'+end_token\n",
    "        result=re.search(pattern=pattern,string=copy_question)\n",
    "        start_id,end_id=result.span()\n",
    "        return question[start_id:end_id]\n",
    "    except:\n",
    "        return ''\n",
    "    \n",
    "count=0\n",
    "for i in range(len(data)):\n",
    "    question,topic_entity=data[i]['question'],data[i]['topic_entity']\n",
    "    if topic_entity not in question:\n",
    "        if topic_entity.upper() in question:\n",
    "            data[i]['topic_entity']=topic_entity.upper()\n",
    "        elif topic_entity[0].upper()+topic_entity[1:] in question:\n",
    "            data[i]['topic_entity']=topic_entity[0].upper()+topic_entity[1:]\n",
    "        elif ParsingEntity(question,topic_entity=topic_entity)!='':\n",
    "            data[i]['topic_entity']=ParsingEntity(question,topic_entity=topic_entity)\n",
    "        else:\n",
    "            count+=1\n",
    "            print(data[i])"
   ]
  },
  {
   "cell_type": "code",
   "execution_count": 87,
   "id": "469a3103",
   "metadata": {},
   "outputs": [
    {
     "data": {
      "text/plain": [
       "16"
      ]
     },
     "execution_count": 87,
     "metadata": {},
     "output_type": "execute_result"
    }
   ],
   "source": [
    "count"
   ]
  },
  {
   "cell_type": "markdown",
   "id": "54d41b75",
   "metadata": {},
   "source": [
    "<font color=red>经过多次筛选，最终3000条仅有16条样本的实体识别结果无法处理</font>"
   ]
  },
  {
   "cell_type": "code",
   "execution_count": 89,
   "id": "f4b8ae6d",
   "metadata": {},
   "outputs": [],
   "source": [
    "data[367]['topic_entity']=\"A Hard Day's Night\"\n",
    "data[759]['topic_entity']='书本里的蚂蚁'\n",
    "data[1074]['topic_entity']='Black Swallowtail'\n",
    "data[1231]['topic_entity']='鱻'\n",
    "data[1797]['topic_entity']='(35396) 1997 Xf11'\n",
    "data[1946]['topic_entity']='Chinese Physics B'\n",
    "data[2122]['topic_entity']='上党梆子'\n",
    "data[2241]['topic_entity']='7 days'\n",
    "data[2242]['topic_entity']='9 to 5'\n",
    "data[2377]['topic_entity']='乐山机场'\n",
    "data[2409]['topic_entity']='丁字双髻鲨'\n",
    "data[2456]['topic_entity']=\"B A FIGHTER\"\n",
    "data[2573]['topic_entity']='D.Va'\n",
    "data[2624]['topic_entity']='Gliese 876 d'\n",
    "data[2670]['topic_entity']='Chuck D'\n",
    "data[2936]['topic_entity']='AKB48团体组合成员'"
   ]
  },
  {
   "cell_type": "code",
   "execution_count": 90,
   "id": "9149b189",
   "metadata": {},
   "outputs": [],
   "source": [
    "for example in data:\n",
    "    question,topic_entity=example['question'],example['topic_entity']\n",
    "    assert topic_entity in question"
   ]
  },
  {
   "cell_type": "markdown",
   "id": "0cf13106",
   "metadata": {},
   "source": [
    "**现在提交的测试集中所有问题的topic_entity已经全部正确找出**"
   ]
  },
  {
   "cell_type": "code",
   "execution_count": 91,
   "id": "526b818f",
   "metadata": {},
   "outputs": [],
   "source": [
    "# with open(\"../qa_data/private_test.json\",'w') as f:\n",
    "#     for example in data:\n",
    "#         f.write(json.dumps(example,ensure_ascii=False)+'\\n')"
   ]
  },
  {
   "cell_type": "code",
   "execution_count": 92,
   "id": "a797f409",
   "metadata": {},
   "outputs": [],
   "source": [
    "private_test_data=deepcopy(data)"
   ]
  },
  {
   "cell_type": "markdown",
   "id": "6749bda5",
   "metadata": {},
   "source": [
    "# 将数据处理成QA对形式"
   ]
  },
  {
   "cell_type": "markdown",
   "id": "44e3fb17",
   "metadata": {},
   "source": [
    "## 读取原始数据"
   ]
  },
  {
   "cell_type": "code",
   "execution_count": 93,
   "id": "76e72cf2",
   "metadata": {},
   "outputs": [
    {
     "name": "stdout",
     "output_type": "stream",
     "text": [
      "原始数据有18000个样本\n",
      "原始数据有2000个样本\n",
      "原始数据有2000个样本\n"
     ]
    }
   ],
   "source": [
    "def read_data(data_path):\n",
    "    with open(data_path) as f:\n",
    "        lines=f.readlines()\n",
    "    data=[]\n",
    "    for line in lines:\n",
    "        data.append(json.loads(line))\n",
    "    print(\"原始数据有{}个样本\".format(len(data)))\n",
    "    return data\n",
    "    \n",
    "data=[]\n",
    "data.extend(read_data('/home/xhsun/Desktop/KG/kgCLUE/qa_data/train.json'))\n",
    "data.extend(read_data('/home/xhsun/Desktop/KG/kgCLUE/qa_data/dev.json'))\n",
    "data.extend(read_data('/home/xhsun/Desktop/KG/kgCLUE/qa_data/test_public.json'))"
   ]
  },
  {
   "cell_type": "code",
   "execution_count": 94,
   "id": "b563d1f7",
   "metadata": {},
   "outputs": [
    {
     "name": "stdout",
     "output_type": "stream",
     "text": [
      "原始数据有22000个样本\n",
      "{'id': 0, 'question': '你知道守望星光是哪家公司出品的吗？', 'answer': '守望星光（韩玉玲、刘东考演唱歌曲） ||| 出品公司 ||| 韩玉玲原创音乐'}\n",
      "{'id': 1, 'question': '武汉交通职业学院计算机协会有哪些学校？', 'answer': '武汉交通职业学院计算机协会 ||| 学校 ||| 武汉交通职业学院'}\n",
      "{'id': 2, 'question': '你知道龙晶用繁体字怎么写吗？', 'answer': '龙晶（游戏） ||| 繁体 ||| 龍晶'}\n",
      "{'id': 3, 'question': '无罪无我的和声是什么？', 'answer': '无罪无我 ||| 和声 ||| 章韵、徐晨辰'}\n",
      "{'id': 4, 'question': '你知道影舞者的车身有多重吗？', 'answer': '影舞者（《QQ飞车》中的赛车） ||| 车身重量 ||| 1232kg'}\n",
      "{'id': 5, 'question': '冯慧专业是什么方向？', 'answer': '冯慧（武汉大学教授） ||| 专业方向 ||| 偏微分方程数值解'}\n",
      "{'id': 6, 'question': '你知道戴姆勒股份公司有多少员工吗？', 'answer': '戴姆勒股份公司 ||| 员工数 ||| 298655 人(2020年)'}\n",
      "{'id': 7, 'question': '谁知道魔力w.i.t.c.h.系列有哪些丛书？', 'answer': '魔力w.i.t.c.h. ||| 丛书系列 ||| 魔力w.i.t.c.h.100少女完全手册、魔力w.i.t.c.h.故事集、魔力w.i.t.c.h.小说《破碎的魔球》'}\n",
      "{'id': 8, 'question': '谁知道端午节有什么重要意义？', 'answer': '端午节（中国四大传统节日之一） ||| 节日意义 ||| 传承与弘扬非物质文化'}\n",
      "{'id': 9, 'question': '谁唱的风不息？', 'answer': '风不息（1995年郭富城发行的音乐专辑） ||| 歌手 ||| 郭富城'}\n"
     ]
    }
   ],
   "source": [
    "print(\"原始数据有{}个样本\".format(len(data)))\n",
    "for i in range(10):\n",
    "    print(data[i])"
   ]
  },
  {
   "cell_type": "markdown",
   "id": "d4ac1729",
   "metadata": {},
   "source": [
    "## 将原始数据转换为QA对的形式"
   ]
  },
  {
   "cell_type": "code",
   "execution_count": 95,
   "id": "f55406a1",
   "metadata": {},
   "outputs": [],
   "source": [
    "all_examples=[]\n",
    "bad_examples=[]\n",
    "for example in data:\n",
    "    question,answer=example['question'],example['answer']\n",
    "    triplet=answer.strip().split('|||')\n",
    "    assert len(triplet)==3\n",
    "    assert type(question)==str\n",
    "    question=question.strip()\n",
    "    entity=triplet[0].strip()\n",
    "    rel=triplet[1].strip()\n",
    "    ans=triplet[2].strip()\n",
    "    \n",
    "    if ('（' in entity and '）' in entity) and entity not in question:\n",
    "        #print(entity,question)\n",
    "        #assert entity.split('（')[0] in question\n",
    "        question=question.replace(entity.split('（')[0],entity)\n",
    "            \n",
    "    if entity in question:\n",
    "        start_id=question.find(entity)\n",
    "        end_id=start_id+len(entity)\n",
    "        question=question[:start_id]+'<'+entity+'>'+question[end_id:]\n",
    "        all_examples.append({\"question\":question,'topic_entity':entity,'answer':ans,'relation':rel})\n",
    "    else:\n",
    "        bad_examples.append(example)"
   ]
  },
  {
   "cell_type": "code",
   "execution_count": 96,
   "id": "4c755053",
   "metadata": {},
   "outputs": [
    {
     "name": "stdout",
     "output_type": "stream",
     "text": [
      "22000 21975\n",
      "转换后的每一个样本形如：\n",
      "{'question': '你知道<守望星光（韩玉玲、刘东考演唱歌曲）>是哪家公司出品的吗？', 'topic_entity': '守望星光（韩玉玲、刘东考演唱歌曲）', 'answer': '韩玉玲原创音乐', 'relation': '出品公司'}\n",
      "{'question': '<武汉交通职业学院计算机协会>有哪些学校？', 'topic_entity': '武汉交通职业学院计算机协会', 'answer': '武汉交通职业学院', 'relation': '学校'}\n",
      "{'question': '你知道<龙晶（游戏）>用繁体字怎么写吗？', 'topic_entity': '龙晶（游戏）', 'answer': '龍晶', 'relation': '繁体'}\n",
      "{'question': '<无罪无我>的和声是什么？', 'topic_entity': '无罪无我', 'answer': '章韵、徐晨辰', 'relation': '和声'}\n",
      "{'question': '你知道<影舞者（《QQ飞车》中的赛车）>的车身有多重吗？', 'topic_entity': '影舞者（《QQ飞车》中的赛车）', 'answer': '1232kg', 'relation': '车身重量'}\n"
     ]
    }
   ],
   "source": [
    "print(len(data),len(all_examples))\n",
    "print('转换后的每一个样本形如：')\n",
    "for i in range(5):\n",
    "    print(all_examples[i])"
   ]
  },
  {
   "cell_type": "code",
   "execution_count": 97,
   "id": "a21a2d58",
   "metadata": {},
   "outputs": [
    {
     "name": "stdout",
     "output_type": "stream",
     "text": [
      "{'id': 209, 'question': '哈维尔埃尔南德斯习惯用哪只脚？', 'answer': '哈维尔·埃尔南德斯（1988年生墨西哥足球运动员） ||| 惯用脚 ||| 右脚'}\n",
      "{'id': 747, 'question': '正大综艺是什么频道播出的？', 'answer': '2009年正大综艺节目列表 ||| 播出频道 ||| 中央电视台综艺频道'}\n",
      "{'id': 838, 'question': '有人了解网易的股票代码吗？', 'answer': '网易公司 ||| 股票代码 ||| NTES（美股）'}\n",
      "{'id': 977, 'question': '安徽日报农村版的周期是什么？', 'answer': '安徽日报·农村版 ||| 周期 ||| 周二刊'}\n",
      "{'id': 2798, 'question': '你知道利群集团的年营业额是多少吗？', 'answer': '利群集团股份有限公司 ||| 年营业额 ||| 3038679 万元(2019年)'}\n",
      "{'id': 4147, 'question': '你知道我家的女仆有够烦的出版社是什么吗？', 'answer': '我家的女仆有够烦！（中村カンコ著作的漫画） ||| 其他出版社 ||| 青文出版社（中国台湾）'}\n",
      "{'id': 4148, 'question': '仓央嘉措是在哪里逝世的？', 'answer': '第六世达赖喇嘛·仓央嘉措 ||| 逝世地 ||| 中国青海湖附近公噶瑙尔'}\n",
      "{'id': 5046, 'question': '请问阿莱克斯库珀哪只脚为惯用脚？', 'answer': '阿莱克斯·库珀 ||| 惯用脚 ||| 左脚'}\n",
      "{'id': 5358, 'question': '认真和我谈恋爱的游戏平台是什么呀?', 'answer': '认真和我谈恋爱！！（2009年みなとそふと开发的恋爱冒险电脑游戏） ||| 游戏平台 ||| PC(Windows2000/XP/Vista)'}\n",
      "{'id': 5591, 'question': '姚明的中文名是什么？', 'answer': '王子（亚洲篮球联合会主席、中国篮球协会主席） ||| 中文名 ||| 王子'}\n",
      "{'id': 5988, 'question': '电视里演的还珠格格是哪种类型的电视剧？', 'answer': '斗奢 ||| 类别 ||| 词语'}\n",
      "{'id': 6105, 'question': '吉安/博塞茹尔惯用脚是哪只？', 'answer': '吉安·博塞茹尔 ||| 惯用脚 ||| 右脚'}\n",
      "{'id': 6243, 'question': '你知道妖精大战争东方三月精这个游戏是什么公司发行的吗?', 'answer': '妖精大战争 ～ 东方三月精 ||| 发行商 ||| 上海爱丽丝幻乐团'}\n",
      "{'id': 6362, 'question': '你知道辽宁海事局是什么级别吗？', 'answer': '中华人民共和国辽宁海事局 ||| 等级 ||| 正厅级单位'}\n",
      "{'id': 7156, 'question': '请问是谁翻译了亲爱的汉修先生？', 'answer': '国际大奖小说：亲爱的汉修先生 ||| 译者 ||| 柯倩华'}\n",
      "{'id': 10342, 'question': '泰迦奥特曼的祖父叫什么？', 'answer': '泰迦·奥特曼（日本特摄《奥特曼》系列中的角色） ||| 祖父 ||| 奥特之父'}\n",
      "{'id': 11328, 'question': '卢卡塔比亚尼球衣号码是多少？', 'answer': '卢卡·塔比亚尼 ||| 球衣号码 ||| 4号'}\n",
      "{'id': 12332, 'question': '欧盟是谁当领袖啊？', 'answer': '欧洲联盟（欧洲经济、政治共同体） ||| 国家领袖 ||| 夏尔·米歇尔(欧盟理事会主席)乌尔苏拉·冯德莱恩(欧盟委员会主席)大卫·萨索利(欧洲议会议长)科恩·莱纳茨(欧洲法院院长)'}\n",
      "{'id': 12646, 'question': '你知道摇曳露营一共多少册吗？', 'answer': '摇曳露营△（あfろ著作的漫画） ||| 单行本册数 ||| 10 卷'}\n",
      "{'id': 12941, 'question': '阿布 迪亚比惯用哪只脚？', 'answer': '阿布·迪亚比 ||| 惯用脚 ||| 右脚'}\n",
      "{'id': 13287, 'question': '苏州北站是什么形式的站台？', 'answer': '高铁苏州北站 ||| 站台形式 ||| 地下岛式'}\n",
      "{'id': 13357, 'question': '哪一年ST红与白的搜查档案开始播出？', 'answer': 'ST 红与白的搜查档案（日本电视剧） ||| 播出时间 ||| 每周三晚10点（东京时间）'}\n",
      "{'id': 15024, 'question': '游戏王怪兽之决斗提供哪些服务？', 'answer': '游戏王 怪兽之决斗 ||| 提供 ||| KONAMI'}\n",
      "{'id': 892, 'question': '你知道阿里巴巴的总经理室谁吗？', 'answer': '阿里巴巴集团 ||| 首席执行官 ||| 张勇'}\n",
      "{'id': 1676, 'question': '你知道宝马的总经理是谁吗？', 'answer': '宝马公司 ||| 首席执行官 ||| 哈拉尔德·克鲁格'}\n"
     ]
    }
   ],
   "source": [
    "for i in range(len(bad_examples)):\n",
    "    print(bad_examples[i])"
   ]
  },
  {
   "cell_type": "markdown",
   "id": "c6a94aad",
   "metadata": {},
   "source": [
    "**问题中的实体(topic entity)用<>括起来**"
   ]
  },
  {
   "cell_type": "markdown",
   "id": "ebedf653",
   "metadata": {},
   "source": [
    "# 根据构造的QA对数据来提取一个小规模的知识图谱\n",
    "提交的测试集泛化性不高"
   ]
  },
  {
   "cell_type": "markdown",
   "id": "a738155a",
   "metadata": {},
   "source": [
    "## 首先读取大规模的知识图谱"
   ]
  },
  {
   "cell_type": "code",
   "execution_count": 3,
   "id": "8851d468",
   "metadata": {},
   "outputs": [
    {
     "name": "stdout",
     "output_type": "stream",
     "text": [
      "22883549\n"
     ]
    },
    {
     "name": "stderr",
     "output_type": "stream",
     "text": [
      "100%|███████████████████████████████████████████████████████████████████████████████████████| 22883549/22883549 [01:30<00:00, 254008.77it/s]\n"
     ]
    }
   ],
   "source": [
    "sub_map = defaultdict(list)\n",
    "obj_map = defaultdict(list)\n",
    "so_map=defaultdict(list)\n",
    "sp_map=defaultdict(list)\n",
    "kg_path='../knowledge/Knowledge.txt'\n",
    "with open(kg_path) as f:\n",
    "    lines=f.readlines()\n",
    "    \n",
    "entities_set=set()\n",
    "relations_set=set()\n",
    "print(len(lines))\n",
    "\n",
    "#new_triples=[]\n",
    "for i in tqdm(range(len(lines))):\n",
    "    line=lines[i]\n",
    "    l = line.strip().split('\\t')\n",
    "    s = l[0].strip()\n",
    "    p = l[1].strip()\n",
    "    o = l[2].strip()\n",
    "    if s=='' or p=='' or o=='':\n",
    "        print('-'*100)\n",
    "        continue\n",
    "    entities_set.add(s)\n",
    "    entities_set.add(o)\n",
    "    relations_set.add(p)\n",
    "    #new_triples.append((s,p,o))\n",
    "    sub_map[s].append((p, o))\n",
    "    obj_map[o].append((s, p))\n",
    "    so_map[(s,o)].append(p)\n",
    "    sp_map[(s,p)].append(o)"
   ]
  },
  {
   "cell_type": "code",
   "execution_count": 9,
   "id": "0d0a3654",
   "metadata": {},
   "outputs": [],
   "source": [
    "# kg_path='../knowledge/Knowledge.txt'\n",
    "# with open(kg_path,'w') as f:\n",
    "#     for triples in new_triples:\n",
    "#         f.write('\\t'.join(triples)+'\\n')"
   ]
  },
  {
   "cell_type": "code",
   "execution_count": 5,
   "id": "231044a1",
   "metadata": {},
   "outputs": [
    {
     "name": "stdout",
     "output_type": "stream",
     "text": [
      "19743901\n"
     ]
    }
   ],
   "source": [
    "print(len(sp_map))"
   ]
  },
  {
   "cell_type": "code",
   "execution_count": 8,
   "id": "45130573",
   "metadata": {},
   "outputs": [
    {
     "data": {
      "text/plain": [
       "3121457"
      ]
     },
     "execution_count": 8,
     "metadata": {},
     "output_type": "execute_result"
    }
   ],
   "source": [
    "len(sub_map)"
   ]
  },
  {
   "cell_type": "code",
   "execution_count": 9,
   "id": "2d4d680d",
   "metadata": {},
   "outputs": [],
   "source": [
    "with open(\"../knowledge/head_entities.dict\",'w') as f:\n",
    "    for ent in sub_map.keys():\n",
    "        f.write(str(ent)+\"\\n\")"
   ]
  },
  {
   "cell_type": "code",
   "execution_count": 99,
   "id": "a0c8f7f8",
   "metadata": {},
   "outputs": [
    {
     "name": "stdout",
     "output_type": "stream",
     "text": [
      "大规模图谱中一共有22883549个三元组，9418104个实体，245837个关系\n"
     ]
    }
   ],
   "source": [
    "print('大规模图谱中一共有{}个三元组，{}个实体，{}个关系'.format(len(lines),len(entities_set),len(relations_set)))"
   ]
  },
  {
   "cell_type": "markdown",
   "id": "c14d4cce",
   "metadata": {},
   "source": [
    "**sub_map记录的是每一个头实体(subject、head)对应的所有可能出现的(关系,尾实体)的集合**"
   ]
  },
  {
   "cell_type": "code",
   "execution_count": 100,
   "id": "b3255a22",
   "metadata": {},
   "outputs": [
    {
     "data": {
      "text/plain": [
       "[('中文名', '周杰伦'),\n",
       " ('主要成就',\n",
       "  '获得十五座金曲奖两届台湾金曲奖最佳国语男歌手四届世界音乐大奖最畅销中华区艺人入选美国CNN亚洲25位最具影响力人物\\xa0《Fast Company》全球百大创意人物大中华区8次年度唱片销量冠军2010年MP3下载量全球第三2009年悉尼演唱会票房公告牌全球第二两届MTV亚洲大奖最受欢迎艺人连续7年获得IFPI香港唱片销量大奖十大销量国语唱片四届新加坡金曲奖最受欢迎男歌手收起'),\n",
       " ('主要成就',\n",
       "  '获得十五座金曲奖两届台湾金曲奖最佳国语男歌手四届世界音乐大奖最畅销中华区艺人入选美国CNN亚洲25位最具影响力人物\\xa0《Fast Company》全球百大创意人物展开获得十五座金曲奖两届台湾金曲奖最佳国语男歌手四届世界音乐大奖最畅销中华区艺人入选美国CNN亚洲25位最具影响力人物\\xa0《Fast Company》全球百大创意人物大中华区8次年度唱片销量冠军2010年MP3下载量全球第三2009年悉尼演唱会票房公告牌全球第二两届MTV亚洲大奖最受欢迎艺人连续7年获得IFPI香港唱片销量大奖十大销量国语唱片四届新加坡金曲奖最受欢迎男歌手收起'),\n",
       " ('代表作品', '星晴、龙卷风、简单爱、双截棍、晴天、以父之名、七里香、夜曲、青花瓷、彩虹、稻香、告白气球'),\n",
       " ('出生地', '台湾省新北市'),\n",
       " ('出生日期', '1979年1月18日'),\n",
       " ('别名', '周董'),\n",
       " ('国籍', '中国'),\n",
       " ('外文名', 'Jay Chou'),\n",
       " ('影视代表作', '不能说的秘密、逆战、天台'),\n",
       " ('影视代表作', '青蜂侠、头文字D、大灌篮、寻找周杰伦'),\n",
       " ('星座', '摩羯座'),\n",
       " ('毕业院校', '淡江中学'),\n",
       " ('民族', '汉族'),\n",
       " ('经纪公司', '杰威尔音乐有限公司'),\n",
       " ('职业', '歌手、音乐人、制作人、导演、商人'),\n",
       " ('血型', 'O型'),\n",
       " ('身高', '175cm')]"
      ]
     },
     "execution_count": 100,
     "metadata": {},
     "output_type": "execute_result"
    }
   ],
   "source": [
    "sub_map['周杰伦']"
   ]
  },
  {
   "cell_type": "markdown",
   "id": "5155c19c",
   "metadata": {},
   "source": [
    "**obj_map记录的是每一个尾实体(object、tail)对应的所有可能出现的(头实体，关系)的集合**"
   ]
  },
  {
   "cell_type": "code",
   "execution_count": 101,
   "id": "825b4573",
   "metadata": {},
   "outputs": [
    {
     "data": {
      "text/plain": [
       "[('七虫七花膏', '发明者'),\n",
       " ('三恋', '编剧'),\n",
       " ('三恋', '编剧'),\n",
       " ('九阴真经（金庸小说中的武学秘籍）', '作者'),\n",
       " ('书剑恩仇录（1976年香港TVB郑少秋主演版电视剧）', '原著'),\n",
       " ('书剑恩仇录（1976年香港TVB郑少秋主演版电视剧）', '原著'),\n",
       " ('书剑恩仇录（1981年香港邵氏狄龙主演版电影）', '原著'),\n",
       " ('书剑恩仇录（1981年香港邵氏狄龙主演版电影）', '原著'),\n",
       " ('书剑恩仇录（2015张纪中版书剑恩仇录）', '原著'),\n",
       " ('书剑恩仇录（2015张纪中版书剑恩仇录）', '原著'),\n",
       " ('书剑恩仇录（原著改编连环画）', '小说作者'),\n",
       " ('书剑恩仇录（金庸创作长篇武侠小说）', '作者'),\n",
       " ('书剑恩仇录（金庸创作长篇武侠小说）', '作者'),\n",
       " ('伏魔杖法', '作者'),\n",
       " ('何三七', '作者'),\n",
       " ('何三七', '作者'),\n",
       " ('侠客行（金庸创作长篇武侠小说）', '作者'),\n",
       " ('侠客行（金庸创作长篇武侠小说）', '作者'),\n",
       " ('俞连舟', '作者'),\n",
       " ('俞连舟', '作者'),\n",
       " ('倚天屠龙记之魔教教主', '编剧'),\n",
       " ('倚天屠龙记（1986年王天林监制的TVB电视剧）', '原著'),\n",
       " ('倚天屠龙记（1994年台湾台视版马景涛主演电视剧）', '原著'),\n",
       " ('倚天屠龙记（1994年马景涛主演电视剧）', '原著'),\n",
       " ('倚天屠龙记（2001年香港TVB版吴启华主演电视剧）', '原著'),\n",
       " ('倚天屠龙记（2001年香港TVB版吴启华主演电视剧）', '原著'),\n",
       " ('倚天屠龙记（2003年合拍版苏有朋主演电视剧）', '原著'),\n",
       " ('倚天屠龙记（2003年合拍版苏有朋主演电视剧）', '原著'),\n",
       " ('倚天屠龙记（2009年大陆版邓超主演电视剧）', '原著'),\n",
       " ('倚天屠龙记（2009年大陆版邓超主演电视剧）', '原著'),\n",
       " ('倚天屠龙记（2019年曾舜晞主演电视剧）', '原著'),\n",
       " ('倚天屠龙记（2019年蒋家骏执导电视剧）', '原著'),\n",
       " ('倚天屠龙记（共四册）', '作者'),\n",
       " ('倚天屠龙记（武侠小说改编漫画）', '原作'),\n",
       " ('倚天屠龙记（金庸创作长篇小说）', '作者'),\n",
       " ('倚天屠龙记（金庸经典武侠长篇小说）', '作者'),\n",
       " ('倚天屠龙记（马荣成主编的武侠小说改编漫画）', '原作者'),\n",
       " ('傅思归', '作者'),\n",
       " ('傅思归', '作者'),\n",
       " ('元澄道人', '作者'),\n",
       " ('先天真气', '作者'),\n",
       " ('先天真气', '作者'),\n",
       " ('兰花花（1958年程步高执导电影）', '编剧'),\n",
       " ('兰花花（1958年程步高执导电影）', '编剧'),\n",
       " ('内劲', '较早提出者'),\n",
       " ('冯难敌', '作者'),\n",
       " ('刘菁（小说《笑傲江湖》人物）', '作者'),\n",
       " ('刘菁（小说《笑傲江湖》人物）', '作者'),\n",
       " ('刘鹤真', '作者'),\n",
       " ('刘鹤真', '作者'),\n",
       " ('午夜琴声（1959年胡小峰执导的电影）', '编剧'),\n",
       " ('参合指', '作家'),\n",
       " ('参合指', '作家'),\n",
       " ('古今五大神功', '作者'),\n",
       " ('史秉光', '作者'),\n",
       " ('司空玄', '作者'),\n",
       " ('司空玄', '作者'),\n",
       " ('听香水榭（诗词）', '作者'),\n",
       " ('听香水榭（诗词）', '作者'),\n",
       " ('吴柏英', '创作人'),\n",
       " ('商剑鸣', '作者'),\n",
       " ('商剑鸣', '作者'),\n",
       " ('四十二章经（小说《鹿鼎记》中藏宝图）', '作者'),\n",
       " ('四十二章经（小说《鹿鼎记》中藏宝图）', '作者'),\n",
       " ('圣因师太', '作者'),\n",
       " ('圣因师太', '作者'),\n",
       " ('圣火令（金庸小说《倚天屠龙记》兵器武功）', '作者'),\n",
       " ('大佛岩景区', '来源'),\n",
       " ('天镜禅师', '作者'),\n",
       " ('天镜禅师', '作者'),\n",
       " ('天鹰教', '作者'),\n",
       " ('天龙八部（1997年香港TVB版黄日华主演的电视剧）', '原著'),\n",
       " ('天龙八部（1997年黄日华版电视剧）', '原著'),\n",
       " ('天龙八部（2002年智冠科技出品单机游戏）', '原作'),\n",
       " ('天龙八部（2002年智冠科技出品单机游戏）', '原作品'),\n",
       " ('天龙八部（2013年钟汉良主演电视剧）', '原著'),\n",
       " ('天龙八部（2013年钟汉良主演电视剧）', '原著'),\n",
       " ('天龙八部（漫画作品）', '原作者'),\n",
       " ('天龙八部（金庸长篇武侠小说）', '作者'),\n",
       " ('天龙八部（金庸长篇武侠小说）', '作者'),\n",
       " ('太虚子（金庸小说《倚天屠龙记》中人物）', '创造人'),\n",
       " ('奇门三才刀', '作者'),\n",
       " ('奚三祁', '作者'),\n",
       " ('完颜忒邻', '主要作品'),\n",
       " ('定静师太', '作者'),\n",
       " ('室里', '作者'),\n",
       " ('寻他千百度（2014年中华书局出版的图书）', '作者'),\n",
       " ('寻他千百度（珍藏版）', '作者'),\n",
       " ('寿木长生功', '作者'),\n",
       " ('射雕三部曲（金庸作品）', '作者'),\n",
       " ('射雕三部曲（金庸所著三部武侠小说的合称）', '作者'),\n",
       " ('射雕英雄传ZERO', '原作品'),\n",
       " ('射雕英雄传之南帝北丐', '原著'),\n",
       " ('射雕英雄传之南帝北丐', '原著'),\n",
       " ('射雕英雄传（1988年台湾中视版黄文豪、陈玉莲主演电视剧）', '原著'),\n",
       " ('射雕英雄传（1988年台湾中视版黄文豪、陈玉莲主演电视剧）', '原著'),\n",
       " ('射雕英雄传（2000年SCEI制作发行游戏）', '原作'),\n",
       " ('射雕英雄传（2000年SCEI制作发行游戏）', '原作品'),\n",
       " ('射雕英雄传（2003年内地版李亚鹏、周迅主演电视剧）', '原著'),\n",
       " ('射雕英雄传（2003年内地版李亚鹏、周迅主演电视剧）', '原著'),\n",
       " ('射雕英雄传（2017年杨旭文、李一桐主演的电视剧）', '原著'),\n",
       " ('射雕英雄传（2017年陈嘉上执导的3D电影）', '编剧'),\n",
       " ('射雕英雄传（2017年陈嘉上执导的3D电影）', '编剧'),\n",
       " ('射雕英雄传（全四册）', '作者'),\n",
       " ('射雕英雄传（原著改编连环画）', '作者'),\n",
       " ('射雕英雄传（原著改编连环画）', '作者'),\n",
       " ('射雕英雄传（金庸创作长篇武侠小说）', '作者'),\n",
       " ('射雕英雄传（金庸创作长篇武侠小说）', '作者'),\n",
       " ('小棒头', '作者'),\n",
       " ('小鸽子姑娘', '编剧'),\n",
       " ('小鸽子姑娘', '编剧'),\n",
       " ('嵩山十三太保', '作者'),\n",
       " ('巨鲸帮（金庸武侠小说《倚天屠龙记》中的帮派）', '作者'),\n",
       " ('徐潮生', '作者'),\n",
       " ('徐潮生', '作者'),\n",
       " ('徐禄（金庸的生母）', '儿子'),\n",
       " ('徐禄（金庸的生母）', '儿子'),\n",
       " ('德成', '作者'),\n",
       " ('德成', '作者'),\n",
       " ('思过崖', '出自'),\n",
       " ('恒山三定', '登场作品作者'),\n",
       " ('悲酥清风（《天龙八部》毒气）', '作者'),\n",
       " ('悲酥清风（《天龙八部》毒气）', '作者'),\n",
       " ('慕容街', '题字人'),\n",
       " ('慧通', '作者'),\n",
       " ('慧风', '作者'),\n",
       " ('慧风', '作者'),\n",
       " ('成璜', '作者'),\n",
       " ('摘星子', '作者'),\n",
       " ('擒龙功（金庸笔下少林绝技）', '作者'),\n",
       " ('断龙石', '作者'),\n",
       " ('新神雕侠侣（昱泉国际开发单机游戏）', '原作品'),\n",
       " ('新神雕侠侣（林峰执导的电视剧）', '原著'),\n",
       " ('新笑傲江湖', '原著'),\n",
       " ('新笑傲江湖（2018年丁冠森、薛昊婧主演电视剧）', '原著'),\n",
       " ('新笑傲江湖（电视剧）', '原著'),\n",
       " ('方评', '作者'),\n",
       " ('无声无色剑招', '作者'),\n",
       " ('无量玉壁', '相关人物'),\n",
       " ('日月神教', '撰写者'),\n",
       " ('明窗小札1963（上）', '作者'),\n",
       " ('明窗小札1963（下）', '作者'),\n",
       " ('星宿海（天龙八部星宿一派）', '作者'),\n",
       " ('智光大师（《天龙八部》人物）', '作者'),\n",
       " ('智光大师（《天龙八部》人物）', '作者'),\n",
       " ('曹司朋', '作者'),\n",
       " ('月云', '作者'),\n",
       " ('月云', '作者'),\n",
       " ('有女怀春（1958年金庸、程步高联合执导电影）', '编剧'),\n",
       " ('有女怀春（1958年金庸、程步高联合执导电影）', '编剧'),\n",
       " ('李傀儡', '创作人'),\n",
       " ('杜治芬', '前夫'),\n",
       " ('杜治芬', '前夫'),\n",
       " ('杜百当', '作者'),\n",
       " ('林乐怡', '丈夫'),\n",
       " ('林乐怡', '丈夫'),\n",
       " ('林玉龙（《鸳鸯刀》的人物）', '作者'),\n",
       " ('枯荣大师', '小说作者'),\n",
       " ('枯荣禅功（金庸作品中的武功）', '作者'),\n",
       " ('枯荣禅功（金庸作品中的武功）', '作者'),\n",
       " ('查传侠', '父亲'),\n",
       " ('查传侠', '父亲'),\n",
       " ('查传讷', '父亲'),\n",
       " ('查传讷', '父亲'),\n",
       " ('查慎行', '后代'),\n",
       " ('查良琇', '哥哥'),\n",
       " ('查良琇', '哥哥'),\n",
       " ('查良璇', '二哥'),\n",
       " ('查良铿', '弟弟'),\n",
       " ('查良铿', '弟弟'),\n",
       " ('桃枝仙', '作者'),\n",
       " ('桃枝仙', '作者'),\n",
       " ('桃花岛（金庸小说中的岛屿）', '作者'),\n",
       " ('桃花岛（金庸小说中的岛屿）', '作者'),\n",
       " ('桃花（王家卫导演的电影《东邪西毒》中的人物）', '原著'),\n",
       " ('桑土公', '原著作者'),\n",
       " ('江南四友', '作者'),\n",
       " ('江南四友', '作者'),\n",
       " ('汤沛', '小说作者'),\n",
       " ('澄光', '作者'),\n",
       " ('澄光', '作者：'),\n",
       " ('灵蛇岛', '作者'),\n",
       " ('灵蛇岛', '作者'),\n",
       " ('点苍双剑', '作者'),\n",
       " ('点苍双剑', '作者'),\n",
       " ('照虚', '作者'),\n",
       " ('照虚', '作者'),\n",
       " ('熏田鸡腿', '作者'),\n",
       " ('玄悲', '作者'),\n",
       " ('玄悲', '作者'),\n",
       " ('玉玲珑（逍遥派玉玲珑）', '作者'),\n",
       " ('玉玲珑（逍遥派玉玲珑）', '作者'),\n",
       " ('玛米儿', '作者'),\n",
       " ('白马啸西风（1982年的台湾电视剧集）', '原著'),\n",
       " ('白马啸西风（1982年的台湾电视剧集）', '原著'),\n",
       " ('白马啸西风（张纪中制片电视剧）', '原著'),\n",
       " ('白马啸西风（金庸创作中篇武侠小说）', '作者'),\n",
       " ('白马啸西风（金庸创作中篇武侠小说）', '作者'),\n",
       " ('百草仙（金庸小说《神雕侠侣》人物）', '作者'),\n",
       " ('百草仙（金庸小说《神雕侠侣》人物）', '作者'),\n",
       " ('碧水剑', '作者'),\n",
       " ('碧海潮生曲（武功乐曲）', '作者'),\n",
       " ('碧海潮生曲（武功乐曲）', '作者'),\n",
       " ('碧血剑（1977年香港佳视出品电视剧）', '原著'),\n",
       " ('碧血剑（1977年香港佳视出品电视剧）', '原著'),\n",
       " ('碧血剑（1981年张彻导演电影）', '原著'),\n",
       " ('碧血剑（1981年张彻导演电影）', '原著'),\n",
       " ('碧血剑（金庸创作长篇小说）', '作者'),\n",
       " ('碧血剑（金庸创作长篇小说）', '作者'),\n",
       " ('神照上人', '作者'),\n",
       " ('神经大侠', '原著'),\n",
       " ('神经大侠', '原著'),\n",
       " ('神雕侠侣·金庸武侠全集评点本（全四册）', '作者'),\n",
       " ('神雕侠侣（1976年香港佳视版罗乐林、李通明主演电视剧）', '原著'),\n",
       " ('神雕侠侣（1976年香港佳视版罗乐林、李通明主演电视剧）', '原著'),\n",
       " ('神雕侠侣（1997年智冠科技出品单机游戏）', '原作者'),\n",
       " ('神雕侠侣（1998年新加坡版李铭顺、范文芳主演电视剧）', '编剧'),\n",
       " ('神雕侠侣（1998年新加坡版范文芳、李铭顺主演电视剧）', '编剧'),\n",
       " ('神雕侠侣（1998年新加坡版范文芳、李铭顺主演电视剧）', '编剧'),\n",
       " ('神雕侠侣（1999年出版的武侠小说改编漫画）', '原著'),\n",
       " ('神雕侠侣（1999年出版的武侠小说改编漫画）', '原著'),\n",
       " ('神雕侠侣（2003年出品的根据同名武侠小说改编的动画）', '原作者'),\n",
       " ('神雕侠侣（2003年出版的武侠小说改编动画）', '原作'),\n",
       " ('神雕侠侣（2003年出版的武侠小说改编动画）', '原作者'),\n",
       " ('神雕侠侣（2019年佟梦实、毛晓慧主演电视剧）', '原著'),\n",
       " ('神雕侠侣（2019年凤凰娱乐出品漫画）', '原作者'),\n",
       " ('神雕侠侣（2021年徐克执导电影）', '原著'),\n",
       " ('神雕侠侣（全四册）', '作者'),\n",
       " ('神雕侠侣（金庸创作的长篇武侠小说）', '作者'),\n",
       " ('神雕侠侣（金庸创作长篇武侠小说）', '作者'),\n",
       " ('童大海', '作者'),\n",
       " ('童百熊', '饰演'),\n",
       " ('笑傲江湖（1984年李鼎伦监制TVB电视剧）', '原著'),\n",
       " ('笑傲江湖（2001年大陆版李亚鹏、许晴主演电视剧）', '原著'),\n",
       " ('笑傲江湖（2001年大陆版李亚鹏、许晴主演电视剧）', '原著'),\n",
       " ('笑傲江湖（全四册）', '作者'),\n",
       " ('笑傲江湖（金庸长篇武侠小说）', '作者'),\n",
       " ('笑傲江湖（金庸长篇武侠小说）', '作者'),\n",
       " ('符敏仪', '作者'),\n",
       " ('符敏仪', '作者'),\n",
       " ('绕指柔剑', '作者'),\n",
       " ('绝代佳人（1953年李萍倩执导电影）', '编剧'),\n",
       " ('绝代佳人（1953年李萍倩执导电影）', '编剧'),\n",
       " ('绝代佳人（汉语词语）', '编剧'),\n",
       " ('绝情丹（《神雕侠侣》中绝情谷情花之毒的解药）', '作者'),\n",
       " ('绝情丹（《神雕侠侣》中绝情谷情花之毒的解药）', '作者'),\n",
       " ('耶律莫哥', '作者'),\n",
       " ('耿万钟', '作者：'),\n",
       " ('胡桂南', '原作者'),\n",
       " ('胡青牛', '作者'),\n",
       " ('胡青羊', '作者'),\n",
       " ('舒化龙（小说《鹿鼎记》人物）', '作家'),\n",
       " ('花万紫', '作品作者'),\n",
       " ('苏冈', '作者'),\n",
       " ('苏鲁克（金庸小说《白马啸西风》中的人物）', '小说作者'),\n",
       " ('范百龄', '作者'),\n",
       " ('范百龄', '作者'),\n",
       " ('荣彩（金庸小说《碧血剑》人物）', '作者'),\n",
       " ('荣彩（金庸小说《碧血剑》人物）', '作者'),\n",
       " ('药王门', '作者'),\n",
       " ('药王门', '作者'),\n",
       " ('落英剑法', '作者'),\n",
       " ('落英神剑掌（网络游戏中招数）', '原著作者'),\n",
       " ('葛光佩', '作者'),\n",
       " ('葛光佩', '作者'),\n",
       " ('董开山', '作者'),\n",
       " ('董开山', '作者'),\n",
       " ('蒋英（钱学森夫人）', '表弟'),\n",
       " ('蒙古三杰', '作者'),\n",
       " ('虚竹传奇', '作者'),\n",
       " ('蜜桃成熟时3之蜜桃仙子', '编剧'),\n",
       " ('蜜桃成熟时3之蜜桃仙子', '编剧'),\n",
       " ('血鸟（连载版《射雕英雄传》里的生物）', '作者'),\n",
       " ('血鸟（连载版《射雕英雄传》里的生物）', '作者'),\n",
       " ('袁崇焕评传', '作者'),\n",
       " ('袁崇焕评传', '作者'),\n",
       " ('褚圆', '作者：'),\n",
       " ('谭青（天龙八部谭青）', '作者'),\n",
       " ('谭青（天龙八部谭青）', '作者'),\n",
       " ('赫连铁树', '作者'),\n",
       " ('越女剑（金庸创作短篇武侠小说）', '作者'),\n",
       " ('越女剑（金庸创作短篇武侠小说）', '作者'),\n",
       " ('躺尸剑法', '作者'),\n",
       " ('辟邪剑谱', '作者'),\n",
       " ('运功疗伤', '作者'),\n",
       " ('运功疗伤', '原版名称'),\n",
       " ('连城诀（2004年王新民执导大陆版电视剧）', '原著'),\n",
       " ('连城诀（2004年王新民执导大陆版电视剧）', '原著'),\n",
       " ('连城诀（金庸创作长篇武侠小说）', '作者'),\n",
       " ('连城诀（金庸创作长篇武侠小说）', '作者'),\n",
       " ('连环庄', '作者'),\n",
       " ('连环庄', '作者'),\n",
       " ('迟玄', '作者'),\n",
       " ('迟玄', '作者'),\n",
       " ('逍遥派（词语释义）', '作者'),\n",
       " ('释迦掷象功', '作者'),\n",
       " ('金刚伏魔神通', '作者'),\n",
       " ('金庸作品', '作者'),\n",
       " ('金庸作品集（36册）', '作者'),\n",
       " ('金庸全集', '作者'),\n",
       " ('金庸全集', '作者'),\n",
       " ('金庸历史', '人物'),\n",
       " ('金庸小说', '作者'),\n",
       " ('金庸小说', '作者'),\n",
       " ('金庸散文集', '作者'),\n",
       " ('金庸星', '命名'),\n",
       " ('金庸星', '命名'),\n",
       " ('金庸武侠小说全集（电子图书二碟装）', '作者'),\n",
       " ('金庸（艺术家）', '中文名'),\n",
       " ('金蛇剑法', '提出'),\n",
       " ('金蛇剑法', '提出'),\n",
       " ('金顶门', '作者'),\n",
       " ('阴阳谷', '作者'),\n",
       " ('阴阳谷', '作者'),\n",
       " ('阿丽丝漫游记', '作者'),\n",
       " ('阿诺（插画画家）', '喜欢作家'),\n",
       " ('陈达海', '作者'),\n",
       " ('陈达海', '作者'),\n",
       " ('降龙十八掌（九阴真经OL绝世武学降龙十八掌）', '作者'),\n",
       " ('降龙十八掌（九阴真经OL绝世武学降龙十八掌）', '作者'),\n",
       " ('降龙廿八掌', '作者'),\n",
       " ('降龙廿八掌', '作者'),\n",
       " ('雪山飞狐（1985年TVB吕良伟、曾华倩主演电视剧）', '原著'),\n",
       " ('雪山飞狐（1985年王天林监制的香港古装武侠剧）', '原著'),\n",
       " ('雪山飞狐（1991年孟飞主演电视剧）', '原著'),\n",
       " ('雪山飞狐（1991年孟飞主演电视剧）', '原著'),\n",
       " ('雪山飞狐（2019年华策出品电视剧）', '原著'),\n",
       " ('雪山飞狐（卫子云1978年主演电视剧）', '原著'),\n",
       " ('雪山飞狐（卫子云1978年主演电视剧）', '原著'),\n",
       " ('雪山飞狐（聂远2007年主演电视剧）', '原著'),\n",
       " ('雪山飞狐（聂远2007年主演电视剧）', '原著'),\n",
       " ('雪山飞狐（金庸创作长篇武侠小说）', '作者'),\n",
       " ('雪山飞狐（金庸创作长篇武侠小说）', '作者'),\n",
       " ('青城四秀', '作者'),\n",
       " ('飞狐外传（2018年武侠剧）', '原著'),\n",
       " ('飞狐外传（金庸创作长篇武侠小说）', '作者'),\n",
       " ('飞狐外传（金庸创作长篇武侠小说）', '作者'),\n",
       " ('飞狐外传（霍尔果斯一实文化传媒有限公司拍摄武侠剧）', '原著'),\n",
       " ('飞龙在天（武侠小说功夫招式）', '作者'),\n",
       " ('飞龙在天（武侠小说功夫招式）', '作者'),\n",
       " ('香港赋', '作者'),\n",
       " ('香药葡萄', '作者'),\n",
       " ('香药葡萄', '作者'),\n",
       " ('鲍千灵', '作者'),\n",
       " ('鲍千灵', '作者'),\n",
       " ('鲍大楚', '作者'),\n",
       " ('鲍大楚', '作者'),\n",
       " ('鸳鸯刀（金庸创作中篇武侠小说）', '作者'),\n",
       " ('鸳鸯刀（金庸创作中篇武侠小说）', '作者'),\n",
       " ('鹿鼎记（2008年内地黄晓明、钟汉良主演电视剧）', '原著'),\n",
       " ('鹿鼎记（2008年内地黄晓明、钟汉良主演电视剧）', '原著'),\n",
       " ('鹿鼎记（2020年张一山、唐艺昕主演的电视剧）', '原著'),\n",
       " ('鹿鼎记（全五册）', '作者'),\n",
       " ('鹿鼎记（凤凰娱乐出品漫画）', '作者'),\n",
       " ('鹿鼎记（金庸长篇武侠小说）', '作者'),\n",
       " ('鹿鼎记（金庸长篇武侠小说）', '作者'),\n",
       " ('鹿鼎记（香港黄玉郎画的漫画）', '原作者'),\n",
       " ('黑白子', '作者'),\n",
       " ('黑白子（金庸武侠小说《笑傲江湖》中的角色）', '作者'),\n",
       " ('齐云璈', '作者')]"
      ]
     },
     "execution_count": 101,
     "metadata": {},
     "output_type": "execute_result"
    }
   ],
   "source": [
    "obj_map['金庸']"
   ]
  },
  {
   "cell_type": "markdown",
   "id": "02e26eed",
   "metadata": {},
   "source": [
    "**so_map记录的每一个（头实体，尾实体）对应的所有可能的关系集合**"
   ]
  },
  {
   "cell_type": "code",
   "execution_count": 102,
   "id": "ecdfcebc",
   "metadata": {},
   "outputs": [
    {
     "name": "stdout",
     "output_type": "stream",
     "text": [
      "['民族']\n",
      "['国籍']\n"
     ]
    }
   ],
   "source": [
    "print(so_map[('周杰伦', '汉族')])\n",
    "print(so_map[('金庸', '中国')])"
   ]
  },
  {
   "cell_type": "markdown",
   "id": "e33ad190",
   "metadata": {},
   "source": [
    "# 确保问答对中的topic实体与answer在KG中"
   ]
  },
  {
   "cell_type": "code",
   "execution_count": 109,
   "id": "c7351fe7",
   "metadata": {},
   "outputs": [
    {
     "name": "stdout",
     "output_type": "stream",
     "text": [
      "21974\n",
      "21974\n"
     ]
    }
   ],
   "source": [
    "print(len(all_examples))\n",
    "for i,example in enumerate(all_examples):\n",
    "    question,topic_entity,answer=example['question'],example['topic_entity'],example['answer']\n",
    "    assert topic_entity in entities_set\n",
    "    try:\n",
    "        assert answer in entities_set\n",
    "    except:\n",
    "        print(example)\n",
    "        del all_examples[i]\n",
    "print(len(all_examples))"
   ]
  },
  {
   "cell_type": "markdown",
   "id": "5225b5e8",
   "metadata": {},
   "source": [
    "## 确保预测的提交测试集的每一个topic_entity在KG中"
   ]
  },
  {
   "cell_type": "code",
   "execution_count": 107,
   "id": "a3513369",
   "metadata": {},
   "outputs": [
    {
     "name": "stdout",
     "output_type": "stream",
     "text": [
      "{'id': 374, 'question': '谁知道进取性优生学叫什么？', 'topic_entity': '进取性优生'}\n",
      "{'id': 838, 'question': '1945-1949年苏-35战斗机生产了多少台？', 'topic_entity': '1945-1949年苏-35战斗机'}\n",
      "{'id': 839, 'question': '1945-1949年玉神工艺品有限公司生产了多少台？', 'topic_entity': '1945-1949年玉神工艺品有限公司'}\n",
      "{'id': 930, 'question': '你知道奈鲁布恩坎的壳需要多少等级吗？', 'topic_entity': '奈鲁布恩坎'}\n",
      "{'id': 1394, 'question': '企业国有产权无偿划转工作指引出自哪里？', 'topic_entity': '企业国有产权无偿划转工作'}\n",
      "{'id': 1803, 'question': '0-3岁好习惯儿歌有什么ISBN有谁知道吗', 'topic_entity': '0-3岁好习惯'}\n",
      "{'id': 1835, 'question': '一壹国际影视文化传媒在那个地方地方注册登记的', 'topic_entity': '一壹国际影视文化传媒'}\n",
      "{'id': 1992, 'question': '41824183次列车的长度是多少', 'topic_entity': '41824183次'}\n",
      "{'id': 2033, 'question': \"(It's not a crime) It's just what we do的导演是谁\", 'topic_entity': \"It's not a crime) It's just what we do\"}\n",
      "{'id': 2034, 'question': '(You Drive Me) Crazy的导演是谁', 'topic_entity': 'You Drive Me) Crazy'}\n",
      "{'id': 2036, 'question': '...Ready for It?的MV导演是那个', 'topic_entity': '...Ready for It?的MV导演是那个'}\n",
      "{'id': 2064, 'question': '那些集里面有一字剑', 'topic_entity': ''}\n",
      "{'id': 2160, 'question': '《摩埃坦丝夫人立像》的习作的画作类型是什么', 'topic_entity': '摩埃坦丝夫人立像'}\n",
      "{'id': 2161, 'question': '《路易斯·凯鲁比尼》的习作是什么类型的画作', 'topic_entity': '路易斯·凯鲁比尼'}\n",
      "{'id': 2162, 'question': '一个头戴黑色高帽的男子画像是什么类型的画作', 'topic_entity': '一个头戴黑色高帽的男子'}\n",
      "{'id': 2163, 'question': '你知道一个年轻女人的肖像是哪种类别的画呀', 'topic_entity': '一个年轻女人'}\n"
     ]
    }
   ],
   "source": [
    "def ScreenEntity(topic_entity):\n",
    "    if topic_entity[1:] in entities_set:\n",
    "        return topic_entity[1:]\n",
    "    elif topic_entity[2:] in entities_set:\n",
    "        return topic_entity[2:]\n",
    "    elif topic_entity[:-1] in entities_set:\n",
    "        return topic_entity[:-1]\n",
    "    elif topic_entity[:-2] in entities_set:\n",
    "        return topic_entity[:-2]\n",
    "    else:\n",
    "        return ''\n",
    "    \n",
    "for i,example in enumerate(private_test_data):\n",
    "    question,topic_entity=example['question'],example['topic_entity']\n",
    "    assert topic_entity in question\n",
    "    if topic_entity not in entities_set:\n",
    "        topic_entity=ScreenEntity(topic_entity=topic_entity)\n",
    "        if topic_entity!='':\n",
    "            assert topic_entity in question and topic_entity in entities_set\n",
    "            private_test_data[i]['topic_entity']=topic_entity\n",
    "            \n",
    "for i,example in enumerate(private_test_data):\n",
    "    question,topic_entity=example['question'],example['topic_entity']\n",
    "    assert topic_entity in question\n",
    "    if topic_entity not in entities_set:\n",
    "        print(example)"
   ]
  },
  {
   "cell_type": "code",
   "execution_count": 108,
   "id": "bffb9020",
   "metadata": {},
   "outputs": [],
   "source": [
    "with open(\"../qa_data/private_test.json\",'w') as f:\n",
    "    for example in private_test_data:\n",
    "        f.write(json.dumps(example,ensure_ascii=False)+'\\n')"
   ]
  },
  {
   "cell_type": "markdown",
   "id": "b37958ea",
   "metadata": {},
   "source": [
    "经过多次screen，3000条测试数据中已保证2983条数据中的topic实体是可以在KG中找到的"
   ]
  },
  {
   "cell_type": "markdown",
   "id": "8299db10",
   "metadata": {},
   "source": [
    "已经确保QA数据集中的topic实体和答案可以在知识图谱中找得到\n",
    "# 保存实体和关系"
   ]
  },
  {
   "cell_type": "code",
   "execution_count": 13,
   "id": "6ddef20b",
   "metadata": {},
   "outputs": [],
   "source": [
    "with open('../knowledge/entities.dict','w') as f:\n",
    "    for i,entity in enumerate(entities_set):\n",
    "        if entity.strip()=='':\n",
    "            continue\n",
    "        f.write(str(entity)+'\\t'+str(i)+'\\n')\n",
    "with open('../knowledge/relations.dict','w') as f:\n",
    "    for i,rel in enumerate(relations_set):\n",
    "        if rel.strip()=='':\n",
    "            continue\n",
    "        f.write(str(rel)+'\\t'+str(i)+'\\n')"
   ]
  },
  {
   "cell_type": "code",
   "execution_count": 14,
   "id": "ab0bfdee",
   "metadata": {},
   "outputs": [
    {
     "data": {
      "text/plain": [
       "9418104"
      ]
     },
     "execution_count": 14,
     "metadata": {},
     "output_type": "execute_result"
    }
   ],
   "source": [
    "len(entities_set)"
   ]
  },
  {
   "cell_type": "code",
   "execution_count": 15,
   "id": "e4440694",
   "metadata": {},
   "outputs": [
    {
     "data": {
      "text/plain": [
       "245837"
      ]
     },
     "execution_count": 15,
     "metadata": {},
     "output_type": "execute_result"
    }
   ],
   "source": [
    "len(relations_set)"
   ]
  },
  {
   "cell_type": "markdown",
   "id": "728564db",
   "metadata": {},
   "source": [
    "# 保存QA数据集"
   ]
  },
  {
   "cell_type": "code",
   "execution_count": 16,
   "id": "4022f4dd",
   "metadata": {},
   "outputs": [
    {
     "name": "stdout",
     "output_type": "stream",
     "text": [
      "21974\n"
     ]
    }
   ],
   "source": [
    "print(len(all_examples))\n",
    "def write_file(data,path):\n",
    "    f=open(path,'w')\n",
    "    for example in data:\n",
    "        question,topic_entity,answer,relation=example['question'],example['topic_entity'],example['answer'],example['relation']\n",
    "        question=question.replace('\\t','')\n",
    "        answer=answer.replace('\\t','')\n",
    "        assert topic_entity in entities_set\n",
    "        assert answer in entities_set\n",
    "        f.write(question+'\\t'+answer+'\\t'+'\\n')\n",
    "    f.close()\n",
    "    \n",
    "write_file(all_examples[:-2000],'/home/xhsun/Desktop/KG/kgCLUE/qa_data/train.txt')\n",
    "write_file(all_examples[-2000:],'/home/xhsun/Desktop/KG/kgCLUE/qa_data/test.txt')"
   ]
  },
  {
   "cell_type": "code",
   "execution_count": null,
   "id": "c3cbc17a",
   "metadata": {},
   "outputs": [],
   "source": []
  },
  {
   "cell_type": "code",
   "execution_count": null,
   "id": "92366295",
   "metadata": {},
   "outputs": [],
   "source": []
  },
  {
   "cell_type": "markdown",
   "id": "811c66f2",
   "metadata": {},
   "source": [
    "## 根据QA对数据构造小规模知识图谱"
   ]
  },
  {
   "cell_type": "markdown",
   "id": "e3f1ed09",
   "metadata": {},
   "source": [
    "符号说明\n",
    "- KG   知识图谱               \n",
    "- $T_{big}$  大规模KG中三元组集合 \n",
    "- $E_{big}$  大规模KG中的实体集合   \n",
    "- $R_{big}$  大规模KG中的关系集合   "
   ]
  },
  {
   "cell_type": "markdown",
   "id": "c82d5cc8",
   "metadata": {},
   "source": [
    "构造的思路是对于数据集中每一个（问题，答案）：\n",
    "1. 将问题中的topic entity作为头实体，答案视为尾实体，根据（头实体，尾实体）的组合从so_map中找到所有可能的关系。\n",
    "2. 根据问题中的topic entity，获取这个topic entity的n跳路径内的所有实体（n一般设置为2-4即可）"
   ]
  },
  {
   "cell_type": "markdown",
   "id": "ecaf7fd6",
   "metadata": {},
   "source": [
    "第一步的目的是统计QA数据集中每一个（问题，答案）之间的所有关系，记为集合$R_{qa}$，该集合代表的是整个QA数据集中所有可能出现的关系。\n",
    "针对$T_{big}$，我们仅保留涉及这些关系的三元组，**也就是说对于$T_{big}$中的某个三元组$(h,r,t)$，如果$r$不在集合$R_{qa}$中,那么这个三元组就会被舍弃**。\n",
    "\n",
    "显然这一步的目的是为了缩小关系集合，从而进一步的缩小三元组数量以及对应的实体数量。\n",
    "\n",
    "第二步的目的是通过限定路径长度进一步的缩小实体数量。"
   ]
  },
  {
   "cell_type": "code",
   "execution_count": 13,
   "id": "a91c0eea",
   "metadata": {},
   "outputs": [
    {
     "name": "stderr",
     "output_type": "stream",
     "text": [
      "100%|███████████████████████████████████████████████████████████████████████████████████████████████| 21975/21975 [00:02<00:00, 9093.93it/s]\n"
     ]
    }
   ],
   "source": [
    "small_triplets=set()\n",
    "small_entities=set()\n",
    "small_relations=set()\n",
    "new_examples=[]\n",
    "bad_entities=[]\n",
    "bad_answers=[]\n",
    "for i in tqdm(range(len(all_examples))):\n",
    "    example=deepcopy(all_examples[i])\n",
    "    question,topic_entity,answer,relation=example['question'],example['topic_entity'],example['answer'],example['relation']\n",
    "    answer=answer.replace('\\t','').replace(' ','')\n",
    "    example['answer']=answer\n",
    "    if answer.strip()=='':\n",
    "        continue\n",
    "    elif topic_entity not in sub_map:\n",
    "        bad_entities.append(topic_entity)\n",
    "        continue\n",
    "    elif answer not in obj_map:\n",
    "        bad_answers.append(answer)\n",
    "        continue\n",
    "    else:\n",
    "        head=topic_entity\n",
    "        small_entities.add(head)\n",
    "        small_entities.add(answer)\n",
    "        for rel in so_map[(head,answer)]:\n",
    "            small_relations.add(rel)#仅仅添加qa数据对中涉及的关系即可\n",
    "        \n",
    "        for p1, o1 in sub_map[head]:\n",
    "            if p1 in small_relations:\n",
    "                small_triplets.add((head,p1,o1))\n",
    "                small_entities.add(o1)\n",
    "            for p2, o2 in sub_map[o1]:\n",
    "                if p2 in small_relations:\n",
    "                    small_triplets.add((o1,p2,o2))\n",
    "                    small_entities.add(o2)\n",
    "                for p3, o3 in sub_map[o2]:\n",
    "                    if p3 in small_relations:\n",
    "                        small_triplets.add((o2,p3,o3))\n",
    "                        small_entities.add(o3)\n",
    "                    for p4, o4 in sub_map[o3]:\n",
    "                        if p4 in small_relations:\n",
    "                            small_triplets.add((o3,p4,o4))\n",
    "                            small_entities.add(o4)\n",
    "        new_examples.append(example)"
   ]
  },
  {
   "cell_type": "code",
   "execution_count": 14,
   "id": "3579f500",
   "metadata": {},
   "outputs": [
    {
     "name": "stdout",
     "output_type": "stream",
     "text": [
      "大规模图谱中一共有22884223个三元组，9418365个实体，245838个关系\n",
      "小规模图谱中一共有324494个三元组，210227个实体，2274个关系\n"
     ]
    }
   ],
   "source": [
    "print('大规模图谱中一共有{}个三元组，{}个实体，{}个关系'.format(len(lines),len(entities_set),len(relations_set)))\n",
    "print('小规模图谱中一共有{}个三元组，{}个实体，{}个关系'.format(len(small_triplets),len(small_entities),len(small_relations)))"
   ]
  },
  {
   "cell_type": "markdown",
   "id": "e7aca566",
   "metadata": {},
   "source": [
    "**QA数据集和知识图谱构造完毕**"
   ]
  },
  {
   "cell_type": "code",
   "execution_count": 15,
   "id": "266d9c29",
   "metadata": {},
   "outputs": [
    {
     "data": {
      "text/plain": [
       "{'question': '你知道<守望星光（韩玉玲、刘东考演唱歌曲）>是哪家公司出品的吗？',\n",
       " 'topic_entity': '守望星光（韩玉玲、刘东考演唱歌曲）',\n",
       " 'answer': '韩玉玲原创音乐',\n",
       " 'relation': '出品公司'}"
      ]
     },
     "execution_count": 15,
     "metadata": {},
     "output_type": "execute_result"
    }
   ],
   "source": [
    "new_examples[0]"
   ]
  },
  {
   "cell_type": "code",
   "execution_count": 24,
   "id": "f94f4a0e",
   "metadata": {},
   "outputs": [],
   "source": [
    "for example in new_examples:\n",
    "    topic_entity,answer,relation=example['topic_entity'],example['answer'],example['relation']\n",
    "    assert topic_entity.strip() in small_entities\n",
    "    assert answer.strip() in small_entities\n",
    "    #assert relation in small_relations"
   ]
  },
  {
   "cell_type": "markdown",
   "id": "38326132",
   "metadata": {},
   "source": [
    "# 将QA数据集划分并保存"
   ]
  },
  {
   "cell_type": "code",
   "execution_count": 16,
   "id": "5ea85d81",
   "metadata": {},
   "outputs": [
    {
     "name": "stdout",
     "output_type": "stream",
     "text": [
      "20724\n"
     ]
    }
   ],
   "source": [
    "print(len(new_examples))\n",
    "def write_file(data,path):\n",
    "    f=open(path,'w')\n",
    "    for example in data:\n",
    "        question,topic_entity,answer,relation=example['question'],example['topic_entity'],example['answer'],example['relation']\n",
    "        if answer=='' or answer.strip()=='':\n",
    "            count+=1\n",
    "            continue\n",
    "        f.write(question+'\\t'+answer+'\\t'+'\\n')\n",
    "    f.close()\n",
    "    \n",
    "write_file(new_examples[:-2000],'../../train.txt')\n",
    "write_file(new_examples[-2000:],'../../test.txt')"
   ]
  },
  {
   "cell_type": "markdown",
   "id": "08fbcee0",
   "metadata": {},
   "source": [
    "# 保存构造的小规模知识图谱"
   ]
  },
  {
   "cell_type": "code",
   "execution_count": 17,
   "id": "d1577e33",
   "metadata": {},
   "outputs": [
    {
     "name": "stdout",
     "output_type": "stream",
     "text": [
      "小规模图谱中一共有324494个三元组，210227个实体，2274个关系\n"
     ]
    }
   ],
   "source": [
    "print('小规模图谱中一共有{}个三元组，{}个实体，{}个关系'.format(len(small_triplets),len(small_entities),len(small_relations)))"
   ]
  },
  {
   "cell_type": "markdown",
   "id": "e100802a",
   "metadata": {},
   "source": [
    "## 保存三元组"
   ]
  },
  {
   "cell_type": "code",
   "execution_count": 18,
   "id": "ca06c496",
   "metadata": {},
   "outputs": [],
   "source": [
    "with open(\"../../KgCLUE-main/knowledge/small_kg.txt\",'w') as f:\n",
    "    for head,rel,tail in small_triplets:\n",
    "        f.write('|||'.join([head,rel,tail])+'\\n')"
   ]
  },
  {
   "cell_type": "markdown",
   "id": "aec440ba",
   "metadata": {},
   "source": [
    "## 保存实体"
   ]
  },
  {
   "cell_type": "code",
   "execution_count": 19,
   "id": "df27d313",
   "metadata": {},
   "outputs": [],
   "source": [
    "with open(\"../../KgCLUE-main/knowledge/small_knowledge/entities.dict\",'w') as f:\n",
    "    for i,ent in enumerate(small_entities):\n",
    "        f.write(ent+'\\t'+str(i)+'\\n')"
   ]
  },
  {
   "cell_type": "markdown",
   "id": "f971fb9a",
   "metadata": {},
   "source": [
    "## 保存关系"
   ]
  },
  {
   "cell_type": "code",
   "execution_count": 20,
   "id": "b881060a",
   "metadata": {},
   "outputs": [],
   "source": [
    "with open(\"../../KgCLUE-main/knowledge/small_knowledge/relations.dict\",'w') as f:\n",
    "    for i,rel in enumerate(small_relations):\n",
    "        f.write(rel+'\\t'+str(i)+'\\n')"
   ]
  },
  {
   "cell_type": "markdown",
   "id": "8e64c6e5",
   "metadata": {},
   "source": [
    "**至此，数据处理部分完毕**"
   ]
  },
  {
   "cell_type": "code",
   "execution_count": 9,
   "id": "c36954b0",
   "metadata": {},
   "outputs": [],
   "source": [
    "with open(\"../../KgCLUE-main/knowledge/entities.dict\",'w') as f:\n",
    "    for i,ent in enumerate(entities_set):\n",
    "        f.write(ent+'\\t'+str(i)+'\\n')"
   ]
  },
  {
   "cell_type": "code",
   "execution_count": 13,
   "id": "d5d22cf2",
   "metadata": {},
   "outputs": [],
   "source": [
    "with open(\"../../KgCLUE-main/knowledge/relations.dict\",'w') as f:\n",
    "    for i,ent in enumerate(relations_set):\n",
    "        if ent=='' or ent=='\\n':\n",
    "            continue\n",
    "        f.write(ent+'\\t'+str(i)+'\\n')"
   ]
  },
  {
   "cell_type": "code",
   "execution_count": 21,
   "id": "617358ad",
   "metadata": {},
   "outputs": [
    {
     "name": "stderr",
     "output_type": "stream",
     "text": [
      "100%|█████████████████████████████████████████████████████████████████████████████████████████████████████████████████████████████████████████████████████| 22884223/22884223 [00:18<00:00, 1233481.41it/s]\n"
     ]
    }
   ],
   "source": [
    "bad_count=0\n",
    "with open(\"../../KgCLUE-main/knowledge/Knowledge.txt\",'w') as f:\n",
    "    for i in tqdm(range(len(lines))):\n",
    "        triplets='|||'.join(lines[i].strip().split('\\t'))\n",
    "        if len(triplets.split('|||'))!=3:\n",
    "            bad_count+=1\n",
    "            continue\n",
    "        f.write(triplets+'\\n')"
   ]
  },
  {
   "cell_type": "code",
   "execution_count": 22,
   "id": "b577caed",
   "metadata": {},
   "outputs": [
    {
     "data": {
      "text/plain": [
       "0"
      ]
     },
     "execution_count": 22,
     "metadata": {},
     "output_type": "execute_result"
    }
   ],
   "source": [
    "bad_count"
   ]
  },
  {
   "cell_type": "code",
   "execution_count": 23,
   "id": "dc6df226",
   "metadata": {},
   "outputs": [
    {
     "data": {
      "text/plain": [
       "22884223"
      ]
     },
     "execution_count": 23,
     "metadata": {},
     "output_type": "execute_result"
    }
   ],
   "source": [
    "len(lines)"
   ]
  },
  {
   "cell_type": "code",
   "execution_count": 32,
   "id": "05edcab8",
   "metadata": {},
   "outputs": [
    {
     "name": "stderr",
     "output_type": "stream",
     "text": [
      "100%|███████████████████████████████████████████████████████████████████████████████████████████████████████████████████████████████████████████████████████| 9418365/9418365 [00:05<00:00, 1865843.87it/s]\n",
      "100%|█████████████████████████████████████████████████████████████████████████████████████████████████████████████████████████████████████████████████████████| 245837/245837 [00:00<00:00, 1915961.86it/s]\n",
      "100%|██████████████████████████████████████████████████████████████████████████████████████████████████████████████████████████████████████████████████████| 22884223/22884223 [00:23<00:00, 957400.90it/s]\n"
     ]
    }
   ],
   "source": [
    "import os\n",
    "\n",
    "ent2id = {}\n",
    "with open(os.path.join('../../KgCLUE-main/knowledge/', 'entities.dict')) as f:\n",
    "    lines=f.readlines()\n",
    "for i in tqdm(range(len(lines))):\n",
    "    l = lines[i].strip().split('\\t')\n",
    "    ent2id[l[0].strip()] = len(ent2id)\n",
    "\n",
    "rel2id = {}\n",
    "with open(os.path.join('../../KgCLUE-main/knowledge/', 'relations.dict')) as f:\n",
    "    lines=f.readlines()\n",
    "for i in tqdm(range(len(lines))):\n",
    "    l = lines[i].strip().split('\\t')\n",
    "    rel2id[l[0].strip()] = int(l[1])\n",
    "\n",
    "bad_count=0\n",
    "triples=[]\n",
    "with open(os.path.join('../../KgCLUE-main/knowledge/', 'Knowledge.txt')) as f:\n",
    "    lines=f.readlines()\n",
    "for i in tqdm(range(len(lines))):\n",
    "    l = lines[i].strip().split('|||')\n",
    "    try:\n",
    "        s = ent2id[l[0].strip()]\n",
    "        p = rel2id[l[1].strip()]\n",
    "        o = ent2id[l[2].strip()]\n",
    "        triples.append((s, p, o)) \n",
    "    except:\n",
    "        bad_count+=1\n"
   ]
  },
  {
   "cell_type": "code",
   "execution_count": null,
   "id": "770a0e6b",
   "metadata": {},
   "outputs": [],
   "source": []
  },
  {
   "cell_type": "code",
   "execution_count": 33,
   "id": "1c8d2c1b",
   "metadata": {},
   "outputs": [
    {
     "data": {
      "text/plain": [
       "688"
      ]
     },
     "execution_count": 33,
     "metadata": {},
     "output_type": "execute_result"
    }
   ],
   "source": [
    "bad_count"
   ]
  },
  {
   "cell_type": "code",
   "execution_count": 35,
   "id": "6e529fda",
   "metadata": {},
   "outputs": [
    {
     "name": "stdout",
     "output_type": "stream",
     "text": [
      "9418099\n",
      "245837\n"
     ]
    }
   ],
   "source": [
    "relations_set=set()\n",
    "entities_set=set()\n",
    "\n",
    "for s,p,o in triples:\n",
    "    entities_set.add(s)\n",
    "    entities_set.add(o)\n",
    "    relations_set.add(p)\n",
    "    \n",
    "print(len(entities_set))\n",
    "print(len(relations_set))\n",
    "bad_rel=0\n",
    "with open(\"../../KgCLUE-main/knowledge/relations.dict\",'w') as f:\n",
    "    for i,ent in enumerate(relations_set):\n",
    "        if ent=='' or ent=='\\n':\n",
    "            bad_rel+=1\n",
    "            continue\n",
    "        f.write(str(ent)+'\\t'+str(i)+'\\n')\n",
    "        \n",
    "bad_ent=0\n",
    "with open(\"../../KgCLUE-main/knowledge/entities.dict\",'w') as f:\n",
    "    for i,ent in enumerate(entities_set):\n",
    "        if ent=='' or ent=='\\n':\n",
    "            bad_ent+=1\n",
    "            continue\n",
    "        f.write(str(ent)+'\\t'+str(i)+'\\n')"
   ]
  },
  {
   "cell_type": "markdown",
   "id": "bac259d8",
   "metadata": {},
   "source": [
    "大规模图谱中一共有22884223个三元组，9418365个实体，245838个关系"
   ]
  },
  {
   "cell_type": "code",
   "execution_count": 38,
   "id": "16a89095",
   "metadata": {},
   "outputs": [
    {
     "data": {
      "text/plain": [
       "0"
      ]
     },
     "execution_count": 38,
     "metadata": {},
     "output_type": "execute_result"
    }
   ],
   "source": [
    "bad_ent"
   ]
  },
  {
   "cell_type": "code",
   "execution_count": 18,
   "id": "8d9c4c08",
   "metadata": {},
   "outputs": [
    {
     "data": {
      "text/plain": [
       "'\\t'"
      ]
     },
     "execution_count": 18,
     "metadata": {},
     "output_type": "execute_result"
    }
   ],
   "source": [
    "'|||'.join('\\t'.split(lines[i].strip()))"
   ]
  },
  {
   "cell_type": "code",
   "execution_count": 40,
   "id": "37704bbb",
   "metadata": {},
   "outputs": [
    {
     "data": {
      "text/plain": [
       "2225677"
      ]
     },
     "execution_count": 40,
     "metadata": {},
     "output_type": "execute_result"
    }
   ],
   "source": [
    "ent2id['!=']"
   ]
  },
  {
   "cell_type": "code",
   "execution_count": 42,
   "id": "30794863",
   "metadata": {},
   "outputs": [
    {
     "data": {
      "text/plain": [
       "22883535"
      ]
     },
     "execution_count": 42,
     "metadata": {},
     "output_type": "execute_result"
    }
   ],
   "source": [
    "len(triples)"
   ]
  },
  {
   "cell_type": "code",
   "execution_count": 44,
   "id": "7b4a0985",
   "metadata": {},
   "outputs": [],
   "source": [
    "with open(os.path.join('../../KgCLUE-main/knowledge/', 'Knowledge.txt'),'w') as f:\n",
    "    for s,p,o in triples:\n",
    "        f.write('|||'.join([str(s),str(p),str(o)])+'\\n')"
   ]
  },
  {
   "cell_type": "code",
   "execution_count": null,
   "id": "2aea69a9",
   "metadata": {},
   "outputs": [],
   "source": []
  },
  {
   "cell_type": "code",
   "execution_count": null,
   "id": "2275dddd",
   "metadata": {},
   "outputs": [],
   "source": []
  }
 ],
 "metadata": {
  "kernelspec": {
   "display_name": "Python 3 (ipykernel)",
   "language": "python",
   "name": "python3"
  },
  "language_info": {
   "codemirror_mode": {
    "name": "ipython",
    "version": 3
   },
   "file_extension": ".py",
   "mimetype": "text/x-python",
   "name": "python",
   "nbconvert_exporter": "python",
   "pygments_lexer": "ipython3",
   "version": "3.9.5"
  }
 },
 "nbformat": 4,
 "nbformat_minor": 5
}
