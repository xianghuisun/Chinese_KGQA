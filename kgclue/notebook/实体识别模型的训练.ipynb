{
 "cells": [
  {
   "cell_type": "markdown",
   "id": "29311495",
   "metadata": {},
   "source": [
    "# 导包"
   ]
  },
  {
   "cell_type": "code",
   "execution_count": 22,
   "id": "294630e2",
   "metadata": {},
   "outputs": [
    {
     "name": "stderr",
     "output_type": "stream",
     "text": [
      "2021-12-12 19:54:48 - INFO - from_pretrained - 125 : loading vocabulary file /home/xhsun/Desktop/huggingfaceModels/chinese-roberta-wwm/vocab.txt\n"
     ]
    }
   ],
   "source": [
    "from collections import defaultdict\n",
    "from tqdm import tqdm\n",
    "import re\n",
    "import json\n",
    "from copy import deepcopy\n",
    "import random\n",
    "import torch\n",
    "import sys,os\n",
    "import pandas as pd\n",
    "import numpy as np\n",
    "from nlp_basictasks.tasks import Ner\n",
    "from nlp_basictasks.evaluation import nerEvaluator\n",
    "from nlp_basictasks.readers.ner import InputExample\n",
    "from collections import Counter\n",
    "from copy import deepcopy\n",
    "from nlp_basictasks.modules.transformers import BertTokenizer\n",
    "tokenizer=BertTokenizer.from_pretrained('/home/xhsun/Desktop/huggingfaceModels/chinese-roberta-wwm/')"
   ]
  },
  {
   "cell_type": "markdown",
   "id": "6f9057ef",
   "metadata": {},
   "source": [
    "# 加载数据"
   ]
  },
  {
   "cell_type": "code",
   "execution_count": 11,
   "id": "72482ebd",
   "metadata": {},
   "outputs": [
    {
     "name": "stdout",
     "output_type": "stream",
     "text": [
      "原始数据有18000个样本\n",
      "原始数据有2000个样本\n",
      "原始数据有2000个样本\n"
     ]
    }
   ],
   "source": [
    "def read_data(data_path):\n",
    "    with open(data_path) as f:\n",
    "        lines=f.readlines()\n",
    "    data=[]\n",
    "    for line in lines:\n",
    "        data.append(json.loads(line))\n",
    "    print(\"原始数据有{}个样本\".format(len(data)))\n",
    "    return data\n",
    "    \n",
    "data=[]\n",
    "data.extend(read_data('/home/xhsun/Desktop/KG/kgCLUE/KgCLUE-main/qa_data/train.json'))\n",
    "data.extend(read_data('/home/xhsun/Desktop/KG/kgCLUE/KgCLUE-main/qa_data/test_public.json'))\n",
    "data.extend(read_data('/home/xhsun/Desktop/KG/kgCLUE/KgCLUE-main/qa_data/dev.json'))"
   ]
  },
  {
   "cell_type": "code",
   "execution_count": 12,
   "id": "99520712",
   "metadata": {},
   "outputs": [
    {
     "name": "stdout",
     "output_type": "stream",
     "text": [
      "{'id': 7336, 'question': '胡秀英有什么成就吗？', 'answer': '胡秀英（重庆市万州区委党校经济学教研部主任） ||| 主要成就 ||| 2009年在重庆市委党校首次教学比赛中获二等奖'}\n",
      "{'id': 26, 'question': '请问巴西海盆东西宽多少？', 'answer': '巴西海盆 ||| 东西宽 ||| 2000-2500公里'}\n",
      "{'id': 17392, 'question': '潮汐海灵的魔法攻击是多少？', 'answer': '潮汐海灵（MOBA竞技网游《英雄联盟》中的英雄角色） ||| 魔法攻击 ||| 7'}\n",
      "{'id': 5731, 'question': '我很好奇战地1943的总监是谁？', 'answer': '战地1943 ||| 总监 ||| GVD'}\n",
      "{'id': 488, 'question': '请问山西华澳商贸职业学院的理事长是谁？', 'answer': '山西华澳商贸职业学院 ||| 理事长 ||| 刘耀国'}\n",
      "{'id': 17464, 'question': '李波老家是哪的', 'answer': '李波（安徽省地震局党组成员、纪检组长） ||| 籍贯 ||| 山东省'}\n",
      "{'id': 1360, 'question': '请问郎扎热甲节是哪年开始举行的？', 'answer': '郎扎热甲节 ||| 活动 ||| 熬上砖茶，做好酸奶'}\n",
      "{'id': 1230, 'question': '2013第13届广州国际食品展暨广州进口食品展览会的展会名称是什么？', 'answer': '2013第13届广州国际食品展暨广州进口食品展览会 ||| 展会名称 ||| 2013第13届广州国际食品展暨广州进口食品展览会'}\n",
      "{'id': 16831, 'question': '我想知道相对概念是属于什么系的？', 'answer': '相对概念 ||| 所属学科 ||| 逻辑学'}\n",
      "{'id': 9753, 'question': '中国国际工程咨询有限公司的中文简称是什么啊？', 'answer': '中国国际工程咨询有限公司 ||| 中文简称 ||| 中国咨询、中咨公司'}\n"
     ]
    }
   ],
   "source": [
    "random.shuffle(data)\n",
    "for i in range(10):\n",
    "    print(data[i])"
   ]
  },
  {
   "cell_type": "markdown",
   "id": "d8f7382d",
   "metadata": {},
   "source": [
    "# 构造实体识别数据"
   ]
  },
  {
   "cell_type": "code",
   "execution_count": 13,
   "id": "71a8f9be",
   "metadata": {},
   "outputs": [],
   "source": [
    "labels=[]\n",
    "sentences=[]\n",
    "examples=[]\n",
    "found_num=0\n",
    "for example in data:\n",
    "    question,answer=example['question'],example['answer']\n",
    "    triplet=answer.strip().split('|||')\n",
    "    assert len(triplet)==3\n",
    "    entity=triplet[0]\n",
    "    assert type(question)==str\n",
    "    question=question.strip()\n",
    "    found=False\n",
    "    positions=[]\n",
    "    entity=entity.strip()\n",
    "    \n",
    "    if '（' in entity and entity.endswith('）'):\n",
    "        entity=entity.split('（')[0]\n",
    "        \n",
    "    if entity in question:\n",
    "        start_id=question.find(entity)\n",
    "        end_id=start_id+len(entity)\n",
    "        positions.append((start_id,end_id))\n",
    "        found=True\n",
    "        \n",
    "    if found:\n",
    "        found_num+=1\n",
    "        sentences.append(question)\n",
    "        label=['O']*len(question)\n",
    "        for each_span in positions:\n",
    "            start_id,end_id=each_span\n",
    "            for i in range(start_id,end_id):\n",
    "                if i==start_id:\n",
    "                    label[i]='B-ent'\n",
    "                else:\n",
    "                    label[i]='I-ent'\n",
    "        labels.append(label)\n",
    "        examples.append(example)"
   ]
  },
  {
   "cell_type": "code",
   "execution_count": 15,
   "id": "3828cb5e",
   "metadata": {},
   "outputs": [
    {
     "name": "stdout",
     "output_type": "stream",
     "text": [
      "21956 22000\n"
     ]
    }
   ],
   "source": [
    "print(found_num,len(data))"
   ]
  },
  {
   "cell_type": "code",
   "execution_count": 16,
   "id": "bded36af",
   "metadata": {},
   "outputs": [
    {
     "name": "stdout",
     "output_type": "stream",
     "text": [
      "21956 21956\n",
      "胡秀英有什么成就吗？ ['B-ent', 'I-ent', 'I-ent', 'O', 'O', 'O', 'O', 'O', 'O', 'O'] {'id': 7336, 'question': '胡秀英有什么成就吗？', 'answer': '胡秀英（重庆市万州区委党校经济学教研部主任） ||| 主要成就 ||| 2009年在重庆市委党校首次教学比赛中获二等奖'}\n",
      "----------------------------------------------------------------------------------------------------\n",
      "请问巴西海盆东西宽多少？ ['O', 'O', 'B-ent', 'I-ent', 'I-ent', 'I-ent', 'O', 'O', 'O', 'O', 'O', 'O'] {'id': 26, 'question': '请问巴西海盆东西宽多少？', 'answer': '巴西海盆 ||| 东西宽 ||| 2000-2500公里'}\n",
      "----------------------------------------------------------------------------------------------------\n",
      "潮汐海灵的魔法攻击是多少？ ['B-ent', 'I-ent', 'I-ent', 'I-ent', 'O', 'O', 'O', 'O', 'O', 'O', 'O', 'O', 'O'] {'id': 17392, 'question': '潮汐海灵的魔法攻击是多少？', 'answer': '潮汐海灵（MOBA竞技网游《英雄联盟》中的英雄角色） ||| 魔法攻击 ||| 7'}\n",
      "----------------------------------------------------------------------------------------------------\n",
      "我很好奇战地1943的总监是谁？ ['O', 'O', 'O', 'O', 'B-ent', 'I-ent', 'I-ent', 'I-ent', 'I-ent', 'I-ent', 'O', 'O', 'O', 'O', 'O', 'O'] {'id': 5731, 'question': '我很好奇战地1943的总监是谁？', 'answer': '战地1943 ||| 总监 ||| GVD'}\n",
      "----------------------------------------------------------------------------------------------------\n",
      "请问山西华澳商贸职业学院的理事长是谁？ ['O', 'O', 'B-ent', 'I-ent', 'I-ent', 'I-ent', 'I-ent', 'I-ent', 'I-ent', 'I-ent', 'I-ent', 'I-ent', 'O', 'O', 'O', 'O', 'O', 'O', 'O'] {'id': 488, 'question': '请问山西华澳商贸职业学院的理事长是谁？', 'answer': '山西华澳商贸职业学院 ||| 理事长 ||| 刘耀国'}\n",
      "----------------------------------------------------------------------------------------------------\n",
      "李波老家是哪的 ['B-ent', 'I-ent', 'O', 'O', 'O', 'O', 'O'] {'id': 17464, 'question': '李波老家是哪的', 'answer': '李波（安徽省地震局党组成员、纪检组长） ||| 籍贯 ||| 山东省'}\n",
      "----------------------------------------------------------------------------------------------------\n",
      "请问郎扎热甲节是哪年开始举行的？ ['O', 'O', 'B-ent', 'I-ent', 'I-ent', 'I-ent', 'I-ent', 'O', 'O', 'O', 'O', 'O', 'O', 'O', 'O', 'O'] {'id': 1360, 'question': '请问郎扎热甲节是哪年开始举行的？', 'answer': '郎扎热甲节 ||| 活动 ||| 熬上砖茶，做好酸奶'}\n",
      "----------------------------------------------------------------------------------------------------\n",
      "2013第13届广州国际食品展暨广州进口食品展览会的展会名称是什么？ ['B-ent', 'I-ent', 'I-ent', 'I-ent', 'I-ent', 'I-ent', 'I-ent', 'I-ent', 'I-ent', 'I-ent', 'I-ent', 'I-ent', 'I-ent', 'I-ent', 'I-ent', 'I-ent', 'I-ent', 'I-ent', 'I-ent', 'I-ent', 'I-ent', 'I-ent', 'I-ent', 'I-ent', 'I-ent', 'O', 'O', 'O', 'O', 'O', 'O', 'O', 'O', 'O'] {'id': 1230, 'question': '2013第13届广州国际食品展暨广州进口食品展览会的展会名称是什么？', 'answer': '2013第13届广州国际食品展暨广州进口食品展览会 ||| 展会名称 ||| 2013第13届广州国际食品展暨广州进口食品展览会'}\n",
      "----------------------------------------------------------------------------------------------------\n",
      "我想知道相对概念是属于什么系的？ ['O', 'O', 'O', 'O', 'B-ent', 'I-ent', 'I-ent', 'I-ent', 'O', 'O', 'O', 'O', 'O', 'O', 'O', 'O'] {'id': 16831, 'question': '我想知道相对概念是属于什么系的？', 'answer': '相对概念 ||| 所属学科 ||| 逻辑学'}\n",
      "----------------------------------------------------------------------------------------------------\n",
      "中国国际工程咨询有限公司的中文简称是什么啊？ ['B-ent', 'I-ent', 'I-ent', 'I-ent', 'I-ent', 'I-ent', 'I-ent', 'I-ent', 'I-ent', 'I-ent', 'I-ent', 'I-ent', 'O', 'O', 'O', 'O', 'O', 'O', 'O', 'O', 'O', 'O'] {'id': 9753, 'question': '中国国际工程咨询有限公司的中文简称是什么啊？', 'answer': '中国国际工程咨询有限公司 ||| 中文简称 ||| 中国咨询、中咨公司'}\n",
      "----------------------------------------------------------------------------------------------------\n"
     ]
    }
   ],
   "source": [
    "print(len(sentences),len(labels))\n",
    "for i in range(10):\n",
    "    print(sentences[i],labels[i],examples[i])\n",
    "    print('-'*100)"
   ]
  },
  {
   "cell_type": "markdown",
   "id": "02892e65",
   "metadata": {},
   "source": [
    "# 构造训练集和测试集"
   ]
  },
  {
   "cell_type": "code",
   "execution_count": 21,
   "id": "037984b2",
   "metadata": {},
   "outputs": [
    {
     "name": "stdout",
     "output_type": "stream",
     "text": [
      "2195\n",
      "['你', '记', '得', '飓', '风', '什', '么', '时', '候', '上', '映', '的', '吗', '？'] ['O', 'O', 'O', 'B-ent', 'I-ent', 'O', 'O', 'O', 'O', 'O', 'O', 'O', 'O', 'O'] {'id': 10511, 'question': '你记得飓风什么时候上映的吗？', 'answer': '飓风（美国1999年诺曼·杰威森执导电影） ||| 上映时间 ||| 1999年12月29日'}\n",
      "['D', 'u', 'l', 'l', 'a', 'h', 'a', 'n', '有', '什', '么', '弱', '点', '呀'] ['B-ent', 'I-ent', 'I-ent', 'I-ent', 'I-ent', 'I-ent', 'I-ent', 'I-ent', 'O', 'O', 'O', 'O', 'O', 'O'] {'id': 905, 'question': 'Dullahan有什么弱点呀', 'answer': 'Dullahan ||| 弱点 ||| 黄金'}\n"
     ]
    }
   ],
   "source": [
    "index=list(range(len(sentences)))\n",
    "random.shuffle(index)\n",
    "test_nums=int(len(index)*0.1)\n",
    "print(test_nums)\n",
    "train_sentences=[]\n",
    "train_labels=[]\n",
    "train_raws=[]\n",
    "for i in range(len(index)-test_nums):\n",
    "    train_sentences.append(list(sentences[index[i]]))\n",
    "    train_labels.append(labels[index[i]])\n",
    "    train_raws.append(examples[index[i]])\n",
    "    \n",
    "k=10\n",
    "print(train_sentences[k],train_labels[k],train_raws[k])\n",
    "\n",
    "test_sentences=[]\n",
    "test_labels=[]\n",
    "test_raws=[]\n",
    "for i in range(len(index)-test_nums,len(index)):\n",
    "    test_sentences.append(list(sentences[index[i]]))\n",
    "    test_labels.append(labels[index[i]])\n",
    "    test_raws.append(examples[index[i]])\n",
    "    \n",
    "print(test_sentences[k],test_labels[k],test_raws[k])"
   ]
  },
  {
   "cell_type": "code",
   "execution_count": 23,
   "id": "4b39b5f9",
   "metadata": {},
   "outputs": [],
   "source": [
    "train_examples=[]\n",
    "for seq_in,seq_out in zip(train_sentences,train_labels):\n",
    "    train_examples.append(InputExample(seq_in=seq_in,seq_out=seq_out))\n",
    "\n",
    "test_examples=[]\n",
    "for seq_in,seq_out in zip(test_sentences,test_labels):\n",
    "    test_examples.append(InputExample(seq_in=seq_in,seq_out=seq_out))"
   ]
  },
  {
   "cell_type": "code",
   "execution_count": 24,
   "id": "4e566605",
   "metadata": {},
   "outputs": [
    {
     "name": "stdout",
     "output_type": "stream",
     "text": [
      "19761 2195\n"
     ]
    }
   ],
   "source": [
    "print(len(train_examples),len(test_examples))"
   ]
  },
  {
   "cell_type": "code",
   "execution_count": 25,
   "id": "d960822d",
   "metadata": {},
   "outputs": [],
   "source": [
    "label2id={'[PAD]':0,'O':1,'B-ent':2,'I-ent':3}"
   ]
  },
  {
   "cell_type": "markdown",
   "id": "0595d4c8",
   "metadata": {},
   "source": [
    "# 定义模型加载路径"
   ]
  },
  {
   "cell_type": "code",
   "execution_count": 26,
   "id": "5b78dcdd",
   "metadata": {},
   "outputs": [
    {
     "name": "stderr",
     "output_type": "stream",
     "text": [
      "2021-12-12 19:57:54 - INFO - __init__ - 53 : The label2id is\n",
      " {\"[PAD]\": 0, \"O\": 1, \"B-ent\": 2, \"I-ent\": 3}\n",
      "2021-12-12 19:57:54 - INFO - __init__ - 270 : Loading model from /home/xhsun/Desktop/huggingfaceModels/chinese-roberta-wwm/, which is from huggingface model\n",
      "2021-12-12 19:57:54 - INFO - get_config_dict - 177 : loading configuration file /home/xhsun/Desktop/huggingfaceModels/chinese-roberta-wwm/config.json\n",
      "2021-12-12 19:57:54 - INFO - from_pretrained - 404 : loading bert model file /home/xhsun/Desktop/huggingfaceModels/chinese-roberta-wwm/\n",
      "2021-12-12 19:57:54 - INFO - from_pretrained - 423 : BertConfig has been loaded from /home/xhsun/Desktop/huggingfaceModels/chinese-roberta-wwm/config.json\n",
      "2021-12-12 19:57:55 - INFO - from_pretrained - 125 : loading vocabulary file /home/xhsun/Desktop/huggingfaceModels/chinese-roberta-wwm/vocab.txt\n",
      "2021-12-12 19:57:55 - INFO - __init__ - 70 : Use pytorch device: cuda\n",
      "2021-12-12 19:57:57 - INFO - __init__ - 72 : Using BiLSTM ? : False\n",
      "2021-12-12 19:57:57 - INFO - __init__ - 73 : Using CRF ? : True\n"
     ]
    }
   ],
   "source": [
    "model_path='/home/xhsun/Desktop/huggingfaceModels/chinese-roberta-wwm/'\n",
    "output_path='../NER'\n",
    "ner_model=Ner(model_path,label2id=label2id,use_crf=True,use_bilstm=False,device='cuda',batch_first=True,\n",
    "              tensorboard_logdir='../NER/log.txt')"
   ]
  },
  {
   "cell_type": "code",
   "execution_count": 27,
   "id": "88ebc0dc",
   "metadata": {},
   "outputs": [
    {
     "name": "stderr",
     "output_type": "stream",
     "text": [
      "2021-12-12 19:58:04 - INFO - __init__ - 39 : Total evaluate nums : 2195\n",
      "2021-12-12 19:58:04 - INFO - __init__ - 40 : input is string : False, input is list : True\n",
      "2021-12-12 19:58:04 - INFO - __init__ - 41 : seq in and out like : \n",
      "['请', '问', '哪', '个', '公', '司', '举', '办', '了', '2', '0', '2', '0', '苹', '果', '秋', '季', '新', '品', '发', '布', '会', '？']\t['O', 'O', 'O', 'O', 'O', 'O', 'O', 'O', 'O', 'B-ent', 'I-ent', 'I-ent', 'I-ent', 'I-ent', 'I-ent', 'I-ent', 'I-ent', 'I-ent', 'I-ent', 'I-ent', 'I-ent', 'I-ent', 'O']\n",
      "2021-12-12 19:58:04 - INFO - __init__ - 42 : In this evaluator, slot contains ([PAD] O B-ent I-ent)\n"
     ]
    }
   ],
   "source": [
    "from torch.utils.data import DataLoader\n",
    "batch_size=64\n",
    "train_dataloader = DataLoader(train_examples, shuffle=True, batch_size=batch_size)\n",
    "\n",
    "evaluator=nerEvaluator(label2id=label2id,seq_in=test_sentences,seq_out=test_labels,write_csv=True)"
   ]
  },
  {
   "cell_type": "markdown",
   "id": "d2d317d5",
   "metadata": {},
   "source": [
    "# 模型训练"
   ]
  },
  {
   "cell_type": "code",
   "execution_count": 28,
   "id": "aa9dd921",
   "metadata": {},
   "outputs": [
    {
     "name": "stderr",
     "output_type": "stream",
     "text": [
      "2021-12-12 19:58:07 - INFO - fit - 155 : label2id has been saved in ../NER/label2id.json\n",
      "2021-12-12 19:58:07 - INFO - fit - 164 : 一个epoch 下，每隔61个step会输出一次loss，每隔154个step会评估一次模型\n"
     ]
    },
    {
     "data": {
      "application/vnd.jupyter.widget-view+json": {
       "model_id": "71a5fc49b1bd4f39b6bedb3c6e7c5f82",
       "version_major": 2,
       "version_minor": 0
      },
      "text/plain": [
       "Epoch:   0%|          | 0/5 [00:00<?, ?it/s]"
      ]
     },
     "metadata": {},
     "output_type": "display_data"
    },
    {
     "data": {
      "application/vnd.jupyter.widget-view+json": {
       "model_id": "07aa2468a1244c46a67fcdf34fae68ee",
       "version_major": 2,
       "version_minor": 0
      },
      "text/plain": [
       "0it [00:00, ?it/s]"
      ]
     },
     "metadata": {},
     "output_type": "display_data"
    },
    {
     "name": "stderr",
     "output_type": "stream",
     "text": [
      "2021-12-12 19:58:07 - INFO - __call__ - 59 : nerEvaluator: Evaluating the model on  dataset in epoch 0 after 1 steps:\n"
     ]
    },
    {
     "data": {
      "application/vnd.jupyter.widget-view+json": {
       "model_id": "cb4cab79813545df8d53a20266fbd143",
       "version_major": 2,
       "version_minor": 0
      },
      "text/plain": [
       "  0%|          | 0/69 [00:00<?, ?it/s]"
      ]
     },
     "metadata": {},
     "output_type": "display_data"
    },
    {
     "name": "stderr",
     "output_type": "stream",
     "text": [
      "/home/xhsun/.local/lib/python3.9/site-packages/seqeval/metrics/sequence_labeling.py:171: UserWarning: [PAD] seems not to be NE tag.\n",
      "  warnings.warn('{} seems not to be NE tag.'.format(chunk))\n",
      "/home/xhsun/.local/lib/python3.9/site-packages/seqeval/metrics/v1.py:57: UndefinedMetricWarning: Recall and F-score are ill-defined and being set to 0.0 in labels with no true samples. Use `zero_division` parameter to control this behavior.\n",
      "  _warn_prf(average, modifier, msg_start, len(result))\n"
     ]
    },
    {
     "name": "stdout",
     "output_type": "stream",
     "text": [
      "              precision    recall  f1-score   support\n",
      "\n",
      "        PAD]     0.0000    0.0000    0.0000         0\n",
      "         ent     0.0103    0.0743    0.0181      2195\n",
      "\n",
      "   micro avg     0.0077    0.0743    0.0140      2195\n",
      "   macro avg     0.0051    0.0371    0.0090      2195\n",
      "weighted avg     0.0103    0.0743    0.0181      2195\n",
      "\n"
     ]
    },
    {
     "name": "stderr",
     "output_type": "stream",
     "text": [
      "2021-12-12 19:58:09 - INFO - save_pretrained - 509 : Model weights saved in ../NER/BERT/pytorch_model.bin\n",
      "2021-12-12 19:58:09 - INFO - save_pretrained - 150 : Configuration saved in ../NER/BERT/config.json\n",
      "2021-12-12 19:58:09 - INFO - save_vocab - 51 : Vocab saved in ../NER/BERT/vocab.txt\n",
      "2021-12-12 19:58:09 - INFO - fit - 239 : In epoch 0, training_step 0, the eval score is 0.014005842928338202, previous eval score is -9999999, model has been saved in ../NER\n",
      "2021-12-12 19:58:15 - INFO - fit - 217 : Epoch : 0, train_step : 61/1545, loss_value : 1.0345560751977514 \n",
      "2021-12-12 19:58:21 - INFO - fit - 217 : Epoch : 0, train_step : 122/1545, loss_value : 0.07009007771820074 \n",
      "2021-12-12 19:58:24 - INFO - __call__ - 59 : nerEvaluator: Evaluating the model on  dataset in epoch 0 after 155 steps:\n"
     ]
    },
    {
     "data": {
      "application/vnd.jupyter.widget-view+json": {
       "model_id": "8e5c6de524ab46d38becafcdae773c7a",
       "version_major": 2,
       "version_minor": 0
      },
      "text/plain": [
       "  0%|          | 0/69 [00:00<?, ?it/s]"
      ]
     },
     "metadata": {},
     "output_type": "display_data"
    },
    {
     "name": "stdout",
     "output_type": "stream",
     "text": [
      "              precision    recall  f1-score   support\n",
      "\n",
      "         ent     0.9653    0.9745    0.9698      2195\n",
      "\n",
      "   micro avg     0.9653    0.9745    0.9698      2195\n",
      "   macro avg     0.9653    0.9745    0.9698      2195\n",
      "weighted avg     0.9653    0.9745    0.9698      2195\n",
      "\n"
     ]
    },
    {
     "name": "stderr",
     "output_type": "stream",
     "text": [
      "2021-12-12 19:58:26 - INFO - save_pretrained - 509 : Model weights saved in ../NER/BERT/pytorch_model.bin\n",
      "2021-12-12 19:58:26 - INFO - save_pretrained - 150 : Configuration saved in ../NER/BERT/config.json\n",
      "2021-12-12 19:58:26 - INFO - save_vocab - 51 : Vocab saved in ../NER/BERT/vocab.txt\n",
      "2021-12-12 19:58:26 - INFO - fit - 239 : In epoch 0, training_step 154, the eval score is 0.9698481070052142, previous eval score is 0.014005842928338202, model has been saved in ../NER\n",
      "2021-12-12 19:58:29 - INFO - fit - 217 : Epoch : 0, train_step : 183/1545, loss_value : 0.017530640323844847 \n",
      "2021-12-12 19:58:35 - INFO - fit - 217 : Epoch : 0, train_step : 244/1545, loss_value : 0.012955618377194786 \n",
      "2021-12-12 19:58:41 - INFO - fit - 217 : Epoch : 0, train_step : 305/1545, loss_value : 0.014705456592921228 \n",
      "2021-12-12 19:58:41 - INFO - __call__ - 59 : nerEvaluator: Evaluating the model on  dataset in epoch 0 after 309 steps:\n"
     ]
    },
    {
     "data": {
      "application/vnd.jupyter.widget-view+json": {
       "model_id": "acc9256cf24e4f45ae14d00000b453f0",
       "version_major": 2,
       "version_minor": 0
      },
      "text/plain": [
       "  0%|          | 0/69 [00:00<?, ?it/s]"
      ]
     },
     "metadata": {},
     "output_type": "display_data"
    },
    {
     "name": "stdout",
     "output_type": "stream",
     "text": [
      "              precision    recall  f1-score   support\n",
      "\n",
      "         ent     0.9769    0.9836    0.9802      2195\n",
      "\n",
      "   micro avg     0.9769    0.9836    0.9802      2195\n",
      "   macro avg     0.9769    0.9836    0.9802      2195\n",
      "weighted avg     0.9769    0.9836    0.9802      2195\n",
      "\n"
     ]
    },
    {
     "name": "stderr",
     "output_type": "stream",
     "text": [
      "2021-12-12 19:58:43 - INFO - save_pretrained - 509 : Model weights saved in ../NER/BERT/pytorch_model.bin\n",
      "2021-12-12 19:58:43 - INFO - save_pretrained - 150 : Configuration saved in ../NER/BERT/config.json\n",
      "2021-12-12 19:58:43 - INFO - save_vocab - 51 : Vocab saved in ../NER/BERT/vocab.txt\n",
      "2021-12-12 19:58:43 - INFO - fit - 239 : In epoch 0, training_step 308, the eval score is 0.980249716231555, previous eval score is 0.9698481070052142, model has been saved in ../NER\n"
     ]
    },
    {
     "data": {
      "application/vnd.jupyter.widget-view+json": {
       "model_id": "d5d0d78e4e5b413a81c260df56d58f84",
       "version_major": 2,
       "version_minor": 0
      },
      "text/plain": [
       "0it [00:00, ?it/s]"
      ]
     },
     "metadata": {},
     "output_type": "display_data"
    },
    {
     "name": "stderr",
     "output_type": "stream",
     "text": [
      "2021-12-12 19:58:44 - INFO - __call__ - 59 : nerEvaluator: Evaluating the model on  dataset in epoch 1 after 1 steps:\n"
     ]
    },
    {
     "data": {
      "application/vnd.jupyter.widget-view+json": {
       "model_id": "49bffd9fbc244fb79bf7b21b7f7b2877",
       "version_major": 2,
       "version_minor": 0
      },
      "text/plain": [
       "  0%|          | 0/69 [00:00<?, ?it/s]"
      ]
     },
     "metadata": {},
     "output_type": "display_data"
    },
    {
     "name": "stdout",
     "output_type": "stream",
     "text": [
      "              precision    recall  f1-score   support\n",
      "\n",
      "         ent     0.9778    0.9836    0.9807      2195\n",
      "\n",
      "   micro avg     0.9778    0.9836    0.9807      2195\n",
      "   macro avg     0.9778    0.9836    0.9807      2195\n",
      "weighted avg     0.9778    0.9836    0.9807      2195\n",
      "\n"
     ]
    },
    {
     "name": "stderr",
     "output_type": "stream",
     "text": [
      "2021-12-12 19:58:45 - INFO - save_pretrained - 509 : Model weights saved in ../NER/BERT/pytorch_model.bin\n",
      "2021-12-12 19:58:45 - INFO - save_pretrained - 150 : Configuration saved in ../NER/BERT/config.json\n",
      "2021-12-12 19:58:45 - INFO - save_vocab - 51 : Vocab saved in ../NER/BERT/vocab.txt\n",
      "2021-12-12 19:58:45 - INFO - fit - 239 : In epoch 1, training_step 0, the eval score is 0.9806949806949807, previous eval score is 0.980249716231555, model has been saved in ../NER\n",
      "2021-12-12 19:58:51 - INFO - fit - 217 : Epoch : 1, train_step : 122/1545, loss_value : 0.007408448621882583 \n",
      "2021-12-12 19:58:57 - INFO - fit - 217 : Epoch : 1, train_step : 244/1545, loss_value : 0.007828068799247629 \n",
      "2021-12-12 19:59:01 - INFO - __call__ - 59 : nerEvaluator: Evaluating the model on  dataset in epoch 1 after 155 steps:\n"
     ]
    },
    {
     "data": {
      "application/vnd.jupyter.widget-view+json": {
       "model_id": "9d3bda55ee774c41ae30843790983794",
       "version_major": 2,
       "version_minor": 0
      },
      "text/plain": [
       "  0%|          | 0/69 [00:00<?, ?it/s]"
      ]
     },
     "metadata": {},
     "output_type": "display_data"
    },
    {
     "name": "stdout",
     "output_type": "stream",
     "text": [
      "              precision    recall  f1-score   support\n",
      "\n",
      "         ent     0.9832    0.9854    0.9843      2195\n",
      "\n",
      "   micro avg     0.9832    0.9854    0.9843      2195\n",
      "   macro avg     0.9832    0.9854    0.9843      2195\n",
      "weighted avg     0.9832    0.9854    0.9843      2195\n",
      "\n"
     ]
    },
    {
     "name": "stderr",
     "output_type": "stream",
     "text": [
      "2021-12-12 19:59:03 - INFO - save_pretrained - 509 : Model weights saved in ../NER/BERT/pytorch_model.bin\n",
      "2021-12-12 19:59:03 - INFO - save_pretrained - 150 : Configuration saved in ../NER/BERT/config.json\n",
      "2021-12-12 19:59:03 - INFO - save_vocab - 51 : Vocab saved in ../NER/BERT/vocab.txt\n",
      "2021-12-12 19:59:03 - INFO - fit - 239 : In epoch 1, training_step 308, the eval score is 0.9843003412969283, previous eval score is 0.9806949806949807, model has been saved in ../NER\n",
      "2021-12-12 19:59:05 - INFO - fit - 217 : Epoch : 1, train_step : 366/1545, loss_value : 0.0072162096101416615 \n",
      "2021-12-12 19:59:11 - INFO - fit - 217 : Epoch : 1, train_step : 488/1545, loss_value : 0.004635128107677656 \n",
      "2021-12-12 19:59:17 - INFO - fit - 217 : Epoch : 1, train_step : 610/1545, loss_value : 0.004328424406818069 \n",
      "2021-12-12 19:59:18 - INFO - __call__ - 59 : nerEvaluator: Evaluating the model on  dataset in epoch 1 after 309 steps:\n"
     ]
    },
    {
     "data": {
      "application/vnd.jupyter.widget-view+json": {
       "model_id": "69269737060049d9bd32909be572c548",
       "version_major": 2,
       "version_minor": 0
      },
      "text/plain": [
       "  0%|          | 0/69 [00:00<?, ?it/s]"
      ]
     },
     "metadata": {},
     "output_type": "display_data"
    },
    {
     "name": "stdout",
     "output_type": "stream",
     "text": [
      "              precision    recall  f1-score   support\n",
      "\n",
      "         ent     0.9850    0.9863    0.9857      2195\n",
      "\n",
      "   micro avg     0.9850    0.9863    0.9857      2195\n",
      "   macro avg     0.9850    0.9863    0.9857      2195\n",
      "weighted avg     0.9850    0.9863    0.9857      2195\n",
      "\n"
     ]
    },
    {
     "name": "stderr",
     "output_type": "stream",
     "text": [
      "2021-12-12 19:59:20 - INFO - save_pretrained - 509 : Model weights saved in ../NER/BERT/pytorch_model.bin\n",
      "2021-12-12 19:59:20 - INFO - save_pretrained - 150 : Configuration saved in ../NER/BERT/config.json\n",
      "2021-12-12 19:59:20 - INFO - save_vocab - 51 : Vocab saved in ../NER/BERT/vocab.txt\n",
      "2021-12-12 19:59:20 - INFO - fit - 239 : In epoch 1, training_step 616, the eval score is 0.9856590029592533, previous eval score is 0.9843003412969283, model has been saved in ../NER\n"
     ]
    },
    {
     "data": {
      "application/vnd.jupyter.widget-view+json": {
       "model_id": "4331980a056a478aaac6ddd91be71a85",
       "version_major": 2,
       "version_minor": 0
      },
      "text/plain": [
       "0it [00:00, ?it/s]"
      ]
     },
     "metadata": {},
     "output_type": "display_data"
    },
    {
     "name": "stderr",
     "output_type": "stream",
     "text": [
      "2021-12-12 19:59:20 - INFO - __call__ - 59 : nerEvaluator: Evaluating the model on  dataset in epoch 2 after 1 steps:\n"
     ]
    },
    {
     "data": {
      "application/vnd.jupyter.widget-view+json": {
       "model_id": "9b4796fddbe04fea87285aa3a250b196",
       "version_major": 2,
       "version_minor": 0
      },
      "text/plain": [
       "  0%|          | 0/69 [00:00<?, ?it/s]"
      ]
     },
     "metadata": {},
     "output_type": "display_data"
    },
    {
     "name": "stderr",
     "output_type": "stream",
     "text": [
      "2021-12-12 19:59:21 - INFO - fit - 243 : No improvement over previous best eval score (0.985428 vs 0.985659), patience = 9\n"
     ]
    },
    {
     "name": "stdout",
     "output_type": "stream",
     "text": [
      "              precision    recall  f1-score   support\n",
      "\n",
      "         ent     0.9850    0.9859    0.9854      2195\n",
      "\n",
      "   micro avg     0.9850    0.9859    0.9854      2195\n",
      "   macro avg     0.9850    0.9859    0.9854      2195\n",
      "weighted avg     0.9850    0.9859    0.9854      2195\n",
      "\n"
     ]
    },
    {
     "name": "stderr",
     "output_type": "stream",
     "text": [
      "2021-12-12 19:59:27 - INFO - fit - 217 : Epoch : 2, train_step : 183/1545, loss_value : 0.0028867492353024543 \n",
      "2021-12-12 19:59:33 - INFO - fit - 217 : Epoch : 2, train_step : 366/1545, loss_value : 0.002563166054925637 \n",
      "2021-12-12 19:59:37 - INFO - __call__ - 59 : nerEvaluator: Evaluating the model on  dataset in epoch 2 after 155 steps:\n"
     ]
    },
    {
     "data": {
      "application/vnd.jupyter.widget-view+json": {
       "model_id": "19b319b075cb4639a5daf7c0b302a9f6",
       "version_major": 2,
       "version_minor": 0
      },
      "text/plain": [
       "  0%|          | 0/69 [00:00<?, ?it/s]"
      ]
     },
     "metadata": {},
     "output_type": "display_data"
    },
    {
     "name": "stderr",
     "output_type": "stream",
     "text": [
      "2021-12-12 19:59:38 - INFO - fit - 243 : No improvement over previous best eval score (0.984062 vs 0.985659), patience = 8\n"
     ]
    },
    {
     "name": "stdout",
     "output_type": "stream",
     "text": [
      "              precision    recall  f1-score   support\n",
      "\n",
      "         ent     0.9836    0.9845    0.9841      2195\n",
      "\n",
      "   micro avg     0.9836    0.9845    0.9841      2195\n",
      "   macro avg     0.9836    0.9845    0.9841      2195\n",
      "weighted avg     0.9836    0.9845    0.9841      2195\n",
      "\n"
     ]
    },
    {
     "name": "stderr",
     "output_type": "stream",
     "text": [
      "2021-12-12 19:59:41 - INFO - fit - 217 : Epoch : 2, train_step : 549/1545, loss_value : 0.0020138649188829435 \n",
      "2021-12-12 19:59:47 - INFO - fit - 217 : Epoch : 2, train_step : 732/1545, loss_value : 0.0026871821109289455 \n",
      "2021-12-12 19:59:53 - INFO - fit - 217 : Epoch : 2, train_step : 915/1545, loss_value : 0.0029282151947091868 \n",
      "2021-12-12 19:59:53 - INFO - __call__ - 59 : nerEvaluator: Evaluating the model on  dataset in epoch 2 after 309 steps:\n"
     ]
    },
    {
     "data": {
      "application/vnd.jupyter.widget-view+json": {
       "model_id": "a978ac35f316483aa8b4c6b5179d01b7",
       "version_major": 2,
       "version_minor": 0
      },
      "text/plain": [
       "  0%|          | 0/69 [00:00<?, ?it/s]"
      ]
     },
     "metadata": {},
     "output_type": "display_data"
    },
    {
     "name": "stderr",
     "output_type": "stream",
     "text": [
      "2021-12-12 19:59:55 - INFO - fit - 243 : No improvement over previous best eval score (0.984966 vs 0.985659), patience = 7\n"
     ]
    },
    {
     "name": "stdout",
     "output_type": "stream",
     "text": [
      "              precision    recall  f1-score   support\n",
      "\n",
      "         ent     0.9850    0.9850    0.9850      2195\n",
      "\n",
      "   micro avg     0.9850    0.9850    0.9850      2195\n",
      "   macro avg     0.9850    0.9850    0.9850      2195\n",
      "weighted avg     0.9850    0.9850    0.9850      2195\n",
      "\n"
     ]
    },
    {
     "data": {
      "application/vnd.jupyter.widget-view+json": {
       "model_id": "e0cc0c7729604ebab8c8c87e1b0d4fbf",
       "version_major": 2,
       "version_minor": 0
      },
      "text/plain": [
       "0it [00:00, ?it/s]"
      ]
     },
     "metadata": {},
     "output_type": "display_data"
    },
    {
     "name": "stderr",
     "output_type": "stream",
     "text": [
      "2021-12-12 19:59:55 - INFO - __call__ - 59 : nerEvaluator: Evaluating the model on  dataset in epoch 3 after 1 steps:\n"
     ]
    },
    {
     "data": {
      "application/vnd.jupyter.widget-view+json": {
       "model_id": "48f8eefd63bc42669f108b18665dfe19",
       "version_major": 2,
       "version_minor": 0
      },
      "text/plain": [
       "  0%|          | 0/69 [00:00<?, ?it/s]"
      ]
     },
     "metadata": {},
     "output_type": "display_data"
    },
    {
     "name": "stderr",
     "output_type": "stream",
     "text": [
      "2021-12-12 19:59:57 - INFO - fit - 243 : No improvement over previous best eval score (0.984286 vs 0.985659), patience = 6\n"
     ]
    },
    {
     "name": "stdout",
     "output_type": "stream",
     "text": [
      "              precision    recall  f1-score   support\n",
      "\n",
      "         ent     0.9841    0.9845    0.9843      2195\n",
      "\n",
      "   micro avg     0.9841    0.9845    0.9843      2195\n",
      "   macro avg     0.9841    0.9845    0.9843      2195\n",
      "weighted avg     0.9841    0.9845    0.9843      2195\n",
      "\n"
     ]
    },
    {
     "name": "stderr",
     "output_type": "stream",
     "text": [
      "2021-12-12 20:00:03 - INFO - fit - 217 : Epoch : 3, train_step : 244/1545, loss_value : 0.0017593147962632757 \n",
      "2021-12-12 20:00:09 - INFO - fit - 217 : Epoch : 3, train_step : 488/1545, loss_value : 0.0008830716876412329 \n",
      "2021-12-12 20:00:12 - INFO - __call__ - 59 : nerEvaluator: Evaluating the model on  dataset in epoch 3 after 155 steps:\n"
     ]
    },
    {
     "data": {
      "application/vnd.jupyter.widget-view+json": {
       "model_id": "b79c424c6d354e74a81bd71dc34c7e1e",
       "version_major": 2,
       "version_minor": 0
      },
      "text/plain": [
       "  0%|          | 0/69 [00:00<?, ?it/s]"
      ]
     },
     "metadata": {},
     "output_type": "display_data"
    },
    {
     "name": "stdout",
     "output_type": "stream",
     "text": [
      "              precision    recall  f1-score   support\n",
      "\n",
      "         ent     0.9863    0.9863    0.9863      2195\n",
      "\n",
      "   micro avg     0.9863    0.9863    0.9863      2195\n",
      "   macro avg     0.9863    0.9863    0.9863      2195\n",
      "weighted avg     0.9863    0.9863    0.9863      2195\n",
      "\n"
     ]
    },
    {
     "name": "stderr",
     "output_type": "stream",
     "text": [
      "2021-12-12 20:00:14 - INFO - save_pretrained - 509 : Model weights saved in ../NER/BERT/pytorch_model.bin\n",
      "2021-12-12 20:00:14 - INFO - save_pretrained - 150 : Configuration saved in ../NER/BERT/config.json\n",
      "2021-12-12 20:00:14 - INFO - save_vocab - 51 : Vocab saved in ../NER/BERT/vocab.txt\n",
      "2021-12-12 20:00:14 - INFO - fit - 239 : In epoch 3, training_step 616, the eval score is 0.9863325740318907, previous eval score is 0.9856590029592533, model has been saved in ../NER\n",
      "2021-12-12 20:00:17 - INFO - fit - 217 : Epoch : 3, train_step : 732/1545, loss_value : 0.0013780321450674999 \n",
      "2021-12-12 20:00:23 - INFO - fit - 217 : Epoch : 3, train_step : 976/1545, loss_value : 0.0018873228328913207 \n",
      "2021-12-12 20:00:29 - INFO - fit - 217 : Epoch : 3, train_step : 1220/1545, loss_value : 0.0017621515506733452 \n",
      "2021-12-12 20:00:29 - INFO - __call__ - 59 : nerEvaluator: Evaluating the model on  dataset in epoch 3 after 309 steps:\n"
     ]
    },
    {
     "data": {
      "application/vnd.jupyter.widget-view+json": {
       "model_id": "139cfb5bd86447a2959ce6f29a8153f9",
       "version_major": 2,
       "version_minor": 0
      },
      "text/plain": [
       "  0%|          | 0/69 [00:00<?, ?it/s]"
      ]
     },
     "metadata": {},
     "output_type": "display_data"
    },
    {
     "name": "stdout",
     "output_type": "stream",
     "text": [
      "              precision    recall  f1-score   support\n",
      "\n",
      "         ent     0.9859    0.9868    0.9863      2195\n",
      "\n",
      "   micro avg     0.9859    0.9868    0.9863      2195\n",
      "   macro avg     0.9859    0.9868    0.9863      2195\n",
      "weighted avg     0.9859    0.9868    0.9863      2195\n",
      "\n"
     ]
    },
    {
     "name": "stderr",
     "output_type": "stream",
     "text": [
      "2021-12-12 20:00:31 - INFO - save_pretrained - 509 : Model weights saved in ../NER/BERT/pytorch_model.bin\n",
      "2021-12-12 20:00:31 - INFO - save_pretrained - 150 : Configuration saved in ../NER/BERT/config.json\n",
      "2021-12-12 20:00:31 - INFO - save_vocab - 51 : Vocab saved in ../NER/BERT/vocab.txt\n",
      "2021-12-12 20:00:31 - INFO - fit - 239 : In epoch 3, training_step 1232, the eval score is 0.9863387978142076, previous eval score is 0.9863325740318907, model has been saved in ../NER\n"
     ]
    },
    {
     "data": {
      "application/vnd.jupyter.widget-view+json": {
       "model_id": "5f11c44852134214a5b5f947461514b2",
       "version_major": 2,
       "version_minor": 0
      },
      "text/plain": [
       "0it [00:00, ?it/s]"
      ]
     },
     "metadata": {},
     "output_type": "display_data"
    },
    {
     "name": "stderr",
     "output_type": "stream",
     "text": [
      "2021-12-12 20:00:31 - INFO - __call__ - 59 : nerEvaluator: Evaluating the model on  dataset in epoch 4 after 1 steps:\n"
     ]
    },
    {
     "data": {
      "application/vnd.jupyter.widget-view+json": {
       "model_id": "be6b4363ba0b4a758e9a7e16f5aa0adc",
       "version_major": 2,
       "version_minor": 0
      },
      "text/plain": [
       "  0%|          | 0/69 [00:00<?, ?it/s]"
      ]
     },
     "metadata": {},
     "output_type": "display_data"
    },
    {
     "name": "stderr",
     "output_type": "stream",
     "text": [
      "2021-12-12 20:00:33 - INFO - fit - 243 : No improvement over previous best eval score (0.986339 vs 0.986339), patience = 5\n"
     ]
    },
    {
     "name": "stdout",
     "output_type": "stream",
     "text": [
      "              precision    recall  f1-score   support\n",
      "\n",
      "         ent     0.9859    0.9868    0.9863      2195\n",
      "\n",
      "   micro avg     0.9859    0.9868    0.9863      2195\n",
      "   macro avg     0.9859    0.9868    0.9863      2195\n",
      "weighted avg     0.9859    0.9868    0.9863      2195\n",
      "\n"
     ]
    },
    {
     "name": "stderr",
     "output_type": "stream",
     "text": [
      "2021-12-12 20:00:39 - INFO - fit - 217 : Epoch : 4, train_step : 305/1545, loss_value : 0.001145483780896566 \n",
      "2021-12-12 20:00:45 - INFO - fit - 217 : Epoch : 4, train_step : 610/1545, loss_value : 0.0007540741026474041 \n",
      "2021-12-12 20:00:48 - INFO - __call__ - 59 : nerEvaluator: Evaluating the model on  dataset in epoch 4 after 155 steps:\n"
     ]
    },
    {
     "data": {
      "application/vnd.jupyter.widget-view+json": {
       "model_id": "c19f0a437d5345d9a5a4640d7fa1cda7",
       "version_major": 2,
       "version_minor": 0
      },
      "text/plain": [
       "  0%|          | 0/69 [00:00<?, ?it/s]"
      ]
     },
     "metadata": {},
     "output_type": "display_data"
    },
    {
     "name": "stdout",
     "output_type": "stream",
     "text": [
      "              precision    recall  f1-score   support\n",
      "\n",
      "         ent     0.9877    0.9877    0.9877      2195\n",
      "\n",
      "   micro avg     0.9877    0.9877    0.9877      2195\n",
      "   macro avg     0.9877    0.9877    0.9877      2195\n",
      "weighted avg     0.9877    0.9877    0.9877      2195\n",
      "\n"
     ]
    },
    {
     "name": "stderr",
     "output_type": "stream",
     "text": [
      "2021-12-12 20:00:50 - INFO - save_pretrained - 509 : Model weights saved in ../NER/BERT/pytorch_model.bin\n",
      "2021-12-12 20:00:50 - INFO - save_pretrained - 150 : Configuration saved in ../NER/BERT/config.json\n",
      "2021-12-12 20:00:50 - INFO - save_vocab - 51 : Vocab saved in ../NER/BERT/vocab.txt\n",
      "2021-12-12 20:00:50 - INFO - fit - 239 : In epoch 4, training_step 770, the eval score is 0.9876993166287016, previous eval score is 0.9863387978142076, model has been saved in ../NER\n",
      "2021-12-12 20:00:53 - INFO - fit - 217 : Epoch : 4, train_step : 915/1545, loss_value : 0.0008832592513320632 \n",
      "2021-12-12 20:00:59 - INFO - fit - 217 : Epoch : 4, train_step : 1220/1545, loss_value : 0.0005409023140034195 \n",
      "2021-12-12 20:01:05 - INFO - fit - 217 : Epoch : 4, train_step : 1525/1545, loss_value : 0.0013376651818436556 \n",
      "2021-12-12 20:01:05 - INFO - __call__ - 59 : nerEvaluator: Evaluating the model on  dataset in epoch 4 after 309 steps:\n"
     ]
    },
    {
     "data": {
      "application/vnd.jupyter.widget-view+json": {
       "model_id": "381178e08b58405b80891d0fedf780f0",
       "version_major": 2,
       "version_minor": 0
      },
      "text/plain": [
       "  0%|          | 0/69 [00:00<?, ?it/s]"
      ]
     },
     "metadata": {},
     "output_type": "display_data"
    },
    {
     "name": "stderr",
     "output_type": "stream",
     "text": [
      "2021-12-12 20:01:07 - INFO - fit - 243 : No improvement over previous best eval score (0.987474 vs 0.987699), patience = 4\n"
     ]
    },
    {
     "name": "stdout",
     "output_type": "stream",
     "text": [
      "              precision    recall  f1-score   support\n",
      "\n",
      "         ent     0.9872    0.9877    0.9875      2195\n",
      "\n",
      "   micro avg     0.9872    0.9877    0.9875      2195\n",
      "   macro avg     0.9872    0.9877    0.9875      2195\n",
      "weighted avg     0.9872    0.9877    0.9875      2195\n",
      "\n"
     ]
    }
   ],
   "source": [
    "ner_model.fit(train_dataloader=train_dataloader,evaluator=evaluator,epochs=5,output_path=output_path)"
   ]
  },
  {
   "cell_type": "code",
   "execution_count": null,
   "id": "1cdf3368",
   "metadata": {},
   "outputs": [],
   "source": []
  },
  {
   "cell_type": "code",
   "execution_count": null,
   "id": "ad56b4e6",
   "metadata": {},
   "outputs": [],
   "source": []
  },
  {
   "cell_type": "code",
   "execution_count": null,
   "id": "311b83c1",
   "metadata": {},
   "outputs": [],
   "source": []
  },
  {
   "cell_type": "code",
   "execution_count": null,
   "id": "4cbdea72",
   "metadata": {},
   "outputs": [],
   "source": []
  },
  {
   "cell_type": "code",
   "execution_count": null,
   "id": "1b1d5444",
   "metadata": {},
   "outputs": [],
   "source": []
  }
 ],
 "metadata": {
  "kernelspec": {
   "display_name": "Python 3 (ipykernel)",
   "language": "python",
   "name": "python3"
  },
  "language_info": {
   "codemirror_mode": {
    "name": "ipython",
    "version": 3
   },
   "file_extension": ".py",
   "mimetype": "text/x-python",
   "name": "python",
   "nbconvert_exporter": "python",
   "pygments_lexer": "ipython3",
   "version": "3.9.5"
  }
 },
 "nbformat": 4,
 "nbformat_minor": 5
}
