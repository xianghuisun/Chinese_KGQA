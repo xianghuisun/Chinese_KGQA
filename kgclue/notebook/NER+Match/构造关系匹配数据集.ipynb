{
 "cells": [
  {
   "cell_type": "markdown",
   "id": "483f0b07",
   "metadata": {},
   "source": [
    "<font color=red size=4>构造的思路是取问题中topic实体的其它关系作为负样本</font>"
   ]
  },
  {
   "cell_type": "markdown",
   "id": "60bd4d15",
   "metadata": {},
   "source": [
    "# 导入包"
   ]
  },
  {
   "cell_type": "code",
   "execution_count": 1,
   "id": "0bb8b710",
   "metadata": {},
   "outputs": [
    {
     "name": "stdout",
     "output_type": "stream",
     "text": [
      "Better speed can be achieved with apex installed from https://www.github.com/nvidia/apex.\n",
      "Better speed can be achieved with apex installed from https://www.github.com/nvidia/apex.\n"
     ]
    }
   ],
   "source": [
    "from collections import defaultdict\n",
    "from tqdm import tqdm\n",
    "import re\n",
    "import json\n",
    "from copy import deepcopy\n",
    "import random\n",
    "\n",
    "import torch\n",
    "import os\n",
    "import pickle\n",
    "from transformers import AutoTokenizer\n",
    "import transformers\n",
    "import torch.nn as nn\n",
    "import math\n",
    "import time\n",
    "import pandas as pd\n",
    "import numpy as np\n",
    "from nlp_basictasks.tasks import Ner,cls\n",
    "from nlp_basictasks.evaluation import nerEvaluator,clsEvaluator\n",
    "from nlp_basictasks.readers.cls import InputExample\n",
    "from collections import Counter\n",
    "from copy import deepcopy\n",
    "from nlp_basictasks.modules.transformers import BertTokenizer\n",
    "device=torch.device('cuda')"
   ]
  },
  {
   "cell_type": "markdown",
   "id": "9747989b",
   "metadata": {},
   "source": [
    "# 读取原始数据"
   ]
  },
  {
   "cell_type": "code",
   "execution_count": 2,
   "id": "69fe8119",
   "metadata": {},
   "outputs": [
    {
     "name": "stdout",
     "output_type": "stream",
     "text": [
      "原始数据有18000个样本\n",
      "原始数据有2000个样本\n",
      "原始数据有2000个样本\n"
     ]
    }
   ],
   "source": [
    "def read_data(data_path):\n",
    "    with open(data_path) as f:\n",
    "        lines=f.readlines()\n",
    "    data=[]\n",
    "    for line in lines:\n",
    "        data.append(json.loads(line))\n",
    "    print(\"原始数据有{}个样本\".format(len(data)))\n",
    "    return data\n",
    "    \n",
    "data=[]\n",
    "data.extend(read_data('/home/xhsun/NLP/KGQA/QApairs/Chinese/kgclue/train.json'))\n",
    "data.extend(read_data('/home/xhsun/NLP/KGQA/QApairs/Chinese/kgclue/dev.json'))\n",
    "data.extend(read_data('/home/xhsun/NLP/KGQA/QApairs/Chinese/kgclue/test_public.json'))"
   ]
  },
  {
   "cell_type": "code",
   "execution_count": 3,
   "id": "94358e05",
   "metadata": {},
   "outputs": [
    {
     "name": "stdout",
     "output_type": "stream",
     "text": [
      "原始数据有22000个样本\n",
      "{'id': 0, 'question': '你知道守望星光是哪家公司出品的吗？', 'answer': '守望星光（韩玉玲、刘东考演唱歌曲） ||| 出品公司 ||| 韩玉玲原创音乐'}\n",
      "{'id': 1, 'question': '武汉交通职业学院计算机协会有哪些学校？', 'answer': '武汉交通职业学院计算机协会 ||| 学校 ||| 武汉交通职业学院'}\n",
      "{'id': 2, 'question': '你知道龙晶用繁体字怎么写吗？', 'answer': '龙晶（游戏） ||| 繁体 ||| 龍晶'}\n",
      "{'id': 3, 'question': '无罪无我的和声是什么？', 'answer': '无罪无我 ||| 和声 ||| 章韵、徐晨辰'}\n",
      "{'id': 4, 'question': '你知道影舞者的车身有多重吗？', 'answer': '影舞者（《QQ飞车》中的赛车） ||| 车身重量 ||| 1232kg'}\n",
      "{'id': 5, 'question': '冯慧专业是什么方向？', 'answer': '冯慧（武汉大学教授） ||| 专业方向 ||| 偏微分方程数值解'}\n",
      "{'id': 6, 'question': '你知道戴姆勒股份公司有多少员工吗？', 'answer': '戴姆勒股份公司 ||| 员工数 ||| 298655 人(2020年)'}\n",
      "{'id': 7, 'question': '谁知道魔力w.i.t.c.h.系列有哪些丛书？', 'answer': '魔力w.i.t.c.h. ||| 丛书系列 ||| 魔力w.i.t.c.h.100少女完全手册、魔力w.i.t.c.h.故事集、魔力w.i.t.c.h.小说《破碎的魔球》'}\n",
      "{'id': 8, 'question': '谁知道端午节有什么重要意义？', 'answer': '端午节（中国四大传统节日之一） ||| 节日意义 ||| 传承与弘扬非物质文化'}\n",
      "{'id': 9, 'question': '谁唱的风不息？', 'answer': '风不息（1995年郭富城发行的音乐专辑） ||| 歌手 ||| 郭富城'}\n"
     ]
    }
   ],
   "source": [
    "print(\"原始数据有{}个样本\".format(len(data)))\n",
    "for i in range(10):\n",
    "    print(data[i])"
   ]
  },
  {
   "cell_type": "markdown",
   "id": "5f2f8782",
   "metadata": {},
   "source": [
    "# 读取大规模的知识图谱"
   ]
  },
  {
   "cell_type": "code",
   "execution_count": 4,
   "id": "0b7ee4fc",
   "metadata": {},
   "outputs": [
    {
     "name": "stdout",
     "output_type": "stream",
     "text": [
      "22883549\n"
     ]
    },
    {
     "name": "stderr",
     "output_type": "stream",
     "text": [
      "100%|███████████████████████████████████████████████████████████████████████████████████████| 22883549/22883549 [02:13<00:00, 171197.04it/s]\n"
     ]
    }
   ],
   "source": [
    "sub_map = defaultdict(set)\n",
    "obj_map = defaultdict(set)\n",
    "so_map=defaultdict(set)\n",
    "sp_map=defaultdict(set)\n",
    "alias_dict=defaultdict(set)\n",
    "kg_path='/home/xhsun/NLP/KGQA/KG/kgCLUE/Knowledge.txt'\n",
    "with open(kg_path) as f:\n",
    "    lines=f.readlines()\n",
    "    \n",
    "entities_set=set()\n",
    "relations_set=set()\n",
    "print(len(lines))\n",
    "\n",
    "#new_triples=[]\n",
    "for i in tqdm(range(len(lines))):\n",
    "    line=lines[i]\n",
    "    l = line.strip().split('\\t')\n",
    "    s = l[0].strip()\n",
    "    p = l[1].strip()\n",
    "    o = l[2].strip()\n",
    "    if s=='' or p=='' or o=='':\n",
    "        print('-'*100)\n",
    "        continue\n",
    "    entities_set.add(s)\n",
    "    entities_set.add(o)\n",
    "    relations_set.add(p)\n",
    "    #new_triples.append((s,p,o))\n",
    "    sub_map[s].add((p, o))\n",
    "    obj_map[o].add((s, p))\n",
    "    so_map[(s,o)].add(p)\n",
    "    sp_map[(s,p)].add(o)\n",
    "    if '（' in s and \"）\" in s:\n",
    "        entity_mention=s.split('（')[0]\n",
    "        alias_dict[entity_mention].add(s)"
   ]
  },
  {
   "cell_type": "code",
   "execution_count": 5,
   "id": "95b326e1",
   "metadata": {},
   "outputs": [
    {
     "name": "stdout",
     "output_type": "stream",
     "text": [
      "大规模图谱中一共有22883549个三元组，9418104个实体，245837个关系\n"
     ]
    }
   ],
   "source": [
    "print('大规模图谱中一共有{}个三元组，{}个实体，{}个关系'.format(len(lines),len(entities_set),len(relations_set)))"
   ]
  },
  {
   "cell_type": "code",
   "execution_count": 6,
   "id": "3264d8ae",
   "metadata": {},
   "outputs": [
    {
     "data": {
      "text/plain": [
       "{'玻璃（2004年上海人民美术出版社出版的图书）',\n",
       " '玻璃（克里斯·莱夫特瑞所著图书）',\n",
       " '玻璃（北村作品）',\n",
       " '玻璃（吴日言演唱歌曲）',\n",
       " '玻璃（手机游戏）',\n",
       " '玻璃（方糖泡泡演唱歌曲）',\n",
       " '玻璃（朱茵演唱的粤语歌曲）',\n",
       " '玻璃（游戏《Minecraft》中的方块）',\n",
       " '玻璃（玻璃杂志---《玻璃工业》）',\n",
       " '玻璃（男同性恋）',\n",
       " '玻璃（硅酸盐类非金属材料）',\n",
       " '玻璃（红楼梦中的丫鬟名）',\n",
       " '玻璃（蔡淳佳演唱的歌曲）',\n",
       " '玻璃（辛晓琪的歌曲）',\n",
       " '玻璃（陈颖恩演唱歌曲）'}"
      ]
     },
     "execution_count": 6,
     "metadata": {},
     "output_type": "execute_result"
    }
   ],
   "source": [
    "alias_dict['玻璃']"
   ]
  },
  {
   "cell_type": "markdown",
   "id": "e59731db",
   "metadata": {},
   "source": [
    "# 构造关系匹配数据集"
   ]
  },
  {
   "cell_type": "markdown",
   "id": "4e74004b",
   "metadata": {},
   "source": [
    "这一步需要做两件事：\n",
    "1. 构造别名字典\n",
    "2. 构造关系匹配数据"
   ]
  },
  {
   "cell_type": "code",
   "execution_count": 22,
   "id": "b7e2ad6c",
   "metadata": {},
   "outputs": [
    {
     "name": "stderr",
     "output_type": "stream",
     "text": [
      "100%|█████████████████████████████████████████████████████████████████████████████████████████████| 22000/22000 [00:00<00:00, 179798.38it/s]\n"
     ]
    }
   ],
   "source": [
    "relation_match_data=[]\n",
    "pos_nums=0\n",
    "neg_nums=0\n",
    "for example in tqdm(data):\n",
    "    id_,question,answer=example['id'],example['question'],example['answer']\n",
    "    answer_split=answer.split('|||')\n",
    "    head,relation,tail=answer_split[0].strip(),answer_split[1].strip(),answer_split[2].strip()\n",
    "    entity_mention=head\n",
    "    if ('（' in head and '）' in head) and head not in question:\n",
    "        entity_mention=head.split('（')[0]\n",
    "        assert entity_mention in alias_dict\n",
    "    if relation in ['别名','中文名',\"英文名\",\"外文名\",\"原名\",\"别称\",\"昵称\",\"全称\",\"中文名称\",\"英文名称\"]:\n",
    "        alias_dict[entity_mention].add(tail)\n",
    "        \n",
    "    candidate_pos=sub_map[head]\n",
    "#     print(relation,candidate_relations)\n",
    "#     assert relation in candidate_relations\n",
    "    if entity_mention not in question:\n",
    "        continue\n",
    "    question=question.replace(entity_mention,'NE')\n",
    "    relation_match_data.append({\"question\":question,\"head\":head,'relation':relation,'label':'1',\"answer\":tail})\n",
    "    pos_nums+=1\n",
    "    for p,o in candidate_pos:\n",
    "        if p!=relation:\n",
    "            relation_match_data.append({\"question\":question,\"head\":head,'relation':p,'label':'0','answer':o})               \n",
    "            neg_nums+=1"
   ]
  },
  {
   "cell_type": "code",
   "execution_count": 23,
   "id": "d81b4aa8",
   "metadata": {},
   "outputs": [
    {
     "name": "stdout",
     "output_type": "stream",
     "text": [
      "201274 21975 179299\n"
     ]
    }
   ],
   "source": [
    "print(len(relation_match_data),pos_nums,neg_nums)"
   ]
  },
  {
   "cell_type": "code",
   "execution_count": 24,
   "id": "09d92e82",
   "metadata": {},
   "outputs": [
    {
     "data": {
      "text/plain": [
       "[{'question': '你知道NE是哪家公司出品的吗？',\n",
       "  'head': '守望星光（韩玉玲、刘东考演唱歌曲）',\n",
       "  'relation': '出品公司',\n",
       "  'label': '1',\n",
       "  'answer': '韩玉玲原创音乐'},\n",
       " {'question': '你知道NE是哪家公司出品的吗？',\n",
       "  'head': '守望星光（韩玉玲、刘东考演唱歌曲）',\n",
       "  'relation': '中文名',\n",
       "  'label': '0',\n",
       "  'answer': '守望星光'},\n",
       " {'question': '你知道NE是哪家公司出品的吗？',\n",
       "  'head': '守望星光（韩玉玲、刘东考演唱歌曲）',\n",
       "  'relation': '谱曲',\n",
       "  'label': '0',\n",
       "  'answer': '韩玉玲'},\n",
       " {'question': '你知道NE是哪家公司出品的吗？',\n",
       "  'head': '守望星光（韩玉玲、刘东考演唱歌曲）',\n",
       "  'relation': '歌曲原唱',\n",
       "  'label': '0',\n",
       "  'answer': '韩玉玲、刘东考'},\n",
       " {'question': '你知道NE是哪家公司出品的吗？',\n",
       "  'head': '守望星光（韩玉玲、刘东考演唱歌曲）',\n",
       "  'relation': '歌曲时长',\n",
       "  'label': '0',\n",
       "  'answer': '04分58秒'}]"
      ]
     },
     "execution_count": 24,
     "metadata": {},
     "output_type": "execute_result"
    }
   ],
   "source": [
    "relation_match_data[:5]"
   ]
  },
  {
   "cell_type": "markdown",
   "id": "b0c34fc8",
   "metadata": {},
   "source": [
    "- 针对实体识别的结果，从alias_dict中找出所有的候选实体\n",
    "- 针对每一个候选实体，从sub_map中找出所有可能的(reltion,tail)\n",
    "- 将每一个relation与问题模板送入匹配模型中计算每一个reltion的得分（或者将整个三元组与问题模板送入匹配模型中计算整个三元组与问题的得分，选择分数最高的三元组。这种策略可能比单计算关系与问题模板的准确性更高，因为可以利用到消歧的信息和答案的语义信息）"
   ]
  },
  {
   "cell_type": "markdown",
   "id": "201c30cb",
   "metadata": {},
   "source": [
    "# 保存sub_map、alias_dict、match_data"
   ]
  },
  {
   "cell_type": "code",
   "execution_count": 30,
   "id": "54bebbfb",
   "metadata": {},
   "outputs": [],
   "source": [
    "with open(\"/home/xhsun/NLP/KGQA/KG/kgCLUE/NER-Match/sub_map.json\",\"w\") as f:\n",
    "    for key,value in sub_map.items():\n",
    "        sub_map[key]=list(value)\n",
    "    json.dump(obj=sub_map,fp=f,ensure_ascii=False)\n",
    "with open(\"/home/xhsun/NLP/KGQA/KG/kgCLUE/NER-Match/alias_dict.json\",\"w\") as f:\n",
    "    for key,value in alias_dict.items():\n",
    "        alias_dict[key]=list(value)\n",
    "    json.dump(obj=alias_dict,fp=f,ensure_ascii=False)\n",
    "with open(\"/home/xhsun/NLP/KGQA/KG/kgCLUE/NER-Match/match_data.txt\",\"w\") as f:\n",
    "    for example in relation_match_data:\n",
    "        f.write(json.dumps(example,ensure_ascii=False)+'\\n')"
   ]
  },
  {
   "cell_type": "code",
   "execution_count": null,
   "id": "8ee3b10c",
   "metadata": {},
   "outputs": [],
   "source": []
  },
  {
   "cell_type": "code",
   "execution_count": null,
   "id": "26da0d18",
   "metadata": {},
   "outputs": [],
   "source": []
  },
  {
   "cell_type": "code",
   "execution_count": null,
   "id": "594b50d1",
   "metadata": {},
   "outputs": [],
   "source": []
  },
  {
   "cell_type": "code",
   "execution_count": null,
   "id": "11a33def",
   "metadata": {},
   "outputs": [],
   "source": []
  },
  {
   "cell_type": "code",
   "execution_count": 27,
   "id": "f375d27b",
   "metadata": {},
   "outputs": [
    {
     "data": {
      "text/plain": [
       "{('ISBN', '9787108028006'),\n",
       " ('书名', '中国面向世界'),\n",
       " ('作者', '佘敷华'),\n",
       " ('作者', '佘敷华/张芝联'),\n",
       " ('出版时间', '1987年6月'),\n",
       " ('出版社', '三联书店'),\n",
       " ('定价', '2.00'),\n",
       " ('定价', '22.5 元'),\n",
       " ('统一书号', '2002-317'),\n",
       " ('译者', '袁树仁'),\n",
       " ('页数', '231页'),\n",
       " ('页数', '315 页')}"
      ]
     },
     "execution_count": 27,
     "metadata": {},
     "output_type": "execute_result"
    }
   ],
   "source": [
    "sub_map['中国面向世界']"
   ]
  },
  {
   "cell_type": "code",
   "execution_count": 26,
   "id": "4fedfd22",
   "metadata": {},
   "outputs": [
    {
     "data": {
      "text/plain": [
       "{'情人（1990年海峡文艺出版社出版的图书）',\n",
       " '情人（2004年上海画报出版社出版的图书）',\n",
       " '情人（2004年王裕如编写图书）',\n",
       " '情人（2013年广东旅游出版社出版的图书）',\n",
       " '情人（2013年朱哲琴与凯撒演唱的歌曲）',\n",
       " '情人（Amour饮品）',\n",
       " '情人（Beyond演唱歌曲）',\n",
       " '情人（上海译文出版社发行书籍）',\n",
       " '情人（俄罗斯2002年瓦·托多罗夫斯基执导剧情片）',\n",
       " '情人（冰一言演唱歌曲）',\n",
       " '情人（刀郎演唱歌曲）',\n",
       " '情人（刘威煌演唱歌曲）',\n",
       " '情人（巴西2002年亚利桑德罗·阿奎斯提执导电影）',\n",
       " '情人（李碧华演唱歌曲）',\n",
       " '情人（杜德伟演唱歌曲）',\n",
       " '情人（杨林演唱歌曲）',\n",
       " '情人（林依轮演唱歌曲）',\n",
       " '情人（林忆莲演唱歌曲）',\n",
       " '情人（柯云路创作小说）',\n",
       " '情人（汉语词语）',\n",
       " '情人（法国1992年让·雅克·阿诺执导电影）',\n",
       " '情人（潘嘉丽演唱歌曲）',\n",
       " '情人（潘美辰演唱歌曲）',\n",
       " '情人（玛格丽特·杜拉斯著中篇小说）',\n",
       " '情人（苏曼演唱歌曲）',\n",
       " '情人（蔡国庆演唱歌曲）',\n",
       " '情人（蔡徐坤演唱歌曲）',\n",
       " '情人（西奥Sio演唱歌曲）',\n",
       " '情人（西班牙2002年胡安·路易斯·伊沃拉执导电影）',\n",
       " '情人（许巍演唱歌曲）',\n",
       " '情人（谭咏麟演唱歌曲）',\n",
       " '情人（谭咏麟音乐专辑）',\n",
       " '情人（谷乐著网络小说）',\n",
       " '情人（豆瓣阅读作者舍目斯所作的家庭女性小说）',\n",
       " '情人（邓紫棋演唱歌曲）',\n",
       " '情人（邱海萍执导话剧）',\n",
       " '情人（邵明明、贺敬轩演唱歌曲）',\n",
       " '情人（阿丽玛演唱歌曲）',\n",
       " '情人（陈嘉璐演唱歌曲）',\n",
       " '情人（陈百强演唱歌曲）',\n",
       " '情人（青岛出版社发行书籍）',\n",
       " '情人（韩红演唱歌曲）',\n",
       " '情人（黄品源演唱歌曲）'}"
      ]
     },
     "execution_count": 26,
     "metadata": {},
     "output_type": "execute_result"
    }
   ],
   "source": [
    "alias_dict['情人']"
   ]
  },
  {
   "cell_type": "code",
   "execution_count": null,
   "id": "c6bc186c",
   "metadata": {},
   "outputs": [],
   "source": []
  }
 ],
 "metadata": {
  "kernelspec": {
   "display_name": "Python 3 (ipykernel)",
   "language": "python",
   "name": "python3"
  },
  "language_info": {
   "codemirror_mode": {
    "name": "ipython",
    "version": 3
   },
   "file_extension": ".py",
   "mimetype": "text/x-python",
   "name": "python",
   "nbconvert_exporter": "python",
   "pygments_lexer": "ipython3",
   "version": "3.9.5"
  }
 },
 "nbformat": 4,
 "nbformat_minor": 5
}
