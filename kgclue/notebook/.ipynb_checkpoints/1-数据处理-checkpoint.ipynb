{
 "cells": [
  {
   "cell_type": "markdown",
   "id": "28f3bb80",
   "metadata": {},
   "source": [
    "# 导入包"
   ]
  },
  {
   "cell_type": "code",
   "execution_count": 1,
   "id": "5866a472",
   "metadata": {},
   "outputs": [],
   "source": [
    "from collections import defaultdict\n",
    "from tqdm import tqdm\n",
    "import re\n",
    "import json\n",
    "from copy import deepcopy\n",
    "import random"
   ]
  },
  {
   "cell_type": "markdown",
   "id": "6749bda5",
   "metadata": {},
   "source": [
    "# 将数据处理成QA对形式"
   ]
  },
  {
   "cell_type": "markdown",
   "id": "44e3fb17",
   "metadata": {},
   "source": [
    "## 读取原始数据"
   ]
  },
  {
   "cell_type": "code",
   "execution_count": 3,
   "id": "76e72cf2",
   "metadata": {},
   "outputs": [
    {
     "name": "stdout",
     "output_type": "stream",
     "text": [
      "原始数据有18000个样本\n",
      "原始数据有2000个样本\n",
      "原始数据有2000个样本\n"
     ]
    }
   ],
   "source": [
    "def read_data(data_path):\n",
    "    with open(data_path) as f:\n",
    "        lines=f.readlines()\n",
    "    data=[]\n",
    "    for line in lines:\n",
    "        data.append(json.loads(line))\n",
    "    print(\"原始数据有{}个样本\".format(len(data)))\n",
    "    return data\n",
    "    \n",
    "data=[]\n",
    "data.extend(read_data('/home/xhsun/Desktop/KG/kgCLUE/qa_data/train.json'))\n",
    "data.extend(read_data('/home/xhsun/Desktop/KG/kgCLUE/qa_data/dev.json'))\n",
    "data.extend(read_data('/home/xhsun/Desktop/KG/kgCLUE/qa_data/test_public.json'))"
   ]
  },
  {
   "cell_type": "code",
   "execution_count": 4,
   "id": "b563d1f7",
   "metadata": {},
   "outputs": [
    {
     "name": "stdout",
     "output_type": "stream",
     "text": [
      "原始数据有22000个样本\n",
      "{'id': 0, 'question': '你知道守望星光是哪家公司出品的吗？', 'answer': '守望星光（韩玉玲、刘东考演唱歌曲） ||| 出品公司 ||| 韩玉玲原创音乐'}\n",
      "{'id': 1, 'question': '武汉交通职业学院计算机协会有哪些学校？', 'answer': '武汉交通职业学院计算机协会 ||| 学校 ||| 武汉交通职业学院'}\n",
      "{'id': 2, 'question': '你知道龙晶用繁体字怎么写吗？', 'answer': '龙晶（游戏） ||| 繁体 ||| 龍晶'}\n",
      "{'id': 3, 'question': '无罪无我的和声是什么？', 'answer': '无罪无我 ||| 和声 ||| 章韵、徐晨辰'}\n",
      "{'id': 4, 'question': '你知道影舞者的车身有多重吗？', 'answer': '影舞者（《QQ飞车》中的赛车） ||| 车身重量 ||| 1232kg'}\n",
      "{'id': 5, 'question': '冯慧专业是什么方向？', 'answer': '冯慧（武汉大学教授） ||| 专业方向 ||| 偏微分方程数值解'}\n",
      "{'id': 6, 'question': '你知道戴姆勒股份公司有多少员工吗？', 'answer': '戴姆勒股份公司 ||| 员工数 ||| 298655 人(2020年)'}\n",
      "{'id': 7, 'question': '谁知道魔力w.i.t.c.h.系列有哪些丛书？', 'answer': '魔力w.i.t.c.h. ||| 丛书系列 ||| 魔力w.i.t.c.h.100少女完全手册、魔力w.i.t.c.h.故事集、魔力w.i.t.c.h.小说《破碎的魔球》'}\n",
      "{'id': 8, 'question': '谁知道端午节有什么重要意义？', 'answer': '端午节（中国四大传统节日之一） ||| 节日意义 ||| 传承与弘扬非物质文化'}\n",
      "{'id': 9, 'question': '谁唱的风不息？', 'answer': '风不息（1995年郭富城发行的音乐专辑） ||| 歌手 ||| 郭富城'}\n"
     ]
    }
   ],
   "source": [
    "print(\"原始数据有{}个样本\".format(len(data)))\n",
    "for i in range(10):\n",
    "    print(data[i])"
   ]
  },
  {
   "cell_type": "markdown",
   "id": "d4ac1729",
   "metadata": {},
   "source": [
    "## 将原始数据转换为QA对的形式"
   ]
  },
  {
   "cell_type": "code",
   "execution_count": 5,
   "id": "f55406a1",
   "metadata": {},
   "outputs": [],
   "source": [
    "all_examples=[]\n",
    "bad_examples=[]\n",
    "for example in data:\n",
    "    question,answer=example['question'],example['answer']\n",
    "    triplet=answer.strip().split('|||')\n",
    "    assert len(triplet)==3\n",
    "    assert type(question)==str\n",
    "    question=question.strip()\n",
    "    entity=triplet[0].strip()\n",
    "    rel=triplet[1].strip()\n",
    "    ans=triplet[2].strip()\n",
    "    \n",
    "    if ('（' in entity and '）' in entity) and entity not in question:\n",
    "        #print(entity,question)\n",
    "        #assert entity.split('（')[0] in question\n",
    "        question=question.replace(entity.split('（')[0],entity)\n",
    "            \n",
    "    if entity in question:\n",
    "        start_id=question.find(entity)\n",
    "        end_id=start_id+len(entity)\n",
    "        question=question[:start_id]+'<'+entity+'>'+question[end_id:]\n",
    "        all_examples.append({\"question\":question,'topic_entity':entity,'answer':ans,'relation':rel})\n",
    "    else:\n",
    "        bad_examples.append(example)"
   ]
  },
  {
   "cell_type": "code",
   "execution_count": 6,
   "id": "4c755053",
   "metadata": {},
   "outputs": [
    {
     "name": "stdout",
     "output_type": "stream",
     "text": [
      "22000 21975\n",
      "转换后的每一个样本形如：\n",
      "{'question': '你知道<守望星光（韩玉玲、刘东考演唱歌曲）>是哪家公司出品的吗？', 'topic_entity': '守望星光（韩玉玲、刘东考演唱歌曲）', 'answer': '韩玉玲原创音乐', 'relation': '出品公司'}\n",
      "{'question': '<武汉交通职业学院计算机协会>有哪些学校？', 'topic_entity': '武汉交通职业学院计算机协会', 'answer': '武汉交通职业学院', 'relation': '学校'}\n",
      "{'question': '你知道<龙晶（游戏）>用繁体字怎么写吗？', 'topic_entity': '龙晶（游戏）', 'answer': '龍晶', 'relation': '繁体'}\n",
      "{'question': '<无罪无我>的和声是什么？', 'topic_entity': '无罪无我', 'answer': '章韵、徐晨辰', 'relation': '和声'}\n",
      "{'question': '你知道<影舞者（《QQ飞车》中的赛车）>的车身有多重吗？', 'topic_entity': '影舞者（《QQ飞车》中的赛车）', 'answer': '1232kg', 'relation': '车身重量'}\n"
     ]
    }
   ],
   "source": [
    "print(len(data),len(all_examples))\n",
    "print('转换后的每一个样本形如：')\n",
    "for i in range(5):\n",
    "    print(all_examples[i])"
   ]
  },
  {
   "cell_type": "code",
   "execution_count": 7,
   "id": "a21a2d58",
   "metadata": {},
   "outputs": [
    {
     "name": "stdout",
     "output_type": "stream",
     "text": [
      "{'id': 209, 'question': '哈维尔埃尔南德斯习惯用哪只脚？', 'answer': '哈维尔·埃尔南德斯（1988年生墨西哥足球运动员） ||| 惯用脚 ||| 右脚'}\n",
      "{'id': 747, 'question': '正大综艺是什么频道播出的？', 'answer': '2009年正大综艺节目列表 ||| 播出频道 ||| 中央电视台综艺频道'}\n",
      "{'id': 838, 'question': '有人了解网易的股票代码吗？', 'answer': '网易公司 ||| 股票代码 ||| NTES（美股）'}\n",
      "{'id': 977, 'question': '安徽日报农村版的周期是什么？', 'answer': '安徽日报·农村版 ||| 周期 ||| 周二刊'}\n",
      "{'id': 2798, 'question': '你知道利群集团的年营业额是多少吗？', 'answer': '利群集团股份有限公司 ||| 年营业额 ||| 3038679 万元(2019年)'}\n",
      "{'id': 4147, 'question': '你知道我家的女仆有够烦的出版社是什么吗？', 'answer': '我家的女仆有够烦！（中村カンコ著作的漫画） ||| 其他出版社 ||| 青文出版社（中国台湾）'}\n",
      "{'id': 4148, 'question': '仓央嘉措是在哪里逝世的？', 'answer': '第六世达赖喇嘛·仓央嘉措 ||| 逝世地 ||| 中国青海湖附近公噶瑙尔'}\n",
      "{'id': 5046, 'question': '请问阿莱克斯库珀哪只脚为惯用脚？', 'answer': '阿莱克斯·库珀 ||| 惯用脚 ||| 左脚'}\n",
      "{'id': 5358, 'question': '认真和我谈恋爱的游戏平台是什么呀?', 'answer': '认真和我谈恋爱！！（2009年みなとそふと开发的恋爱冒险电脑游戏） ||| 游戏平台 ||| PC(Windows2000/XP/Vista)'}\n",
      "{'id': 5591, 'question': '姚明的中文名是什么？', 'answer': '王子（亚洲篮球联合会主席、中国篮球协会主席） ||| 中文名 ||| 王子'}\n",
      "{'id': 5988, 'question': '电视里演的还珠格格是哪种类型的电视剧？', 'answer': '斗奢 ||| 类别 ||| 词语'}\n",
      "{'id': 6105, 'question': '吉安/博塞茹尔惯用脚是哪只？', 'answer': '吉安·博塞茹尔 ||| 惯用脚 ||| 右脚'}\n",
      "{'id': 6243, 'question': '你知道妖精大战争东方三月精这个游戏是什么公司发行的吗?', 'answer': '妖精大战争 ～ 东方三月精 ||| 发行商 ||| 上海爱丽丝幻乐团'}\n",
      "{'id': 6362, 'question': '你知道辽宁海事局是什么级别吗？', 'answer': '中华人民共和国辽宁海事局 ||| 等级 ||| 正厅级单位'}\n",
      "{'id': 7156, 'question': '请问是谁翻译了亲爱的汉修先生？', 'answer': '国际大奖小说：亲爱的汉修先生 ||| 译者 ||| 柯倩华'}\n",
      "{'id': 10342, 'question': '泰迦奥特曼的祖父叫什么？', 'answer': '泰迦·奥特曼（日本特摄《奥特曼》系列中的角色） ||| 祖父 ||| 奥特之父'}\n",
      "{'id': 11328, 'question': '卢卡塔比亚尼球衣号码是多少？', 'answer': '卢卡·塔比亚尼 ||| 球衣号码 ||| 4号'}\n",
      "{'id': 12332, 'question': '欧盟是谁当领袖啊？', 'answer': '欧洲联盟（欧洲经济、政治共同体） ||| 国家领袖 ||| 夏尔·米歇尔(欧盟理事会主席)乌尔苏拉·冯德莱恩(欧盟委员会主席)大卫·萨索利(欧洲议会议长)科恩·莱纳茨(欧洲法院院长)'}\n",
      "{'id': 12646, 'question': '你知道摇曳露营一共多少册吗？', 'answer': '摇曳露营△（あfろ著作的漫画） ||| 单行本册数 ||| 10 卷'}\n",
      "{'id': 12941, 'question': '阿布 迪亚比惯用哪只脚？', 'answer': '阿布·迪亚比 ||| 惯用脚 ||| 右脚'}\n",
      "{'id': 13287, 'question': '苏州北站是什么形式的站台？', 'answer': '高铁苏州北站 ||| 站台形式 ||| 地下岛式'}\n",
      "{'id': 13357, 'question': '哪一年ST红与白的搜查档案开始播出？', 'answer': 'ST 红与白的搜查档案（日本电视剧） ||| 播出时间 ||| 每周三晚10点（东京时间）'}\n",
      "{'id': 15024, 'question': '游戏王怪兽之决斗提供哪些服务？', 'answer': '游戏王 怪兽之决斗 ||| 提供 ||| KONAMI'}\n",
      "{'id': 892, 'question': '你知道阿里巴巴的总经理室谁吗？', 'answer': '阿里巴巴集团 ||| 首席执行官 ||| 张勇'}\n",
      "{'id': 1676, 'question': '你知道宝马的总经理是谁吗？', 'answer': '宝马公司 ||| 首席执行官 ||| 哈拉尔德·克鲁格'}\n"
     ]
    }
   ],
   "source": [
    "for i in range(len(bad_examples)):\n",
    "    print(bad_examples[i])"
   ]
  },
  {
   "cell_type": "markdown",
   "id": "c6a94aad",
   "metadata": {},
   "source": [
    "**问题中的实体(topic entity)用<>括起来**"
   ]
  },
  {
   "cell_type": "markdown",
   "id": "ebedf653",
   "metadata": {},
   "source": [
    "# 根据构造的QA对数据来提取一个小规模的知识图谱\n",
    "提交的测试集泛化性不高"
   ]
  },
  {
   "cell_type": "markdown",
   "id": "a738155a",
   "metadata": {},
   "source": [
    "## 首先读取大规模的知识图谱"
   ]
  },
  {
   "cell_type": "code",
   "execution_count": 8,
   "id": "8851d468",
   "metadata": {},
   "outputs": [
    {
     "name": "stderr",
     "output_type": "stream",
     "text": [
      "100%|██████████████████████████████████████████████████████████████████████████████████████████████████████████████████████████████████████████████████████| 22884223/22884223 [01:13<00:00, 310007.26it/s]\n"
     ]
    }
   ],
   "source": [
    "sub_map = defaultdict(list)\n",
    "obj_map = defaultdict(list)\n",
    "so_map=defaultdict(list)\n",
    "kg_path='../../KgCLUE-main/knowledge/Knowledge.txt'\n",
    "with open(kg_path) as f:\n",
    "    lines=f.readlines()\n",
    "    \n",
    "entities_set=set()\n",
    "relations_set=set()\n",
    "for i in tqdm(range(len(lines))):\n",
    "    line=lines[i]\n",
    "    l = line.strip().split('\\t')\n",
    "    s = l[0].strip()\n",
    "    p = l[1].strip()\n",
    "    o = l[2].strip()\n",
    "    entities_set.add(s)\n",
    "    entities_set.add(o)\n",
    "    relations_set.add(p)\n",
    "    \n",
    "    sub_map[s].append((p, o))\n",
    "    obj_map[o].append((s, p))\n",
    "    so_map[(s,o)].append(p)"
   ]
  },
  {
   "cell_type": "code",
   "execution_count": 9,
   "id": "a0c8f7f8",
   "metadata": {},
   "outputs": [
    {
     "name": "stdout",
     "output_type": "stream",
     "text": [
      "大规模图谱中一共有22884223个三元组，9418365个实体，245838个关系\n"
     ]
    }
   ],
   "source": [
    "print('大规模图谱中一共有{}个三元组，{}个实体，{}个关系'.format(len(lines),len(entities_set),len(relations_set)))"
   ]
  },
  {
   "cell_type": "markdown",
   "id": "c14d4cce",
   "metadata": {},
   "source": [
    "**sub_map记录的是每一个头实体(subject、head)对应的所有可能出现的(关系,尾实体)的集合**"
   ]
  },
  {
   "cell_type": "code",
   "execution_count": 10,
   "id": "b3255a22",
   "metadata": {},
   "outputs": [
    {
     "data": {
      "text/plain": [
       "[('中文名', '周杰伦'),\n",
       " ('主要成就',\n",
       "  '获得十五座金曲奖两届台湾金曲奖最佳国语男歌手四届世界音乐大奖最畅销中华区艺人入选美国CNN亚洲25位最具影响力人物\\xa0《Fast Company》全球百大创意人物大中华区8次年度唱片销量冠军2010年MP3下载量全球第三2009年悉尼演唱会票房公告牌全球第二两届MTV亚洲大奖最受欢迎艺人连续7年获得IFPI香港唱片销量大奖十大销量国语唱片四届新加坡金曲奖最受欢迎男歌手收起'),\n",
       " ('主要成就',\n",
       "  '获得十五座金曲奖两届台湾金曲奖最佳国语男歌手四届世界音乐大奖最畅销中华区艺人入选美国CNN亚洲25位最具影响力人物\\xa0《Fast Company》全球百大创意人物展开获得十五座金曲奖两届台湾金曲奖最佳国语男歌手四届世界音乐大奖最畅销中华区艺人入选美国CNN亚洲25位最具影响力人物\\xa0《Fast Company》全球百大创意人物大中华区8次年度唱片销量冠军2010年MP3下载量全球第三2009年悉尼演唱会票房公告牌全球第二两届MTV亚洲大奖最受欢迎艺人连续7年获得IFPI香港唱片销量大奖十大销量国语唱片四届新加坡金曲奖最受欢迎男歌手收起'),\n",
       " ('代表作品', '星晴、龙卷风、简单爱、双截棍、晴天、以父之名、七里香、夜曲、青花瓷、彩虹、稻香、告白气球'),\n",
       " ('出生地', '台湾省新北市'),\n",
       " ('出生日期', '1979年1月18日'),\n",
       " ('别名', '周董'),\n",
       " ('国籍', '中国'),\n",
       " ('外文名', 'Jay Chou'),\n",
       " ('影视代表作', '不能说的秘密、逆战、天台'),\n",
       " ('影视代表作', '青蜂侠、头文字D、大灌篮、寻找周杰伦'),\n",
       " ('星座', '摩羯座'),\n",
       " ('毕业院校', '淡江中学'),\n",
       " ('民族', '汉族'),\n",
       " ('经纪公司', '杰威尔音乐有限公司'),\n",
       " ('职业', '歌手、音乐人、制作人、导演、商人'),\n",
       " ('血型', 'O型'),\n",
       " ('身高', '175cm')]"
      ]
     },
     "execution_count": 10,
     "metadata": {},
     "output_type": "execute_result"
    }
   ],
   "source": [
    "sub_map['周杰伦']"
   ]
  },
  {
   "cell_type": "markdown",
   "id": "5155c19c",
   "metadata": {},
   "source": [
    "**obj_map记录的是每一个尾实体(object、tail)对应的所有可能出现的(头实体，关系)的集合**"
   ]
  },
  {
   "cell_type": "code",
   "execution_count": 11,
   "id": "825b4573",
   "metadata": {},
   "outputs": [
    {
     "data": {
      "text/plain": [
       "[('七虫七花膏', '发明者'),\n",
       " ('三恋', '编剧'),\n",
       " ('三恋', '编剧'),\n",
       " ('九阴真经（金庸小说中的武学秘籍）', '作者'),\n",
       " ('书剑恩仇录（1976年香港TVB郑少秋主演版电视剧）', '原著'),\n",
       " ('书剑恩仇录（1976年香港TVB郑少秋主演版电视剧）', '原著'),\n",
       " ('书剑恩仇录（1981年香港邵氏狄龙主演版电影）', '原著'),\n",
       " ('书剑恩仇录（1981年香港邵氏狄龙主演版电影）', '原著'),\n",
       " ('书剑恩仇录（2015张纪中版书剑恩仇录）', '原著'),\n",
       " ('书剑恩仇录（2015张纪中版书剑恩仇录）', '原著'),\n",
       " ('书剑恩仇录（原著改编连环画）', '小说作者'),\n",
       " ('书剑恩仇录（金庸创作长篇武侠小说）', '作者'),\n",
       " ('书剑恩仇录（金庸创作长篇武侠小说）', '作者'),\n",
       " ('伏魔杖法', '作者'),\n",
       " ('何三七', '作者'),\n",
       " ('何三七', '作者'),\n",
       " ('侠客行（金庸创作长篇武侠小说）', '作者'),\n",
       " ('侠客行（金庸创作长篇武侠小说）', '作者'),\n",
       " ('俞连舟', '作者'),\n",
       " ('俞连舟', '作者'),\n",
       " ('倚天屠龙记之魔教教主', '编剧'),\n",
       " ('倚天屠龙记（1986年王天林监制的TVB电视剧）', '原著'),\n",
       " ('倚天屠龙记（1994年台湾台视版马景涛主演电视剧）', '原著'),\n",
       " ('倚天屠龙记（1994年马景涛主演电视剧）', '原著'),\n",
       " ('倚天屠龙记（2001年香港TVB版吴启华主演电视剧）', '原著'),\n",
       " ('倚天屠龙记（2001年香港TVB版吴启华主演电视剧）', '原著'),\n",
       " ('倚天屠龙记（2003年合拍版苏有朋主演电视剧）', '原著'),\n",
       " ('倚天屠龙记（2003年合拍版苏有朋主演电视剧）', '原著'),\n",
       " ('倚天屠龙记（2009年大陆版邓超主演电视剧）', '原著'),\n",
       " ('倚天屠龙记（2009年大陆版邓超主演电视剧）', '原著'),\n",
       " ('倚天屠龙记（2019年曾舜晞主演电视剧）', '原著'),\n",
       " ('倚天屠龙记（2019年蒋家骏执导电视剧）', '原著'),\n",
       " ('倚天屠龙记（共四册）', '作者'),\n",
       " ('倚天屠龙记（武侠小说改编漫画）', '原作'),\n",
       " ('倚天屠龙记（金庸创作长篇小说）', '作者'),\n",
       " ('倚天屠龙记（金庸经典武侠长篇小说）', '作者'),\n",
       " ('倚天屠龙记（马荣成主编的武侠小说改编漫画）', '原作者'),\n",
       " ('傅思归', '作者'),\n",
       " ('傅思归', '作者'),\n",
       " ('元澄道人', '作者'),\n",
       " ('先天真气', '作者'),\n",
       " ('先天真气', '作者'),\n",
       " ('兰花花（1958年程步高执导电影）', '编剧'),\n",
       " ('兰花花（1958年程步高执导电影）', '编剧'),\n",
       " ('内劲', '较早提出者'),\n",
       " ('冯难敌', '作者'),\n",
       " ('刘菁（小说《笑傲江湖》人物）', '作者'),\n",
       " ('刘菁（小说《笑傲江湖》人物）', '作者'),\n",
       " ('刘鹤真', '作者'),\n",
       " ('刘鹤真', '作者'),\n",
       " ('午夜琴声（1959年胡小峰执导的电影）', '编剧'),\n",
       " ('参合指', '作家'),\n",
       " ('参合指', '作家'),\n",
       " ('古今五大神功', '作者'),\n",
       " ('史秉光', '作者'),\n",
       " ('司空玄', '作者'),\n",
       " ('司空玄', '作者'),\n",
       " ('听香水榭（诗词）', '作者'),\n",
       " ('听香水榭（诗词）', '作者'),\n",
       " ('吴柏英', '创作人'),\n",
       " ('商剑鸣', '作者'),\n",
       " ('商剑鸣', '作者'),\n",
       " ('四十二章经（小说《鹿鼎记》中藏宝图）', '作者'),\n",
       " ('四十二章经（小说《鹿鼎记》中藏宝图）', '作者'),\n",
       " ('圣因师太', '作者'),\n",
       " ('圣因师太', '作者'),\n",
       " ('圣火令（金庸小说《倚天屠龙记》兵器武功）', '作者'),\n",
       " ('大佛岩景区', '来源'),\n",
       " ('天镜禅师', '作者'),\n",
       " ('天镜禅师', '作者'),\n",
       " ('天鹰教', '作者'),\n",
       " ('天龙八部（1997年香港TVB版黄日华主演的电视剧）', '原著'),\n",
       " ('天龙八部（1997年黄日华版电视剧）', '原著'),\n",
       " ('天龙八部（2002年智冠科技出品单机游戏）', '原作'),\n",
       " ('天龙八部（2002年智冠科技出品单机游戏）', '原作品'),\n",
       " ('天龙八部（2013年钟汉良主演电视剧）', '原著'),\n",
       " ('天龙八部（2013年钟汉良主演电视剧）', '原著'),\n",
       " ('天龙八部（漫画作品）', '原作者'),\n",
       " ('天龙八部（金庸长篇武侠小说）', '作者'),\n",
       " ('天龙八部（金庸长篇武侠小说）', '作者'),\n",
       " ('太虚子（金庸小说《倚天屠龙记》中人物）', '创造人'),\n",
       " ('奇门三才刀', '作者'),\n",
       " ('奚三祁', '作者'),\n",
       " ('完颜忒邻', '主要作品'),\n",
       " ('定静师太', '作者'),\n",
       " ('室里', '作者'),\n",
       " ('寻他千百度（2014年中华书局出版的图书）', '作者'),\n",
       " ('寻他千百度（珍藏版）', '作者'),\n",
       " ('寿木长生功', '作者'),\n",
       " ('射雕三部曲（金庸作品）', '作者'),\n",
       " ('射雕三部曲（金庸所著三部武侠小说的合称）', '作者'),\n",
       " ('射雕英雄传ZERO', '原作品'),\n",
       " ('射雕英雄传之南帝北丐', '原著'),\n",
       " ('射雕英雄传之南帝北丐', '原著'),\n",
       " ('射雕英雄传（1988年台湾中视版黄文豪、陈玉莲主演电视剧）', '原著'),\n",
       " ('射雕英雄传（1988年台湾中视版黄文豪、陈玉莲主演电视剧）', '原著'),\n",
       " ('射雕英雄传（2000年SCEI制作发行游戏）', '原作'),\n",
       " ('射雕英雄传（2000年SCEI制作发行游戏）', '原作品'),\n",
       " ('射雕英雄传（2003年内地版李亚鹏、周迅主演电视剧）', '原著'),\n",
       " ('射雕英雄传（2003年内地版李亚鹏、周迅主演电视剧）', '原著'),\n",
       " ('射雕英雄传（2017年杨旭文、李一桐主演的电视剧）', '原著'),\n",
       " ('射雕英雄传（2017年陈嘉上执导的3D电影）', '编剧'),\n",
       " ('射雕英雄传（2017年陈嘉上执导的3D电影）', '编剧'),\n",
       " ('射雕英雄传（全四册）', '作者'),\n",
       " ('射雕英雄传（原著改编连环画）', '作者'),\n",
       " ('射雕英雄传（原著改编连环画）', '作者'),\n",
       " ('射雕英雄传（金庸创作长篇武侠小说）', '作者'),\n",
       " ('射雕英雄传（金庸创作长篇武侠小说）', '作者'),\n",
       " ('小棒头', '作者'),\n",
       " ('小鸽子姑娘', '编剧'),\n",
       " ('小鸽子姑娘', '编剧'),\n",
       " ('嵩山十三太保', '作者'),\n",
       " ('巨鲸帮（金庸武侠小说《倚天屠龙记》中的帮派）', '作者'),\n",
       " ('徐潮生', '作者'),\n",
       " ('徐潮生', '作者'),\n",
       " ('徐禄（金庸的生母）', '儿子'),\n",
       " ('徐禄（金庸的生母）', '儿子'),\n",
       " ('德成', '作者'),\n",
       " ('德成', '作者'),\n",
       " ('思过崖', '出自'),\n",
       " ('恒山三定', '登场作品作者'),\n",
       " ('悲酥清风（《天龙八部》毒气）', '作者'),\n",
       " ('悲酥清风（《天龙八部》毒气）', '作者'),\n",
       " ('慕容街', '题字人'),\n",
       " ('慧通', '作者'),\n",
       " ('慧风', '作者'),\n",
       " ('慧风', '作者'),\n",
       " ('成璜', '作者'),\n",
       " ('摘星子', '作者'),\n",
       " ('擒龙功（金庸笔下少林绝技）', '作者'),\n",
       " ('断龙石', '作者'),\n",
       " ('新神雕侠侣（昱泉国际开发单机游戏）', '原作品'),\n",
       " ('新神雕侠侣（林峰执导的电视剧）', '原著'),\n",
       " ('新笑傲江湖', '原著'),\n",
       " ('新笑傲江湖（2018年丁冠森、薛昊婧主演电视剧）', '原著'),\n",
       " ('新笑傲江湖（电视剧）', '原著'),\n",
       " ('方评', '作者'),\n",
       " ('无声无色剑招', '作者'),\n",
       " ('无量玉壁', '相关人物'),\n",
       " ('日月神教', '撰写者'),\n",
       " ('明窗小札1963（上）', '作者'),\n",
       " ('明窗小札1963（下）', '作者'),\n",
       " ('星宿海（天龙八部星宿一派）', '作者'),\n",
       " ('智光大师（《天龙八部》人物）', '作者'),\n",
       " ('智光大师（《天龙八部》人物）', '作者'),\n",
       " ('曹司朋', '作者'),\n",
       " ('月云', '作者'),\n",
       " ('月云', '作者'),\n",
       " ('有女怀春（1958年金庸、程步高联合执导电影）', '编剧'),\n",
       " ('有女怀春（1958年金庸、程步高联合执导电影）', '编剧'),\n",
       " ('李傀儡', '创作人'),\n",
       " ('杜治芬', '前夫'),\n",
       " ('杜治芬', '前夫'),\n",
       " ('杜百当', '作者'),\n",
       " ('林乐怡', '丈夫'),\n",
       " ('林乐怡', '丈夫'),\n",
       " ('林玉龙（《鸳鸯刀》的人物）', '作者'),\n",
       " ('枯荣大师', '小说作者'),\n",
       " ('枯荣禅功（金庸作品中的武功）', '作者'),\n",
       " ('枯荣禅功（金庸作品中的武功）', '作者'),\n",
       " ('查传侠', '父亲'),\n",
       " ('查传侠', '父亲'),\n",
       " ('查传讷', '父亲'),\n",
       " ('查传讷', '父亲'),\n",
       " ('查慎行', '后代'),\n",
       " ('查良琇', '哥哥'),\n",
       " ('查良琇', '哥哥'),\n",
       " ('查良璇', '二哥'),\n",
       " ('查良铿', '弟弟'),\n",
       " ('查良铿', '弟弟'),\n",
       " ('桃枝仙', '作者'),\n",
       " ('桃枝仙', '作者'),\n",
       " ('桃花岛（金庸小说中的岛屿）', '作者'),\n",
       " ('桃花岛（金庸小说中的岛屿）', '作者'),\n",
       " ('桃花（王家卫导演的电影《东邪西毒》中的人物）', '原著'),\n",
       " ('桑土公', '原著作者'),\n",
       " ('江南四友', '作者'),\n",
       " ('江南四友', '作者'),\n",
       " ('汤沛', '小说作者'),\n",
       " ('澄光', '作者'),\n",
       " ('澄光', '作者：'),\n",
       " ('灵蛇岛', '作者'),\n",
       " ('灵蛇岛', '作者'),\n",
       " ('点苍双剑', '作者'),\n",
       " ('点苍双剑', '作者'),\n",
       " ('照虚', '作者'),\n",
       " ('照虚', '作者'),\n",
       " ('熏田鸡腿', '作者'),\n",
       " ('玄悲', '作者'),\n",
       " ('玄悲', '作者'),\n",
       " ('玉玲珑（逍遥派玉玲珑）', '作者'),\n",
       " ('玉玲珑（逍遥派玉玲珑）', '作者'),\n",
       " ('玛米儿', '作者'),\n",
       " ('白马啸西风（1982年的台湾电视剧集）', '原著'),\n",
       " ('白马啸西风（1982年的台湾电视剧集）', '原著'),\n",
       " ('白马啸西风（张纪中制片电视剧）', '原著'),\n",
       " ('白马啸西风（金庸创作中篇武侠小说）', '作者'),\n",
       " ('白马啸西风（金庸创作中篇武侠小说）', '作者'),\n",
       " ('百草仙（金庸小说《神雕侠侣》人物）', '作者'),\n",
       " ('百草仙（金庸小说《神雕侠侣》人物）', '作者'),\n",
       " ('碧水剑', '作者'),\n",
       " ('碧海潮生曲（武功乐曲）', '作者'),\n",
       " ('碧海潮生曲（武功乐曲）', '作者'),\n",
       " ('碧血剑（1977年香港佳视出品电视剧）', '原著'),\n",
       " ('碧血剑（1977年香港佳视出品电视剧）', '原著'),\n",
       " ('碧血剑（1981年张彻导演电影）', '原著'),\n",
       " ('碧血剑（1981年张彻导演电影）', '原著'),\n",
       " ('碧血剑（金庸创作长篇小说）', '作者'),\n",
       " ('碧血剑（金庸创作长篇小说）', '作者'),\n",
       " ('神照上人', '作者'),\n",
       " ('神经大侠', '原著'),\n",
       " ('神经大侠', '原著'),\n",
       " ('神雕侠侣·金庸武侠全集评点本（全四册）', '作者'),\n",
       " ('神雕侠侣（1976年香港佳视版罗乐林、李通明主演电视剧）', '原著'),\n",
       " ('神雕侠侣（1976年香港佳视版罗乐林、李通明主演电视剧）', '原著'),\n",
       " ('神雕侠侣（1997年智冠科技出品单机游戏）', '原作者'),\n",
       " ('神雕侠侣（1998年新加坡版李铭顺、范文芳主演电视剧）', '编剧'),\n",
       " ('神雕侠侣（1998年新加坡版范文芳、李铭顺主演电视剧）', '编剧'),\n",
       " ('神雕侠侣（1998年新加坡版范文芳、李铭顺主演电视剧）', '编剧'),\n",
       " ('神雕侠侣（1999年出版的武侠小说改编漫画）', '原著'),\n",
       " ('神雕侠侣（1999年出版的武侠小说改编漫画）', '原著'),\n",
       " ('神雕侠侣（2003年出品的根据同名武侠小说改编的动画）', '原作者'),\n",
       " ('神雕侠侣（2003年出版的武侠小说改编动画）', '原作'),\n",
       " ('神雕侠侣（2003年出版的武侠小说改编动画）', '原作者'),\n",
       " ('神雕侠侣（2019年佟梦实、毛晓慧主演电视剧）', '原著'),\n",
       " ('神雕侠侣（2019年凤凰娱乐出品漫画）', '原作者'),\n",
       " ('神雕侠侣（2021年徐克执导电影）', '原著'),\n",
       " ('神雕侠侣（全四册）', '作者'),\n",
       " ('神雕侠侣（金庸创作的长篇武侠小说）', '作者'),\n",
       " ('神雕侠侣（金庸创作长篇武侠小说）', '作者'),\n",
       " ('童大海', '作者'),\n",
       " ('童百熊', '饰演'),\n",
       " ('笑傲江湖（1984年李鼎伦监制TVB电视剧）', '原著'),\n",
       " ('笑傲江湖（2001年大陆版李亚鹏、许晴主演电视剧）', '原著'),\n",
       " ('笑傲江湖（2001年大陆版李亚鹏、许晴主演电视剧）', '原著'),\n",
       " ('笑傲江湖（全四册）', '作者'),\n",
       " ('笑傲江湖（金庸长篇武侠小说）', '作者'),\n",
       " ('笑傲江湖（金庸长篇武侠小说）', '作者'),\n",
       " ('符敏仪', '作者'),\n",
       " ('符敏仪', '作者'),\n",
       " ('绕指柔剑', '作者'),\n",
       " ('绝代佳人（1953年李萍倩执导电影）', '编剧'),\n",
       " ('绝代佳人（1953年李萍倩执导电影）', '编剧'),\n",
       " ('绝代佳人（汉语词语）', '编剧'),\n",
       " ('绝情丹（《神雕侠侣》中绝情谷情花之毒的解药）', '作者'),\n",
       " ('绝情丹（《神雕侠侣》中绝情谷情花之毒的解药）', '作者'),\n",
       " ('耶律莫哥', '作者'),\n",
       " ('耿万钟', '作者：'),\n",
       " ('胡桂南', '原作者'),\n",
       " ('胡青牛', '作者'),\n",
       " ('胡青羊', '作者'),\n",
       " ('舒化龙（小说《鹿鼎记》人物）', '作家'),\n",
       " ('花万紫', '作品作者'),\n",
       " ('苏冈', '作者'),\n",
       " ('苏鲁克（金庸小说《白马啸西风》中的人物）', '小说作者'),\n",
       " ('范百龄', '作者'),\n",
       " ('范百龄', '作者'),\n",
       " ('荣彩（金庸小说《碧血剑》人物）', '作者'),\n",
       " ('荣彩（金庸小说《碧血剑》人物）', '作者'),\n",
       " ('药王门', '作者'),\n",
       " ('药王门', '作者'),\n",
       " ('落英剑法', '作者'),\n",
       " ('落英神剑掌（网络游戏中招数）', '原著作者'),\n",
       " ('葛光佩', '作者'),\n",
       " ('葛光佩', '作者'),\n",
       " ('董开山', '作者'),\n",
       " ('董开山', '作者'),\n",
       " ('蒋英（钱学森夫人）', '表弟'),\n",
       " ('蒙古三杰', '作者'),\n",
       " ('虚竹传奇', '作者'),\n",
       " ('蜜桃成熟时3之蜜桃仙子', '编剧'),\n",
       " ('蜜桃成熟时3之蜜桃仙子', '编剧'),\n",
       " ('血鸟（连载版《射雕英雄传》里的生物）', '作者'),\n",
       " ('血鸟（连载版《射雕英雄传》里的生物）', '作者'),\n",
       " ('袁崇焕评传', '作者'),\n",
       " ('袁崇焕评传', '作者'),\n",
       " ('褚圆', '作者：'),\n",
       " ('谭青（天龙八部谭青）', '作者'),\n",
       " ('谭青（天龙八部谭青）', '作者'),\n",
       " ('赫连铁树', '作者'),\n",
       " ('越女剑（金庸创作短篇武侠小说）', '作者'),\n",
       " ('越女剑（金庸创作短篇武侠小说）', '作者'),\n",
       " ('躺尸剑法', '作者'),\n",
       " ('辟邪剑谱', '作者'),\n",
       " ('运功疗伤', '作者'),\n",
       " ('运功疗伤', '原版名称'),\n",
       " ('连城诀（2004年王新民执导大陆版电视剧）', '原著'),\n",
       " ('连城诀（2004年王新民执导大陆版电视剧）', '原著'),\n",
       " ('连城诀（金庸创作长篇武侠小说）', '作者'),\n",
       " ('连城诀（金庸创作长篇武侠小说）', '作者'),\n",
       " ('连环庄', '作者'),\n",
       " ('连环庄', '作者'),\n",
       " ('迟玄', '作者'),\n",
       " ('迟玄', '作者'),\n",
       " ('逍遥派（词语释义）', '作者'),\n",
       " ('释迦掷象功', '作者'),\n",
       " ('金刚伏魔神通', '作者'),\n",
       " ('金庸作品', '作者'),\n",
       " ('金庸作品集（36册）', '作者'),\n",
       " ('金庸全集', '作者'),\n",
       " ('金庸全集', '作者'),\n",
       " ('金庸历史', '人物'),\n",
       " ('金庸小说', '作者'),\n",
       " ('金庸小说', '作者'),\n",
       " ('金庸散文集', '作者'),\n",
       " ('金庸星', '命名'),\n",
       " ('金庸星', '命名'),\n",
       " ('金庸武侠小说全集（电子图书二碟装）', '作者'),\n",
       " ('金庸（艺术家）', '中文名'),\n",
       " ('金蛇剑法', '提出'),\n",
       " ('金蛇剑法', '提出'),\n",
       " ('金顶门', '作者'),\n",
       " ('阴阳谷', '作者'),\n",
       " ('阴阳谷', '作者'),\n",
       " ('阿丽丝漫游记', '作者'),\n",
       " ('阿诺（插画画家）', '喜欢作家'),\n",
       " ('陈达海', '作者'),\n",
       " ('陈达海', '作者'),\n",
       " ('降龙十八掌（九阴真经OL绝世武学降龙十八掌）', '作者'),\n",
       " ('降龙十八掌（九阴真经OL绝世武学降龙十八掌）', '作者'),\n",
       " ('降龙廿八掌', '作者'),\n",
       " ('降龙廿八掌', '作者'),\n",
       " ('雪山飞狐（1985年TVB吕良伟、曾华倩主演电视剧）', '原著'),\n",
       " ('雪山飞狐（1985年王天林监制的香港古装武侠剧）', '原著'),\n",
       " ('雪山飞狐（1991年孟飞主演电视剧）', '原著'),\n",
       " ('雪山飞狐（1991年孟飞主演电视剧）', '原著'),\n",
       " ('雪山飞狐（2019年华策出品电视剧）', '原著'),\n",
       " ('雪山飞狐（卫子云1978年主演电视剧）', '原著'),\n",
       " ('雪山飞狐（卫子云1978年主演电视剧）', '原著'),\n",
       " ('雪山飞狐（聂远2007年主演电视剧）', '原著'),\n",
       " ('雪山飞狐（聂远2007年主演电视剧）', '原著'),\n",
       " ('雪山飞狐（金庸创作长篇武侠小说）', '作者'),\n",
       " ('雪山飞狐（金庸创作长篇武侠小说）', '作者'),\n",
       " ('青城四秀', '作者'),\n",
       " ('飞狐外传（2018年武侠剧）', '原著'),\n",
       " ('飞狐外传（金庸创作长篇武侠小说）', '作者'),\n",
       " ('飞狐外传（金庸创作长篇武侠小说）', '作者'),\n",
       " ('飞狐外传（霍尔果斯一实文化传媒有限公司拍摄武侠剧）', '原著'),\n",
       " ('飞龙在天（武侠小说功夫招式）', '作者'),\n",
       " ('飞龙在天（武侠小说功夫招式）', '作者'),\n",
       " ('香港赋', '作者'),\n",
       " ('香药葡萄', '作者'),\n",
       " ('香药葡萄', '作者'),\n",
       " ('鲍千灵', '作者'),\n",
       " ('鲍千灵', '作者'),\n",
       " ('鲍大楚', '作者'),\n",
       " ('鲍大楚', '作者'),\n",
       " ('鸳鸯刀（金庸创作中篇武侠小说）', '作者'),\n",
       " ('鸳鸯刀（金庸创作中篇武侠小说）', '作者'),\n",
       " ('鹿鼎记（2008年内地黄晓明、钟汉良主演电视剧）', '原著'),\n",
       " ('鹿鼎记（2008年内地黄晓明、钟汉良主演电视剧）', '原著'),\n",
       " ('鹿鼎记（2020年张一山、唐艺昕主演的电视剧）', '原著'),\n",
       " ('鹿鼎记（全五册）', '作者'),\n",
       " ('鹿鼎记（凤凰娱乐出品漫画）', '作者'),\n",
       " ('鹿鼎记（金庸长篇武侠小说）', '作者'),\n",
       " ('鹿鼎记（金庸长篇武侠小说）', '作者'),\n",
       " ('鹿鼎记（香港黄玉郎画的漫画）', '原作者'),\n",
       " ('黑白子', '作者'),\n",
       " ('黑白子（金庸武侠小说《笑傲江湖》中的角色）', '作者'),\n",
       " ('齐云璈', '作者')]"
      ]
     },
     "execution_count": 11,
     "metadata": {},
     "output_type": "execute_result"
    }
   ],
   "source": [
    "obj_map['金庸']"
   ]
  },
  {
   "cell_type": "markdown",
   "id": "02e26eed",
   "metadata": {},
   "source": [
    "**so_map记录的每一个（头实体，尾实体）对应的所有可能的关系集合**"
   ]
  },
  {
   "cell_type": "code",
   "execution_count": 12,
   "id": "ecdfcebc",
   "metadata": {},
   "outputs": [
    {
     "name": "stdout",
     "output_type": "stream",
     "text": [
      "['民族']\n",
      "['国籍']\n"
     ]
    }
   ],
   "source": [
    "print(so_map[('周杰伦', '汉族')])\n",
    "print(so_map[('金庸', '中国')])"
   ]
  },
  {
   "cell_type": "markdown",
   "id": "811c66f2",
   "metadata": {},
   "source": [
    "## 根据QA对数据构造小规模知识图谱"
   ]
  },
  {
   "cell_type": "markdown",
   "id": "e3f1ed09",
   "metadata": {},
   "source": [
    "符号说明\n",
    "- KG   知识图谱               \n",
    "- $T_{big}$  大规模KG中三元组集合 \n",
    "- $E_{big}$  大规模KG中的实体集合   \n",
    "- $R_{big}$  大规模KG中的关系集合   "
   ]
  },
  {
   "cell_type": "markdown",
   "id": "c82d5cc8",
   "metadata": {},
   "source": [
    "构造的思路是对于数据集中每一个（问题，答案）：\n",
    "1. 将问题中的topic entity作为头实体，答案视为尾实体，根据（头实体，尾实体）的组合从so_map中找到所有可能的关系。\n",
    "2. 根据问题中的topic entity，获取这个topic entity的n跳路径内的所有实体（n一般设置为2-4即可）"
   ]
  },
  {
   "cell_type": "markdown",
   "id": "ecaf7fd6",
   "metadata": {},
   "source": [
    "第一步的目的是统计QA数据集中每一个（问题，答案）之间的所有关系，记为集合$R_{qa}$，该集合代表的是整个QA数据集中所有可能出现的关系。\n",
    "针对$T_{big}$，我们仅保留涉及这些关系的三元组，**也就是说对于$T_{big}$中的某个三元组$(h,r,t)$，如果$r$不在集合$R_{qa}$中,那么这个三元组就会被舍弃**。\n",
    "\n",
    "显然这一步的目的是为了缩小关系集合，从而进一步的缩小三元组数量以及对应的实体数量。\n",
    "\n",
    "第二步的目的是通过限定路径长度进一步的缩小实体数量。"
   ]
  },
  {
   "cell_type": "code",
   "execution_count": 13,
   "id": "a91c0eea",
   "metadata": {},
   "outputs": [
    {
     "name": "stderr",
     "output_type": "stream",
     "text": [
      "100%|███████████████████████████████████████████████████████████████████████████████████████████████| 21975/21975 [00:02<00:00, 9093.93it/s]\n"
     ]
    }
   ],
   "source": [
    "small_triplets=set()\n",
    "small_entities=set()\n",
    "small_relations=set()\n",
    "new_examples=[]\n",
    "bad_entities=[]\n",
    "bad_answers=[]\n",
    "for i in tqdm(range(len(all_examples))):\n",
    "    example=deepcopy(all_examples[i])\n",
    "    question,topic_entity,answer,relation=example['question'],example['topic_entity'],example['answer'],example['relation']\n",
    "    answer=answer.replace('\\t','').replace(' ','')\n",
    "    example['answer']=answer\n",
    "    if answer.strip()=='':\n",
    "        continue\n",
    "    elif topic_entity not in sub_map:\n",
    "        bad_entities.append(topic_entity)\n",
    "        continue\n",
    "    elif answer not in obj_map:\n",
    "        bad_answers.append(answer)\n",
    "        continue\n",
    "    else:\n",
    "        head=topic_entity\n",
    "        small_entities.add(head)\n",
    "        small_entities.add(answer)\n",
    "        for rel in so_map[(head,answer)]:\n",
    "            small_relations.add(rel)#仅仅添加qa数据对中涉及的关系即可\n",
    "        \n",
    "        for p1, o1 in sub_map[head]:\n",
    "            if p1 in small_relations:\n",
    "                small_triplets.add((head,p1,o1))\n",
    "                small_entities.add(o1)\n",
    "            for p2, o2 in sub_map[o1]:\n",
    "                if p2 in small_relations:\n",
    "                    small_triplets.add((o1,p2,o2))\n",
    "                    small_entities.add(o2)\n",
    "                for p3, o3 in sub_map[o2]:\n",
    "                    if p3 in small_relations:\n",
    "                        small_triplets.add((o2,p3,o3))\n",
    "                        small_entities.add(o3)\n",
    "                    for p4, o4 in sub_map[o3]:\n",
    "                        if p4 in small_relations:\n",
    "                            small_triplets.add((o3,p4,o4))\n",
    "                            small_entities.add(o4)\n",
    "        new_examples.append(example)"
   ]
  },
  {
   "cell_type": "code",
   "execution_count": 14,
   "id": "3579f500",
   "metadata": {},
   "outputs": [
    {
     "name": "stdout",
     "output_type": "stream",
     "text": [
      "大规模图谱中一共有22884223个三元组，9418365个实体，245838个关系\n",
      "小规模图谱中一共有324494个三元组，210227个实体，2274个关系\n"
     ]
    }
   ],
   "source": [
    "print('大规模图谱中一共有{}个三元组，{}个实体，{}个关系'.format(len(lines),len(entities_set),len(relations_set)))\n",
    "print('小规模图谱中一共有{}个三元组，{}个实体，{}个关系'.format(len(small_triplets),len(small_entities),len(small_relations)))"
   ]
  },
  {
   "cell_type": "markdown",
   "id": "e7aca566",
   "metadata": {},
   "source": [
    "**QA数据集和知识图谱构造完毕**"
   ]
  },
  {
   "cell_type": "code",
   "execution_count": 15,
   "id": "266d9c29",
   "metadata": {},
   "outputs": [
    {
     "data": {
      "text/plain": [
       "{'question': '你知道<守望星光（韩玉玲、刘东考演唱歌曲）>是哪家公司出品的吗？',\n",
       " 'topic_entity': '守望星光（韩玉玲、刘东考演唱歌曲）',\n",
       " 'answer': '韩玉玲原创音乐',\n",
       " 'relation': '出品公司'}"
      ]
     },
     "execution_count": 15,
     "metadata": {},
     "output_type": "execute_result"
    }
   ],
   "source": [
    "new_examples[0]"
   ]
  },
  {
   "cell_type": "code",
   "execution_count": 24,
   "id": "f94f4a0e",
   "metadata": {},
   "outputs": [],
   "source": [
    "for example in new_examples:\n",
    "    topic_entity,answer,relation=example['topic_entity'],example['answer'],example['relation']\n",
    "    assert topic_entity.strip() in small_entities\n",
    "    assert answer.strip() in small_entities\n",
    "    #assert relation in small_relations"
   ]
  },
  {
   "cell_type": "markdown",
   "id": "38326132",
   "metadata": {},
   "source": [
    "# 将QA数据集划分并保存"
   ]
  },
  {
   "cell_type": "code",
   "execution_count": 16,
   "id": "5ea85d81",
   "metadata": {},
   "outputs": [
    {
     "name": "stdout",
     "output_type": "stream",
     "text": [
      "20724\n"
     ]
    }
   ],
   "source": [
    "print(len(new_examples))\n",
    "def write_file(data,path):\n",
    "    f=open(path,'w')\n",
    "    for example in data:\n",
    "        question,topic_entity,answer,relation=example['question'],example['topic_entity'],example['answer'],example['relation']\n",
    "        if answer=='' or answer.strip()=='':\n",
    "            count+=1\n",
    "            continue\n",
    "        f.write(question+'\\t'+answer+'\\t'+'\\n')\n",
    "    f.close()\n",
    "    \n",
    "write_file(new_examples[:-2000],'../../train.txt')\n",
    "write_file(new_examples[-2000:],'../../test.txt')"
   ]
  },
  {
   "cell_type": "markdown",
   "id": "08fbcee0",
   "metadata": {},
   "source": [
    "# 保存构造的小规模知识图谱"
   ]
  },
  {
   "cell_type": "code",
   "execution_count": 17,
   "id": "d1577e33",
   "metadata": {},
   "outputs": [
    {
     "name": "stdout",
     "output_type": "stream",
     "text": [
      "小规模图谱中一共有324494个三元组，210227个实体，2274个关系\n"
     ]
    }
   ],
   "source": [
    "print('小规模图谱中一共有{}个三元组，{}个实体，{}个关系'.format(len(small_triplets),len(small_entities),len(small_relations)))"
   ]
  },
  {
   "cell_type": "markdown",
   "id": "e100802a",
   "metadata": {},
   "source": [
    "## 保存三元组"
   ]
  },
  {
   "cell_type": "code",
   "execution_count": 18,
   "id": "ca06c496",
   "metadata": {},
   "outputs": [],
   "source": [
    "with open(\"../../KgCLUE-main/knowledge/small_kg.txt\",'w') as f:\n",
    "    for head,rel,tail in small_triplets:\n",
    "        f.write('|||'.join([head,rel,tail])+'\\n')"
   ]
  },
  {
   "cell_type": "markdown",
   "id": "aec440ba",
   "metadata": {},
   "source": [
    "## 保存实体"
   ]
  },
  {
   "cell_type": "code",
   "execution_count": 19,
   "id": "df27d313",
   "metadata": {},
   "outputs": [],
   "source": [
    "with open(\"../../KgCLUE-main/knowledge/small_knowledge/entities.dict\",'w') as f:\n",
    "    for i,ent in enumerate(small_entities):\n",
    "        f.write(ent+'\\t'+str(i)+'\\n')"
   ]
  },
  {
   "cell_type": "markdown",
   "id": "f971fb9a",
   "metadata": {},
   "source": [
    "## 保存关系"
   ]
  },
  {
   "cell_type": "code",
   "execution_count": 20,
   "id": "b881060a",
   "metadata": {},
   "outputs": [],
   "source": [
    "with open(\"../../KgCLUE-main/knowledge/small_knowledge/relations.dict\",'w') as f:\n",
    "    for i,rel in enumerate(small_relations):\n",
    "        f.write(rel+'\\t'+str(i)+'\\n')"
   ]
  },
  {
   "cell_type": "markdown",
   "id": "8e64c6e5",
   "metadata": {},
   "source": [
    "**至此，数据处理部分完毕**"
   ]
  },
  {
   "cell_type": "code",
   "execution_count": 9,
   "id": "c36954b0",
   "metadata": {},
   "outputs": [],
   "source": [
    "with open(\"../../KgCLUE-main/knowledge/entities.dict\",'w') as f:\n",
    "    for i,ent in enumerate(entities_set):\n",
    "        f.write(ent+'\\t'+str(i)+'\\n')"
   ]
  },
  {
   "cell_type": "code",
   "execution_count": 13,
   "id": "d5d22cf2",
   "metadata": {},
   "outputs": [],
   "source": [
    "with open(\"../../KgCLUE-main/knowledge/relations.dict\",'w') as f:\n",
    "    for i,ent in enumerate(relations_set):\n",
    "        if ent=='' or ent=='\\n':\n",
    "            continue\n",
    "        f.write(ent+'\\t'+str(i)+'\\n')"
   ]
  },
  {
   "cell_type": "code",
   "execution_count": 21,
   "id": "617358ad",
   "metadata": {},
   "outputs": [
    {
     "name": "stderr",
     "output_type": "stream",
     "text": [
      "100%|█████████████████████████████████████████████████████████████████████████████████████████████████████████████████████████████████████████████████████| 22884223/22884223 [00:18<00:00, 1233481.41it/s]\n"
     ]
    }
   ],
   "source": [
    "bad_count=0\n",
    "with open(\"../../KgCLUE-main/knowledge/Knowledge.txt\",'w') as f:\n",
    "    for i in tqdm(range(len(lines))):\n",
    "        triplets='|||'.join(lines[i].strip().split('\\t'))\n",
    "        if len(triplets.split('|||'))!=3:\n",
    "            bad_count+=1\n",
    "            continue\n",
    "        f.write(triplets+'\\n')"
   ]
  },
  {
   "cell_type": "code",
   "execution_count": 22,
   "id": "b577caed",
   "metadata": {},
   "outputs": [
    {
     "data": {
      "text/plain": [
       "0"
      ]
     },
     "execution_count": 22,
     "metadata": {},
     "output_type": "execute_result"
    }
   ],
   "source": [
    "bad_count"
   ]
  },
  {
   "cell_type": "code",
   "execution_count": 23,
   "id": "dc6df226",
   "metadata": {},
   "outputs": [
    {
     "data": {
      "text/plain": [
       "22884223"
      ]
     },
     "execution_count": 23,
     "metadata": {},
     "output_type": "execute_result"
    }
   ],
   "source": [
    "len(lines)"
   ]
  },
  {
   "cell_type": "code",
   "execution_count": 32,
   "id": "05edcab8",
   "metadata": {},
   "outputs": [
    {
     "name": "stderr",
     "output_type": "stream",
     "text": [
      "100%|███████████████████████████████████████████████████████████████████████████████████████████████████████████████████████████████████████████████████████| 9418365/9418365 [00:05<00:00, 1865843.87it/s]\n",
      "100%|█████████████████████████████████████████████████████████████████████████████████████████████████████████████████████████████████████████████████████████| 245837/245837 [00:00<00:00, 1915961.86it/s]\n",
      "100%|██████████████████████████████████████████████████████████████████████████████████████████████████████████████████████████████████████████████████████| 22884223/22884223 [00:23<00:00, 957400.90it/s]\n"
     ]
    }
   ],
   "source": [
    "import os\n",
    "\n",
    "ent2id = {}\n",
    "with open(os.path.join('../../KgCLUE-main/knowledge/', 'entities.dict')) as f:\n",
    "    lines=f.readlines()\n",
    "for i in tqdm(range(len(lines))):\n",
    "    l = lines[i].strip().split('\\t')\n",
    "    ent2id[l[0].strip()] = len(ent2id)\n",
    "\n",
    "rel2id = {}\n",
    "with open(os.path.join('../../KgCLUE-main/knowledge/', 'relations.dict')) as f:\n",
    "    lines=f.readlines()\n",
    "for i in tqdm(range(len(lines))):\n",
    "    l = lines[i].strip().split('\\t')\n",
    "    rel2id[l[0].strip()] = int(l[1])\n",
    "\n",
    "bad_count=0\n",
    "triples=[]\n",
    "with open(os.path.join('../../KgCLUE-main/knowledge/', 'Knowledge.txt')) as f:\n",
    "    lines=f.readlines()\n",
    "for i in tqdm(range(len(lines))):\n",
    "    l = lines[i].strip().split('|||')\n",
    "    try:\n",
    "        s = ent2id[l[0].strip()]\n",
    "        p = rel2id[l[1].strip()]\n",
    "        o = ent2id[l[2].strip()]\n",
    "        triples.append((s, p, o)) \n",
    "    except:\n",
    "        bad_count+=1\n"
   ]
  },
  {
   "cell_type": "code",
   "execution_count": null,
   "id": "770a0e6b",
   "metadata": {},
   "outputs": [],
   "source": []
  },
  {
   "cell_type": "code",
   "execution_count": 33,
   "id": "1c8d2c1b",
   "metadata": {},
   "outputs": [
    {
     "data": {
      "text/plain": [
       "688"
      ]
     },
     "execution_count": 33,
     "metadata": {},
     "output_type": "execute_result"
    }
   ],
   "source": [
    "bad_count"
   ]
  },
  {
   "cell_type": "code",
   "execution_count": 35,
   "id": "6e529fda",
   "metadata": {},
   "outputs": [
    {
     "name": "stdout",
     "output_type": "stream",
     "text": [
      "9418099\n",
      "245837\n"
     ]
    }
   ],
   "source": [
    "relations_set=set()\n",
    "entities_set=set()\n",
    "\n",
    "for s,p,o in triples:\n",
    "    entities_set.add(s)\n",
    "    entities_set.add(o)\n",
    "    relations_set.add(p)\n",
    "    \n",
    "print(len(entities_set))\n",
    "print(len(relations_set))\n",
    "bad_rel=0\n",
    "with open(\"../../KgCLUE-main/knowledge/relations.dict\",'w') as f:\n",
    "    for i,ent in enumerate(relations_set):\n",
    "        if ent=='' or ent=='\\n':\n",
    "            bad_rel+=1\n",
    "            continue\n",
    "        f.write(str(ent)+'\\t'+str(i)+'\\n')\n",
    "        \n",
    "bad_ent=0\n",
    "with open(\"../../KgCLUE-main/knowledge/entities.dict\",'w') as f:\n",
    "    for i,ent in enumerate(entities_set):\n",
    "        if ent=='' or ent=='\\n':\n",
    "            bad_ent+=1\n",
    "            continue\n",
    "        f.write(str(ent)+'\\t'+str(i)+'\\n')"
   ]
  },
  {
   "cell_type": "markdown",
   "id": "bac259d8",
   "metadata": {},
   "source": [
    "大规模图谱中一共有22884223个三元组，9418365个实体，245838个关系"
   ]
  },
  {
   "cell_type": "code",
   "execution_count": 38,
   "id": "16a89095",
   "metadata": {},
   "outputs": [
    {
     "data": {
      "text/plain": [
       "0"
      ]
     },
     "execution_count": 38,
     "metadata": {},
     "output_type": "execute_result"
    }
   ],
   "source": [
    "bad_ent"
   ]
  },
  {
   "cell_type": "code",
   "execution_count": 18,
   "id": "8d9c4c08",
   "metadata": {},
   "outputs": [
    {
     "data": {
      "text/plain": [
       "'\\t'"
      ]
     },
     "execution_count": 18,
     "metadata": {},
     "output_type": "execute_result"
    }
   ],
   "source": [
    "'|||'.join('\\t'.split(lines[i].strip()))"
   ]
  },
  {
   "cell_type": "code",
   "execution_count": 40,
   "id": "37704bbb",
   "metadata": {},
   "outputs": [
    {
     "data": {
      "text/plain": [
       "2225677"
      ]
     },
     "execution_count": 40,
     "metadata": {},
     "output_type": "execute_result"
    }
   ],
   "source": [
    "ent2id['!=']"
   ]
  },
  {
   "cell_type": "code",
   "execution_count": 42,
   "id": "30794863",
   "metadata": {},
   "outputs": [
    {
     "data": {
      "text/plain": [
       "22883535"
      ]
     },
     "execution_count": 42,
     "metadata": {},
     "output_type": "execute_result"
    }
   ],
   "source": [
    "len(triples)"
   ]
  },
  {
   "cell_type": "code",
   "execution_count": 44,
   "id": "7b4a0985",
   "metadata": {},
   "outputs": [],
   "source": [
    "with open(os.path.join('../../KgCLUE-main/knowledge/', 'Knowledge.txt'),'w') as f:\n",
    "    for s,p,o in triples:\n",
    "        f.write('|||'.join([str(s),str(p),str(o)])+'\\n')"
   ]
  },
  {
   "cell_type": "code",
   "execution_count": null,
   "id": "2aea69a9",
   "metadata": {},
   "outputs": [],
   "source": []
  },
  {
   "cell_type": "code",
   "execution_count": null,
   "id": "2275dddd",
   "metadata": {},
   "outputs": [],
   "source": []
  }
 ],
 "metadata": {
  "kernelspec": {
   "display_name": "Python 3 (ipykernel)",
   "language": "python",
   "name": "python3"
  },
  "language_info": {
   "codemirror_mode": {
    "name": "ipython",
    "version": 3
   },
   "file_extension": ".py",
   "mimetype": "text/x-python",
   "name": "python",
   "nbconvert_exporter": "python",
   "pygments_lexer": "ipython3",
   "version": "3.9.5"
  }
 },
 "nbformat": 4,
 "nbformat_minor": 5
}
