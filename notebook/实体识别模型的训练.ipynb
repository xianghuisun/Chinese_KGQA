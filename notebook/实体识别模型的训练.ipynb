{
 "cells": [
  {
   "cell_type": "markdown",
   "id": "29311495",
   "metadata": {},
   "source": [
    "# 加载数据"
   ]
  },
  {
   "cell_type": "code",
   "execution_count": 1,
   "id": "72482ebd",
   "metadata": {},
   "outputs": [
    {
     "name": "stdout",
     "output_type": "stream",
     "text": [
      "24479\n"
     ]
    }
   ],
   "source": [
    "data_path='/home/xhsun/Desktop/KG/nlpcc2018/nlpcc2018.kbqg.train'\n",
    "with open(data_path) as f:\n",
    "    lines=f.readlines()\n",
    "\n",
    "data=[[]]\n",
    "for line in lines:\n",
    "    if len(line.strip().split())<=1:\n",
    "        data.append([])\n",
    "    else:\n",
    "        data[-1].append(line.strip())\n",
    "if data[-1]==[]:\n",
    "    del data[-1]\n",
    "for example in data:\n",
    "    assert len(example)==2\n",
    "print(len(data))"
   ]
  },
  {
   "cell_type": "code",
   "execution_count": 2,
   "id": "3fbfd5a0",
   "metadata": {},
   "outputs": [
    {
     "data": {
      "text/plain": [
       "['<triple id=1>\\t机械设计基础 ||| 作者 ||| 杨可桢，程光蕴，李仲生',\n",
       " '<question id=1>\\t《机械设计基础》这本书的作者是谁？']"
      ]
     },
     "execution_count": 2,
     "metadata": {},
     "output_type": "execute_result"
    }
   ],
   "source": [
    "data[0]"
   ]
  },
  {
   "cell_type": "code",
   "execution_count": 3,
   "id": "42c18491",
   "metadata": {},
   "outputs": [],
   "source": [
    "all_examples=[]\n",
    "for example in data:\n",
    "    triplet,question=example\n",
    "    triplet=triplet.split('\\t')\n",
    "    question=question.split('\\t')\n",
    "    assert len(question)==2 and question[0].startswith('<') and question[0].endswith('>') and len(triplet)==2\n",
    "    question=question[1]\n",
    "    triplet=triplet[1].split('|||')\n",
    "    assert len(triplet)==3\n",
    "    entity=triplet[0].strip()\n",
    "    rel=triplet[1].strip()\n",
    "    ans=triplet[2].strip()\n",
    "    assert type(question)==str\n",
    "    question=question.strip()\n",
    "    if ('《' in question and '》' in question) and ('《' not in entity and '》' not in entity):\n",
    "        #print(question,entity)\n",
    "        entity='《'+entity+'》'\n",
    "            \n",
    "    if entity in question:\n",
    "        start_id=question.find(entity)\n",
    "        end_id=start_id+len(entity)\n",
    "        question=question[:start_id]+'<'+entity+'>'+question[end_id:]\n",
    "        all_examples.append({\"question\":question,'topic_entity':entity,'answer':ans,'relation':rel})"
   ]
  },
  {
   "cell_type": "code",
   "execution_count": 4,
   "id": "23722c15",
   "metadata": {},
   "outputs": [
    {
     "data": {
      "text/plain": [
       "{'question': '<《机械设计基础》>这本书的作者是谁？',\n",
       " 'topic_entity': '《机械设计基础》',\n",
       " 'answer': '杨可桢，程光蕴，李仲生',\n",
       " 'relation': '作者'}"
      ]
     },
     "execution_count": 4,
     "metadata": {},
     "output_type": "execute_result"
    }
   ],
   "source": [
    "all_examples[0]"
   ]
  },
  {
   "cell_type": "markdown",
   "id": "d8f7382d",
   "metadata": {},
   "source": [
    "# 构造实体识别数据"
   ]
  },
  {
   "cell_type": "code",
   "execution_count": 5,
   "id": "71a8f9be",
   "metadata": {},
   "outputs": [],
   "source": [
    "labels=[]\n",
    "sentences=[]\n",
    "examples=[]\n",
    "found_num=0\n",
    "for example in data:\n",
    "    triplet,question=example\n",
    "    triplet=triplet.split('\\t')\n",
    "    question=question.split('\\t')\n",
    "    assert len(question)==2 and question[0].startswith('<') and question[0].endswith('>') and len(triplet)==2\n",
    "    question=question[1]\n",
    "    triplet=triplet[1].split('|||')\n",
    "    assert len(triplet)==3\n",
    "    entity=triplet[0]\n",
    "    assert type(question)==str\n",
    "    question=question.strip()\n",
    "    found=False\n",
    "    positions=[]\n",
    "    \n",
    "    entity=entity.strip()\n",
    "    if entity in question:\n",
    "        start_id=question.find(entity)\n",
    "        end_id=start_id+len(entity)\n",
    "        positions.append((start_id,end_id))\n",
    "        found=True\n",
    "        \n",
    "    if found:\n",
    "        found_num+=1\n",
    "        sentences.append(question)\n",
    "        label=['O']*len(question)\n",
    "        for each_span in positions:\n",
    "            start_id,end_id=each_span\n",
    "            for i in range(start_id,end_id):\n",
    "                if i==start_id:\n",
    "                    label[i]='B-ent'\n",
    "                else:\n",
    "                    label[i]='I-ent'\n",
    "        labels.append(label)\n",
    "        examples.append(example)"
   ]
  },
  {
   "cell_type": "code",
   "execution_count": 6,
   "id": "bded36af",
   "metadata": {},
   "outputs": [
    {
     "name": "stdout",
     "output_type": "stream",
     "text": [
      "24000 24000\n",
      "《机械设计基础》这本书的作者是谁？ ['O', 'B-ent', 'I-ent', 'I-ent', 'I-ent', 'I-ent', 'I-ent', 'O', 'O', 'O', 'O', 'O', 'O', 'O', 'O', 'O', 'O'] ['<triple id=1>\\t机械设计基础 ||| 作者 ||| 杨可桢，程光蕴，李仲生', '<question id=1>\\t《机械设计基础》这本书的作者是谁？']\n",
      "----------------------------------------------------------------------------------------------------\n",
      "《高等数学》是哪个出版社出版的？ ['O', 'B-ent', 'I-ent', 'I-ent', 'I-ent', 'O', 'O', 'O', 'O', 'O', 'O', 'O', 'O', 'O', 'O', 'O'] ['<triple id=2>\\t高等数学 ||| 出版社 ||| 武汉大学出版社', '<question id=2>\\t《高等数学》是哪个出版社出版的？']\n",
      "----------------------------------------------------------------------------------------------------\n",
      "《线性代数》这本书的出版时间是什么？ ['O', 'B-ent', 'I-ent', 'I-ent', 'I-ent', 'O', 'O', 'O', 'O', 'O', 'O', 'O', 'O', 'O', 'O', 'O', 'O', 'O'] ['<triple id=3>\\t线性代数 ||| 出版时间 ||| 2013-12-30', '<question id=3>\\t《线性代数》这本书的出版时间是什么？']\n",
      "----------------------------------------------------------------------------------------------------\n",
      "安德烈是哪个国家的人呢？ ['B-ent', 'I-ent', 'I-ent', 'O', 'O', 'O', 'O', 'O', 'O', 'O', 'O', 'O'] ['<triple id=4>\\t安德烈 ||| 国籍 ||| 摩纳哥', '<question id=4>\\t安德烈是哪个国家的人呢？']\n",
      "----------------------------------------------------------------------------------------------------\n",
      "《线性代数》的isbn码是什么？ ['O', 'B-ent', 'I-ent', 'I-ent', 'I-ent', 'O', 'O', 'O', 'O', 'O', 'O', 'O', 'O', 'O', 'O', 'O'] ['<triple id=5>\\t线性代数 ||| isbn ||| 978-7-111-36843-4', '<question id=5>\\t《线性代数》的isbn码是什么？']\n",
      "----------------------------------------------------------------------------------------------------\n",
      "《高等数学一（微积分）》是哪一门课的通用教材？ ['O', 'B-ent', 'I-ent', 'I-ent', 'I-ent', 'O', 'O', 'O', 'O', 'O', 'O', 'O', 'O', 'O', 'O', 'O', 'O', 'O', 'O', 'O', 'O', 'O', 'O'] ['<triple id=6>\\t高等数学 ||| 书名 ||| 高等数学一（微积分）', '<question id=6>\\t《高等数学一（微积分）》是哪一门课的通用教材？']\n",
      "----------------------------------------------------------------------------------------------------\n",
      "有谁知道万达广场英文怎么说？ ['O', 'O', 'O', 'O', 'B-ent', 'I-ent', 'I-ent', 'I-ent', 'O', 'O', 'O', 'O', 'O', 'O'] ['<triple id=7>\\t万达广场 ||| 外文名 ||| amoy wanda plaza', '<question id=7>\\t有谁知道万达广场英文怎么说？']\n",
      "----------------------------------------------------------------------------------------------------\n",
      "李明的出生年月日是什么？ ['B-ent', 'I-ent', 'O', 'O', 'O', 'O', 'O', 'O', 'O', 'O', 'O', 'O'] ['<triple id=8>\\t李明 ||| 出生日期 ||| 1963.1', '<question id=8>\\t李明的出生年月日是什么？']\n",
      "----------------------------------------------------------------------------------------------------\n",
      "小说《韩娱守护力》完结还是连载呢？ ['O', 'O', 'O', 'B-ent', 'I-ent', 'I-ent', 'I-ent', 'I-ent', 'O', 'O', 'O', 'O', 'O', 'O', 'O', 'O', 'O'] ['<triple id=9>\\t韩娱守护力 ||| 小说进度 ||| 连载', '<question id=9>\\t小说《韩娱守护力》完结还是连载呢？']\n",
      "----------------------------------------------------------------------------------------------------\n",
      "大家知道《夏想》是在哪个网站连载的吗？ ['O', 'O', 'O', 'O', 'O', 'B-ent', 'I-ent', 'O', 'O', 'O', 'O', 'O', 'O', 'O', 'O', 'O', 'O', 'O', 'O'] ['<triple id=10>\\t夏想 ||| 连载网站 ||| 潇湘书院', '<question id=10>\\t大家知道《夏想》是在哪个网站连载的吗？']\n",
      "----------------------------------------------------------------------------------------------------\n"
     ]
    }
   ],
   "source": [
    "print(len(sentences),len(labels))\n",
    "for i in range(10):\n",
    "    print(sentences[i],labels[i],examples[i])\n",
    "    print('-'*100)"
   ]
  },
  {
   "cell_type": "markdown",
   "id": "d7700845",
   "metadata": {},
   "source": [
    "# 导入包"
   ]
  },
  {
   "cell_type": "code",
   "execution_count": 7,
   "id": "4b096989",
   "metadata": {},
   "outputs": [
    {
     "name": "stdout",
     "output_type": "stream",
     "text": [
      "Better speed can be achieved with apex installed from https://www.github.com/nvidia/apex.\n",
      "Better speed can be achieved with apex installed from https://www.github.com/nvidia/apex.\n"
     ]
    }
   ],
   "source": [
    "import torch,json\n",
    "import sys,os\n",
    "import pandas as pd\n",
    "import random\n",
    "import numpy as np\n",
    "from nlp_basictasks.tasks import Ner\n",
    "from nlp_basictasks.evaluation import nerEvaluator\n",
    "from nlp_basictasks.readers.ner import InputExample\n",
    "from collections import Counter\n",
    "from tqdm import tqdm\n",
    "from copy import deepcopy\n",
    "import pandas\n",
    "import re"
   ]
  },
  {
   "cell_type": "markdown",
   "id": "02892e65",
   "metadata": {},
   "source": [
    "# 构造训练集和测试集"
   ]
  },
  {
   "cell_type": "code",
   "execution_count": 11,
   "id": "037984b2",
   "metadata": {},
   "outputs": [
    {
     "name": "stdout",
     "output_type": "stream",
     "text": [
      "4800\n",
      "['你', '知', '道', '普', '惠', 'r', '-', '1', '3', '4', '0', '发', '动', '机', '是', '什', '么', '型', '式', '吗', '？'] ['O', 'O', 'O', 'B-ent', 'I-ent', 'I-ent', 'I-ent', 'I-ent', 'I-ent', 'I-ent', 'I-ent', 'I-ent', 'I-ent', 'I-ent', 'O', 'O', 'O', 'O', 'O', 'O', 'O'] ['<triple id=4355>\\t普惠r-1340发动机 ||| 型式 ||| 活塞发动机', '<question id=4355>\\t你知道普惠r-1340发动机是什么型式吗？']\n",
      "['你', '知', '道', '星', '尘', '龙', '的', '防', '御', '力', '是', '多', '少', '吗', '？'] ['O', 'O', 'O', 'B-ent', 'I-ent', 'I-ent', 'O', 'O', 'O', 'O', 'O', 'O', 'O', 'O', 'O'] ['<triple id=23551>\\t星尘龙 ||| 防御 ||| 2000', '<question id=23551>\\t你知道星尘龙的防御力是多少吗？']\n"
     ]
    }
   ],
   "source": [
    "index=list(range(len(sentences)))\n",
    "random.shuffle(index)\n",
    "test_nums=int(len(index)*0.2)\n",
    "print(test_nums)\n",
    "train_sentences=[]\n",
    "train_labels=[]\n",
    "train_raws=[]\n",
    "for i in range(len(index)-test_nums):\n",
    "    train_sentences.append(list(sentences[index[i]]))\n",
    "    train_labels.append(labels[index[i]])\n",
    "    train_raws.append(examples[index[i]])\n",
    "    \n",
    "k=10\n",
    "print(train_sentences[k],train_labels[k],train_raws[k])\n",
    "\n",
    "test_sentences=[]\n",
    "test_labels=[]\n",
    "test_raws=[]\n",
    "for i in range(len(index)-test_nums,len(index)):\n",
    "    test_sentences.append(list(sentences[index[i]]))\n",
    "    test_labels.append(labels[index[i]])\n",
    "    test_raws.append(examples[index[i]])\n",
    "    \n",
    "print(test_sentences[k],test_labels[k],test_raws[k])"
   ]
  },
  {
   "cell_type": "code",
   "execution_count": 12,
   "id": "4b39b5f9",
   "metadata": {},
   "outputs": [],
   "source": [
    "train_examples=[]\n",
    "for seq_in,seq_out in zip(train_sentences,train_labels):\n",
    "    train_examples.append(InputExample(seq_in=seq_in,seq_out=seq_out))\n",
    "\n",
    "test_examples=[]\n",
    "for seq_in,seq_out in zip(test_sentences,test_labels):\n",
    "    test_examples.append(InputExample(seq_in=seq_in,seq_out=seq_out))"
   ]
  },
  {
   "cell_type": "code",
   "execution_count": 13,
   "id": "4e566605",
   "metadata": {},
   "outputs": [
    {
     "name": "stdout",
     "output_type": "stream",
     "text": [
      "19200 4800\n"
     ]
    }
   ],
   "source": [
    "print(len(train_examples),len(test_examples))"
   ]
  },
  {
   "cell_type": "code",
   "execution_count": 14,
   "id": "d960822d",
   "metadata": {},
   "outputs": [],
   "source": [
    "label2id={'[PAD]':0,'O':1,'B-ent':2,'I-ent':3}"
   ]
  },
  {
   "cell_type": "markdown",
   "id": "0595d4c8",
   "metadata": {},
   "source": [
    "# 定义模型加载路径"
   ]
  },
  {
   "cell_type": "code",
   "execution_count": 17,
   "id": "5b78dcdd",
   "metadata": {},
   "outputs": [
    {
     "name": "stderr",
     "output_type": "stream",
     "text": [
      "2021-12-10 15:35:47 - INFO - __init__ - 53 : The label2id is\n",
      " {\"[PAD]\": 0, \"O\": 1, \"B-ent\": 2, \"I-ent\": 3}\n",
      "2021-12-10 15:35:47 - INFO - __init__ - 270 : Loading model from /home/xhsun/Desktop/huggingfaceModels/chinese-roberta-wwm/, which is from huggingface model\n",
      "2021-12-10 15:35:47 - INFO - get_config_dict - 177 : loading configuration file /home/xhsun/Desktop/huggingfaceModels/chinese-roberta-wwm/config.json\n",
      "2021-12-10 15:35:47 - INFO - from_pretrained - 404 : loading bert model file /home/xhsun/Desktop/huggingfaceModels/chinese-roberta-wwm/\n",
      "2021-12-10 15:35:47 - INFO - from_pretrained - 423 : BertConfig has been loaded from /home/xhsun/Desktop/huggingfaceModels/chinese-roberta-wwm/config.json\n",
      "2021-12-10 15:35:48 - INFO - from_pretrained - 125 : loading vocabulary file /home/xhsun/Desktop/huggingfaceModels/chinese-roberta-wwm/vocab.txt\n",
      "2021-12-10 15:35:48 - INFO - __init__ - 70 : Use pytorch device: cuda\n",
      "2021-12-10 15:35:48 - INFO - __init__ - 72 : Using BiLSTM ? : False\n",
      "2021-12-10 15:35:48 - INFO - __init__ - 73 : Using CRF ? : True\n"
     ]
    }
   ],
   "source": [
    "model_path='/home/xhsun/Desktop/huggingfaceModels/chinese-roberta-wwm/'\n",
    "output_path='/home/xhsun/Desktop/tmpFiles/NER'\n",
    "ner_model=Ner(model_path,label2id=label2id,use_crf=True,use_bilstm=False,device='cuda',batch_first=True,\n",
    "              tensorboard_logdir='/home/xhsun/Desktop/tmpFiles/NER/log.txt')"
   ]
  },
  {
   "cell_type": "code",
   "execution_count": 18,
   "id": "88ebc0dc",
   "metadata": {},
   "outputs": [
    {
     "name": "stderr",
     "output_type": "stream",
     "text": [
      "2021-12-10 15:35:59 - INFO - __init__ - 39 : Total evaluate nums : 4800\n",
      "2021-12-10 15:35:59 - INFO - __init__ - 40 : input is string : False, input is list : True\n",
      "2021-12-10 15:35:59 - INFO - __init__ - 41 : seq in and out like : \n",
      "['请', '问', '阿', '明', '托', '雷', '·', '范', '范', '尼', '的', '总', '统', '是', '谁', '？']\t['O', 'O', 'B-ent', 'I-ent', 'I-ent', 'I-ent', 'I-ent', 'I-ent', 'I-ent', 'I-ent', 'O', 'O', 'O', 'O', 'O', 'O']\n",
      "2021-12-10 15:35:59 - INFO - __init__ - 42 : In this evaluator, slot contains ([PAD] O B-ent I-ent)\n"
     ]
    }
   ],
   "source": [
    "from torch.utils.data import DataLoader\n",
    "batch_size=64\n",
    "train_dataloader = DataLoader(train_examples, shuffle=True, batch_size=batch_size)\n",
    "\n",
    "evaluator=nerEvaluator(label2id=label2id,seq_in=test_sentences,seq_out=test_labels,write_csv=True)"
   ]
  },
  {
   "cell_type": "markdown",
   "id": "d2d317d5",
   "metadata": {},
   "source": [
    "# 模型训练"
   ]
  },
  {
   "cell_type": "code",
   "execution_count": 20,
   "id": "aa9dd921",
   "metadata": {},
   "outputs": [
    {
     "name": "stderr",
     "output_type": "stream",
     "text": [
      "2021-12-10 15:36:23 - INFO - fit - 155 : label2id has been saved in /home/xhsun/Desktop/tmpFiles/NER/label2id.json\n",
      "2021-12-10 15:36:23 - INFO - fit - 164 : 一个epoch 下，每隔60个step会输出一次loss，每隔150个step会评估一次模型\n"
     ]
    },
    {
     "data": {
      "application/vnd.jupyter.widget-view+json": {
       "model_id": "61b9b9f7030146209bb1ef091c7d6f48",
       "version_major": 2,
       "version_minor": 0
      },
      "text/plain": [
       "Epoch:   0%|          | 0/5 [00:00<?, ?it/s]"
      ]
     },
     "metadata": {},
     "output_type": "display_data"
    },
    {
     "data": {
      "application/vnd.jupyter.widget-view+json": {
       "model_id": "218b1db8268b4e27a345420e89b82360",
       "version_major": 2,
       "version_minor": 0
      },
      "text/plain": [
       "0it [00:00, ?it/s]"
      ]
     },
     "metadata": {},
     "output_type": "display_data"
    },
    {
     "name": "stderr",
     "output_type": "stream",
     "text": [
      "2021-12-10 15:36:23 - INFO - __call__ - 59 : nerEvaluator: Evaluating the model on  dataset in epoch 0 after 1 steps:\n"
     ]
    },
    {
     "data": {
      "application/vnd.jupyter.widget-view+json": {
       "model_id": "fabbba7348744df8b60036db0f5f8fdb",
       "version_major": 2,
       "version_minor": 0
      },
      "text/plain": [
       "  0%|          | 0/150 [00:00<?, ?it/s]"
      ]
     },
     "metadata": {},
     "output_type": "display_data"
    },
    {
     "name": "stderr",
     "output_type": "stream",
     "text": [
      "/home/xhsun/.local/lib/python3.9/site-packages/seqeval/metrics/sequence_labeling.py:171: UserWarning: [PAD] seems not to be NE tag.\n",
      "  warnings.warn('{} seems not to be NE tag.'.format(chunk))\n",
      "/home/xhsun/.local/lib/python3.9/site-packages/seqeval/metrics/v1.py:57: UndefinedMetricWarning: Recall and F-score are ill-defined and being set to 0.0 in labels with no true samples. Use `zero_division` parameter to control this behavior.\n",
      "  _warn_prf(average, modifier, msg_start, len(result))\n"
     ]
    },
    {
     "name": "stdout",
     "output_type": "stream",
     "text": [
      "              precision    recall  f1-score   support\n",
      "\n",
      "        PAD]     0.0000    0.0000    0.0000         0\n",
      "         ent     0.0032    0.0329    0.0058      4800\n",
      "\n",
      "   micro avg     0.0026    0.0329    0.0049      4800\n",
      "   macro avg     0.0016    0.0165    0.0029      4800\n",
      "weighted avg     0.0032    0.0329    0.0058      4800\n",
      "\n"
     ]
    },
    {
     "name": "stderr",
     "output_type": "stream",
     "text": [
      "2021-12-10 15:36:27 - INFO - save_pretrained - 509 : Model weights saved in /home/xhsun/Desktop/tmpFiles/NER/BERT/pytorch_model.bin\n",
      "2021-12-10 15:36:27 - INFO - save_pretrained - 150 : Configuration saved in /home/xhsun/Desktop/tmpFiles/NER/BERT/config.json\n",
      "2021-12-10 15:36:27 - INFO - save_vocab - 51 : Vocab saved in /home/xhsun/Desktop/tmpFiles/NER/BERT/vocab.txt\n",
      "2021-12-10 15:36:27 - INFO - fit - 239 : In epoch 0, training_step 0, the eval score is 0.004888992032180707, previous eval score is -9999999, model has been saved in /home/xhsun/Desktop/tmpFiles/NER\n",
      "2021-12-10 15:36:34 - INFO - fit - 217 : Epoch : 0, train_step : 60/1500, loss_value : 1.198189228773117 \n",
      "2021-12-10 15:36:41 - INFO - fit - 217 : Epoch : 0, train_step : 120/1500, loss_value : 0.07959882334495584 \n",
      "2021-12-10 15:36:45 - INFO - __call__ - 59 : nerEvaluator: Evaluating the model on  dataset in epoch 0 after 151 steps:\n"
     ]
    },
    {
     "data": {
      "application/vnd.jupyter.widget-view+json": {
       "model_id": "24e4b2948d8b4f6ca917d4a111dc8066",
       "version_major": 2,
       "version_minor": 0
      },
      "text/plain": [
       "  0%|          | 0/150 [00:00<?, ?it/s]"
      ]
     },
     "metadata": {},
     "output_type": "display_data"
    },
    {
     "name": "stdout",
     "output_type": "stream",
     "text": [
      "              precision    recall  f1-score   support\n",
      "\n",
      "         ent     0.9512    0.9629    0.9570      4800\n",
      "\n",
      "   micro avg     0.9512    0.9629    0.9570      4800\n",
      "   macro avg     0.9512    0.9629    0.9570      4800\n",
      "weighted avg     0.9512    0.9629    0.9570      4800\n",
      "\n"
     ]
    },
    {
     "name": "stderr",
     "output_type": "stream",
     "text": [
      "2021-12-10 15:36:49 - INFO - save_pretrained - 509 : Model weights saved in /home/xhsun/Desktop/tmpFiles/NER/BERT/pytorch_model.bin\n",
      "2021-12-10 15:36:49 - INFO - save_pretrained - 150 : Configuration saved in /home/xhsun/Desktop/tmpFiles/NER/BERT/config.json\n",
      "2021-12-10 15:36:49 - INFO - save_vocab - 51 : Vocab saved in /home/xhsun/Desktop/tmpFiles/NER/BERT/vocab.txt\n",
      "2021-12-10 15:36:49 - INFO - fit - 239 : In epoch 0, training_step 150, the eval score is 0.9570348897401387, previous eval score is 0.004888992032180707, model has been saved in /home/xhsun/Desktop/tmpFiles/NER\n",
      "2021-12-10 15:36:53 - INFO - fit - 217 : Epoch : 0, train_step : 180/1500, loss_value : 0.02306056652838985 \n",
      "2021-12-10 15:37:00 - INFO - fit - 217 : Epoch : 0, train_step : 240/1500, loss_value : 0.015890376211609693 \n"
     ]
    },
    {
     "data": {
      "application/vnd.jupyter.widget-view+json": {
       "model_id": "0560c915204e46298adc5af3e8587c12",
       "version_major": 2,
       "version_minor": 0
      },
      "text/plain": [
       "0it [00:00, ?it/s]"
      ]
     },
     "metadata": {},
     "output_type": "display_data"
    },
    {
     "name": "stderr",
     "output_type": "stream",
     "text": [
      "2021-12-10 15:37:07 - INFO - __call__ - 59 : nerEvaluator: Evaluating the model on  dataset in epoch 1 after 1 steps:\n"
     ]
    },
    {
     "data": {
      "application/vnd.jupyter.widget-view+json": {
       "model_id": "a852d0652e1d4ba7907484f6129cb93e",
       "version_major": 2,
       "version_minor": 0
      },
      "text/plain": [
       "  0%|          | 0/150 [00:00<?, ?it/s]"
      ]
     },
     "metadata": {},
     "output_type": "display_data"
    },
    {
     "name": "stdout",
     "output_type": "stream",
     "text": [
      "              precision    recall  f1-score   support\n",
      "\n",
      "         ent     0.9665    0.9733    0.9699      4800\n",
      "\n",
      "   micro avg     0.9665    0.9733    0.9699      4800\n",
      "   macro avg     0.9665    0.9733    0.9699      4800\n",
      "weighted avg     0.9665    0.9733    0.9699      4800\n",
      "\n"
     ]
    },
    {
     "name": "stderr",
     "output_type": "stream",
     "text": [
      "2021-12-10 15:37:11 - INFO - save_pretrained - 509 : Model weights saved in /home/xhsun/Desktop/tmpFiles/NER/BERT/pytorch_model.bin\n",
      "2021-12-10 15:37:11 - INFO - save_pretrained - 150 : Configuration saved in /home/xhsun/Desktop/tmpFiles/NER/BERT/config.json\n",
      "2021-12-10 15:37:11 - INFO - save_vocab - 51 : Vocab saved in /home/xhsun/Desktop/tmpFiles/NER/BERT/vocab.txt\n",
      "2021-12-10 15:37:11 - INFO - fit - 239 : In epoch 1, training_step 0, the eval score is 0.9698982769358521, previous eval score is 0.9570348897401387, model has been saved in /home/xhsun/Desktop/tmpFiles/NER\n",
      "2021-12-10 15:37:18 - INFO - fit - 217 : Epoch : 1, train_step : 120/1500, loss_value : 0.013053024238130699 \n",
      "2021-12-10 15:37:25 - INFO - fit - 217 : Epoch : 1, train_step : 240/1500, loss_value : 0.008102905223495327 \n",
      "2021-12-10 15:37:29 - INFO - __call__ - 59 : nerEvaluator: Evaluating the model on  dataset in epoch 1 after 151 steps:\n"
     ]
    },
    {
     "data": {
      "application/vnd.jupyter.widget-view+json": {
       "model_id": "e7abc8a96f97427ba8b48d5913c484db",
       "version_major": 2,
       "version_minor": 0
      },
      "text/plain": [
       "  0%|          | 0/150 [00:00<?, ?it/s]"
      ]
     },
     "metadata": {},
     "output_type": "display_data"
    },
    {
     "name": "stderr",
     "output_type": "stream",
     "text": [
      "2021-12-10 15:37:33 - INFO - fit - 243 : No improvement over previous best eval score (0.965910 vs 0.969898), patience = 9\n"
     ]
    },
    {
     "name": "stdout",
     "output_type": "stream",
     "text": [
      "              precision    recall  f1-score   support\n",
      "\n",
      "         ent     0.9608    0.9710    0.9659      4800\n",
      "\n",
      "   micro avg     0.9608    0.9710    0.9659      4800\n",
      "   macro avg     0.9608    0.9710    0.9659      4800\n",
      "weighted avg     0.9608    0.9710    0.9659      4800\n",
      "\n"
     ]
    },
    {
     "name": "stderr",
     "output_type": "stream",
     "text": [
      "2021-12-10 15:37:36 - INFO - fit - 217 : Epoch : 1, train_step : 360/1500, loss_value : 0.009437813987218154 \n",
      "2021-12-10 15:37:43 - INFO - fit - 217 : Epoch : 1, train_step : 480/1500, loss_value : 0.00923564389522653 \n"
     ]
    },
    {
     "data": {
      "application/vnd.jupyter.widget-view+json": {
       "model_id": "27657649d29840ee9a326e7bc7288252",
       "version_major": 2,
       "version_minor": 0
      },
      "text/plain": [
       "0it [00:00, ?it/s]"
      ]
     },
     "metadata": {},
     "output_type": "display_data"
    },
    {
     "name": "stderr",
     "output_type": "stream",
     "text": [
      "2021-12-10 15:37:50 - INFO - __call__ - 59 : nerEvaluator: Evaluating the model on  dataset in epoch 2 after 1 steps:\n"
     ]
    },
    {
     "data": {
      "application/vnd.jupyter.widget-view+json": {
       "model_id": "b8200723238a45c2b832956cf908bbca",
       "version_major": 2,
       "version_minor": 0
      },
      "text/plain": [
       "  0%|          | 0/150 [00:00<?, ?it/s]"
      ]
     },
     "metadata": {},
     "output_type": "display_data"
    },
    {
     "name": "stdout",
     "output_type": "stream",
     "text": [
      "              precision    recall  f1-score   support\n",
      "\n",
      "         ent     0.9740    0.9773    0.9757      4800\n",
      "\n",
      "   micro avg     0.9740    0.9773    0.9757      4800\n",
      "   macro avg     0.9740    0.9773    0.9757      4800\n",
      "weighted avg     0.9740    0.9773    0.9757      4800\n",
      "\n"
     ]
    },
    {
     "name": "stderr",
     "output_type": "stream",
     "text": [
      "2021-12-10 15:37:55 - INFO - save_pretrained - 509 : Model weights saved in /home/xhsun/Desktop/tmpFiles/NER/BERT/pytorch_model.bin\n",
      "2021-12-10 15:37:55 - INFO - save_pretrained - 150 : Configuration saved in /home/xhsun/Desktop/tmpFiles/NER/BERT/config.json\n",
      "2021-12-10 15:37:55 - INFO - save_vocab - 51 : Vocab saved in /home/xhsun/Desktop/tmpFiles/NER/BERT/vocab.txt\n",
      "2021-12-10 15:37:55 - INFO - fit - 239 : In epoch 2, training_step 0, the eval score is 0.9756655574043261, previous eval score is 0.9698982769358521, model has been saved in /home/xhsun/Desktop/tmpFiles/NER\n",
      "2021-12-10 15:38:02 - INFO - fit - 217 : Epoch : 2, train_step : 180/1500, loss_value : 0.005089055179269053 \n",
      "2021-12-10 15:38:09 - INFO - fit - 217 : Epoch : 2, train_step : 360/1500, loss_value : 0.004733114415042413 \n",
      "2021-12-10 15:38:12 - INFO - __call__ - 59 : nerEvaluator: Evaluating the model on  dataset in epoch 2 after 151 steps:\n"
     ]
    },
    {
     "data": {
      "application/vnd.jupyter.widget-view+json": {
       "model_id": "d05b7480793e4a1287e4802fef924e33",
       "version_major": 2,
       "version_minor": 0
      },
      "text/plain": [
       "  0%|          | 0/150 [00:00<?, ?it/s]"
      ]
     },
     "metadata": {},
     "output_type": "display_data"
    },
    {
     "name": "stdout",
     "output_type": "stream",
     "text": [
      "              precision    recall  f1-score   support\n",
      "\n",
      "         ent     0.9747    0.9775    0.9761      4800\n",
      "\n",
      "   micro avg     0.9747    0.9775    0.9761      4800\n",
      "   macro avg     0.9747    0.9775    0.9761      4800\n",
      "weighted avg     0.9747    0.9775    0.9761      4800\n",
      "\n"
     ]
    },
    {
     "name": "stderr",
     "output_type": "stream",
     "text": [
      "2021-12-10 15:38:17 - INFO - save_pretrained - 509 : Model weights saved in /home/xhsun/Desktop/tmpFiles/NER/BERT/pytorch_model.bin\n",
      "2021-12-10 15:38:17 - INFO - save_pretrained - 150 : Configuration saved in /home/xhsun/Desktop/tmpFiles/NER/BERT/config.json\n",
      "2021-12-10 15:38:17 - INFO - save_vocab - 51 : Vocab saved in /home/xhsun/Desktop/tmpFiles/NER/BERT/vocab.txt\n",
      "2021-12-10 15:38:17 - INFO - fit - 239 : In epoch 2, training_step 450, the eval score is 0.9760765550239235, previous eval score is 0.9756655574043261, model has been saved in /home/xhsun/Desktop/tmpFiles/NER\n",
      "2021-12-10 15:38:20 - INFO - fit - 217 : Epoch : 2, train_step : 540/1500, loss_value : 0.004579509437220016 \n",
      "2021-12-10 15:38:27 - INFO - fit - 217 : Epoch : 2, train_step : 720/1500, loss_value : 0.0036733237856727404 \n"
     ]
    },
    {
     "data": {
      "application/vnd.jupyter.widget-view+json": {
       "model_id": "71b4cb69296f4ede96868d5056bf645e",
       "version_major": 2,
       "version_minor": 0
      },
      "text/plain": [
       "0it [00:00, ?it/s]"
      ]
     },
     "metadata": {},
     "output_type": "display_data"
    },
    {
     "name": "stderr",
     "output_type": "stream",
     "text": [
      "2021-12-10 15:38:35 - INFO - __call__ - 59 : nerEvaluator: Evaluating the model on  dataset in epoch 3 after 1 steps:\n"
     ]
    },
    {
     "data": {
      "application/vnd.jupyter.widget-view+json": {
       "model_id": "fcd14f9137884e38b2a37cec90cbd784",
       "version_major": 2,
       "version_minor": 0
      },
      "text/plain": [
       "  0%|          | 0/150 [00:00<?, ?it/s]"
      ]
     },
     "metadata": {},
     "output_type": "display_data"
    },
    {
     "name": "stderr",
     "output_type": "stream",
     "text": [
      "2021-12-10 15:38:38 - INFO - fit - 243 : No improvement over previous best eval score (0.975777 vs 0.976077), patience = 8\n"
     ]
    },
    {
     "name": "stdout",
     "output_type": "stream",
     "text": [
      "              precision    recall  f1-score   support\n",
      "\n",
      "         ent     0.9739    0.9777    0.9758      4800\n",
      "\n",
      "   micro avg     0.9739    0.9777    0.9758      4800\n",
      "   macro avg     0.9739    0.9777    0.9758      4800\n",
      "weighted avg     0.9739    0.9777    0.9758      4800\n",
      "\n"
     ]
    },
    {
     "name": "stderr",
     "output_type": "stream",
     "text": [
      "2021-12-10 15:38:45 - INFO - fit - 217 : Epoch : 3, train_step : 240/1500, loss_value : 0.0029774519811326173 \n",
      "2021-12-10 15:38:53 - INFO - fit - 217 : Epoch : 3, train_step : 480/1500, loss_value : 0.0033924000803381205 \n",
      "2021-12-10 15:38:56 - INFO - __call__ - 59 : nerEvaluator: Evaluating the model on  dataset in epoch 3 after 151 steps:\n"
     ]
    },
    {
     "data": {
      "application/vnd.jupyter.widget-view+json": {
       "model_id": "6ea0d07d5ee74126a6da2de4dd0ff77f",
       "version_major": 2,
       "version_minor": 0
      },
      "text/plain": [
       "  0%|          | 0/150 [00:00<?, ?it/s]"
      ]
     },
     "metadata": {},
     "output_type": "display_data"
    },
    {
     "name": "stdout",
     "output_type": "stream",
     "text": [
      "              precision    recall  f1-score   support\n",
      "\n",
      "         ent     0.9761    0.9788    0.9774      4800\n",
      "\n",
      "   micro avg     0.9761    0.9788    0.9774      4800\n",
      "   macro avg     0.9761    0.9788    0.9774      4800\n",
      "weighted avg     0.9761    0.9788    0.9774      4800\n",
      "\n"
     ]
    },
    {
     "name": "stderr",
     "output_type": "stream",
     "text": [
      "2021-12-10 15:39:01 - INFO - save_pretrained - 509 : Model weights saved in /home/xhsun/Desktop/tmpFiles/NER/BERT/pytorch_model.bin\n",
      "2021-12-10 15:39:01 - INFO - save_pretrained - 150 : Configuration saved in /home/xhsun/Desktop/tmpFiles/NER/BERT/config.json\n",
      "2021-12-10 15:39:01 - INFO - save_vocab - 51 : Vocab saved in /home/xhsun/Desktop/tmpFiles/NER/BERT/vocab.txt\n",
      "2021-12-10 15:39:01 - INFO - fit - 239 : In epoch 3, training_step 600, the eval score is 0.9774264017476334, previous eval score is 0.9760765550239235, model has been saved in /home/xhsun/Desktop/tmpFiles/NER\n",
      "2021-12-10 15:39:04 - INFO - fit - 217 : Epoch : 3, train_step : 720/1500, loss_value : 0.0026707484816142824 \n",
      "2021-12-10 15:39:11 - INFO - fit - 217 : Epoch : 3, train_step : 960/1500, loss_value : 0.0023589220611029303 \n"
     ]
    },
    {
     "data": {
      "application/vnd.jupyter.widget-view+json": {
       "model_id": "ff3a65501baf44e09a41983572940d05",
       "version_major": 2,
       "version_minor": 0
      },
      "text/plain": [
       "0it [00:00, ?it/s]"
      ]
     },
     "metadata": {},
     "output_type": "display_data"
    },
    {
     "name": "stderr",
     "output_type": "stream",
     "text": [
      "2021-12-10 15:39:18 - INFO - __call__ - 59 : nerEvaluator: Evaluating the model on  dataset in epoch 4 after 1 steps:\n"
     ]
    },
    {
     "data": {
      "application/vnd.jupyter.widget-view+json": {
       "model_id": "f358964dd7bf4798a69a33764ff87166",
       "version_major": 2,
       "version_minor": 0
      },
      "text/plain": [
       "  0%|          | 0/150 [00:00<?, ?it/s]"
      ]
     },
     "metadata": {},
     "output_type": "display_data"
    },
    {
     "name": "stdout",
     "output_type": "stream",
     "text": [
      "              precision    recall  f1-score   support\n",
      "\n",
      "         ent     0.9788    0.9806    0.9797      4800\n",
      "\n",
      "   micro avg     0.9788    0.9806    0.9797      4800\n",
      "   macro avg     0.9788    0.9806    0.9797      4800\n",
      "weighted avg     0.9788    0.9806    0.9797      4800\n",
      "\n"
     ]
    },
    {
     "name": "stderr",
     "output_type": "stream",
     "text": [
      "2021-12-10 15:39:23 - INFO - save_pretrained - 509 : Model weights saved in /home/xhsun/Desktop/tmpFiles/NER/BERT/pytorch_model.bin\n",
      "2021-12-10 15:39:23 - INFO - save_pretrained - 150 : Configuration saved in /home/xhsun/Desktop/tmpFiles/NER/BERT/config.json\n",
      "2021-12-10 15:39:23 - INFO - save_vocab - 51 : Vocab saved in /home/xhsun/Desktop/tmpFiles/NER/BERT/vocab.txt\n",
      "2021-12-10 15:39:23 - INFO - fit - 239 : In epoch 4, training_step 0, the eval score is 0.9797065251326881, previous eval score is 0.9774264017476334, model has been saved in /home/xhsun/Desktop/tmpFiles/NER\n",
      "2021-12-10 15:39:30 - INFO - fit - 217 : Epoch : 4, train_step : 300/1500, loss_value : 0.0020884841035391827 \n",
      "2021-12-10 15:39:37 - INFO - fit - 217 : Epoch : 4, train_step : 600/1500, loss_value : 0.0016744306912490478 \n",
      "2021-12-10 15:39:41 - INFO - __call__ - 59 : nerEvaluator: Evaluating the model on  dataset in epoch 4 after 151 steps:\n"
     ]
    },
    {
     "data": {
      "application/vnd.jupyter.widget-view+json": {
       "model_id": "22be9ee91afb44e2b942b2d06ac851c5",
       "version_major": 2,
       "version_minor": 0
      },
      "text/plain": [
       "  0%|          | 0/150 [00:00<?, ?it/s]"
      ]
     },
     "metadata": {},
     "output_type": "display_data"
    },
    {
     "name": "stderr",
     "output_type": "stream",
     "text": [
      "2021-12-10 15:39:44 - INFO - fit - 243 : No improvement over previous best eval score (0.978458 vs 0.979707), patience = 7\n"
     ]
    },
    {
     "name": "stdout",
     "output_type": "stream",
     "text": [
      "              precision    recall  f1-score   support\n",
      "\n",
      "         ent     0.9775    0.9794    0.9785      4800\n",
      "\n",
      "   micro avg     0.9775    0.9794    0.9785      4800\n",
      "   macro avg     0.9775    0.9794    0.9785      4800\n",
      "weighted avg     0.9775    0.9794    0.9785      4800\n",
      "\n"
     ]
    },
    {
     "name": "stderr",
     "output_type": "stream",
     "text": [
      "2021-12-10 15:39:48 - INFO - fit - 217 : Epoch : 4, train_step : 900/1500, loss_value : 0.0030521146824564007 \n",
      "2021-12-10 15:39:55 - INFO - fit - 217 : Epoch : 4, train_step : 1200/1500, loss_value : 0.0016418134572935136 \n"
     ]
    }
   ],
   "source": [
    "ner_model.fit(train_dataloader=train_dataloader,evaluator=evaluator,epochs=5,output_path=output_path)"
   ]
  },
  {
   "cell_type": "code",
   "execution_count": null,
   "id": "1cdf3368",
   "metadata": {},
   "outputs": [],
   "source": []
  },
  {
   "cell_type": "code",
   "execution_count": null,
   "id": "ad56b4e6",
   "metadata": {},
   "outputs": [],
   "source": []
  },
  {
   "cell_type": "code",
   "execution_count": null,
   "id": "311b83c1",
   "metadata": {},
   "outputs": [],
   "source": []
  },
  {
   "cell_type": "code",
   "execution_count": null,
   "id": "4cbdea72",
   "metadata": {},
   "outputs": [],
   "source": []
  },
  {
   "cell_type": "code",
   "execution_count": null,
   "id": "1b1d5444",
   "metadata": {},
   "outputs": [],
   "source": []
  }
 ],
 "metadata": {
  "kernelspec": {
   "display_name": "Python 3 (ipykernel)",
   "language": "python",
   "name": "python3"
  },
  "language_info": {
   "codemirror_mode": {
    "name": "ipython",
    "version": 3
   },
   "file_extension": ".py",
   "mimetype": "text/x-python",
   "name": "python",
   "nbconvert_exporter": "python",
   "pygments_lexer": "ipython3",
   "version": "3.9.5"
  }
 },
 "nbformat": 4,
 "nbformat_minor": 5
}
