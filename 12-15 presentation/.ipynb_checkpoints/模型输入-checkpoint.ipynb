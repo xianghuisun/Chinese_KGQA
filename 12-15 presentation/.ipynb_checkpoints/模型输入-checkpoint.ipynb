{
 "cells": [
  {
   "cell_type": "markdown",
   "id": "5a3e0d61",
   "metadata": {},
   "source": [
    "# 导包"
   ]
  },
  {
   "cell_type": "code",
   "execution_count": 18,
   "id": "631ce69c",
   "metadata": {},
   "outputs": [],
   "source": [
    "import torch\n",
    "import os,re\n",
    "import pickle\n",
    "from collections import defaultdict\n",
    "from transformers import AutoTokenizer\n",
    "import transformers\n",
    "from tqdm import tqdm\n",
    "import torch\n",
    "import torch.nn as nn\n",
    "import math\n",
    "from transformers import AutoModel\n",
    "tokenizer=AutoTokenizer.from_pretrained(\"/home/xhsun/Desktop/huggingfaceModels/chinese-roberta-wwm/\")"
   ]
  },
  {
   "cell_type": "markdown",
   "id": "aa98f58f",
   "metadata": {},
   "source": [
    "# 读取知识图谱"
   ]
  },
  {
   "cell_type": "code",
   "execution_count": 3,
   "id": "b537f1b4",
   "metadata": {},
   "outputs": [
    {
     "name": "stderr",
     "output_type": "stream",
     "text": [
      "100%|██████████████████████████████████████████████████████████████████████████████████████████| 190912/190912 [00:00<00:00, 1815492.56it/s]\n",
      "100%|██████████████████████████████████████████████████████████████████████████████████████████████| 3906/3906 [00:00<00:00, 2004275.93it/s]\n",
      "100%|███████████████████████████████████████████████████████████████████████████████████████████| 369812/369812 [00:00<00:00, 925644.82it/s]\n"
     ]
    }
   ],
   "source": [
    "ent2id = {}\n",
    "with open('/home/xhsun/Desktop/KG/nlpcc2018/knowledge/small_knowledge/entities.dict') as f:\n",
    "    lines=f.readlines()\n",
    "for i in tqdm(range(len(lines))):\n",
    "    l = lines[i].strip().split('\\t')\n",
    "    ent2id[l[0].strip()] = len(ent2id)\n",
    "    \n",
    "rel2id = {}\n",
    "with open('/home/xhsun/Desktop/KG/nlpcc2018/knowledge/small_knowledge/relations.dict') as f:\n",
    "    lines=f.readlines()\n",
    "for i in tqdm(range(len(lines))):\n",
    "    l = lines[i].strip().split('\\t')\n",
    "    rel2id[l[0].strip()] = int(l[1])\n",
    "\n",
    "triples = []\n",
    "with open('/home/xhsun/Desktop/KG/nlpcc2018/knowledge/small_knowledge/small_kb') as f:\n",
    "    lines=f.readlines()\n",
    "for i in tqdm(range(len(lines))):\n",
    "    l = lines[i].strip().split('|||')\n",
    "    s = ent2id[l[0].strip()]\n",
    "    p = rel2id[l[1].strip()]\n",
    "    o = ent2id[l[2].strip()]\n",
    "    triples.append((s, p, o))"
   ]
  },
  {
   "cell_type": "code",
   "execution_count": 4,
   "id": "f5ac558d",
   "metadata": {},
   "outputs": [
    {
     "name": "stdout",
     "output_type": "stream",
     "text": [
      "知识图谱中一共有369812个三元组，190912个实体，3906个关系\n"
     ]
    }
   ],
   "source": [
    "print('知识图谱中一共有{}个三元组，{}个实体，{}个关系'.format(len(triples),len(ent2id),len(rel2id)))"
   ]
  },
  {
   "cell_type": "markdown",
   "id": "90bc4c76",
   "metadata": {},
   "source": [
    "- ent2id指的是每一个实体与对应的id之间的映射\n",
    "- rel2id指的是每一个关系与对应的id之间的映射\n",
    "- triples代表所有三元组的集合，每一个元素是一个三元组，其中头实体、尾实体和关系均用对应的id表示"
   ]
  },
  {
   "cell_type": "code",
   "execution_count": 10,
   "id": "366bef02",
   "metadata": {},
   "outputs": [
    {
     "name": "stdout",
     "output_type": "stream",
     "text": [
      "68286 826 142061\n"
     ]
    }
   ],
   "source": [
    "print(ent2id['笑傲江湖'],rel2id['作者'],ent2id['金庸'])"
   ]
  },
  {
   "cell_type": "code",
   "execution_count": 14,
   "id": "f79f6ecc",
   "metadata": {},
   "outputs": [
    {
     "data": {
      "text/plain": [
       "253454"
      ]
     },
     "execution_count": 14,
     "metadata": {},
     "output_type": "execute_result"
    }
   ],
   "source": [
    "triples.index((68286,826,142061))"
   ]
  },
  {
   "cell_type": "markdown",
   "id": "b7b362c2",
   "metadata": {},
   "source": [
    "可以看出，(笑傲江湖，作者，金庸)这个三元组是整个triples集合中的第253455个三元组"
   ]
  },
  {
   "cell_type": "code",
   "execution_count": 15,
   "id": "7d5f5c79",
   "metadata": {},
   "outputs": [
    {
     "data": {
      "text/plain": [
       "(68286, 826, 142061)"
      ]
     },
     "execution_count": 15,
     "metadata": {},
     "output_type": "execute_result"
    }
   ],
   "source": [
    "triples[253454]"
   ]
  },
  {
   "cell_type": "markdown",
   "id": "330665ac",
   "metadata": {},
   "source": [
    "# 获取模型输入"
   ]
  },
  {
   "attachments": {},
   "cell_type": "markdown",
   "id": "36307826",
   "metadata": {},
   "source": [
    "从源代码中可以看出，模型有4个输入参数：\n",
    "1. heads\n",
    "2. questions\n",
    "3. answers\n",
    "4. entity_range"
   ]
  },
  {
   "cell_type": "markdown",
   "id": "f2edb762",
   "metadata": {},
   "source": [
    "以如下句子为例：\n",
    "{\"question\": \"谁知道<解构金庸>的人号称什么啊？\", \"topic_entity\": \"解构金庸\", \"answer\": \"武林百晓生”\", \"relation\": \"号称\"}"
   ]
  },
  {
   "cell_type": "code",
   "execution_count": 28,
   "id": "cd4c44a3",
   "metadata": {},
   "outputs": [
    {
     "name": "stdout",
     "output_type": "stream",
     "text": [
      "谁知道NE的人号称什么啊？\n",
      "问题中的topic entity是\"解构金庸\"，它在实体集合中的id是12882\n",
      "该问题的答案是\"武林百晓生”\"，它在实体集合中的id是51665\n",
      "将问题中的每一个单词转换为对应的id：\n",
      " {'input_ids': [101, 6443, 4761, 6887, 10564, 4638, 782, 1384, 4917, 784, 720, 1557, 8043, 102], 'token_type_ids': [0, 0, 0, 0, 0, 0, 0, 0, 0, 0, 0, 0, 0, 0], 'attention_mask': [1, 1, 1, 1, 1, 1, 1, 1, 1, 1, 1, 1, 1, 1]}\n"
     ]
    }
   ],
   "source": [
    "question=\"谁知道<解构金庸>的人号称什么啊？\"\n",
    "head='解构金庸'\n",
    "question=question.replace('<'+head+'>','NE')\n",
    "print(question)\n",
    "answer='武林百晓生”'\n",
    "\n",
    "head_id=ent2id[head]\n",
    "answer_id=ent2id[answer]\n",
    "question_ids=tokenizer(question)\n",
    "print('问题中的topic entity是\"{}\"，它在实体集合中的id是{}'.format(head,head_id))\n",
    "print('该问题的答案是\"{}\"，它在实体集合中的id是{}'.format(answer,answer_id))\n",
    "print('将问题中的每一个单词转换为对应的id：\\n',question_ids)"
   ]
  },
  {
   "cell_type": "markdown",
   "id": "c55d133f",
   "metadata": {},
   "source": [
    "**问题中单词的id是vocab.txt中的id，与知识图谱中实体的id无关**"
   ]
  },
  {
   "cell_type": "markdown",
   "id": "cda315d0",
   "metadata": {},
   "source": [
    "# 模型结构"
   ]
  },
  {
   "cell_type": "code",
   "execution_count": null,
   "id": "301d7be4",
   "metadata": {},
   "outputs": [],
   "source": []
  },
  {
   "cell_type": "code",
   "execution_count": 20,
   "id": "f013a595",
   "metadata": {},
   "outputs": [
    {
     "ename": "KeyError",
     "evalue": "'武林百晓生'",
     "output_type": "error",
     "traceback": [
      "\u001b[0;31m---------------------------------------------------------------------------\u001b[0m",
      "\u001b[0;31mKeyError\u001b[0m                                  Traceback (most recent call last)",
      "\u001b[0;32m/tmp/ipykernel_32940/2215356324.py\u001b[0m in \u001b[0;36m<module>\u001b[0;34m\u001b[0m\n\u001b[0;32m----> 1\u001b[0;31m \u001b[0ment2id\u001b[0m\u001b[0;34m[\u001b[0m\u001b[0;34m'武林百晓生'\u001b[0m\u001b[0;34m]\u001b[0m\u001b[0;34m\u001b[0m\u001b[0;34m\u001b[0m\u001b[0m\n\u001b[0m",
      "\u001b[0;31mKeyError\u001b[0m: '武林百晓生'"
     ]
    }
   ],
   "source": [
    "ent2id['武林百晓生']"
   ]
  },
  {
   "cell_type": "code",
   "execution_count": null,
   "id": "99038bdf",
   "metadata": {},
   "outputs": [],
   "source": []
  }
 ],
 "metadata": {
  "kernelspec": {
   "display_name": "Python 3 (ipykernel)",
   "language": "python",
   "name": "python3"
  },
  "language_info": {
   "codemirror_mode": {
    "name": "ipython",
    "version": 3
   },
   "file_extension": ".py",
   "mimetype": "text/x-python",
   "name": "python",
   "nbconvert_exporter": "python",
   "pygments_lexer": "ipython3",
   "version": "3.9.5"
  }
 },
 "nbformat": 4,
 "nbformat_minor": 5
}
